{
 "cells": [
  {
   "cell_type": "markdown",
   "id": "a1b5d5cf-de95-4dfa-bec4-20acb56231e0",
   "metadata": {},
   "source": [
    "# Final Project\n",
    "#### By: Joseph Wong, Ruben Regalado, Rory Huck"
   ]
  },
  {
   "cell_type": "markdown",
   "id": "bd6a1c99-7020-44d6-af03-c2b9952554b0",
   "metadata": {},
   "source": [
    "## How do non-academic factors influence students academic success?"
   ]
  },
  {
   "cell_type": "markdown",
   "id": "9c92a1ed-5c14-473c-95cb-d5ecf146b878",
   "metadata": {},
   "source": [
    "### Loading in the data"
   ]
  },
  {
   "cell_type": "markdown",
   "id": "83551036-dcb7-4f67-95c3-f7fdd8b4c3a1",
   "metadata": {},
   "source": [
    "#### Joseph"
   ]
  },
  {
   "cell_type": "code",
   "execution_count": 115,
   "id": "64463a16-94a3-420a-9afb-97ffe1372756",
   "metadata": {},
   "outputs": [],
   "source": [
    "import numpy as np\n",
    "import pandas as pd\n",
    "\n",
    "import matplotlib.pyplot as plt\n",
    "import plotly.express as px\n",
    "from plotly.subplots import make_subplots\n",
    "import plotly.io as pio\n",
    "pio.renderers.defaule = 'colab'\n",
    "\n",
    "\n",
    "\n",
    "# This stops a few warning messages from showing\n",
    "pd.options.mode.chained_assignment = None \n",
    "import warnings\n",
    "warnings.simplefilter(action='ignore', category=FutureWarning)"
   ]
  },
  {
   "cell_type": "code",
   "execution_count": 116,
   "id": "d75727b8-cf8c-4125-9e7c-54f860a079c9",
   "metadata": {},
   "outputs": [],
   "source": [
    "file_name = 'MentalHealthSurvey.csv'\n",
    "DF_raw = pd.read_csv(file_name)"
   ]
  },
  {
   "cell_type": "markdown",
   "id": "0f6cd084-1ad4-4a75-a767-3d7d5902b50c",
   "metadata": {},
   "source": [
    "**Data Source**\n",
    "\n",
    "I got my data from kaggle.com on a dataset labelled \"Student Mental Health Survey: Online Survey on the Mental Health of IT Student\" by Abdullah Ashfaq. A free account on Kaggle is required to download the dataset, but is publically viewable online. It was last updated 3 months ago. The data was gathered through an online survey and responses where anonymized to keep confidentiality. A possible ethical concern is that only IT students were given the opportunity to take the survey, meaning many groups, such as college students with other majors, are unrepresented by the dataset. The data explores the students' demographic data (while keeping their anonymity), lifestyle, experiences, university campus, self-reported mental health levels, and coping mechanisms.\n",
    "We will use cumulative GPA as an indicator of student success, as it is a reflection of their dedication and performance to their courses."
   ]
  },
  {
   "cell_type": "markdown",
   "id": "ddc36352-8703-49a9-b1d3-7ea5fc435013",
   "metadata": {},
   "source": [
    "**Variable Definitions**\n",
    "* **'sports_engagement':** monthly sports engagement\n",
    "* **'depression':** self-reported feeling of depression (1-5)\n",
    "* **'anxiety':** self-reported feeling of anxiety (1-5)\n",
    "* **'isolation':** self-reported feeling of isolation (1-5)\n",
    "* **'future_insecurity':** self-reported feeling of future insecurity (1-5)"
   ]
  },
  {
   "cell_type": "markdown",
   "id": "9886eb71-a89a-4dbb-88aa-595211ebfb88",
   "metadata": {},
   "source": [
    "**Data Scope**\n",
    "\n",
    "There are 4 different majors included in the dataset, all of which are related to Information Technology. The most frequent is Data Science, followed by Computer Science, then Information Technology, and finally Software Engineering.\n",
    "\n",
    "The dataset mostly represents to male and female undergraduate students (moreso male) ages 18-22 majoring in an Information Technology field universities in Pakistan. Based on this representation, it can be applied to other undergraduate students with caution, taking into consideration geographical and cultural differences between Pakistan and other countries that may influence outcomes."
   ]
  },
  {
   "cell_type": "markdown",
   "id": "40c5992f-a123-4cf1-99ea-72fd4088991b",
   "metadata": {},
   "source": [
    "#### Ruben"
   ]
  },
  {
   "cell_type": "code",
   "execution_count": 121,
   "id": "a232c77d-0abb-4f68-b665-19b244acef97",
   "metadata": {},
   "outputs": [],
   "source": [
    "file_name = 'StudentsPerformance.csv'\n",
    "DF_ruben = pd.read_csv(file_name)"
   ]
  },
  {
   "cell_type": "markdown",
   "id": "97238cd0-79e4-4d1f-a9fa-81c9829f9c4a",
   "metadata": {},
   "source": [
    "**Data Source**\n",
    "\n",
    "I got my data from Kaggle.com from a dataset named 'Students Performance in Exams' by Jakki Seshapanpu. This data comes from a site where the data is allowed to be used for data explorations, all that is needed to access the data is a Kaggle account. This data was gathered from various students which included their total scores, the score breakdown and indvidiual aspects of the studnets daily life before the exam was taken."
   ]
  },
  {
   "cell_type": "markdown",
   "id": "2a97ce21-739b-42b7-b07a-9387247ad919",
   "metadata": {},
   "source": [
    "**Variable Definitions**\n",
    "* **Gender:** This is a categoral varible that tells us the gender of the observed student\n",
    "* **Race/Ethnicity:** This is also a categorical varialbe that tells us what race group the student is in, however we dont know which race correlates to each letter.\n",
    "* **Parental level of eduacation:** Categorical variable that tells us their parent(s) highest level of education\n",
    "* **lunch:** Categorical variable that tells us whether or not the student had lunch before taking the exam\n",
    "* **test preperation course:** Categorical variable that tells us if the student took a test preperation course prior to the exam\n",
    "* **math score:** Numerical variable that tells us the students math score\n",
    "* **reading score:** Numerical variable that tells us the studnets reading score\n",
    "* **writing score:** Numerical variable that tells us the studnets writing score"
   ]
  },
  {
   "cell_type": "markdown",
   "id": "6e0079d1-0a5d-46ac-8b8a-3b442d120acf",
   "metadata": {},
   "source": [
    "#### Rory"
   ]
  },
  {
   "cell_type": "code",
   "execution_count": 125,
   "id": "61580e24-c567-427b-8cd5-1e875c4fd062",
   "metadata": {},
   "outputs": [],
   "source": [
    "df_rory = pd.read_csv('OECD.csv')"
   ]
  },
  {
   "cell_type": "markdown",
   "id": "4b5d932d-e24b-4150-8c8a-9fe321191217",
   "metadata": {},
   "source": [
    "**NOTES:**\n",
    "\n",
    "-All data is refering to both males and females from the ages of 25 to 64 in the year 2023\n",
    "\n",
    "-Educational attainment refers to the highest level of education completed by a person, shown as a percentage of all persons in that age group. Below upper secondary education includes early childhood education, primary education or lower secondary education. Programmes at the lower secondary education level are designed to lay the foundation across a wide range of subjects. Programmes at the upper secondary level are more specialised and offer students more choices and diverse pathways for completing their secondary education. Tertiary education includes short-cycle tertiary education, bachelor’s, master’s, or doctoral or equivalent levels.\n",
    "\n",
    "-LINK: https://data-explorer.oecd.org/vislc=en&fs[0]=Topic%2C0%7CEducation%20and%20skills%23EDU%23&fs[1]=Topic%2C1%7CEducation%20and%20skills%23EDU%23%7CEducation%20attainment%23EDU_ATT%23&pg=0&fc=Topic&snb=4&vw=tb&df[ds]=dsDisseminateFinalDMZ&df[id]=DSD_EAG_LSO_EA%40DF_LSO_NEAC_DISTR_EA_MIGR&df[ag]=OECD.EDU.IMEP&df[vs]=1.0&dq=._T.Y25T64.ISCED11A_0T2%2BISCED11A_3_4%2BISCED11A_5T8....NB%2BFB._Z%2B_T.....OBS...A3&lom=LASTNOBSERVATIONS&lo=1&pd=2020%2C2023&to[TIME_PERIOD]=true&lb=nm\n",
    "Citation:\n",
    "\n",
    "OECD (2024) Education at a Glance 2024 Sources, Methodologies and Technical Notes, OECD Publishing Paris,\n",
    "\n",
    "https://doi.org/10.1787/e7d20315-en."
   ]
  },
  {
   "cell_type": "markdown",
   "id": "a72f1437-f273-4959-add1-79d3774cfbb0",
   "metadata": {},
   "source": [
    "### Analysis"
   ]
  },
  {
   "cell_type": "markdown",
   "id": "923f9698-40fe-47a2-a140-dc1843e7df6b",
   "metadata": {},
   "source": [
    "#### Rory"
   ]
  },
  {
   "cell_type": "code",
   "execution_count": 129,
   "id": "00ec219c-bd94-4727-9b1f-2c73fedcdf87",
   "metadata": {},
   "outputs": [],
   "source": [
    "my_columns = ['TIME_PERIOD','Reference area','Educational attainment level','Place of birth','OBS_VALUE']\n",
    "df_rory[my_columns].sort_values('Reference area')\n",
    "DF_rory=df_rory[my_columns].sort_values('Reference area')"
   ]
  },
  {
   "cell_type": "code",
   "execution_count": 130,
   "id": "4e2a2067-c154-4283-9e25-29390d521b02",
   "metadata": {},
   "outputs": [
    {
     "data": {
      "application/vnd.plotly.v1+json": {
       "config": {
        "plotlyServerURL": "https://plot.ly"
       },
       "data": [
        {
         "alignmentgroup": "True",
         "bingroup": "x",
         "hovertemplate": "Place of birth=Native-born<br>Educational attainment level=Below upper secondary education<br>OBS_VALUE=%{x}<br>count=%{y}<extra></extra>",
         "legendgroup": "Native-born",
         "marker": {
          "color": "#636efa",
          "pattern": {
           "shape": ""
          }
         },
         "name": "Native-born",
         "nbinsx": 10,
         "offsetgroup": "Native-born",
         "orientation": "v",
         "showlegend": true,
         "type": "histogram",
         "x": [
          15.43981552,
          10.09620953,
          14.12745571,
          14.83012104,
          7.117642879,
          25.79639816,
          36.96393967,
          52.97458649,
          38.25292969,
          11.80908871,
          16.87471503,
          13.25561619,
          null,
          10.47664165,
          17.84943771,
          12.69102764,
          11.30666924,
          32.90027618,
          11.62356091,
          7.287788868,
          15.76816368,
          55.69816971,
          16.92498207,
          21.99846458,
          14.33806705,
          18.83026621,
          5.716356277,
          43.27254486,
          19.61933327,
          6.373314381,
          9.156378746,
          33.60559464,
          8.732193947,
          5.515247345,
          18.81087685,
          4.82494545
         ],
         "xaxis": "x3",
         "yaxis": "y3"
        },
        {
         "alignmentgroup": "True",
         "bingroup": "x",
         "hovertemplate": "Place of birth=Native-born<br>Educational attainment level=Upper secondary or post-secondary non-tertiary education<br>OBS_VALUE=%{x}<br>count=%{y}<extra></extra>",
         "legendgroup": "Native-born",
         "marker": {
          "color": "#636efa",
          "pattern": {
           "shape": ""
          }
         },
         "name": "Native-born",
         "nbinsx": 10,
         "offsetgroup": "Native-born",
         "orientation": "v",
         "showlegend": false,
         "type": "histogram",
         "x": [
          38.76971054,
          53.12902451,
          39.39927292,
          54.79957199,
          34.37792587,
          42.0294342,
          33.873806,
          20.2641449,
          35.47780991,
          48.36727142,
          46.89281091,
          43.52770996,
          null,
          54.75814438,
          46.30613327,
          57.84262466,
          37.16548157,
          44.13784027,
          49.67399597,
          46.33892059,
          43.24528503,
          23.43372154,
          39.9494133,
          42.07169342,
          36.28034973,
          41.98069865,
          56.64398575,
          27.89471436,
          61.79627609,
          64.94944,
          53.8065834,
          21.04017067,
          41.6648407,
          48.95915222,
          33.09085083,
          42.98094177
         ],
         "xaxis": "x2",
         "yaxis": "y2"
        },
        {
         "alignmentgroup": "True",
         "bingroup": "x",
         "hovertemplate": "Place of birth=Native-born<br>Educational attainment level=Tertiary education<br>OBS_VALUE=%{x}<br>count=%{y}<extra></extra>",
         "legendgroup": "Native-born",
         "marker": {
          "color": "#636efa",
          "pattern": {
           "shape": ""
          }
         },
         "name": "Native-born",
         "nbinsx": 10,
         "offsetgroup": "Native-born",
         "orientation": "v",
         "showlegend": false,
         "type": "histogram",
         "x": [
          45.79047394,
          36.77476501,
          46.47327042,
          30.37030792,
          58.50442886,
          32.17416382,
          29.16225624,
          26.76126862,
          26.26926231,
          39.82363892,
          36.2324741,
          43.2166748,
          null,
          34.76521301,
          35.84442902,
          29.46634674,
          51.5278511,
          22.96188164,
          38.70244598,
          46.37329102,
          40.98654938,
          20.86810875,
          43.12560654,
          35.92984009,
          49.38158417,
          39.18903522,
          37.63965988,
          28.83273888,
          18.58439255,
          28.67724609,
          37.0370369,
          45.35423279,
          49.60296631,
          45.52560043,
          48.09827423,
          52.19411469
         ],
         "xaxis": "x",
         "yaxis": "y"
        },
        {
         "alignmentgroup": "True",
         "bingroup": "x",
         "hovertemplate": "Place of birth=Foreign-born<br>Educational attainment level=Below upper secondary education<br>OBS_VALUE=%{x}<br>count=%{y}<extra></extra>",
         "legendgroup": "Foreign-born",
         "marker": {
          "color": "#EF553B",
          "pattern": {
           "shape": ""
          }
         },
         "name": "Foreign-born",
         "nbinsx": 10,
         "offsetgroup": "Foreign-born",
         "orientation": "v",
         "showlegend": true,
         "type": "histogram",
         "x": [
          8.64324379,
          24.1504612,
          29.96140671,
          4.878228664,
          5.750560284,
          18.45109558,
          32.94746017,
          66.87591553,
          35.72671127,
          2.770391226,
          23.35970929,
          32.989151,
          null,
          35.68546295,
          33.25883102,
          11.40337658,
          11.38572216,
          43.47319794,
          6.444416523,
          3.949197531,
          21.19512558,
          28.47588921,
          29.14793587,
          9.119722366,
          23.110466,
          23.66172037,
          null,
          24.28388977,
          null,
          6.215913296,
          25.31645584,
          43.3886528,
          29.5956707,
          26.9880352,
          13.47951698,
          20.45711136
         ],
         "xaxis": "x3",
         "yaxis": "y3"
        },
        {
         "alignmentgroup": "True",
         "bingroup": "x",
         "hovertemplate": "Place of birth=Foreign-born<br>Educational attainment level=Upper secondary or post-secondary non-tertiary education<br>OBS_VALUE=%{x}<br>count=%{y}<extra></extra>",
         "legendgroup": "Foreign-born",
         "marker": {
          "color": "#EF553B",
          "pattern": {
           "shape": ""
          }
         },
         "name": "Foreign-born",
         "nbinsx": 10,
         "offsetgroup": "Foreign-born",
         "orientation": "v",
         "showlegend": false,
         "type": "histogram",
         "x": [
          24.16026306,
          39.63525009,
          30.66323662,
          37.57933426,
          20.97087288,
          42.62602234,
          42.85206604,
          19.72923851,
          28.74621201,
          43.77045441,
          39.5921768,
          28.78729248,
          null,
          34.98344803,
          47.87234879,
          48.98677444,
          29.94160461,
          42.58736801,
          49.98078156,
          50.43571091,
          21.11701584,
          32.67081833,
          28.98631287,
          39.56650543,
          30.0872097,
          35.21255935,
          41.49289703,
          39.38708115,
          52.87546539,
          53.96113968,
          59.49367142,
          28.5496769,
          21.54424095,
          26.15987968,
          14.58166218,
          34.67574692
         ],
         "xaxis": "x2",
         "yaxis": "y2"
        },
        {
         "alignmentgroup": "True",
         "bingroup": "x",
         "hovertemplate": "Place of birth=Foreign-born<br>Educational attainment level=Tertiary education<br>OBS_VALUE=%{x}<br>count=%{y}<extra></extra>",
         "legendgroup": "Foreign-born",
         "marker": {
          "color": "#EF553B",
          "pattern": {
           "shape": ""
          }
         },
         "name": "Foreign-born",
         "nbinsx": 10,
         "offsetgroup": "Foreign-born",
         "orientation": "v",
         "showlegend": false,
         "type": "histogram",
         "x": [
          67.19649506,
          36.2142868,
          39.37535477,
          57.54243469,
          73.27856445,
          38.92288208,
          24.20047569,
          13.39484596,
          35.52707672,
          53.45915222,
          38.54382697,
          38.22355652,
          null,
          29.33109093,
          18.86882019,
          39.60985184,
          58.67267227,
          13.9394331,
          43.5748024,
          45.61509323,
          57.68785858,
          38.85329437,
          41.86574936,
          51.31377029,
          46.8023262,
          41.81975307,
          55.66636276,
          36.32902908,
          34.65583038,
          39.82294846,
          15.1898737,
          28.06167221,
          48.86008835,
          46.85208511,
          71.93881989,
          44.86714172
         ],
         "xaxis": "x",
         "yaxis": "y"
        }
       ],
       "layout": {
        "annotations": [
         {
          "font": {},
          "showarrow": false,
          "text": "Educational attainment level=Tertiary education",
          "x": 0.5,
          "xanchor": "center",
          "xref": "paper",
          "y": 0.2866666666666666,
          "yanchor": "bottom",
          "yref": "paper"
         },
         {
          "font": {},
          "showarrow": false,
          "text": "Educational attainment level=Upper secondary or post-secondary non-tertiary education",
          "x": 0.5,
          "xanchor": "center",
          "xref": "paper",
          "y": 0.6433333333333333,
          "yanchor": "bottom",
          "yref": "paper"
         },
         {
          "font": {},
          "showarrow": false,
          "text": "Educational attainment level=Below upper secondary education",
          "x": 0.5,
          "xanchor": "center",
          "xref": "paper",
          "y": 0.9999999999999999,
          "yanchor": "bottom",
          "yref": "paper"
         }
        ],
        "autosize": false,
        "bargap": 0.02,
        "barmode": "relative",
        "height": 800,
        "legend": {
         "title": {
          "text": "Place of birth"
         },
         "tracegroupgap": 0
        },
        "margin": {
         "t": 60
        },
        "template": {
         "data": {
          "bar": [
           {
            "error_x": {
             "color": "#2a3f5f"
            },
            "error_y": {
             "color": "#2a3f5f"
            },
            "marker": {
             "line": {
              "color": "#E5ECF6",
              "width": 0.5
             },
             "pattern": {
              "fillmode": "overlay",
              "size": 10,
              "solidity": 0.2
             }
            },
            "type": "bar"
           }
          ],
          "barpolar": [
           {
            "marker": {
             "line": {
              "color": "#E5ECF6",
              "width": 0.5
             },
             "pattern": {
              "fillmode": "overlay",
              "size": 10,
              "solidity": 0.2
             }
            },
            "type": "barpolar"
           }
          ],
          "carpet": [
           {
            "aaxis": {
             "endlinecolor": "#2a3f5f",
             "gridcolor": "white",
             "linecolor": "white",
             "minorgridcolor": "white",
             "startlinecolor": "#2a3f5f"
            },
            "baxis": {
             "endlinecolor": "#2a3f5f",
             "gridcolor": "white",
             "linecolor": "white",
             "minorgridcolor": "white",
             "startlinecolor": "#2a3f5f"
            },
            "type": "carpet"
           }
          ],
          "choropleth": [
           {
            "colorbar": {
             "outlinewidth": 0,
             "ticks": ""
            },
            "type": "choropleth"
           }
          ],
          "contour": [
           {
            "colorbar": {
             "outlinewidth": 0,
             "ticks": ""
            },
            "colorscale": [
             [
              0,
              "#0d0887"
             ],
             [
              0.1111111111111111,
              "#46039f"
             ],
             [
              0.2222222222222222,
              "#7201a8"
             ],
             [
              0.3333333333333333,
              "#9c179e"
             ],
             [
              0.4444444444444444,
              "#bd3786"
             ],
             [
              0.5555555555555556,
              "#d8576b"
             ],
             [
              0.6666666666666666,
              "#ed7953"
             ],
             [
              0.7777777777777778,
              "#fb9f3a"
             ],
             [
              0.8888888888888888,
              "#fdca26"
             ],
             [
              1,
              "#f0f921"
             ]
            ],
            "type": "contour"
           }
          ],
          "contourcarpet": [
           {
            "colorbar": {
             "outlinewidth": 0,
             "ticks": ""
            },
            "type": "contourcarpet"
           }
          ],
          "heatmap": [
           {
            "colorbar": {
             "outlinewidth": 0,
             "ticks": ""
            },
            "colorscale": [
             [
              0,
              "#0d0887"
             ],
             [
              0.1111111111111111,
              "#46039f"
             ],
             [
              0.2222222222222222,
              "#7201a8"
             ],
             [
              0.3333333333333333,
              "#9c179e"
             ],
             [
              0.4444444444444444,
              "#bd3786"
             ],
             [
              0.5555555555555556,
              "#d8576b"
             ],
             [
              0.6666666666666666,
              "#ed7953"
             ],
             [
              0.7777777777777778,
              "#fb9f3a"
             ],
             [
              0.8888888888888888,
              "#fdca26"
             ],
             [
              1,
              "#f0f921"
             ]
            ],
            "type": "heatmap"
           }
          ],
          "heatmapgl": [
           {
            "colorbar": {
             "outlinewidth": 0,
             "ticks": ""
            },
            "colorscale": [
             [
              0,
              "#0d0887"
             ],
             [
              0.1111111111111111,
              "#46039f"
             ],
             [
              0.2222222222222222,
              "#7201a8"
             ],
             [
              0.3333333333333333,
              "#9c179e"
             ],
             [
              0.4444444444444444,
              "#bd3786"
             ],
             [
              0.5555555555555556,
              "#d8576b"
             ],
             [
              0.6666666666666666,
              "#ed7953"
             ],
             [
              0.7777777777777778,
              "#fb9f3a"
             ],
             [
              0.8888888888888888,
              "#fdca26"
             ],
             [
              1,
              "#f0f921"
             ]
            ],
            "type": "heatmapgl"
           }
          ],
          "histogram": [
           {
            "marker": {
             "pattern": {
              "fillmode": "overlay",
              "size": 10,
              "solidity": 0.2
             }
            },
            "type": "histogram"
           }
          ],
          "histogram2d": [
           {
            "colorbar": {
             "outlinewidth": 0,
             "ticks": ""
            },
            "colorscale": [
             [
              0,
              "#0d0887"
             ],
             [
              0.1111111111111111,
              "#46039f"
             ],
             [
              0.2222222222222222,
              "#7201a8"
             ],
             [
              0.3333333333333333,
              "#9c179e"
             ],
             [
              0.4444444444444444,
              "#bd3786"
             ],
             [
              0.5555555555555556,
              "#d8576b"
             ],
             [
              0.6666666666666666,
              "#ed7953"
             ],
             [
              0.7777777777777778,
              "#fb9f3a"
             ],
             [
              0.8888888888888888,
              "#fdca26"
             ],
             [
              1,
              "#f0f921"
             ]
            ],
            "type": "histogram2d"
           }
          ],
          "histogram2dcontour": [
           {
            "colorbar": {
             "outlinewidth": 0,
             "ticks": ""
            },
            "colorscale": [
             [
              0,
              "#0d0887"
             ],
             [
              0.1111111111111111,
              "#46039f"
             ],
             [
              0.2222222222222222,
              "#7201a8"
             ],
             [
              0.3333333333333333,
              "#9c179e"
             ],
             [
              0.4444444444444444,
              "#bd3786"
             ],
             [
              0.5555555555555556,
              "#d8576b"
             ],
             [
              0.6666666666666666,
              "#ed7953"
             ],
             [
              0.7777777777777778,
              "#fb9f3a"
             ],
             [
              0.8888888888888888,
              "#fdca26"
             ],
             [
              1,
              "#f0f921"
             ]
            ],
            "type": "histogram2dcontour"
           }
          ],
          "mesh3d": [
           {
            "colorbar": {
             "outlinewidth": 0,
             "ticks": ""
            },
            "type": "mesh3d"
           }
          ],
          "parcoords": [
           {
            "line": {
             "colorbar": {
              "outlinewidth": 0,
              "ticks": ""
             }
            },
            "type": "parcoords"
           }
          ],
          "pie": [
           {
            "automargin": true,
            "type": "pie"
           }
          ],
          "scatter": [
           {
            "fillpattern": {
             "fillmode": "overlay",
             "size": 10,
             "solidity": 0.2
            },
            "type": "scatter"
           }
          ],
          "scatter3d": [
           {
            "line": {
             "colorbar": {
              "outlinewidth": 0,
              "ticks": ""
             }
            },
            "marker": {
             "colorbar": {
              "outlinewidth": 0,
              "ticks": ""
             }
            },
            "type": "scatter3d"
           }
          ],
          "scattercarpet": [
           {
            "marker": {
             "colorbar": {
              "outlinewidth": 0,
              "ticks": ""
             }
            },
            "type": "scattercarpet"
           }
          ],
          "scattergeo": [
           {
            "marker": {
             "colorbar": {
              "outlinewidth": 0,
              "ticks": ""
             }
            },
            "type": "scattergeo"
           }
          ],
          "scattergl": [
           {
            "marker": {
             "colorbar": {
              "outlinewidth": 0,
              "ticks": ""
             }
            },
            "type": "scattergl"
           }
          ],
          "scattermapbox": [
           {
            "marker": {
             "colorbar": {
              "outlinewidth": 0,
              "ticks": ""
             }
            },
            "type": "scattermapbox"
           }
          ],
          "scatterpolar": [
           {
            "marker": {
             "colorbar": {
              "outlinewidth": 0,
              "ticks": ""
             }
            },
            "type": "scatterpolar"
           }
          ],
          "scatterpolargl": [
           {
            "marker": {
             "colorbar": {
              "outlinewidth": 0,
              "ticks": ""
             }
            },
            "type": "scatterpolargl"
           }
          ],
          "scatterternary": [
           {
            "marker": {
             "colorbar": {
              "outlinewidth": 0,
              "ticks": ""
             }
            },
            "type": "scatterternary"
           }
          ],
          "surface": [
           {
            "colorbar": {
             "outlinewidth": 0,
             "ticks": ""
            },
            "colorscale": [
             [
              0,
              "#0d0887"
             ],
             [
              0.1111111111111111,
              "#46039f"
             ],
             [
              0.2222222222222222,
              "#7201a8"
             ],
             [
              0.3333333333333333,
              "#9c179e"
             ],
             [
              0.4444444444444444,
              "#bd3786"
             ],
             [
              0.5555555555555556,
              "#d8576b"
             ],
             [
              0.6666666666666666,
              "#ed7953"
             ],
             [
              0.7777777777777778,
              "#fb9f3a"
             ],
             [
              0.8888888888888888,
              "#fdca26"
             ],
             [
              1,
              "#f0f921"
             ]
            ],
            "type": "surface"
           }
          ],
          "table": [
           {
            "cells": {
             "fill": {
              "color": "#EBF0F8"
             },
             "line": {
              "color": "white"
             }
            },
            "header": {
             "fill": {
              "color": "#C8D4E3"
             },
             "line": {
              "color": "white"
             }
            },
            "type": "table"
           }
          ]
         },
         "layout": {
          "annotationdefaults": {
           "arrowcolor": "#2a3f5f",
           "arrowhead": 0,
           "arrowwidth": 1
          },
          "autotypenumbers": "strict",
          "coloraxis": {
           "colorbar": {
            "outlinewidth": 0,
            "ticks": ""
           }
          },
          "colorscale": {
           "diverging": [
            [
             0,
             "#8e0152"
            ],
            [
             0.1,
             "#c51b7d"
            ],
            [
             0.2,
             "#de77ae"
            ],
            [
             0.3,
             "#f1b6da"
            ],
            [
             0.4,
             "#fde0ef"
            ],
            [
             0.5,
             "#f7f7f7"
            ],
            [
             0.6,
             "#e6f5d0"
            ],
            [
             0.7,
             "#b8e186"
            ],
            [
             0.8,
             "#7fbc41"
            ],
            [
             0.9,
             "#4d9221"
            ],
            [
             1,
             "#276419"
            ]
           ],
           "sequential": [
            [
             0,
             "#0d0887"
            ],
            [
             0.1111111111111111,
             "#46039f"
            ],
            [
             0.2222222222222222,
             "#7201a8"
            ],
            [
             0.3333333333333333,
             "#9c179e"
            ],
            [
             0.4444444444444444,
             "#bd3786"
            ],
            [
             0.5555555555555556,
             "#d8576b"
            ],
            [
             0.6666666666666666,
             "#ed7953"
            ],
            [
             0.7777777777777778,
             "#fb9f3a"
            ],
            [
             0.8888888888888888,
             "#fdca26"
            ],
            [
             1,
             "#f0f921"
            ]
           ],
           "sequentialminus": [
            [
             0,
             "#0d0887"
            ],
            [
             0.1111111111111111,
             "#46039f"
            ],
            [
             0.2222222222222222,
             "#7201a8"
            ],
            [
             0.3333333333333333,
             "#9c179e"
            ],
            [
             0.4444444444444444,
             "#bd3786"
            ],
            [
             0.5555555555555556,
             "#d8576b"
            ],
            [
             0.6666666666666666,
             "#ed7953"
            ],
            [
             0.7777777777777778,
             "#fb9f3a"
            ],
            [
             0.8888888888888888,
             "#fdca26"
            ],
            [
             1,
             "#f0f921"
            ]
           ]
          },
          "colorway": [
           "#636efa",
           "#EF553B",
           "#00cc96",
           "#ab63fa",
           "#FFA15A",
           "#19d3f3",
           "#FF6692",
           "#B6E880",
           "#FF97FF",
           "#FECB52"
          ],
          "font": {
           "color": "#2a3f5f"
          },
          "geo": {
           "bgcolor": "white",
           "lakecolor": "white",
           "landcolor": "#E5ECF6",
           "showlakes": true,
           "showland": true,
           "subunitcolor": "white"
          },
          "hoverlabel": {
           "align": "left"
          },
          "hovermode": "closest",
          "mapbox": {
           "style": "light"
          },
          "paper_bgcolor": "white",
          "plot_bgcolor": "#E5ECF6",
          "polar": {
           "angularaxis": {
            "gridcolor": "white",
            "linecolor": "white",
            "ticks": ""
           },
           "bgcolor": "#E5ECF6",
           "radialaxis": {
            "gridcolor": "white",
            "linecolor": "white",
            "ticks": ""
           }
          },
          "scene": {
           "xaxis": {
            "backgroundcolor": "#E5ECF6",
            "gridcolor": "white",
            "gridwidth": 2,
            "linecolor": "white",
            "showbackground": true,
            "ticks": "",
            "zerolinecolor": "white"
           },
           "yaxis": {
            "backgroundcolor": "#E5ECF6",
            "gridcolor": "white",
            "gridwidth": 2,
            "linecolor": "white",
            "showbackground": true,
            "ticks": "",
            "zerolinecolor": "white"
           },
           "zaxis": {
            "backgroundcolor": "#E5ECF6",
            "gridcolor": "white",
            "gridwidth": 2,
            "linecolor": "white",
            "showbackground": true,
            "ticks": "",
            "zerolinecolor": "white"
           }
          },
          "shapedefaults": {
           "line": {
            "color": "#2a3f5f"
           }
          },
          "ternary": {
           "aaxis": {
            "gridcolor": "white",
            "linecolor": "white",
            "ticks": ""
           },
           "baxis": {
            "gridcolor": "white",
            "linecolor": "white",
            "ticks": ""
           },
           "bgcolor": "#E5ECF6",
           "caxis": {
            "gridcolor": "white",
            "linecolor": "white",
            "ticks": ""
           }
          },
          "title": {
           "x": 0.05
          },
          "xaxis": {
           "automargin": true,
           "gridcolor": "white",
           "linecolor": "white",
           "ticks": "",
           "title": {
            "standoff": 15
           },
           "zerolinecolor": "white",
           "zerolinewidth": 2
          },
          "yaxis": {
           "automargin": true,
           "gridcolor": "white",
           "linecolor": "white",
           "ticks": "",
           "title": {
            "standoff": 15
           },
           "zerolinecolor": "white",
           "zerolinewidth": 2
          }
         }
        },
        "title": {
         "text": "Educational attainment level",
         "x": 0.5
        },
        "width": 1000,
        "xaxis": {
         "anchor": "y",
         "autorange": true,
         "domain": [
          0,
          1
         ],
         "range": [
          0,
          80
         ],
         "title": {
          "text": "frequency"
         },
         "type": "linear"
        },
        "xaxis2": {
         "anchor": "y2",
         "autorange": true,
         "domain": [
          0,
          1
         ],
         "matches": "x",
         "range": [
          0,
          80
         ],
         "showticklabels": false,
         "type": "linear"
        },
        "xaxis3": {
         "anchor": "y3",
         "autorange": true,
         "domain": [
          0,
          1
         ],
         "matches": "x",
         "range": [
          0,
          80
         ],
         "showticklabels": false,
         "type": "linear"
        },
        "yaxis": {
         "anchor": "x",
         "autorange": true,
         "domain": [
          0,
          0.2866666666666666
         ],
         "range": [
          0,
          24.210526315789473
         ],
         "title": {
          "text": "Observational value"
         }
        },
        "yaxis2": {
         "anchor": "x2",
         "autorange": true,
         "domain": [
          0.35666666666666663,
          0.6433333333333333
         ],
         "matches": "y",
         "range": [
          0,
          24.210526315789473
         ],
         "title": {
          "text": "count"
         }
        },
        "yaxis3": {
         "anchor": "x3",
         "autorange": true,
         "domain": [
          0.7133333333333333,
          0.9999999999999999
         ],
         "matches": "y",
         "range": [
          0,
          24.210526315789473
         ],
         "title": {
          "text": "count"
         }
        }
       }
      },
      "image/png": "[encoded data removed]",
      "text/html": [
       "<div>                            <div id=\"a8ae2da7-8974-40d1-b59b-5fc476ae283e\" class=\"plotly-graph-div\" style=\"height:800px; width:1000px;\"></div>            <script type=\"text/javascript\">                require([\"plotly\"], function(Plotly) {                    window.PLOTLYENV=window.PLOTLYENV || {};                                    if (document.getElementById(\"a8ae2da7-8974-40d1-b59b-5fc476ae283e\")) {                    Plotly.newPlot(                        \"a8ae2da7-8974-40d1-b59b-5fc476ae283e\",                        [{\"alignmentgroup\":\"True\",\"bingroup\":\"x\",\"hovertemplate\":\"Place of birth=Native-born\\u003cbr\\u003eEducational attainment level=Below upper secondary education\\u003cbr\\u003eOBS_VALUE=%{x}\\u003cbr\\u003ecount=%{y}\\u003cextra\\u003e\\u003c\\u002fextra\\u003e\",\"legendgroup\":\"Native-born\",\"marker\":{\"color\":\"#636efa\",\"pattern\":{\"shape\":\"\"}},\"name\":\"Native-born\",\"nbinsx\":10,\"offsetgroup\":\"Native-born\",\"orientation\":\"v\",\"showlegend\":true,\"x\":[15.43981552,10.09620953,14.12745571,14.83012104,7.117642879,25.79639816,36.96393967,52.97458649,38.25292969,11.80908871,16.87471503,13.25561619,null,10.47664165,17.84943771,12.69102764,11.30666924,32.90027618,11.62356091,7.287788868,15.76816368,55.69816971,16.92498207,21.99846458,14.33806705,18.83026621,5.716356277,43.27254486,19.61933327,6.373314381,9.156378746,33.60559464,8.732193947,5.515247345,18.81087685,4.82494545],\"xaxis\":\"x3\",\"yaxis\":\"y3\",\"type\":\"histogram\"},{\"alignmentgroup\":\"True\",\"bingroup\":\"x\",\"hovertemplate\":\"Place of birth=Native-born\\u003cbr\\u003eEducational attainment level=Upper secondary or post-secondary non-tertiary education\\u003cbr\\u003eOBS_VALUE=%{x}\\u003cbr\\u003ecount=%{y}\\u003cextra\\u003e\\u003c\\u002fextra\\u003e\",\"legendgroup\":\"Native-born\",\"marker\":{\"color\":\"#636efa\",\"pattern\":{\"shape\":\"\"}},\"name\":\"Native-born\",\"nbinsx\":10,\"offsetgroup\":\"Native-born\",\"orientation\":\"v\",\"showlegend\":false,\"x\":[38.76971054,53.12902451,39.39927292,54.79957199,34.37792587,42.0294342,33.873806,20.2641449,35.47780991,48.36727142,46.89281091,43.52770996,null,54.75814438,46.30613327,57.84262466,37.16548157,44.13784027,49.67399597,46.33892059,43.24528503,23.43372154,39.9494133,42.07169342,36.28034973,41.98069865,56.64398575,27.89471436,61.79627609,64.94944,53.8065834,21.04017067,41.6648407,48.95915222,33.09085083,42.98094177],\"xaxis\":\"x2\",\"yaxis\":\"y2\",\"type\":\"histogram\"},{\"alignmentgroup\":\"True\",\"bingroup\":\"x\",\"hovertemplate\":\"Place of birth=Native-born\\u003cbr\\u003eEducational attainment level=Tertiary education\\u003cbr\\u003eOBS_VALUE=%{x}\\u003cbr\\u003ecount=%{y}\\u003cextra\\u003e\\u003c\\u002fextra\\u003e\",\"legendgroup\":\"Native-born\",\"marker\":{\"color\":\"#636efa\",\"pattern\":{\"shape\":\"\"}},\"name\":\"Native-born\",\"nbinsx\":10,\"offsetgroup\":\"Native-born\",\"orientation\":\"v\",\"showlegend\":false,\"x\":[45.79047394,36.77476501,46.47327042,30.37030792,58.50442886,32.17416382,29.16225624,26.76126862,26.26926231,39.82363892,36.2324741,43.2166748,null,34.76521301,35.84442902,29.46634674,51.5278511,22.96188164,38.70244598,46.37329102,40.98654938,20.86810875,43.12560654,35.92984009,49.38158417,39.18903522,37.63965988,28.83273888,18.58439255,28.67724609,37.0370369,45.35423279,49.60296631,45.52560043,48.09827423,52.19411469],\"xaxis\":\"x\",\"yaxis\":\"y\",\"type\":\"histogram\"},{\"alignmentgroup\":\"True\",\"bingroup\":\"x\",\"hovertemplate\":\"Place of birth=Foreign-born\\u003cbr\\u003eEducational attainment level=Below upper secondary education\\u003cbr\\u003eOBS_VALUE=%{x}\\u003cbr\\u003ecount=%{y}\\u003cextra\\u003e\\u003c\\u002fextra\\u003e\",\"legendgroup\":\"Foreign-born\",\"marker\":{\"color\":\"#EF553B\",\"pattern\":{\"shape\":\"\"}},\"name\":\"Foreign-born\",\"nbinsx\":10,\"offsetgroup\":\"Foreign-born\",\"orientation\":\"v\",\"showlegend\":true,\"x\":[8.64324379,24.1504612,29.96140671,4.878228664,5.750560284,18.45109558,32.94746017,66.87591553,35.72671127,2.770391226,23.35970929,32.989151,null,35.68546295,33.25883102,11.40337658,11.38572216,43.47319794,6.444416523,3.949197531,21.19512558,28.47588921,29.14793587,9.119722366,23.110466,23.66172037,null,24.28388977,null,6.215913296,25.31645584,43.3886528,29.5956707,26.9880352,13.47951698,20.45711136],\"xaxis\":\"x3\",\"yaxis\":\"y3\",\"type\":\"histogram\"},{\"alignmentgroup\":\"True\",\"bingroup\":\"x\",\"hovertemplate\":\"Place of birth=Foreign-born\\u003cbr\\u003eEducational attainment level=Upper secondary or post-secondary non-tertiary education\\u003cbr\\u003eOBS_VALUE=%{x}\\u003cbr\\u003ecount=%{y}\\u003cextra\\u003e\\u003c\\u002fextra\\u003e\",\"legendgroup\":\"Foreign-born\",\"marker\":{\"color\":\"#EF553B\",\"pattern\":{\"shape\":\"\"}},\"name\":\"Foreign-born\",\"nbinsx\":10,\"offsetgroup\":\"Foreign-born\",\"orientation\":\"v\",\"showlegend\":false,\"x\":[24.16026306,39.63525009,30.66323662,37.57933426,20.97087288,42.62602234,42.85206604,19.72923851,28.74621201,43.77045441,39.5921768,28.78729248,null,34.98344803,47.87234879,48.98677444,29.94160461,42.58736801,49.98078156,50.43571091,21.11701584,32.67081833,28.98631287,39.56650543,30.0872097,35.21255935,41.49289703,39.38708115,52.87546539,53.96113968,59.49367142,28.5496769,21.54424095,26.15987968,14.58166218,34.67574692],\"xaxis\":\"x2\",\"yaxis\":\"y2\",\"type\":\"histogram\"},{\"alignmentgroup\":\"True\",\"bingroup\":\"x\",\"hovertemplate\":\"Place of birth=Foreign-born\\u003cbr\\u003eEducational attainment level=Tertiary education\\u003cbr\\u003eOBS_VALUE=%{x}\\u003cbr\\u003ecount=%{y}\\u003cextra\\u003e\\u003c\\u002fextra\\u003e\",\"legendgroup\":\"Foreign-born\",\"marker\":{\"color\":\"#EF553B\",\"pattern\":{\"shape\":\"\"}},\"name\":\"Foreign-born\",\"nbinsx\":10,\"offsetgroup\":\"Foreign-born\",\"orientation\":\"v\",\"showlegend\":false,\"x\":[67.19649506,36.2142868,39.37535477,57.54243469,73.27856445,38.92288208,24.20047569,13.39484596,35.52707672,53.45915222,38.54382697,38.22355652,null,29.33109093,18.86882019,39.60985184,58.67267227,13.9394331,43.5748024,45.61509323,57.68785858,38.85329437,41.86574936,51.31377029,46.8023262,41.81975307,55.66636276,36.32902908,34.65583038,39.82294846,15.1898737,28.06167221,48.86008835,46.85208511,71.93881989,44.86714172],\"xaxis\":\"x\",\"yaxis\":\"y\",\"type\":\"histogram\"}],                        {\"template\":{\"data\":{\"histogram2dcontour\":[{\"type\":\"histogram2dcontour\",\"colorbar\":{\"outlinewidth\":0,\"ticks\":\"\"},\"colorscale\":[[0.0,\"#0d0887\"],[0.1111111111111111,\"#46039f\"],[0.2222222222222222,\"#7201a8\"],[0.3333333333333333,\"#9c179e\"],[0.4444444444444444,\"#bd3786\"],[0.5555555555555556,\"#d8576b\"],[0.6666666666666666,\"#ed7953\"],[0.7777777777777778,\"#fb9f3a\"],[0.8888888888888888,\"#fdca26\"],[1.0,\"#f0f921\"]]}],\"choropleth\":[{\"type\":\"choropleth\",\"colorbar\":{\"outlinewidth\":0,\"ticks\":\"\"}}],\"histogram2d\":[{\"type\":\"histogram2d\",\"colorbar\":{\"outlinewidth\":0,\"ticks\":\"\"},\"colorscale\":[[0.0,\"#0d0887\"],[0.1111111111111111,\"#46039f\"],[0.2222222222222222,\"#7201a8\"],[0.3333333333333333,\"#9c179e\"],[0.4444444444444444,\"#bd3786\"],[0.5555555555555556,\"#d8576b\"],[0.6666666666666666,\"#ed7953\"],[0.7777777777777778,\"#fb9f3a\"],[0.8888888888888888,\"#fdca26\"],[1.0,\"#f0f921\"]]}],\"heatmap\":[{\"type\":\"heatmap\",\"colorbar\":{\"outlinewidth\":0,\"ticks\":\"\"},\"colorscale\":[[0.0,\"#0d0887\"],[0.1111111111111111,\"#46039f\"],[0.2222222222222222,\"#7201a8\"],[0.3333333333333333,\"#9c179e\"],[0.4444444444444444,\"#bd3786\"],[0.5555555555555556,\"#d8576b\"],[0.6666666666666666,\"#ed7953\"],[0.7777777777777778,\"#fb9f3a\"],[0.8888888888888888,\"#fdca26\"],[1.0,\"#f0f921\"]]}],\"heatmapgl\":[{\"type\":\"heatmapgl\",\"colorbar\":{\"outlinewidth\":0,\"ticks\":\"\"},\"colorscale\":[[0.0,\"#0d0887\"],[0.1111111111111111,\"#46039f\"],[0.2222222222222222,\"#7201a8\"],[0.3333333333333333,\"#9c179e\"],[0.4444444444444444,\"#bd3786\"],[0.5555555555555556,\"#d8576b\"],[0.6666666666666666,\"#ed7953\"],[0.7777777777777778,\"#fb9f3a\"],[0.8888888888888888,\"#fdca26\"],[1.0,\"#f0f921\"]]}],\"contourcarpet\":[{\"type\":\"contourcarpet\",\"colorbar\":{\"outlinewidth\":0,\"ticks\":\"\"}}],\"contour\":[{\"type\":\"contour\",\"colorbar\":{\"outlinewidth\":0,\"ticks\":\"\"},\"colorscale\":[[0.0,\"#0d0887\"],[0.1111111111111111,\"#46039f\"],[0.2222222222222222,\"#7201a8\"],[0.3333333333333333,\"#9c179e\"],[0.4444444444444444,\"#bd3786\"],[0.5555555555555556,\"#d8576b\"],[0.6666666666666666,\"#ed7953\"],[0.7777777777777778,\"#fb9f3a\"],[0.8888888888888888,\"#fdca26\"],[1.0,\"#f0f921\"]]}],\"surface\":[{\"type\":\"surface\",\"colorbar\":{\"outlinewidth\":0,\"ticks\":\"\"},\"colorscale\":[[0.0,\"#0d0887\"],[0.1111111111111111,\"#46039f\"],[0.2222222222222222,\"#7201a8\"],[0.3333333333333333,\"#9c179e\"],[0.4444444444444444,\"#bd3786\"],[0.5555555555555556,\"#d8576b\"],[0.6666666666666666,\"#ed7953\"],[0.7777777777777778,\"#fb9f3a\"],[0.8888888888888888,\"#fdca26\"],[1.0,\"#f0f921\"]]}],\"mesh3d\":[{\"type\":\"mesh3d\",\"colorbar\":{\"outlinewidth\":0,\"ticks\":\"\"}}],\"scatter\":[{\"fillpattern\":{\"fillmode\":\"overlay\",\"size\":10,\"solidity\":0.2},\"type\":\"scatter\"}],\"parcoords\":[{\"type\":\"parcoords\",\"line\":{\"colorbar\":{\"outlinewidth\":0,\"ticks\":\"\"}}}],\"scatterpolargl\":[{\"type\":\"scatterpolargl\",\"marker\":{\"colorbar\":{\"outlinewidth\":0,\"ticks\":\"\"}}}],\"bar\":[{\"error_x\":{\"color\":\"#2a3f5f\"},\"error_y\":{\"color\":\"#2a3f5f\"},\"marker\":{\"line\":{\"color\":\"#E5ECF6\",\"width\":0.5},\"pattern\":{\"fillmode\":\"overlay\",\"size\":10,\"solidity\":0.2}},\"type\":\"bar\"}],\"scattergeo\":[{\"type\":\"scattergeo\",\"marker\":{\"colorbar\":{\"outlinewidth\":0,\"ticks\":\"\"}}}],\"scatterpolar\":[{\"type\":\"scatterpolar\",\"marker\":{\"colorbar\":{\"outlinewidth\":0,\"ticks\":\"\"}}}],\"histogram\":[{\"marker\":{\"pattern\":{\"fillmode\":\"overlay\",\"size\":10,\"solidity\":0.2}},\"type\":\"histogram\"}],\"scattergl\":[{\"type\":\"scattergl\",\"marker\":{\"colorbar\":{\"outlinewidth\":0,\"ticks\":\"\"}}}],\"scatter3d\":[{\"type\":\"scatter3d\",\"line\":{\"colorbar\":{\"outlinewidth\":0,\"ticks\":\"\"}},\"marker\":{\"colorbar\":{\"outlinewidth\":0,\"ticks\":\"\"}}}],\"scattermapbox\":[{\"type\":\"scattermapbox\",\"marker\":{\"colorbar\":{\"outlinewidth\":0,\"ticks\":\"\"}}}],\"scatterternary\":[{\"type\":\"scatterternary\",\"marker\":{\"colorbar\":{\"outlinewidth\":0,\"ticks\":\"\"}}}],\"scattercarpet\":[{\"type\":\"scattercarpet\",\"marker\":{\"colorbar\":{\"outlinewidth\":0,\"ticks\":\"\"}}}],\"carpet\":[{\"aaxis\":{\"endlinecolor\":\"#2a3f5f\",\"gridcolor\":\"white\",\"linecolor\":\"white\",\"minorgridcolor\":\"white\",\"startlinecolor\":\"#2a3f5f\"},\"baxis\":{\"endlinecolor\":\"#2a3f5f\",\"gridcolor\":\"white\",\"linecolor\":\"white\",\"minorgridcolor\":\"white\",\"startlinecolor\":\"#2a3f5f\"},\"type\":\"carpet\"}],\"table\":[{\"cells\":{\"fill\":{\"color\":\"#EBF0F8\"},\"line\":{\"color\":\"white\"}},\"header\":{\"fill\":{\"color\":\"#C8D4E3\"},\"line\":{\"color\":\"white\"}},\"type\":\"table\"}],\"barpolar\":[{\"marker\":{\"line\":{\"color\":\"#E5ECF6\",\"width\":0.5},\"pattern\":{\"fillmode\":\"overlay\",\"size\":10,\"solidity\":0.2}},\"type\":\"barpolar\"}],\"pie\":[{\"automargin\":true,\"type\":\"pie\"}]},\"layout\":{\"autotypenumbers\":\"strict\",\"colorway\":[\"#636efa\",\"#EF553B\",\"#00cc96\",\"#ab63fa\",\"#FFA15A\",\"#19d3f3\",\"#FF6692\",\"#B6E880\",\"#FF97FF\",\"#FECB52\"],\"font\":{\"color\":\"#2a3f5f\"},\"hovermode\":\"closest\",\"hoverlabel\":{\"align\":\"left\"},\"paper_bgcolor\":\"white\",\"plot_bgcolor\":\"#E5ECF6\",\"polar\":{\"bgcolor\":\"#E5ECF6\",\"angularaxis\":{\"gridcolor\":\"white\",\"linecolor\":\"white\",\"ticks\":\"\"},\"radialaxis\":{\"gridcolor\":\"white\",\"linecolor\":\"white\",\"ticks\":\"\"}},\"ternary\":{\"bgcolor\":\"#E5ECF6\",\"aaxis\":{\"gridcolor\":\"white\",\"linecolor\":\"white\",\"ticks\":\"\"},\"baxis\":{\"gridcolor\":\"white\",\"linecolor\":\"white\",\"ticks\":\"\"},\"caxis\":{\"gridcolor\":\"white\",\"linecolor\":\"white\",\"ticks\":\"\"}},\"coloraxis\":{\"colorbar\":{\"outlinewidth\":0,\"ticks\":\"\"}},\"colorscale\":{\"sequential\":[[0.0,\"#0d0887\"],[0.1111111111111111,\"#46039f\"],[0.2222222222222222,\"#7201a8\"],[0.3333333333333333,\"#9c179e\"],[0.4444444444444444,\"#bd3786\"],[0.5555555555555556,\"#d8576b\"],[0.6666666666666666,\"#ed7953\"],[0.7777777777777778,\"#fb9f3a\"],[0.8888888888888888,\"#fdca26\"],[1.0,\"#f0f921\"]],\"sequentialminus\":[[0.0,\"#0d0887\"],[0.1111111111111111,\"#46039f\"],[0.2222222222222222,\"#7201a8\"],[0.3333333333333333,\"#9c179e\"],[0.4444444444444444,\"#bd3786\"],[0.5555555555555556,\"#d8576b\"],[0.6666666666666666,\"#ed7953\"],[0.7777777777777778,\"#fb9f3a\"],[0.8888888888888888,\"#fdca26\"],[1.0,\"#f0f921\"]],\"diverging\":[[0,\"#8e0152\"],[0.1,\"#c51b7d\"],[0.2,\"#de77ae\"],[0.3,\"#f1b6da\"],[0.4,\"#fde0ef\"],[0.5,\"#f7f7f7\"],[0.6,\"#e6f5d0\"],[0.7,\"#b8e186\"],[0.8,\"#7fbc41\"],[0.9,\"#4d9221\"],[1,\"#276419\"]]},\"xaxis\":{\"gridcolor\":\"white\",\"linecolor\":\"white\",\"ticks\":\"\",\"title\":{\"standoff\":15},\"zerolinecolor\":\"white\",\"automargin\":true,\"zerolinewidth\":2},\"yaxis\":{\"gridcolor\":\"white\",\"linecolor\":\"white\",\"ticks\":\"\",\"title\":{\"standoff\":15},\"zerolinecolor\":\"white\",\"automargin\":true,\"zerolinewidth\":2},\"scene\":{\"xaxis\":{\"backgroundcolor\":\"#E5ECF6\",\"gridcolor\":\"white\",\"linecolor\":\"white\",\"showbackground\":true,\"ticks\":\"\",\"zerolinecolor\":\"white\",\"gridwidth\":2},\"yaxis\":{\"backgroundcolor\":\"#E5ECF6\",\"gridcolor\":\"white\",\"linecolor\":\"white\",\"showbackground\":true,\"ticks\":\"\",\"zerolinecolor\":\"white\",\"gridwidth\":2},\"zaxis\":{\"backgroundcolor\":\"#E5ECF6\",\"gridcolor\":\"white\",\"linecolor\":\"white\",\"showbackground\":true,\"ticks\":\"\",\"zerolinecolor\":\"white\",\"gridwidth\":2}},\"shapedefaults\":{\"line\":{\"color\":\"#2a3f5f\"}},\"annotationdefaults\":{\"arrowcolor\":\"#2a3f5f\",\"arrowhead\":0,\"arrowwidth\":1},\"geo\":{\"bgcolor\":\"white\",\"landcolor\":\"#E5ECF6\",\"subunitcolor\":\"white\",\"showland\":true,\"showlakes\":true,\"lakecolor\":\"white\"},\"title\":{\"x\":0.05},\"mapbox\":{\"style\":\"light\"}}},\"xaxis\":{\"anchor\":\"y\",\"domain\":[0.0,1.0],\"title\":{\"text\":\"frequency\"}},\"yaxis\":{\"anchor\":\"x\",\"domain\":[0.0,0.2866666666666666],\"title\":{\"text\":\"Observational value\"}},\"xaxis2\":{\"anchor\":\"y2\",\"domain\":[0.0,1.0],\"matches\":\"x\",\"showticklabels\":false},\"yaxis2\":{\"anchor\":\"x2\",\"domain\":[0.35666666666666663,0.6433333333333333],\"matches\":\"y\",\"title\":{\"text\":\"count\"}},\"xaxis3\":{\"anchor\":\"y3\",\"domain\":[0.0,1.0],\"matches\":\"x\",\"showticklabels\":false},\"yaxis3\":{\"anchor\":\"x3\",\"domain\":[0.7133333333333333,0.9999999999999999],\"matches\":\"y\",\"title\":{\"text\":\"count\"}},\"annotations\":[{\"font\":{},\"showarrow\":false,\"text\":\"Educational attainment level=Tertiary education\",\"x\":0.5,\"xanchor\":\"center\",\"xref\":\"paper\",\"y\":0.2866666666666666,\"yanchor\":\"bottom\",\"yref\":\"paper\"},{\"font\":{},\"showarrow\":false,\"text\":\"Educational attainment level=Upper secondary or post-secondary non-tertiary education\",\"x\":0.5,\"xanchor\":\"center\",\"xref\":\"paper\",\"y\":0.6433333333333333,\"yanchor\":\"bottom\",\"yref\":\"paper\"},{\"font\":{},\"showarrow\":false,\"text\":\"Educational attainment level=Below upper secondary education\",\"x\":0.5,\"xanchor\":\"center\",\"xref\":\"paper\",\"y\":0.9999999999999999,\"yanchor\":\"bottom\",\"yref\":\"paper\"}],\"legend\":{\"title\":{\"text\":\"Place of birth\"},\"tracegroupgap\":0},\"margin\":{\"t\":60},\"barmode\":\"relative\",\"title\":{\"text\":\"Educational attainment level\",\"x\":0.5},\"bargap\":0.02,\"autosize\":false,\"width\":1000,\"height\":800},                        {\"responsive\": true}                    ).then(function(){\n",
       "                            \n",
       "var gd = document.getElementById('a8ae2da7-8974-40d1-b59b-5fc476ae283e');\n",
       "var x = new MutationObserver(function (mutations, observer) {{\n",
       "        var display = window.getComputedStyle(gd).display;\n",
       "        if (!display || display === 'none') {{\n",
       "            console.log([gd, 'removed!']);\n",
       "            Plotly.purge(gd);\n",
       "            observer.disconnect();\n",
       "        }}\n",
       "}});\n",
       "\n",
       "// Listen for the removal of the full notebook cells\n",
       "var notebookContainer = gd.closest('#notebook-container');\n",
       "if (notebookContainer) {{\n",
       "    x.observe(notebookContainer, {childList: true});\n",
       "}}\n",
       "\n",
       "// Listen for the clearing of the current output cell\n",
       "var outputEl = gd.closest('.output');\n",
       "if (outputEl) {{\n",
       "    x.observe(outputEl, {childList: true});\n",
       "}}\n",
       "\n",
       "                        })                };                });            </script>        </div>"
      ]
     },
     "metadata": {},
     "output_type": "display_data"
    }
   ],
   "source": [
    "fig = px.histogram(DF_rory,\n",
    "                 x='OBS_VALUE',\n",
    "                 nbins=10,\n",
    "                 facet_col= 'Educational attainment level',\n",
    "                 facet_col_wrap=1,\n",
    "                  color='Place of birth')\n",
    "\n",
    "fig.update_layout(bargap=0.02,\n",
    "                  title='Educational attainment level',\n",
    "                  title_x=0.5,\n",
    "                  xaxis_title=\"frequency\",\n",
    "                  yaxis_title=\"Observational value\",\n",
    "                  autosize=False,\n",
    "                  width=1000,\n",
    "                  height=800)\n",
    "\n",
    "fig.show()"
   ]
  },
  {
   "cell_type": "code",
   "execution_count": 131,
   "id": "4f5ecaef-b3ef-4278-818c-cf4eb1ea6cd0",
   "metadata": {},
   "outputs": [],
   "source": [
    "mask = DF_rory['Educational attainment level'] == 'Tertiary education'\n",
    "DF_rory_T = DF_rory[mask].copy()"
   ]
  },
  {
   "cell_type": "code",
   "execution_count": 132,
   "id": "af58a5b7-b506-4611-8580-c3f45ea8c225",
   "metadata": {},
   "outputs": [],
   "source": [
    "mask = DF_rory['Educational attainment level'] == 'Upper secondary or post-secondary non-tertiary education'\n",
    "DF_rory_S = DF_rory[mask].copy()"
   ]
  },
  {
   "cell_type": "code",
   "execution_count": 133,
   "id": "e40a6343-76a7-4dcd-9c99-e5e4d41cb7e9",
   "metadata": {},
   "outputs": [
    {
     "data": {
      "application/vnd.plotly.v1+json": {
       "config": {
        "plotlyServerURL": "https://plot.ly"
       },
       "data": [
        {
         "alignmentgroup": "True",
         "bingroup": "x",
         "hovertemplate": "Reference area=Australia<br>Place of birth=Native-born<br>OBS_VALUE=%{x}<br>count=%{y}<extra></extra>",
         "legendgroup": "Australia",
         "marker": {
          "color": "rgb(95, 70, 144)",
          "pattern": {
           "shape": ""
          }
         },
         "name": "Australia",
         "nbinsx": 30,
         "offsetgroup": "Australia",
         "orientation": "v",
         "showlegend": true,
         "type": "histogram",
         "x": [
          45.79047394
         ],
         "xaxis": "x",
         "yaxis": "y"
        },
        {
         "alignmentgroup": "True",
         "bingroup": "x",
         "hovertemplate": "Reference area=Australia<br>Place of birth=Foreign-born<br>OBS_VALUE=%{x}<br>count=%{y}<extra></extra>",
         "legendgroup": "Australia",
         "marker": {
          "color": "rgb(95, 70, 144)",
          "pattern": {
           "shape": ""
          }
         },
         "name": "Australia",
         "nbinsx": 30,
         "offsetgroup": "Australia",
         "orientation": "v",
         "showlegend": false,
         "type": "histogram",
         "x": [
          67.19649506
         ],
         "xaxis": "x2",
         "yaxis": "y2"
        },
        {
         "alignmentgroup": "True",
         "bingroup": "x",
         "hovertemplate": "Reference area=Austria<br>Place of birth=Native-born<br>OBS_VALUE=%{x}<br>count=%{y}<extra></extra>",
         "legendgroup": "Austria",
         "marker": {
          "color": "rgb(29, 105, 150)",
          "pattern": {
           "shape": ""
          }
         },
         "name": "Austria",
         "nbinsx": 30,
         "offsetgroup": "Austria",
         "orientation": "v",
         "showlegend": true,
         "type": "histogram",
         "x": [
          36.77476501
         ],
         "xaxis": "x",
         "yaxis": "y"
        },
        {
         "alignmentgroup": "True",
         "bingroup": "x",
         "hovertemplate": "Reference area=Austria<br>Place of birth=Foreign-born<br>OBS_VALUE=%{x}<br>count=%{y}<extra></extra>",
         "legendgroup": "Austria",
         "marker": {
          "color": "rgb(29, 105, 150)",
          "pattern": {
           "shape": ""
          }
         },
         "name": "Austria",
         "nbinsx": 30,
         "offsetgroup": "Austria",
         "orientation": "v",
         "showlegend": false,
         "type": "histogram",
         "x": [
          36.2142868
         ],
         "xaxis": "x2",
         "yaxis": "y2"
        },
        {
         "alignmentgroup": "True",
         "bingroup": "x",
         "hovertemplate": "Reference area=Belgium<br>Place of birth=Native-born<br>OBS_VALUE=%{x}<br>count=%{y}<extra></extra>",
         "legendgroup": "Belgium",
         "marker": {
          "color": "rgb(56, 166, 165)",
          "pattern": {
           "shape": ""
          }
         },
         "name": "Belgium",
         "nbinsx": 30,
         "offsetgroup": "Belgium",
         "orientation": "v",
         "showlegend": true,
         "type": "histogram",
         "x": [
          46.47327042
         ],
         "xaxis": "x",
         "yaxis": "y"
        },
        {
         "alignmentgroup": "True",
         "bingroup": "x",
         "hovertemplate": "Reference area=Belgium<br>Place of birth=Foreign-born<br>OBS_VALUE=%{x}<br>count=%{y}<extra></extra>",
         "legendgroup": "Belgium",
         "marker": {
          "color": "rgb(56, 166, 165)",
          "pattern": {
           "shape": ""
          }
         },
         "name": "Belgium",
         "nbinsx": 30,
         "offsetgroup": "Belgium",
         "orientation": "v",
         "showlegend": false,
         "type": "histogram",
         "x": [
          39.37535477
         ],
         "xaxis": "x2",
         "yaxis": "y2"
        },
        {
         "alignmentgroup": "True",
         "bingroup": "x",
         "hovertemplate": "Reference area=Bulgaria<br>Place of birth=Native-born<br>OBS_VALUE=%{x}<br>count=%{y}<extra></extra>",
         "legendgroup": "Bulgaria",
         "marker": {
          "color": "rgb(15, 133, 84)",
          "pattern": {
           "shape": ""
          }
         },
         "name": "Bulgaria",
         "nbinsx": 30,
         "offsetgroup": "Bulgaria",
         "orientation": "v",
         "showlegend": true,
         "type": "histogram",
         "x": [
          30.37030792
         ],
         "xaxis": "x",
         "yaxis": "y"
        },
        {
         "alignmentgroup": "True",
         "bingroup": "x",
         "hovertemplate": "Reference area=Bulgaria<br>Place of birth=Foreign-born<br>OBS_VALUE=%{x}<br>count=%{y}<extra></extra>",
         "legendgroup": "Bulgaria",
         "marker": {
          "color": "rgb(15, 133, 84)",
          "pattern": {
           "shape": ""
          }
         },
         "name": "Bulgaria",
         "nbinsx": 30,
         "offsetgroup": "Bulgaria",
         "orientation": "v",
         "showlegend": false,
         "type": "histogram",
         "x": [
          57.54243469
         ],
         "xaxis": "x2",
         "yaxis": "y2"
        },
        {
         "alignmentgroup": "True",
         "bingroup": "x",
         "hovertemplate": "Reference area=Canada<br>Place of birth=Native-born<br>OBS_VALUE=%{x}<br>count=%{y}<extra></extra>",
         "legendgroup": "Canada",
         "marker": {
          "color": "rgb(115, 175, 72)",
          "pattern": {
           "shape": ""
          }
         },
         "name": "Canada",
         "nbinsx": 30,
         "offsetgroup": "Canada",
         "orientation": "v",
         "showlegend": true,
         "type": "histogram",
         "x": [
          58.50442886
         ],
         "xaxis": "x",
         "yaxis": "y"
        },
        {
         "alignmentgroup": "True",
         "bingroup": "x",
         "hovertemplate": "Reference area=Canada<br>Place of birth=Foreign-born<br>OBS_VALUE=%{x}<br>count=%{y}<extra></extra>",
         "legendgroup": "Canada",
         "marker": {
          "color": "rgb(115, 175, 72)",
          "pattern": {
           "shape": ""
          }
         },
         "name": "Canada",
         "nbinsx": 30,
         "offsetgroup": "Canada",
         "orientation": "v",
         "showlegend": false,
         "type": "histogram",
         "x": [
          73.27856445
         ],
         "xaxis": "x2",
         "yaxis": "y2"
        },
        {
         "alignmentgroup": "True",
         "bingroup": "x",
         "hovertemplate": "Reference area=Chile<br>Place of birth=Native-born<br>OBS_VALUE=%{x}<br>count=%{y}<extra></extra>",
         "legendgroup": "Chile",
         "marker": {
          "color": "rgb(237, 173, 8)",
          "pattern": {
           "shape": ""
          }
         },
         "name": "Chile",
         "nbinsx": 30,
         "offsetgroup": "Chile",
         "orientation": "v",
         "showlegend": true,
         "type": "histogram",
         "x": [
          32.17416382
         ],
         "xaxis": "x",
         "yaxis": "y"
        },
        {
         "alignmentgroup": "True",
         "bingroup": "x",
         "hovertemplate": "Reference area=Chile<br>Place of birth=Foreign-born<br>OBS_VALUE=%{x}<br>count=%{y}<extra></extra>",
         "legendgroup": "Chile",
         "marker": {
          "color": "rgb(237, 173, 8)",
          "pattern": {
           "shape": ""
          }
         },
         "name": "Chile",
         "nbinsx": 30,
         "offsetgroup": "Chile",
         "orientation": "v",
         "showlegend": false,
         "type": "histogram",
         "x": [
          38.92288208
         ],
         "xaxis": "x2",
         "yaxis": "y2"
        },
        {
         "alignmentgroup": "True",
         "bingroup": "x",
         "hovertemplate": "Reference area=Colombia<br>Place of birth=Native-born<br>OBS_VALUE=%{x}<br>count=%{y}<extra></extra>",
         "legendgroup": "Colombia",
         "marker": {
          "color": "rgb(225, 124, 5)",
          "pattern": {
           "shape": ""
          }
         },
         "name": "Colombia",
         "nbinsx": 30,
         "offsetgroup": "Colombia",
         "orientation": "v",
         "showlegend": true,
         "type": "histogram",
         "x": [
          29.16225624
         ],
         "xaxis": "x",
         "yaxis": "y"
        },
        {
         "alignmentgroup": "True",
         "bingroup": "x",
         "hovertemplate": "Reference area=Colombia<br>Place of birth=Foreign-born<br>OBS_VALUE=%{x}<br>count=%{y}<extra></extra>",
         "legendgroup": "Colombia",
         "marker": {
          "color": "rgb(225, 124, 5)",
          "pattern": {
           "shape": ""
          }
         },
         "name": "Colombia",
         "nbinsx": 30,
         "offsetgroup": "Colombia",
         "orientation": "v",
         "showlegend": false,
         "type": "histogram",
         "x": [
          24.20047569
         ],
         "xaxis": "x2",
         "yaxis": "y2"
        },
        {
         "alignmentgroup": "True",
         "bingroup": "x",
         "hovertemplate": "Reference area=Costa Rica<br>Place of birth=Native-born<br>OBS_VALUE=%{x}<br>count=%{y}<extra></extra>",
         "legendgroup": "Costa Rica",
         "marker": {
          "color": "rgb(204, 80, 62)",
          "pattern": {
           "shape": ""
          }
         },
         "name": "Costa Rica",
         "nbinsx": 30,
         "offsetgroup": "Costa Rica",
         "orientation": "v",
         "showlegend": true,
         "type": "histogram",
         "x": [
          26.76126862
         ],
         "xaxis": "x",
         "yaxis": "y"
        },
        {
         "alignmentgroup": "True",
         "bingroup": "x",
         "hovertemplate": "Reference area=Costa Rica<br>Place of birth=Foreign-born<br>OBS_VALUE=%{x}<br>count=%{y}<extra></extra>",
         "legendgroup": "Costa Rica",
         "marker": {
          "color": "rgb(204, 80, 62)",
          "pattern": {
           "shape": ""
          }
         },
         "name": "Costa Rica",
         "nbinsx": 30,
         "offsetgroup": "Costa Rica",
         "orientation": "v",
         "showlegend": false,
         "type": "histogram",
         "x": [
          13.39484596
         ],
         "xaxis": "x2",
         "yaxis": "y2"
        },
        {
         "alignmentgroup": "True",
         "bingroup": "x",
         "hovertemplate": "Reference area=Czechia<br>Place of birth=Native-born<br>OBS_VALUE=%{x}<br>count=%{y}<extra></extra>",
         "legendgroup": "Czechia",
         "marker": {
          "color": "rgb(148, 52, 110)",
          "pattern": {
           "shape": ""
          }
         },
         "name": "Czechia",
         "nbinsx": 30,
         "offsetgroup": "Czechia",
         "orientation": "v",
         "showlegend": true,
         "type": "histogram",
         "x": [
          26.26926231
         ],
         "xaxis": "x",
         "yaxis": "y"
        },
        {
         "alignmentgroup": "True",
         "bingroup": "x",
         "hovertemplate": "Reference area=Czechia<br>Place of birth=Foreign-born<br>OBS_VALUE=%{x}<br>count=%{y}<extra></extra>",
         "legendgroup": "Czechia",
         "marker": {
          "color": "rgb(148, 52, 110)",
          "pattern": {
           "shape": ""
          }
         },
         "name": "Czechia",
         "nbinsx": 30,
         "offsetgroup": "Czechia",
         "orientation": "v",
         "showlegend": false,
         "type": "histogram",
         "x": [
          35.52707672
         ],
         "xaxis": "x2",
         "yaxis": "y2"
        },
        {
         "alignmentgroup": "True",
         "bingroup": "x",
         "hovertemplate": "Reference area=Estonia<br>Place of birth=Native-born<br>OBS_VALUE=%{x}<br>count=%{y}<extra></extra>",
         "legendgroup": "Estonia",
         "marker": {
          "color": "rgb(111, 64, 112)",
          "pattern": {
           "shape": ""
          }
         },
         "name": "Estonia",
         "nbinsx": 30,
         "offsetgroup": "Estonia",
         "orientation": "v",
         "showlegend": true,
         "type": "histogram",
         "x": [
          39.82363892
         ],
         "xaxis": "x",
         "yaxis": "y"
        },
        {
         "alignmentgroup": "True",
         "bingroup": "x",
         "hovertemplate": "Reference area=Estonia<br>Place of birth=Foreign-born<br>OBS_VALUE=%{x}<br>count=%{y}<extra></extra>",
         "legendgroup": "Estonia",
         "marker": {
          "color": "rgb(111, 64, 112)",
          "pattern": {
           "shape": ""
          }
         },
         "name": "Estonia",
         "nbinsx": 30,
         "offsetgroup": "Estonia",
         "orientation": "v",
         "showlegend": false,
         "type": "histogram",
         "x": [
          53.45915222
         ],
         "xaxis": "x2",
         "yaxis": "y2"
        },
        {
         "alignmentgroup": "True",
         "bingroup": "x",
         "hovertemplate": "Reference area=European Union (25 countries)<br>Place of birth=Native-born<br>OBS_VALUE=%{x}<br>count=%{y}<extra></extra>",
         "legendgroup": "European Union (25 countries)",
         "marker": {
          "color": "rgb(102, 102, 102)",
          "pattern": {
           "shape": ""
          }
         },
         "name": "European Union (25 countries)",
         "nbinsx": 30,
         "offsetgroup": "European Union (25 countries)",
         "orientation": "v",
         "showlegend": true,
         "type": "histogram",
         "x": [
          36.2324741
         ],
         "xaxis": "x",
         "yaxis": "y"
        },
        {
         "alignmentgroup": "True",
         "bingroup": "x",
         "hovertemplate": "Reference area=European Union (25 countries)<br>Place of birth=Foreign-born<br>OBS_VALUE=%{x}<br>count=%{y}<extra></extra>",
         "legendgroup": "European Union (25 countries)",
         "marker": {
          "color": "rgb(102, 102, 102)",
          "pattern": {
           "shape": ""
          }
         },
         "name": "European Union (25 countries)",
         "nbinsx": 30,
         "offsetgroup": "European Union (25 countries)",
         "orientation": "v",
         "showlegend": false,
         "type": "histogram",
         "x": [
          38.54382697
         ],
         "xaxis": "x2",
         "yaxis": "y2"
        },
        {
         "alignmentgroup": "True",
         "bingroup": "x",
         "hovertemplate": "Reference area=France<br>Place of birth=Native-born<br>OBS_VALUE=%{x}<br>count=%{y}<extra></extra>",
         "legendgroup": "France",
         "marker": {
          "color": "rgb(95, 70, 144)",
          "pattern": {
           "shape": ""
          }
         },
         "name": "France",
         "nbinsx": 30,
         "offsetgroup": "France",
         "orientation": "v",
         "showlegend": true,
         "type": "histogram",
         "x": [
          43.2166748
         ],
         "xaxis": "x",
         "yaxis": "y"
        },
        {
         "alignmentgroup": "True",
         "bingroup": "x",
         "hovertemplate": "Reference area=France<br>Place of birth=Foreign-born<br>OBS_VALUE=%{x}<br>count=%{y}<extra></extra>",
         "legendgroup": "France",
         "marker": {
          "color": "rgb(95, 70, 144)",
          "pattern": {
           "shape": ""
          }
         },
         "name": "France",
         "nbinsx": 30,
         "offsetgroup": "France",
         "orientation": "v",
         "showlegend": false,
         "type": "histogram",
         "x": [
          38.22355652
         ],
         "xaxis": "x2",
         "yaxis": "y2"
        },
        {
         "alignmentgroup": "True",
         "bingroup": "x",
         "hovertemplate": "Reference area=G20<br>Place of birth=Native-born<br>OBS_VALUE=%{x}<br>count=%{y}<extra></extra>",
         "legendgroup": "G20",
         "marker": {
          "color": "rgb(29, 105, 150)",
          "pattern": {
           "shape": ""
          }
         },
         "name": "G20",
         "nbinsx": 30,
         "offsetgroup": "G20",
         "orientation": "v",
         "showlegend": true,
         "type": "histogram",
         "x": [
          null
         ],
         "xaxis": "x",
         "yaxis": "y"
        },
        {
         "alignmentgroup": "True",
         "bingroup": "x",
         "hovertemplate": "Reference area=G20<br>Place of birth=Foreign-born<br>OBS_VALUE=%{x}<br>count=%{y}<extra></extra>",
         "legendgroup": "G20",
         "marker": {
          "color": "rgb(29, 105, 150)",
          "pattern": {
           "shape": ""
          }
         },
         "name": "G20",
         "nbinsx": 30,
         "offsetgroup": "G20",
         "orientation": "v",
         "showlegend": false,
         "type": "histogram",
         "x": [
          null
         ],
         "xaxis": "x2",
         "yaxis": "y2"
        },
        {
         "alignmentgroup": "True",
         "bingroup": "x",
         "hovertemplate": "Reference area=Germany<br>Place of birth=Native-born<br>OBS_VALUE=%{x}<br>count=%{y}<extra></extra>",
         "legendgroup": "Germany",
         "marker": {
          "color": "rgb(56, 166, 165)",
          "pattern": {
           "shape": ""
          }
         },
         "name": "Germany",
         "nbinsx": 30,
         "offsetgroup": "Germany",
         "orientation": "v",
         "showlegend": true,
         "type": "histogram",
         "x": [
          34.76521301
         ],
         "xaxis": "x",
         "yaxis": "y"
        },
        {
         "alignmentgroup": "True",
         "bingroup": "x",
         "hovertemplate": "Reference area=Germany<br>Place of birth=Foreign-born<br>OBS_VALUE=%{x}<br>count=%{y}<extra></extra>",
         "legendgroup": "Germany",
         "marker": {
          "color": "rgb(56, 166, 165)",
          "pattern": {
           "shape": ""
          }
         },
         "name": "Germany",
         "nbinsx": 30,
         "offsetgroup": "Germany",
         "orientation": "v",
         "showlegend": false,
         "type": "histogram",
         "x": [
          29.33109093
         ],
         "xaxis": "x2",
         "yaxis": "y2"
        },
        {
         "alignmentgroup": "True",
         "bingroup": "x",
         "hovertemplate": "Reference area=Greece<br>Place of birth=Native-born<br>OBS_VALUE=%{x}<br>count=%{y}<extra></extra>",
         "legendgroup": "Greece",
         "marker": {
          "color": "rgb(15, 133, 84)",
          "pattern": {
           "shape": ""
          }
         },
         "name": "Greece",
         "nbinsx": 30,
         "offsetgroup": "Greece",
         "orientation": "v",
         "showlegend": true,
         "type": "histogram",
         "x": [
          35.84442902
         ],
         "xaxis": "x",
         "yaxis": "y"
        },
        {
         "alignmentgroup": "True",
         "bingroup": "x",
         "hovertemplate": "Reference area=Greece<br>Place of birth=Foreign-born<br>OBS_VALUE=%{x}<br>count=%{y}<extra></extra>",
         "legendgroup": "Greece",
         "marker": {
          "color": "rgb(15, 133, 84)",
          "pattern": {
           "shape": ""
          }
         },
         "name": "Greece",
         "nbinsx": 30,
         "offsetgroup": "Greece",
         "orientation": "v",
         "showlegend": false,
         "type": "histogram",
         "x": [
          18.86882019
         ],
         "xaxis": "x2",
         "yaxis": "y2"
        },
        {
         "alignmentgroup": "True",
         "bingroup": "x",
         "hovertemplate": "Reference area=Hungary<br>Place of birth=Native-born<br>OBS_VALUE=%{x}<br>count=%{y}<extra></extra>",
         "legendgroup": "Hungary",
         "marker": {
          "color": "rgb(115, 175, 72)",
          "pattern": {
           "shape": ""
          }
         },
         "name": "Hungary",
         "nbinsx": 30,
         "offsetgroup": "Hungary",
         "orientation": "v",
         "showlegend": true,
         "type": "histogram",
         "x": [
          29.46634674
         ],
         "xaxis": "x",
         "yaxis": "y"
        },
        {
         "alignmentgroup": "True",
         "bingroup": "x",
         "hovertemplate": "Reference area=Hungary<br>Place of birth=Foreign-born<br>OBS_VALUE=%{x}<br>count=%{y}<extra></extra>",
         "legendgroup": "Hungary",
         "marker": {
          "color": "rgb(115, 175, 72)",
          "pattern": {
           "shape": ""
          }
         },
         "name": "Hungary",
         "nbinsx": 30,
         "offsetgroup": "Hungary",
         "orientation": "v",
         "showlegend": false,
         "type": "histogram",
         "x": [
          39.60985184
         ],
         "xaxis": "x2",
         "yaxis": "y2"
        },
        {
         "alignmentgroup": "True",
         "bingroup": "x",
         "hovertemplate": "Reference area=Israel<br>Place of birth=Native-born<br>OBS_VALUE=%{x}<br>count=%{y}<extra></extra>",
         "legendgroup": "Israel",
         "marker": {
          "color": "rgb(237, 173, 8)",
          "pattern": {
           "shape": ""
          }
         },
         "name": "Israel",
         "nbinsx": 30,
         "offsetgroup": "Israel",
         "orientation": "v",
         "showlegend": true,
         "type": "histogram",
         "x": [
          51.5278511
         ],
         "xaxis": "x",
         "yaxis": "y"
        },
        {
         "alignmentgroup": "True",
         "bingroup": "x",
         "hovertemplate": "Reference area=Israel<br>Place of birth=Foreign-born<br>OBS_VALUE=%{x}<br>count=%{y}<extra></extra>",
         "legendgroup": "Israel",
         "marker": {
          "color": "rgb(237, 173, 8)",
          "pattern": {
           "shape": ""
          }
         },
         "name": "Israel",
         "nbinsx": 30,
         "offsetgroup": "Israel",
         "orientation": "v",
         "showlegend": false,
         "type": "histogram",
         "x": [
          58.67267227
         ],
         "xaxis": "x2",
         "yaxis": "y2"
        },
        {
         "alignmentgroup": "True",
         "bingroup": "x",
         "hovertemplate": "Reference area=Italy<br>Place of birth=Native-born<br>OBS_VALUE=%{x}<br>count=%{y}<extra></extra>",
         "legendgroup": "Italy",
         "marker": {
          "color": "rgb(225, 124, 5)",
          "pattern": {
           "shape": ""
          }
         },
         "name": "Italy",
         "nbinsx": 30,
         "offsetgroup": "Italy",
         "orientation": "v",
         "showlegend": true,
         "type": "histogram",
         "x": [
          22.96188164
         ],
         "xaxis": "x",
         "yaxis": "y"
        },
        {
         "alignmentgroup": "True",
         "bingroup": "x",
         "hovertemplate": "Reference area=Italy<br>Place of birth=Foreign-born<br>OBS_VALUE=%{x}<br>count=%{y}<extra></extra>",
         "legendgroup": "Italy",
         "marker": {
          "color": "rgb(225, 124, 5)",
          "pattern": {
           "shape": ""
          }
         },
         "name": "Italy",
         "nbinsx": 30,
         "offsetgroup": "Italy",
         "orientation": "v",
         "showlegend": false,
         "type": "histogram",
         "x": [
          13.9394331
         ],
         "xaxis": "x2",
         "yaxis": "y2"
        },
        {
         "alignmentgroup": "True",
         "bingroup": "x",
         "hovertemplate": "Reference area=Latvia<br>Place of birth=Native-born<br>OBS_VALUE=%{x}<br>count=%{y}<extra></extra>",
         "legendgroup": "Latvia",
         "marker": {
          "color": "rgb(204, 80, 62)",
          "pattern": {
           "shape": ""
          }
         },
         "name": "Latvia",
         "nbinsx": 30,
         "offsetgroup": "Latvia",
         "orientation": "v",
         "showlegend": true,
         "type": "histogram",
         "x": [
          38.70244598
         ],
         "xaxis": "x",
         "yaxis": "y"
        },
        {
         "alignmentgroup": "True",
         "bingroup": "x",
         "hovertemplate": "Reference area=Latvia<br>Place of birth=Foreign-born<br>OBS_VALUE=%{x}<br>count=%{y}<extra></extra>",
         "legendgroup": "Latvia",
         "marker": {
          "color": "rgb(204, 80, 62)",
          "pattern": {
           "shape": ""
          }
         },
         "name": "Latvia",
         "nbinsx": 30,
         "offsetgroup": "Latvia",
         "orientation": "v",
         "showlegend": false,
         "type": "histogram",
         "x": [
          43.5748024
         ],
         "xaxis": "x2",
         "yaxis": "y2"
        },
        {
         "alignmentgroup": "True",
         "bingroup": "x",
         "hovertemplate": "Reference area=Lithuania<br>Place of birth=Native-born<br>OBS_VALUE=%{x}<br>count=%{y}<extra></extra>",
         "legendgroup": "Lithuania",
         "marker": {
          "color": "rgb(148, 52, 110)",
          "pattern": {
           "shape": ""
          }
         },
         "name": "Lithuania",
         "nbinsx": 30,
         "offsetgroup": "Lithuania",
         "orientation": "v",
         "showlegend": true,
         "type": "histogram",
         "x": [
          46.37329102
         ],
         "xaxis": "x",
         "yaxis": "y"
        },
        {
         "alignmentgroup": "True",
         "bingroup": "x",
         "hovertemplate": "Reference area=Lithuania<br>Place of birth=Foreign-born<br>OBS_VALUE=%{x}<br>count=%{y}<extra></extra>",
         "legendgroup": "Lithuania",
         "marker": {
          "color": "rgb(148, 52, 110)",
          "pattern": {
           "shape": ""
          }
         },
         "name": "Lithuania",
         "nbinsx": 30,
         "offsetgroup": "Lithuania",
         "orientation": "v",
         "showlegend": false,
         "type": "histogram",
         "x": [
          45.61509323
         ],
         "xaxis": "x2",
         "yaxis": "y2"
        },
        {
         "alignmentgroup": "True",
         "bingroup": "x",
         "hovertemplate": "Reference area=Luxembourg<br>Place of birth=Native-born<br>OBS_VALUE=%{x}<br>count=%{y}<extra></extra>",
         "legendgroup": "Luxembourg",
         "marker": {
          "color": "rgb(111, 64, 112)",
          "pattern": {
           "shape": ""
          }
         },
         "name": "Luxembourg",
         "nbinsx": 30,
         "offsetgroup": "Luxembourg",
         "orientation": "v",
         "showlegend": true,
         "type": "histogram",
         "x": [
          40.98654938
         ],
         "xaxis": "x",
         "yaxis": "y"
        },
        {
         "alignmentgroup": "True",
         "bingroup": "x",
         "hovertemplate": "Reference area=Luxembourg<br>Place of birth=Foreign-born<br>OBS_VALUE=%{x}<br>count=%{y}<extra></extra>",
         "legendgroup": "Luxembourg",
         "marker": {
          "color": "rgb(111, 64, 112)",
          "pattern": {
           "shape": ""
          }
         },
         "name": "Luxembourg",
         "nbinsx": 30,
         "offsetgroup": "Luxembourg",
         "orientation": "v",
         "showlegend": false,
         "type": "histogram",
         "x": [
          57.68785858
         ],
         "xaxis": "x2",
         "yaxis": "y2"
        },
        {
         "alignmentgroup": "True",
         "bingroup": "x",
         "hovertemplate": "Reference area=Mexico<br>Place of birth=Native-born<br>OBS_VALUE=%{x}<br>count=%{y}<extra></extra>",
         "legendgroup": "Mexico",
         "marker": {
          "color": "rgb(102, 102, 102)",
          "pattern": {
           "shape": ""
          }
         },
         "name": "Mexico",
         "nbinsx": 30,
         "offsetgroup": "Mexico",
         "orientation": "v",
         "showlegend": true,
         "type": "histogram",
         "x": [
          20.86810875
         ],
         "xaxis": "x",
         "yaxis": "y"
        },
        {
         "alignmentgroup": "True",
         "bingroup": "x",
         "hovertemplate": "Reference area=Mexico<br>Place of birth=Foreign-born<br>OBS_VALUE=%{x}<br>count=%{y}<extra></extra>",
         "legendgroup": "Mexico",
         "marker": {
          "color": "rgb(102, 102, 102)",
          "pattern": {
           "shape": ""
          }
         },
         "name": "Mexico",
         "nbinsx": 30,
         "offsetgroup": "Mexico",
         "orientation": "v",
         "showlegend": false,
         "type": "histogram",
         "x": [
          38.85329437
         ],
         "xaxis": "x2",
         "yaxis": "y2"
        },
        {
         "alignmentgroup": "True",
         "bingroup": "x",
         "hovertemplate": "Reference area=Netherlands<br>Place of birth=Native-born<br>OBS_VALUE=%{x}<br>count=%{y}<extra></extra>",
         "legendgroup": "Netherlands",
         "marker": {
          "color": "rgb(95, 70, 144)",
          "pattern": {
           "shape": ""
          }
         },
         "name": "Netherlands",
         "nbinsx": 30,
         "offsetgroup": "Netherlands",
         "orientation": "v",
         "showlegend": true,
         "type": "histogram",
         "x": [
          43.12560654
         ],
         "xaxis": "x",
         "yaxis": "y"
        },
        {
         "alignmentgroup": "True",
         "bingroup": "x",
         "hovertemplate": "Reference area=Netherlands<br>Place of birth=Foreign-born<br>OBS_VALUE=%{x}<br>count=%{y}<extra></extra>",
         "legendgroup": "Netherlands",
         "marker": {
          "color": "rgb(95, 70, 144)",
          "pattern": {
           "shape": ""
          }
         },
         "name": "Netherlands",
         "nbinsx": 30,
         "offsetgroup": "Netherlands",
         "orientation": "v",
         "showlegend": false,
         "type": "histogram",
         "x": [
          41.86574936
         ],
         "xaxis": "x2",
         "yaxis": "y2"
        },
        {
         "alignmentgroup": "True",
         "bingroup": "x",
         "hovertemplate": "Reference area=New Zealand<br>Place of birth=Native-born<br>OBS_VALUE=%{x}<br>count=%{y}<extra></extra>",
         "legendgroup": "New Zealand",
         "marker": {
          "color": "rgb(29, 105, 150)",
          "pattern": {
           "shape": ""
          }
         },
         "name": "New Zealand",
         "nbinsx": 30,
         "offsetgroup": "New Zealand",
         "orientation": "v",
         "showlegend": true,
         "type": "histogram",
         "x": [
          35.92984009
         ],
         "xaxis": "x",
         "yaxis": "y"
        },
        {
         "alignmentgroup": "True",
         "bingroup": "x",
         "hovertemplate": "Reference area=New Zealand<br>Place of birth=Foreign-born<br>OBS_VALUE=%{x}<br>count=%{y}<extra></extra>",
         "legendgroup": "New Zealand",
         "marker": {
          "color": "rgb(29, 105, 150)",
          "pattern": {
           "shape": ""
          }
         },
         "name": "New Zealand",
         "nbinsx": 30,
         "offsetgroup": "New Zealand",
         "orientation": "v",
         "showlegend": false,
         "type": "histogram",
         "x": [
          51.31377029
         ],
         "xaxis": "x2",
         "yaxis": "y2"
        },
        {
         "alignmentgroup": "True",
         "bingroup": "x",
         "hovertemplate": "Reference area=Norway<br>Place of birth=Native-born<br>OBS_VALUE=%{x}<br>count=%{y}<extra></extra>",
         "legendgroup": "Norway",
         "marker": {
          "color": "rgb(56, 166, 165)",
          "pattern": {
           "shape": ""
          }
         },
         "name": "Norway",
         "nbinsx": 30,
         "offsetgroup": "Norway",
         "orientation": "v",
         "showlegend": true,
         "type": "histogram",
         "x": [
          49.38158417
         ],
         "xaxis": "x",
         "yaxis": "y"
        },
        {
         "alignmentgroup": "True",
         "bingroup": "x",
         "hovertemplate": "Reference area=Norway<br>Place of birth=Foreign-born<br>OBS_VALUE=%{x}<br>count=%{y}<extra></extra>",
         "legendgroup": "Norway",
         "marker": {
          "color": "rgb(56, 166, 165)",
          "pattern": {
           "shape": ""
          }
         },
         "name": "Norway",
         "nbinsx": 30,
         "offsetgroup": "Norway",
         "orientation": "v",
         "showlegend": false,
         "type": "histogram",
         "x": [
          46.8023262
         ],
         "xaxis": "x2",
         "yaxis": "y2"
        },
        {
         "alignmentgroup": "True",
         "bingroup": "x",
         "hovertemplate": "Reference area=OECD<br>Place of birth=Native-born<br>OBS_VALUE=%{x}<br>count=%{y}<extra></extra>",
         "legendgroup": "OECD",
         "marker": {
          "color": "rgb(15, 133, 84)",
          "pattern": {
           "shape": ""
          }
         },
         "name": "OECD",
         "nbinsx": 30,
         "offsetgroup": "OECD",
         "orientation": "v",
         "showlegend": true,
         "type": "histogram",
         "x": [
          39.18903522
         ],
         "xaxis": "x",
         "yaxis": "y"
        },
        {
         "alignmentgroup": "True",
         "bingroup": "x",
         "hovertemplate": "Reference area=OECD<br>Place of birth=Foreign-born<br>OBS_VALUE=%{x}<br>count=%{y}<extra></extra>",
         "legendgroup": "OECD",
         "marker": {
          "color": "rgb(15, 133, 84)",
          "pattern": {
           "shape": ""
          }
         },
         "name": "OECD",
         "nbinsx": 30,
         "offsetgroup": "OECD",
         "orientation": "v",
         "showlegend": false,
         "type": "histogram",
         "x": [
          41.81975307
         ],
         "xaxis": "x2",
         "yaxis": "y2"
        },
        {
         "alignmentgroup": "True",
         "bingroup": "x",
         "hovertemplate": "Reference area=Poland<br>Place of birth=Native-born<br>OBS_VALUE=%{x}<br>count=%{y}<extra></extra>",
         "legendgroup": "Poland",
         "marker": {
          "color": "rgb(115, 175, 72)",
          "pattern": {
           "shape": ""
          }
         },
         "name": "Poland",
         "nbinsx": 30,
         "offsetgroup": "Poland",
         "orientation": "v",
         "showlegend": true,
         "type": "histogram",
         "x": [
          37.63965988
         ],
         "xaxis": "x",
         "yaxis": "y"
        },
        {
         "alignmentgroup": "True",
         "bingroup": "x",
         "hovertemplate": "Reference area=Poland<br>Place of birth=Foreign-born<br>OBS_VALUE=%{x}<br>count=%{y}<extra></extra>",
         "legendgroup": "Poland",
         "marker": {
          "color": "rgb(115, 175, 72)",
          "pattern": {
           "shape": ""
          }
         },
         "name": "Poland",
         "nbinsx": 30,
         "offsetgroup": "Poland",
         "orientation": "v",
         "showlegend": false,
         "type": "histogram",
         "x": [
          55.66636276
         ],
         "xaxis": "x2",
         "yaxis": "y2"
        },
        {
         "alignmentgroup": "True",
         "bingroup": "x",
         "hovertemplate": "Reference area=Portugal<br>Place of birth=Native-born<br>OBS_VALUE=%{x}<br>count=%{y}<extra></extra>",
         "legendgroup": "Portugal",
         "marker": {
          "color": "rgb(237, 173, 8)",
          "pattern": {
           "shape": ""
          }
         },
         "name": "Portugal",
         "nbinsx": 30,
         "offsetgroup": "Portugal",
         "orientation": "v",
         "showlegend": true,
         "type": "histogram",
         "x": [
          28.83273888
         ],
         "xaxis": "x",
         "yaxis": "y"
        },
        {
         "alignmentgroup": "True",
         "bingroup": "x",
         "hovertemplate": "Reference area=Portugal<br>Place of birth=Foreign-born<br>OBS_VALUE=%{x}<br>count=%{y}<extra></extra>",
         "legendgroup": "Portugal",
         "marker": {
          "color": "rgb(237, 173, 8)",
          "pattern": {
           "shape": ""
          }
         },
         "name": "Portugal",
         "nbinsx": 30,
         "offsetgroup": "Portugal",
         "orientation": "v",
         "showlegend": false,
         "type": "histogram",
         "x": [
          36.32902908
         ],
         "xaxis": "x2",
         "yaxis": "y2"
        },
        {
         "alignmentgroup": "True",
         "bingroup": "x",
         "hovertemplate": "Reference area=Romania<br>Place of birth=Native-born<br>OBS_VALUE=%{x}<br>count=%{y}<extra></extra>",
         "legendgroup": "Romania",
         "marker": {
          "color": "rgb(225, 124, 5)",
          "pattern": {
           "shape": ""
          }
         },
         "name": "Romania",
         "nbinsx": 30,
         "offsetgroup": "Romania",
         "orientation": "v",
         "showlegend": true,
         "type": "histogram",
         "x": [
          18.58439255
         ],
         "xaxis": "x",
         "yaxis": "y"
        },
        {
         "alignmentgroup": "True",
         "bingroup": "x",
         "hovertemplate": "Reference area=Romania<br>Place of birth=Foreign-born<br>OBS_VALUE=%{x}<br>count=%{y}<extra></extra>",
         "legendgroup": "Romania",
         "marker": {
          "color": "rgb(225, 124, 5)",
          "pattern": {
           "shape": ""
          }
         },
         "name": "Romania",
         "nbinsx": 30,
         "offsetgroup": "Romania",
         "orientation": "v",
         "showlegend": false,
         "type": "histogram",
         "x": [
          34.65583038
         ],
         "xaxis": "x2",
         "yaxis": "y2"
        },
        {
         "alignmentgroup": "True",
         "bingroup": "x",
         "hovertemplate": "Reference area=Slovak Republic<br>Place of birth=Native-born<br>OBS_VALUE=%{x}<br>count=%{y}<extra></extra>",
         "legendgroup": "Slovak Republic",
         "marker": {
          "color": "rgb(204, 80, 62)",
          "pattern": {
           "shape": ""
          }
         },
         "name": "Slovak Republic",
         "nbinsx": 30,
         "offsetgroup": "Slovak Republic",
         "orientation": "v",
         "showlegend": true,
         "type": "histogram",
         "x": [
          28.67724609
         ],
         "xaxis": "x",
         "yaxis": "y"
        },
        {
         "alignmentgroup": "True",
         "bingroup": "x",
         "hovertemplate": "Reference area=Slovak Republic<br>Place of birth=Foreign-born<br>OBS_VALUE=%{x}<br>count=%{y}<extra></extra>",
         "legendgroup": "Slovak Republic",
         "marker": {
          "color": "rgb(204, 80, 62)",
          "pattern": {
           "shape": ""
          }
         },
         "name": "Slovak Republic",
         "nbinsx": 30,
         "offsetgroup": "Slovak Republic",
         "orientation": "v",
         "showlegend": false,
         "type": "histogram",
         "x": [
          39.82294846
         ],
         "xaxis": "x2",
         "yaxis": "y2"
        },
        {
         "alignmentgroup": "True",
         "bingroup": "x",
         "hovertemplate": "Reference area=Slovenia<br>Place of birth=Native-born<br>OBS_VALUE=%{x}<br>count=%{y}<extra></extra>",
         "legendgroup": "Slovenia",
         "marker": {
          "color": "rgb(148, 52, 110)",
          "pattern": {
           "shape": ""
          }
         },
         "name": "Slovenia",
         "nbinsx": 30,
         "offsetgroup": "Slovenia",
         "orientation": "v",
         "showlegend": true,
         "type": "histogram",
         "x": [
          37.0370369
         ],
         "xaxis": "x",
         "yaxis": "y"
        },
        {
         "alignmentgroup": "True",
         "bingroup": "x",
         "hovertemplate": "Reference area=Slovenia<br>Place of birth=Foreign-born<br>OBS_VALUE=%{x}<br>count=%{y}<extra></extra>",
         "legendgroup": "Slovenia",
         "marker": {
          "color": "rgb(148, 52, 110)",
          "pattern": {
           "shape": ""
          }
         },
         "name": "Slovenia",
         "nbinsx": 30,
         "offsetgroup": "Slovenia",
         "orientation": "v",
         "showlegend": false,
         "type": "histogram",
         "x": [
          15.1898737
         ],
         "xaxis": "x2",
         "yaxis": "y2"
        },
        {
         "alignmentgroup": "True",
         "bingroup": "x",
         "hovertemplate": "Reference area=Spain<br>Place of birth=Native-born<br>OBS_VALUE=%{x}<br>count=%{y}<extra></extra>",
         "legendgroup": "Spain",
         "marker": {
          "color": "rgb(111, 64, 112)",
          "pattern": {
           "shape": ""
          }
         },
         "name": "Spain",
         "nbinsx": 30,
         "offsetgroup": "Spain",
         "orientation": "v",
         "showlegend": true,
         "type": "histogram",
         "x": [
          45.35423279
         ],
         "xaxis": "x",
         "yaxis": "y"
        },
        {
         "alignmentgroup": "True",
         "bingroup": "x",
         "hovertemplate": "Reference area=Spain<br>Place of birth=Foreign-born<br>OBS_VALUE=%{x}<br>count=%{y}<extra></extra>",
         "legendgroup": "Spain",
         "marker": {
          "color": "rgb(111, 64, 112)",
          "pattern": {
           "shape": ""
          }
         },
         "name": "Spain",
         "nbinsx": 30,
         "offsetgroup": "Spain",
         "orientation": "v",
         "showlegend": false,
         "type": "histogram",
         "x": [
          28.06167221
         ],
         "xaxis": "x2",
         "yaxis": "y2"
        },
        {
         "alignmentgroup": "True",
         "bingroup": "x",
         "hovertemplate": "Reference area=Sweden<br>Place of birth=Native-born<br>OBS_VALUE=%{x}<br>count=%{y}<extra></extra>",
         "legendgroup": "Sweden",
         "marker": {
          "color": "rgb(102, 102, 102)",
          "pattern": {
           "shape": ""
          }
         },
         "name": "Sweden",
         "nbinsx": 30,
         "offsetgroup": "Sweden",
         "orientation": "v",
         "showlegend": true,
         "type": "histogram",
         "x": [
          49.60296631
         ],
         "xaxis": "x",
         "yaxis": "y"
        },
        {
         "alignmentgroup": "True",
         "bingroup": "x",
         "hovertemplate": "Reference area=Sweden<br>Place of birth=Foreign-born<br>OBS_VALUE=%{x}<br>count=%{y}<extra></extra>",
         "legendgroup": "Sweden",
         "marker": {
          "color": "rgb(102, 102, 102)",
          "pattern": {
           "shape": ""
          }
         },
         "name": "Sweden",
         "nbinsx": 30,
         "offsetgroup": "Sweden",
         "orientation": "v",
         "showlegend": false,
         "type": "histogram",
         "x": [
          48.86008835
         ],
         "xaxis": "x2",
         "yaxis": "y2"
        },
        {
         "alignmentgroup": "True",
         "bingroup": "x",
         "hovertemplate": "Reference area=Switzerland<br>Place of birth=Native-born<br>OBS_VALUE=%{x}<br>count=%{y}<extra></extra>",
         "legendgroup": "Switzerland",
         "marker": {
          "color": "rgb(95, 70, 144)",
          "pattern": {
           "shape": ""
          }
         },
         "name": "Switzerland",
         "nbinsx": 30,
         "offsetgroup": "Switzerland",
         "orientation": "v",
         "showlegend": true,
         "type": "histogram",
         "x": [
          45.52560043
         ],
         "xaxis": "x",
         "yaxis": "y"
        },
        {
         "alignmentgroup": "True",
         "bingroup": "x",
         "hovertemplate": "Reference area=Switzerland<br>Place of birth=Foreign-born<br>OBS_VALUE=%{x}<br>count=%{y}<extra></extra>",
         "legendgroup": "Switzerland",
         "marker": {
          "color": "rgb(95, 70, 144)",
          "pattern": {
           "shape": ""
          }
         },
         "name": "Switzerland",
         "nbinsx": 30,
         "offsetgroup": "Switzerland",
         "orientation": "v",
         "showlegend": false,
         "type": "histogram",
         "x": [
          46.85208511
         ],
         "xaxis": "x2",
         "yaxis": "y2"
        },
        {
         "alignmentgroup": "True",
         "bingroup": "x",
         "hovertemplate": "Reference area=United Kingdom<br>Place of birth=Native-born<br>OBS_VALUE=%{x}<br>count=%{y}<extra></extra>",
         "legendgroup": "United Kingdom",
         "marker": {
          "color": "rgb(29, 105, 150)",
          "pattern": {
           "shape": ""
          }
         },
         "name": "United Kingdom",
         "nbinsx": 30,
         "offsetgroup": "United Kingdom",
         "orientation": "v",
         "showlegend": true,
         "type": "histogram",
         "x": [
          48.09827423
         ],
         "xaxis": "x",
         "yaxis": "y"
        },
        {
         "alignmentgroup": "True",
         "bingroup": "x",
         "hovertemplate": "Reference area=United Kingdom<br>Place of birth=Foreign-born<br>OBS_VALUE=%{x}<br>count=%{y}<extra></extra>",
         "legendgroup": "United Kingdom",
         "marker": {
          "color": "rgb(29, 105, 150)",
          "pattern": {
           "shape": ""
          }
         },
         "name": "United Kingdom",
         "nbinsx": 30,
         "offsetgroup": "United Kingdom",
         "orientation": "v",
         "showlegend": false,
         "type": "histogram",
         "x": [
          71.93881989
         ],
         "xaxis": "x2",
         "yaxis": "y2"
        },
        {
         "alignmentgroup": "True",
         "bingroup": "x",
         "hovertemplate": "Reference area=United States<br>Place of birth=Native-born<br>OBS_VALUE=%{x}<br>count=%{y}<extra></extra>",
         "legendgroup": "United States",
         "marker": {
          "color": "rgb(56, 166, 165)",
          "pattern": {
           "shape": ""
          }
         },
         "name": "United States",
         "nbinsx": 30,
         "offsetgroup": "United States",
         "orientation": "v",
         "showlegend": true,
         "type": "histogram",
         "x": [
          52.19411469
         ],
         "xaxis": "x",
         "yaxis": "y"
        },
        {
         "alignmentgroup": "True",
         "bingroup": "x",
         "hovertemplate": "Reference area=United States<br>Place of birth=Foreign-born<br>OBS_VALUE=%{x}<br>count=%{y}<extra></extra>",
         "legendgroup": "United States",
         "marker": {
          "color": "rgb(56, 166, 165)",
          "pattern": {
           "shape": ""
          }
         },
         "name": "United States",
         "nbinsx": 30,
         "offsetgroup": "United States",
         "orientation": "v",
         "showlegend": false,
         "type": "histogram",
         "x": [
          44.86714172
         ],
         "xaxis": "x2",
         "yaxis": "y2"
        }
       ],
       "layout": {
        "annotations": [
         {
          "font": {},
          "showarrow": false,
          "text": "Native-born",
          "x": 0.245,
          "xanchor": "center",
          "xref": "paper",
          "y": 1,
          "yanchor": "bottom",
          "yref": "paper"
         },
         {
          "font": {},
          "showarrow": false,
          "text": "Foreign-born",
          "x": 0.755,
          "xanchor": "center",
          "xref": "paper",
          "y": 1,
          "yanchor": "bottom",
          "yref": "paper"
         }
        ],
        "autosize": false,
        "bargap": 0.02,
        "barmode": "relative",
        "height": 500,
        "legend": {
         "title": {
          "text": "Country"
         },
         "tracegroupgap": 0
        },
        "margin": {
         "t": 60
        },
        "template": {
         "data": {
          "bar": [
           {
            "error_x": {
             "color": "#2a3f5f"
            },
            "error_y": {
             "color": "#2a3f5f"
            },
            "marker": {
             "line": {
              "color": "#E5ECF6",
              "width": 0.5
             },
             "pattern": {
              "fillmode": "overlay",
              "size": 10,
              "solidity": 0.2
             }
            },
            "type": "bar"
           }
          ],
          "barpolar": [
           {
            "marker": {
             "line": {
              "color": "#E5ECF6",
              "width": 0.5
             },
             "pattern": {
              "fillmode": "overlay",
              "size": 10,
              "solidity": 0.2
             }
            },
            "type": "barpolar"
           }
          ],
          "carpet": [
           {
            "aaxis": {
             "endlinecolor": "#2a3f5f",
             "gridcolor": "white",
             "linecolor": "white",
             "minorgridcolor": "white",
             "startlinecolor": "#2a3f5f"
            },
            "baxis": {
             "endlinecolor": "#2a3f5f",
             "gridcolor": "white",
             "linecolor": "white",
             "minorgridcolor": "white",
             "startlinecolor": "#2a3f5f"
            },
            "type": "carpet"
           }
          ],
          "choropleth": [
           {
            "colorbar": {
             "outlinewidth": 0,
             "ticks": ""
            },
            "type": "choropleth"
           }
          ],
          "contour": [
           {
            "colorbar": {
             "outlinewidth": 0,
             "ticks": ""
            },
            "colorscale": [
             [
              0,
              "#0d0887"
             ],
             [
              0.1111111111111111,
              "#46039f"
             ],
             [
              0.2222222222222222,
              "#7201a8"
             ],
             [
              0.3333333333333333,
              "#9c179e"
             ],
             [
              0.4444444444444444,
              "#bd3786"
             ],
             [
              0.5555555555555556,
              "#d8576b"
             ],
             [
              0.6666666666666666,
              "#ed7953"
             ],
             [
              0.7777777777777778,
              "#fb9f3a"
             ],
             [
              0.8888888888888888,
              "#fdca26"
             ],
             [
              1,
              "#f0f921"
             ]
            ],
            "type": "contour"
           }
          ],
          "contourcarpet": [
           {
            "colorbar": {
             "outlinewidth": 0,
             "ticks": ""
            },
            "type": "contourcarpet"
           }
          ],
          "heatmap": [
           {
            "colorbar": {
             "outlinewidth": 0,
             "ticks": ""
            },
            "colorscale": [
             [
              0,
              "#0d0887"
             ],
             [
              0.1111111111111111,
              "#46039f"
             ],
             [
              0.2222222222222222,
              "#7201a8"
             ],
             [
              0.3333333333333333,
              "#9c179e"
             ],
             [
              0.4444444444444444,
              "#bd3786"
             ],
             [
              0.5555555555555556,
              "#d8576b"
             ],
             [
              0.6666666666666666,
              "#ed7953"
             ],
             [
              0.7777777777777778,
              "#fb9f3a"
             ],
             [
              0.8888888888888888,
              "#fdca26"
             ],
             [
              1,
              "#f0f921"
             ]
            ],
            "type": "heatmap"
           }
          ],
          "heatmapgl": [
           {
            "colorbar": {
             "outlinewidth": 0,
             "ticks": ""
            },
            "colorscale": [
             [
              0,
              "#0d0887"
             ],
             [
              0.1111111111111111,
              "#46039f"
             ],
             [
              0.2222222222222222,
              "#7201a8"
             ],
             [
              0.3333333333333333,
              "#9c179e"
             ],
             [
              0.4444444444444444,
              "#bd3786"
             ],
             [
              0.5555555555555556,
              "#d8576b"
             ],
             [
              0.6666666666666666,
              "#ed7953"
             ],
             [
              0.7777777777777778,
              "#fb9f3a"
             ],
             [
              0.8888888888888888,
              "#fdca26"
             ],
             [
              1,
              "#f0f921"
             ]
            ],
            "type": "heatmapgl"
           }
          ],
          "histogram": [
           {
            "marker": {
             "pattern": {
              "fillmode": "overlay",
              "size": 10,
              "solidity": 0.2
             }
            },
            "type": "histogram"
           }
          ],
          "histogram2d": [
           {
            "colorbar": {
             "outlinewidth": 0,
             "ticks": ""
            },
            "colorscale": [
             [
              0,
              "#0d0887"
             ],
             [
              0.1111111111111111,
              "#46039f"
             ],
             [
              0.2222222222222222,
              "#7201a8"
             ],
             [
              0.3333333333333333,
              "#9c179e"
             ],
             [
              0.4444444444444444,
              "#bd3786"
             ],
             [
              0.5555555555555556,
              "#d8576b"
             ],
             [
              0.6666666666666666,
              "#ed7953"
             ],
             [
              0.7777777777777778,
              "#fb9f3a"
             ],
             [
              0.8888888888888888,
              "#fdca26"
             ],
             [
              1,
              "#f0f921"
             ]
            ],
            "type": "histogram2d"
           }
          ],
          "histogram2dcontour": [
           {
            "colorbar": {
             "outlinewidth": 0,
             "ticks": ""
            },
            "colorscale": [
             [
              0,
              "#0d0887"
             ],
             [
              0.1111111111111111,
              "#46039f"
             ],
             [
              0.2222222222222222,
              "#7201a8"
             ],
             [
              0.3333333333333333,
              "#9c179e"
             ],
             [
              0.4444444444444444,
              "#bd3786"
             ],
             [
              0.5555555555555556,
              "#d8576b"
             ],
             [
              0.6666666666666666,
              "#ed7953"
             ],
             [
              0.7777777777777778,
              "#fb9f3a"
             ],
             [
              0.8888888888888888,
              "#fdca26"
             ],
             [
              1,
              "#f0f921"
             ]
            ],
            "type": "histogram2dcontour"
           }
          ],
          "mesh3d": [
           {
            "colorbar": {
             "outlinewidth": 0,
             "ticks": ""
            },
            "type": "mesh3d"
           }
          ],
          "parcoords": [
           {
            "line": {
             "colorbar": {
              "outlinewidth": 0,
              "ticks": ""
             }
            },
            "type": "parcoords"
           }
          ],
          "pie": [
           {
            "automargin": true,
            "type": "pie"
           }
          ],
          "scatter": [
           {
            "fillpattern": {
             "fillmode": "overlay",
             "size": 10,
             "solidity": 0.2
            },
            "type": "scatter"
           }
          ],
          "scatter3d": [
           {
            "line": {
             "colorbar": {
              "outlinewidth": 0,
              "ticks": ""
             }
            },
            "marker": {
             "colorbar": {
              "outlinewidth": 0,
              "ticks": ""
             }
            },
            "type": "scatter3d"
           }
          ],
          "scattercarpet": [
           {
            "marker": {
             "colorbar": {
              "outlinewidth": 0,
              "ticks": ""
             }
            },
            "type": "scattercarpet"
           }
          ],
          "scattergeo": [
           {
            "marker": {
             "colorbar": {
              "outlinewidth": 0,
              "ticks": ""
             }
            },
            "type": "scattergeo"
           }
          ],
          "scattergl": [
           {
            "marker": {
             "colorbar": {
              "outlinewidth": 0,
              "ticks": ""
             }
            },
            "type": "scattergl"
           }
          ],
          "scattermapbox": [
           {
            "marker": {
             "colorbar": {
              "outlinewidth": 0,
              "ticks": ""
             }
            },
            "type": "scattermapbox"
           }
          ],
          "scatterpolar": [
           {
            "marker": {
             "colorbar": {
              "outlinewidth": 0,
              "ticks": ""
             }
            },
            "type": "scatterpolar"
           }
          ],
          "scatterpolargl": [
           {
            "marker": {
             "colorbar": {
              "outlinewidth": 0,
              "ticks": ""
             }
            },
            "type": "scatterpolargl"
           }
          ],
          "scatterternary": [
           {
            "marker": {
             "colorbar": {
              "outlinewidth": 0,
              "ticks": ""
             }
            },
            "type": "scatterternary"
           }
          ],
          "surface": [
           {
            "colorbar": {
             "outlinewidth": 0,
             "ticks": ""
            },
            "colorscale": [
             [
              0,
              "#0d0887"
             ],
             [
              0.1111111111111111,
              "#46039f"
             ],
             [
              0.2222222222222222,
              "#7201a8"
             ],
             [
              0.3333333333333333,
              "#9c179e"
             ],
             [
              0.4444444444444444,
              "#bd3786"
             ],
             [
              0.5555555555555556,
              "#d8576b"
             ],
             [
              0.6666666666666666,
              "#ed7953"
             ],
             [
              0.7777777777777778,
              "#fb9f3a"
             ],
             [
              0.8888888888888888,
              "#fdca26"
             ],
             [
              1,
              "#f0f921"
             ]
            ],
            "type": "surface"
           }
          ],
          "table": [
           {
            "cells": {
             "fill": {
              "color": "#EBF0F8"
             },
             "line": {
              "color": "white"
             }
            },
            "header": {
             "fill": {
              "color": "#C8D4E3"
             },
             "line": {
              "color": "white"
             }
            },
            "type": "table"
           }
          ]
         },
         "layout": {
          "annotationdefaults": {
           "arrowcolor": "#2a3f5f",
           "arrowhead": 0,
           "arrowwidth": 1
          },
          "autotypenumbers": "strict",
          "coloraxis": {
           "colorbar": {
            "outlinewidth": 0,
            "ticks": ""
           }
          },
          "colorscale": {
           "diverging": [
            [
             0,
             "#8e0152"
            ],
            [
             0.1,
             "#c51b7d"
            ],
            [
             0.2,
             "#de77ae"
            ],
            [
             0.3,
             "#f1b6da"
            ],
            [
             0.4,
             "#fde0ef"
            ],
            [
             0.5,
             "#f7f7f7"
            ],
            [
             0.6,
             "#e6f5d0"
            ],
            [
             0.7,
             "#b8e186"
            ],
            [
             0.8,
             "#7fbc41"
            ],
            [
             0.9,
             "#4d9221"
            ],
            [
             1,
             "#276419"
            ]
           ],
           "sequential": [
            [
             0,
             "#0d0887"
            ],
            [
             0.1111111111111111,
             "#46039f"
            ],
            [
             0.2222222222222222,
             "#7201a8"
            ],
            [
             0.3333333333333333,
             "#9c179e"
            ],
            [
             0.4444444444444444,
             "#bd3786"
            ],
            [
             0.5555555555555556,
             "#d8576b"
            ],
            [
             0.6666666666666666,
             "#ed7953"
            ],
            [
             0.7777777777777778,
             "#fb9f3a"
            ],
            [
             0.8888888888888888,
             "#fdca26"
            ],
            [
             1,
             "#f0f921"
            ]
           ],
           "sequentialminus": [
            [
             0,
             "#0d0887"
            ],
            [
             0.1111111111111111,
             "#46039f"
            ],
            [
             0.2222222222222222,
             "#7201a8"
            ],
            [
             0.3333333333333333,
             "#9c179e"
            ],
            [
             0.4444444444444444,
             "#bd3786"
            ],
            [
             0.5555555555555556,
             "#d8576b"
            ],
            [
             0.6666666666666666,
             "#ed7953"
            ],
            [
             0.7777777777777778,
             "#fb9f3a"
            ],
            [
             0.8888888888888888,
             "#fdca26"
            ],
            [
             1,
             "#f0f921"
            ]
           ]
          },
          "colorway": [
           "#636efa",
           "#EF553B",
           "#00cc96",
           "#ab63fa",
           "#FFA15A",
           "#19d3f3",
           "#FF6692",
           "#B6E880",
           "#FF97FF",
           "#FECB52"
          ],
          "font": {
           "color": "#2a3f5f"
          },
          "geo": {
           "bgcolor": "white",
           "lakecolor": "white",
           "landcolor": "#E5ECF6",
           "showlakes": true,
           "showland": true,
           "subunitcolor": "white"
          },
          "hoverlabel": {
           "align": "left"
          },
          "hovermode": "closest",
          "mapbox": {
           "style": "light"
          },
          "paper_bgcolor": "white",
          "plot_bgcolor": "#E5ECF6",
          "polar": {
           "angularaxis": {
            "gridcolor": "white",
            "linecolor": "white",
            "ticks": ""
           },
           "bgcolor": "#E5ECF6",
           "radialaxis": {
            "gridcolor": "white",
            "linecolor": "white",
            "ticks": ""
           }
          },
          "scene": {
           "xaxis": {
            "backgroundcolor": "#E5ECF6",
            "gridcolor": "white",
            "gridwidth": 2,
            "linecolor": "white",
            "showbackground": true,
            "ticks": "",
            "zerolinecolor": "white"
           },
           "yaxis": {
            "backgroundcolor": "#E5ECF6",
            "gridcolor": "white",
            "gridwidth": 2,
            "linecolor": "white",
            "showbackground": true,
            "ticks": "",
            "zerolinecolor": "white"
           },
           "zaxis": {
            "backgroundcolor": "#E5ECF6",
            "gridcolor": "white",
            "gridwidth": 2,
            "linecolor": "white",
            "showbackground": true,
            "ticks": "",
            "zerolinecolor": "white"
           }
          },
          "shapedefaults": {
           "line": {
            "color": "#2a3f5f"
           }
          },
          "ternary": {
           "aaxis": {
            "gridcolor": "white",
            "linecolor": "white",
            "ticks": ""
           },
           "baxis": {
            "gridcolor": "white",
            "linecolor": "white",
            "ticks": ""
           },
           "bgcolor": "#E5ECF6",
           "caxis": {
            "gridcolor": "white",
            "linecolor": "white",
            "ticks": ""
           }
          },
          "title": {
           "x": 0.05
          },
          "xaxis": {
           "automargin": true,
           "gridcolor": "white",
           "linecolor": "white",
           "ticks": "",
           "title": {
            "standoff": 15
           },
           "zerolinecolor": "white",
           "zerolinewidth": 2
          },
          "yaxis": {
           "automargin": true,
           "gridcolor": "white",
           "linecolor": "white",
           "ticks": "",
           "title": {
            "standoff": 15
           },
           "zerolinecolor": "white",
           "zerolinewidth": 2
          }
         }
        },
        "title": {
         "text": "Percent of Population ages 24-60 w/ a Tertiary education",
         "x": 0.5
        },
        "width": 1200,
        "xaxis": {
         "anchor": "y",
         "autorange": true,
         "domain": [
          0,
          0.49
         ],
         "range": [
          12,
          74
         ],
         "title": {
          "text": "Observation Percentage"
         },
         "type": "linear"
        },
        "xaxis2": {
         "anchor": "y2",
         "autorange": true,
         "domain": [
          0.51,
          1
         ],
         "matches": "x",
         "range": [
          12,
          74
         ],
         "title": {
          "text": "Observation Percentage"
         },
         "type": "linear"
        },
        "yaxis": {
         "anchor": "x",
         "autorange": true,
         "domain": [
          0,
          1
         ],
         "range": [
          0,
          7.368421052631579
         ],
         "title": {
          "text": "Frequency"
         }
        },
        "yaxis2": {
         "anchor": "x2",
         "autorange": true,
         "domain": [
          0,
          1
         ],
         "matches": "y",
         "range": [
          0,
          7.368421052631579
         ],
         "showticklabels": false
        }
       }
      },
      "image/png": "[encoded data removed]",
      "text/html": [
       "<div>                            <div id=\"ad527be6-44e9-4dd2-b9a6-2599b0229593\" class=\"plotly-graph-div\" style=\"height:500px; width:1200px;\"></div>            <script type=\"text/javascript\">                require([\"plotly\"], function(Plotly) {                    window.PLOTLYENV=window.PLOTLYENV || {};                                    if (document.getElementById(\"ad527be6-44e9-4dd2-b9a6-2599b0229593\")) {                    Plotly.newPlot(                        \"ad527be6-44e9-4dd2-b9a6-2599b0229593\",                        [{\"alignmentgroup\":\"True\",\"bingroup\":\"x\",\"hovertemplate\":\"Reference area=Australia\\u003cbr\\u003ePlace of birth=Native-born\\u003cbr\\u003eOBS_VALUE=%{x}\\u003cbr\\u003ecount=%{y}\\u003cextra\\u003e\\u003c\\u002fextra\\u003e\",\"legendgroup\":\"Australia\",\"marker\":{\"color\":\"rgb(95, 70, 144)\",\"pattern\":{\"shape\":\"\"}},\"name\":\"Australia\",\"nbinsx\":30,\"offsetgroup\":\"Australia\",\"orientation\":\"v\",\"showlegend\":true,\"x\":[45.79047394],\"xaxis\":\"x\",\"yaxis\":\"y\",\"type\":\"histogram\"},{\"alignmentgroup\":\"True\",\"bingroup\":\"x\",\"hovertemplate\":\"Reference area=Australia\\u003cbr\\u003ePlace of birth=Foreign-born\\u003cbr\\u003eOBS_VALUE=%{x}\\u003cbr\\u003ecount=%{y}\\u003cextra\\u003e\\u003c\\u002fextra\\u003e\",\"legendgroup\":\"Australia\",\"marker\":{\"color\":\"rgb(95, 70, 144)\",\"pattern\":{\"shape\":\"\"}},\"name\":\"Australia\",\"nbinsx\":30,\"offsetgroup\":\"Australia\",\"orientation\":\"v\",\"showlegend\":false,\"x\":[67.19649506],\"xaxis\":\"x2\",\"yaxis\":\"y2\",\"type\":\"histogram\"},{\"alignmentgroup\":\"True\",\"bingroup\":\"x\",\"hovertemplate\":\"Reference area=Austria\\u003cbr\\u003ePlace of birth=Native-born\\u003cbr\\u003eOBS_VALUE=%{x}\\u003cbr\\u003ecount=%{y}\\u003cextra\\u003e\\u003c\\u002fextra\\u003e\",\"legendgroup\":\"Austria\",\"marker\":{\"color\":\"rgb(29, 105, 150)\",\"pattern\":{\"shape\":\"\"}},\"name\":\"Austria\",\"nbinsx\":30,\"offsetgroup\":\"Austria\",\"orientation\":\"v\",\"showlegend\":true,\"x\":[36.77476501],\"xaxis\":\"x\",\"yaxis\":\"y\",\"type\":\"histogram\"},{\"alignmentgroup\":\"True\",\"bingroup\":\"x\",\"hovertemplate\":\"Reference area=Austria\\u003cbr\\u003ePlace of birth=Foreign-born\\u003cbr\\u003eOBS_VALUE=%{x}\\u003cbr\\u003ecount=%{y}\\u003cextra\\u003e\\u003c\\u002fextra\\u003e\",\"legendgroup\":\"Austria\",\"marker\":{\"color\":\"rgb(29, 105, 150)\",\"pattern\":{\"shape\":\"\"}},\"name\":\"Austria\",\"nbinsx\":30,\"offsetgroup\":\"Austria\",\"orientation\":\"v\",\"showlegend\":false,\"x\":[36.2142868],\"xaxis\":\"x2\",\"yaxis\":\"y2\",\"type\":\"histogram\"},{\"alignmentgroup\":\"True\",\"bingroup\":\"x\",\"hovertemplate\":\"Reference area=Belgium\\u003cbr\\u003ePlace of birth=Native-born\\u003cbr\\u003eOBS_VALUE=%{x}\\u003cbr\\u003ecount=%{y}\\u003cextra\\u003e\\u003c\\u002fextra\\u003e\",\"legendgroup\":\"Belgium\",\"marker\":{\"color\":\"rgb(56, 166, 165)\",\"pattern\":{\"shape\":\"\"}},\"name\":\"Belgium\",\"nbinsx\":30,\"offsetgroup\":\"Belgium\",\"orientation\":\"v\",\"showlegend\":true,\"x\":[46.47327042],\"xaxis\":\"x\",\"yaxis\":\"y\",\"type\":\"histogram\"},{\"alignmentgroup\":\"True\",\"bingroup\":\"x\",\"hovertemplate\":\"Reference area=Belgium\\u003cbr\\u003ePlace of birth=Foreign-born\\u003cbr\\u003eOBS_VALUE=%{x}\\u003cbr\\u003ecount=%{y}\\u003cextra\\u003e\\u003c\\u002fextra\\u003e\",\"legendgroup\":\"Belgium\",\"marker\":{\"color\":\"rgb(56, 166, 165)\",\"pattern\":{\"shape\":\"\"}},\"name\":\"Belgium\",\"nbinsx\":30,\"offsetgroup\":\"Belgium\",\"orientation\":\"v\",\"showlegend\":false,\"x\":[39.37535477],\"xaxis\":\"x2\",\"yaxis\":\"y2\",\"type\":\"histogram\"},{\"alignmentgroup\":\"True\",\"bingroup\":\"x\",\"hovertemplate\":\"Reference area=Bulgaria\\u003cbr\\u003ePlace of birth=Native-born\\u003cbr\\u003eOBS_VALUE=%{x}\\u003cbr\\u003ecount=%{y}\\u003cextra\\u003e\\u003c\\u002fextra\\u003e\",\"legendgroup\":\"Bulgaria\",\"marker\":{\"color\":\"rgb(15, 133, 84)\",\"pattern\":{\"shape\":\"\"}},\"name\":\"Bulgaria\",\"nbinsx\":30,\"offsetgroup\":\"Bulgaria\",\"orientation\":\"v\",\"showlegend\":true,\"x\":[30.37030792],\"xaxis\":\"x\",\"yaxis\":\"y\",\"type\":\"histogram\"},{\"alignmentgroup\":\"True\",\"bingroup\":\"x\",\"hovertemplate\":\"Reference area=Bulgaria\\u003cbr\\u003ePlace of birth=Foreign-born\\u003cbr\\u003eOBS_VALUE=%{x}\\u003cbr\\u003ecount=%{y}\\u003cextra\\u003e\\u003c\\u002fextra\\u003e\",\"legendgroup\":\"Bulgaria\",\"marker\":{\"color\":\"rgb(15, 133, 84)\",\"pattern\":{\"shape\":\"\"}},\"name\":\"Bulgaria\",\"nbinsx\":30,\"offsetgroup\":\"Bulgaria\",\"orientation\":\"v\",\"showlegend\":false,\"x\":[57.54243469],\"xaxis\":\"x2\",\"yaxis\":\"y2\",\"type\":\"histogram\"},{\"alignmentgroup\":\"True\",\"bingroup\":\"x\",\"hovertemplate\":\"Reference area=Canada\\u003cbr\\u003ePlace of birth=Native-born\\u003cbr\\u003eOBS_VALUE=%{x}\\u003cbr\\u003ecount=%{y}\\u003cextra\\u003e\\u003c\\u002fextra\\u003e\",\"legendgroup\":\"Canada\",\"marker\":{\"color\":\"rgb(115, 175, 72)\",\"pattern\":{\"shape\":\"\"}},\"name\":\"Canada\",\"nbinsx\":30,\"offsetgroup\":\"Canada\",\"orientation\":\"v\",\"showlegend\":true,\"x\":[58.50442886],\"xaxis\":\"x\",\"yaxis\":\"y\",\"type\":\"histogram\"},{\"alignmentgroup\":\"True\",\"bingroup\":\"x\",\"hovertemplate\":\"Reference area=Canada\\u003cbr\\u003ePlace of birth=Foreign-born\\u003cbr\\u003eOBS_VALUE=%{x}\\u003cbr\\u003ecount=%{y}\\u003cextra\\u003e\\u003c\\u002fextra\\u003e\",\"legendgroup\":\"Canada\",\"marker\":{\"color\":\"rgb(115, 175, 72)\",\"pattern\":{\"shape\":\"\"}},\"name\":\"Canada\",\"nbinsx\":30,\"offsetgroup\":\"Canada\",\"orientation\":\"v\",\"showlegend\":false,\"x\":[73.27856445],\"xaxis\":\"x2\",\"yaxis\":\"y2\",\"type\":\"histogram\"},{\"alignmentgroup\":\"True\",\"bingroup\":\"x\",\"hovertemplate\":\"Reference area=Chile\\u003cbr\\u003ePlace of birth=Native-born\\u003cbr\\u003eOBS_VALUE=%{x}\\u003cbr\\u003ecount=%{y}\\u003cextra\\u003e\\u003c\\u002fextra\\u003e\",\"legendgroup\":\"Chile\",\"marker\":{\"color\":\"rgb(237, 173, 8)\",\"pattern\":{\"shape\":\"\"}},\"name\":\"Chile\",\"nbinsx\":30,\"offsetgroup\":\"Chile\",\"orientation\":\"v\",\"showlegend\":true,\"x\":[32.17416382],\"xaxis\":\"x\",\"yaxis\":\"y\",\"type\":\"histogram\"},{\"alignmentgroup\":\"True\",\"bingroup\":\"x\",\"hovertemplate\":\"Reference area=Chile\\u003cbr\\u003ePlace of birth=Foreign-born\\u003cbr\\u003eOBS_VALUE=%{x}\\u003cbr\\u003ecount=%{y}\\u003cextra\\u003e\\u003c\\u002fextra\\u003e\",\"legendgroup\":\"Chile\",\"marker\":{\"color\":\"rgb(237, 173, 8)\",\"pattern\":{\"shape\":\"\"}},\"name\":\"Chile\",\"nbinsx\":30,\"offsetgroup\":\"Chile\",\"orientation\":\"v\",\"showlegend\":false,\"x\":[38.92288208],\"xaxis\":\"x2\",\"yaxis\":\"y2\",\"type\":\"histogram\"},{\"alignmentgroup\":\"True\",\"bingroup\":\"x\",\"hovertemplate\":\"Reference area=Colombia\\u003cbr\\u003ePlace of birth=Native-born\\u003cbr\\u003eOBS_VALUE=%{x}\\u003cbr\\u003ecount=%{y}\\u003cextra\\u003e\\u003c\\u002fextra\\u003e\",\"legendgroup\":\"Colombia\",\"marker\":{\"color\":\"rgb(225, 124, 5)\",\"pattern\":{\"shape\":\"\"}},\"name\":\"Colombia\",\"nbinsx\":30,\"offsetgroup\":\"Colombia\",\"orientation\":\"v\",\"showlegend\":true,\"x\":[29.16225624],\"xaxis\":\"x\",\"yaxis\":\"y\",\"type\":\"histogram\"},{\"alignmentgroup\":\"True\",\"bingroup\":\"x\",\"hovertemplate\":\"Reference area=Colombia\\u003cbr\\u003ePlace of birth=Foreign-born\\u003cbr\\u003eOBS_VALUE=%{x}\\u003cbr\\u003ecount=%{y}\\u003cextra\\u003e\\u003c\\u002fextra\\u003e\",\"legendgroup\":\"Colombia\",\"marker\":{\"color\":\"rgb(225, 124, 5)\",\"pattern\":{\"shape\":\"\"}},\"name\":\"Colombia\",\"nbinsx\":30,\"offsetgroup\":\"Colombia\",\"orientation\":\"v\",\"showlegend\":false,\"x\":[24.20047569],\"xaxis\":\"x2\",\"yaxis\":\"y2\",\"type\":\"histogram\"},{\"alignmentgroup\":\"True\",\"bingroup\":\"x\",\"hovertemplate\":\"Reference area=Costa Rica\\u003cbr\\u003ePlace of birth=Native-born\\u003cbr\\u003eOBS_VALUE=%{x}\\u003cbr\\u003ecount=%{y}\\u003cextra\\u003e\\u003c\\u002fextra\\u003e\",\"legendgroup\":\"Costa Rica\",\"marker\":{\"color\":\"rgb(204, 80, 62)\",\"pattern\":{\"shape\":\"\"}},\"name\":\"Costa Rica\",\"nbinsx\":30,\"offsetgroup\":\"Costa Rica\",\"orientation\":\"v\",\"showlegend\":true,\"x\":[26.76126862],\"xaxis\":\"x\",\"yaxis\":\"y\",\"type\":\"histogram\"},{\"alignmentgroup\":\"True\",\"bingroup\":\"x\",\"hovertemplate\":\"Reference area=Costa Rica\\u003cbr\\u003ePlace of birth=Foreign-born\\u003cbr\\u003eOBS_VALUE=%{x}\\u003cbr\\u003ecount=%{y}\\u003cextra\\u003e\\u003c\\u002fextra\\u003e\",\"legendgroup\":\"Costa Rica\",\"marker\":{\"color\":\"rgb(204, 80, 62)\",\"pattern\":{\"shape\":\"\"}},\"name\":\"Costa Rica\",\"nbinsx\":30,\"offsetgroup\":\"Costa Rica\",\"orientation\":\"v\",\"showlegend\":false,\"x\":[13.39484596],\"xaxis\":\"x2\",\"yaxis\":\"y2\",\"type\":\"histogram\"},{\"alignmentgroup\":\"True\",\"bingroup\":\"x\",\"hovertemplate\":\"Reference area=Czechia\\u003cbr\\u003ePlace of birth=Native-born\\u003cbr\\u003eOBS_VALUE=%{x}\\u003cbr\\u003ecount=%{y}\\u003cextra\\u003e\\u003c\\u002fextra\\u003e\",\"legendgroup\":\"Czechia\",\"marker\":{\"color\":\"rgb(148, 52, 110)\",\"pattern\":{\"shape\":\"\"}},\"name\":\"Czechia\",\"nbinsx\":30,\"offsetgroup\":\"Czechia\",\"orientation\":\"v\",\"showlegend\":true,\"x\":[26.26926231],\"xaxis\":\"x\",\"yaxis\":\"y\",\"type\":\"histogram\"},{\"alignmentgroup\":\"True\",\"bingroup\":\"x\",\"hovertemplate\":\"Reference area=Czechia\\u003cbr\\u003ePlace of birth=Foreign-born\\u003cbr\\u003eOBS_VALUE=%{x}\\u003cbr\\u003ecount=%{y}\\u003cextra\\u003e\\u003c\\u002fextra\\u003e\",\"legendgroup\":\"Czechia\",\"marker\":{\"color\":\"rgb(148, 52, 110)\",\"pattern\":{\"shape\":\"\"}},\"name\":\"Czechia\",\"nbinsx\":30,\"offsetgroup\":\"Czechia\",\"orientation\":\"v\",\"showlegend\":false,\"x\":[35.52707672],\"xaxis\":\"x2\",\"yaxis\":\"y2\",\"type\":\"histogram\"},{\"alignmentgroup\":\"True\",\"bingroup\":\"x\",\"hovertemplate\":\"Reference area=Estonia\\u003cbr\\u003ePlace of birth=Native-born\\u003cbr\\u003eOBS_VALUE=%{x}\\u003cbr\\u003ecount=%{y}\\u003cextra\\u003e\\u003c\\u002fextra\\u003e\",\"legendgroup\":\"Estonia\",\"marker\":{\"color\":\"rgb(111, 64, 112)\",\"pattern\":{\"shape\":\"\"}},\"name\":\"Estonia\",\"nbinsx\":30,\"offsetgroup\":\"Estonia\",\"orientation\":\"v\",\"showlegend\":true,\"x\":[39.82363892],\"xaxis\":\"x\",\"yaxis\":\"y\",\"type\":\"histogram\"},{\"alignmentgroup\":\"True\",\"bingroup\":\"x\",\"hovertemplate\":\"Reference area=Estonia\\u003cbr\\u003ePlace of birth=Foreign-born\\u003cbr\\u003eOBS_VALUE=%{x}\\u003cbr\\u003ecount=%{y}\\u003cextra\\u003e\\u003c\\u002fextra\\u003e\",\"legendgroup\":\"Estonia\",\"marker\":{\"color\":\"rgb(111, 64, 112)\",\"pattern\":{\"shape\":\"\"}},\"name\":\"Estonia\",\"nbinsx\":30,\"offsetgroup\":\"Estonia\",\"orientation\":\"v\",\"showlegend\":false,\"x\":[53.45915222],\"xaxis\":\"x2\",\"yaxis\":\"y2\",\"type\":\"histogram\"},{\"alignmentgroup\":\"True\",\"bingroup\":\"x\",\"hovertemplate\":\"Reference area=European Union (25 countries)\\u003cbr\\u003ePlace of birth=Native-born\\u003cbr\\u003eOBS_VALUE=%{x}\\u003cbr\\u003ecount=%{y}\\u003cextra\\u003e\\u003c\\u002fextra\\u003e\",\"legendgroup\":\"European Union (25 countries)\",\"marker\":{\"color\":\"rgb(102, 102, 102)\",\"pattern\":{\"shape\":\"\"}},\"name\":\"European Union (25 countries)\",\"nbinsx\":30,\"offsetgroup\":\"European Union (25 countries)\",\"orientation\":\"v\",\"showlegend\":true,\"x\":[36.2324741],\"xaxis\":\"x\",\"yaxis\":\"y\",\"type\":\"histogram\"},{\"alignmentgroup\":\"True\",\"bingroup\":\"x\",\"hovertemplate\":\"Reference area=European Union (25 countries)\\u003cbr\\u003ePlace of birth=Foreign-born\\u003cbr\\u003eOBS_VALUE=%{x}\\u003cbr\\u003ecount=%{y}\\u003cextra\\u003e\\u003c\\u002fextra\\u003e\",\"legendgroup\":\"European Union (25 countries)\",\"marker\":{\"color\":\"rgb(102, 102, 102)\",\"pattern\":{\"shape\":\"\"}},\"name\":\"European Union (25 countries)\",\"nbinsx\":30,\"offsetgroup\":\"European Union (25 countries)\",\"orientation\":\"v\",\"showlegend\":false,\"x\":[38.54382697],\"xaxis\":\"x2\",\"yaxis\":\"y2\",\"type\":\"histogram\"},{\"alignmentgroup\":\"True\",\"bingroup\":\"x\",\"hovertemplate\":\"Reference area=France\\u003cbr\\u003ePlace of birth=Native-born\\u003cbr\\u003eOBS_VALUE=%{x}\\u003cbr\\u003ecount=%{y}\\u003cextra\\u003e\\u003c\\u002fextra\\u003e\",\"legendgroup\":\"France\",\"marker\":{\"color\":\"rgb(95, 70, 144)\",\"pattern\":{\"shape\":\"\"}},\"name\":\"France\",\"nbinsx\":30,\"offsetgroup\":\"France\",\"orientation\":\"v\",\"showlegend\":true,\"x\":[43.2166748],\"xaxis\":\"x\",\"yaxis\":\"y\",\"type\":\"histogram\"},{\"alignmentgroup\":\"True\",\"bingroup\":\"x\",\"hovertemplate\":\"Reference area=France\\u003cbr\\u003ePlace of birth=Foreign-born\\u003cbr\\u003eOBS_VALUE=%{x}\\u003cbr\\u003ecount=%{y}\\u003cextra\\u003e\\u003c\\u002fextra\\u003e\",\"legendgroup\":\"France\",\"marker\":{\"color\":\"rgb(95, 70, 144)\",\"pattern\":{\"shape\":\"\"}},\"name\":\"France\",\"nbinsx\":30,\"offsetgroup\":\"France\",\"orientation\":\"v\",\"showlegend\":false,\"x\":[38.22355652],\"xaxis\":\"x2\",\"yaxis\":\"y2\",\"type\":\"histogram\"},{\"alignmentgroup\":\"True\",\"bingroup\":\"x\",\"hovertemplate\":\"Reference area=G20\\u003cbr\\u003ePlace of birth=Native-born\\u003cbr\\u003eOBS_VALUE=%{x}\\u003cbr\\u003ecount=%{y}\\u003cextra\\u003e\\u003c\\u002fextra\\u003e\",\"legendgroup\":\"G20\",\"marker\":{\"color\":\"rgb(29, 105, 150)\",\"pattern\":{\"shape\":\"\"}},\"name\":\"G20\",\"nbinsx\":30,\"offsetgroup\":\"G20\",\"orientation\":\"v\",\"showlegend\":true,\"x\":[null],\"xaxis\":\"x\",\"yaxis\":\"y\",\"type\":\"histogram\"},{\"alignmentgroup\":\"True\",\"bingroup\":\"x\",\"hovertemplate\":\"Reference area=G20\\u003cbr\\u003ePlace of birth=Foreign-born\\u003cbr\\u003eOBS_VALUE=%{x}\\u003cbr\\u003ecount=%{y}\\u003cextra\\u003e\\u003c\\u002fextra\\u003e\",\"legendgroup\":\"G20\",\"marker\":{\"color\":\"rgb(29, 105, 150)\",\"pattern\":{\"shape\":\"\"}},\"name\":\"G20\",\"nbinsx\":30,\"offsetgroup\":\"G20\",\"orientation\":\"v\",\"showlegend\":false,\"x\":[null],\"xaxis\":\"x2\",\"yaxis\":\"y2\",\"type\":\"histogram\"},{\"alignmentgroup\":\"True\",\"bingroup\":\"x\",\"hovertemplate\":\"Reference area=Germany\\u003cbr\\u003ePlace of birth=Native-born\\u003cbr\\u003eOBS_VALUE=%{x}\\u003cbr\\u003ecount=%{y}\\u003cextra\\u003e\\u003c\\u002fextra\\u003e\",\"legendgroup\":\"Germany\",\"marker\":{\"color\":\"rgb(56, 166, 165)\",\"pattern\":{\"shape\":\"\"}},\"name\":\"Germany\",\"nbinsx\":30,\"offsetgroup\":\"Germany\",\"orientation\":\"v\",\"showlegend\":true,\"x\":[34.76521301],\"xaxis\":\"x\",\"yaxis\":\"y\",\"type\":\"histogram\"},{\"alignmentgroup\":\"True\",\"bingroup\":\"x\",\"hovertemplate\":\"Reference area=Germany\\u003cbr\\u003ePlace of birth=Foreign-born\\u003cbr\\u003eOBS_VALUE=%{x}\\u003cbr\\u003ecount=%{y}\\u003cextra\\u003e\\u003c\\u002fextra\\u003e\",\"legendgroup\":\"Germany\",\"marker\":{\"color\":\"rgb(56, 166, 165)\",\"pattern\":{\"shape\":\"\"}},\"name\":\"Germany\",\"nbinsx\":30,\"offsetgroup\":\"Germany\",\"orientation\":\"v\",\"showlegend\":false,\"x\":[29.33109093],\"xaxis\":\"x2\",\"yaxis\":\"y2\",\"type\":\"histogram\"},{\"alignmentgroup\":\"True\",\"bingroup\":\"x\",\"hovertemplate\":\"Reference area=Greece\\u003cbr\\u003ePlace of birth=Native-born\\u003cbr\\u003eOBS_VALUE=%{x}\\u003cbr\\u003ecount=%{y}\\u003cextra\\u003e\\u003c\\u002fextra\\u003e\",\"legendgroup\":\"Greece\",\"marker\":{\"color\":\"rgb(15, 133, 84)\",\"pattern\":{\"shape\":\"\"}},\"name\":\"Greece\",\"nbinsx\":30,\"offsetgroup\":\"Greece\",\"orientation\":\"v\",\"showlegend\":true,\"x\":[35.84442902],\"xaxis\":\"x\",\"yaxis\":\"y\",\"type\":\"histogram\"},{\"alignmentgroup\":\"True\",\"bingroup\":\"x\",\"hovertemplate\":\"Reference area=Greece\\u003cbr\\u003ePlace of birth=Foreign-born\\u003cbr\\u003eOBS_VALUE=%{x}\\u003cbr\\u003ecount=%{y}\\u003cextra\\u003e\\u003c\\u002fextra\\u003e\",\"legendgroup\":\"Greece\",\"marker\":{\"color\":\"rgb(15, 133, 84)\",\"pattern\":{\"shape\":\"\"}},\"name\":\"Greece\",\"nbinsx\":30,\"offsetgroup\":\"Greece\",\"orientation\":\"v\",\"showlegend\":false,\"x\":[18.86882019],\"xaxis\":\"x2\",\"yaxis\":\"y2\",\"type\":\"histogram\"},{\"alignmentgroup\":\"True\",\"bingroup\":\"x\",\"hovertemplate\":\"Reference area=Hungary\\u003cbr\\u003ePlace of birth=Native-born\\u003cbr\\u003eOBS_VALUE=%{x}\\u003cbr\\u003ecount=%{y}\\u003cextra\\u003e\\u003c\\u002fextra\\u003e\",\"legendgroup\":\"Hungary\",\"marker\":{\"color\":\"rgb(115, 175, 72)\",\"pattern\":{\"shape\":\"\"}},\"name\":\"Hungary\",\"nbinsx\":30,\"offsetgroup\":\"Hungary\",\"orientation\":\"v\",\"showlegend\":true,\"x\":[29.46634674],\"xaxis\":\"x\",\"yaxis\":\"y\",\"type\":\"histogram\"},{\"alignmentgroup\":\"True\",\"bingroup\":\"x\",\"hovertemplate\":\"Reference area=Hungary\\u003cbr\\u003ePlace of birth=Foreign-born\\u003cbr\\u003eOBS_VALUE=%{x}\\u003cbr\\u003ecount=%{y}\\u003cextra\\u003e\\u003c\\u002fextra\\u003e\",\"legendgroup\":\"Hungary\",\"marker\":{\"color\":\"rgb(115, 175, 72)\",\"pattern\":{\"shape\":\"\"}},\"name\":\"Hungary\",\"nbinsx\":30,\"offsetgroup\":\"Hungary\",\"orientation\":\"v\",\"showlegend\":false,\"x\":[39.60985184],\"xaxis\":\"x2\",\"yaxis\":\"y2\",\"type\":\"histogram\"},{\"alignmentgroup\":\"True\",\"bingroup\":\"x\",\"hovertemplate\":\"Reference area=Israel\\u003cbr\\u003ePlace of birth=Native-born\\u003cbr\\u003eOBS_VALUE=%{x}\\u003cbr\\u003ecount=%{y}\\u003cextra\\u003e\\u003c\\u002fextra\\u003e\",\"legendgroup\":\"Israel\",\"marker\":{\"color\":\"rgb(237, 173, 8)\",\"pattern\":{\"shape\":\"\"}},\"name\":\"Israel\",\"nbinsx\":30,\"offsetgroup\":\"Israel\",\"orientation\":\"v\",\"showlegend\":true,\"x\":[51.5278511],\"xaxis\":\"x\",\"yaxis\":\"y\",\"type\":\"histogram\"},{\"alignmentgroup\":\"True\",\"bingroup\":\"x\",\"hovertemplate\":\"Reference area=Israel\\u003cbr\\u003ePlace of birth=Foreign-born\\u003cbr\\u003eOBS_VALUE=%{x}\\u003cbr\\u003ecount=%{y}\\u003cextra\\u003e\\u003c\\u002fextra\\u003e\",\"legendgroup\":\"Israel\",\"marker\":{\"color\":\"rgb(237, 173, 8)\",\"pattern\":{\"shape\":\"\"}},\"name\":\"Israel\",\"nbinsx\":30,\"offsetgroup\":\"Israel\",\"orientation\":\"v\",\"showlegend\":false,\"x\":[58.67267227],\"xaxis\":\"x2\",\"yaxis\":\"y2\",\"type\":\"histogram\"},{\"alignmentgroup\":\"True\",\"bingroup\":\"x\",\"hovertemplate\":\"Reference area=Italy\\u003cbr\\u003ePlace of birth=Native-born\\u003cbr\\u003eOBS_VALUE=%{x}\\u003cbr\\u003ecount=%{y}\\u003cextra\\u003e\\u003c\\u002fextra\\u003e\",\"legendgroup\":\"Italy\",\"marker\":{\"color\":\"rgb(225, 124, 5)\",\"pattern\":{\"shape\":\"\"}},\"name\":\"Italy\",\"nbinsx\":30,\"offsetgroup\":\"Italy\",\"orientation\":\"v\",\"showlegend\":true,\"x\":[22.96188164],\"xaxis\":\"x\",\"yaxis\":\"y\",\"type\":\"histogram\"},{\"alignmentgroup\":\"True\",\"bingroup\":\"x\",\"hovertemplate\":\"Reference area=Italy\\u003cbr\\u003ePlace of birth=Foreign-born\\u003cbr\\u003eOBS_VALUE=%{x}\\u003cbr\\u003ecount=%{y}\\u003cextra\\u003e\\u003c\\u002fextra\\u003e\",\"legendgroup\":\"Italy\",\"marker\":{\"color\":\"rgb(225, 124, 5)\",\"pattern\":{\"shape\":\"\"}},\"name\":\"Italy\",\"nbinsx\":30,\"offsetgroup\":\"Italy\",\"orientation\":\"v\",\"showlegend\":false,\"x\":[13.9394331],\"xaxis\":\"x2\",\"yaxis\":\"y2\",\"type\":\"histogram\"},{\"alignmentgroup\":\"True\",\"bingroup\":\"x\",\"hovertemplate\":\"Reference area=Latvia\\u003cbr\\u003ePlace of birth=Native-born\\u003cbr\\u003eOBS_VALUE=%{x}\\u003cbr\\u003ecount=%{y}\\u003cextra\\u003e\\u003c\\u002fextra\\u003e\",\"legendgroup\":\"Latvia\",\"marker\":{\"color\":\"rgb(204, 80, 62)\",\"pattern\":{\"shape\":\"\"}},\"name\":\"Latvia\",\"nbinsx\":30,\"offsetgroup\":\"Latvia\",\"orientation\":\"v\",\"showlegend\":true,\"x\":[38.70244598],\"xaxis\":\"x\",\"yaxis\":\"y\",\"type\":\"histogram\"},{\"alignmentgroup\":\"True\",\"bingroup\":\"x\",\"hovertemplate\":\"Reference area=Latvia\\u003cbr\\u003ePlace of birth=Foreign-born\\u003cbr\\u003eOBS_VALUE=%{x}\\u003cbr\\u003ecount=%{y}\\u003cextra\\u003e\\u003c\\u002fextra\\u003e\",\"legendgroup\":\"Latvia\",\"marker\":{\"color\":\"rgb(204, 80, 62)\",\"pattern\":{\"shape\":\"\"}},\"name\":\"Latvia\",\"nbinsx\":30,\"offsetgroup\":\"Latvia\",\"orientation\":\"v\",\"showlegend\":false,\"x\":[43.5748024],\"xaxis\":\"x2\",\"yaxis\":\"y2\",\"type\":\"histogram\"},{\"alignmentgroup\":\"True\",\"bingroup\":\"x\",\"hovertemplate\":\"Reference area=Lithuania\\u003cbr\\u003ePlace of birth=Native-born\\u003cbr\\u003eOBS_VALUE=%{x}\\u003cbr\\u003ecount=%{y}\\u003cextra\\u003e\\u003c\\u002fextra\\u003e\",\"legendgroup\":\"Lithuania\",\"marker\":{\"color\":\"rgb(148, 52, 110)\",\"pattern\":{\"shape\":\"\"}},\"name\":\"Lithuania\",\"nbinsx\":30,\"offsetgroup\":\"Lithuania\",\"orientation\":\"v\",\"showlegend\":true,\"x\":[46.37329102],\"xaxis\":\"x\",\"yaxis\":\"y\",\"type\":\"histogram\"},{\"alignmentgroup\":\"True\",\"bingroup\":\"x\",\"hovertemplate\":\"Reference area=Lithuania\\u003cbr\\u003ePlace of birth=Foreign-born\\u003cbr\\u003eOBS_VALUE=%{x}\\u003cbr\\u003ecount=%{y}\\u003cextra\\u003e\\u003c\\u002fextra\\u003e\",\"legendgroup\":\"Lithuania\",\"marker\":{\"color\":\"rgb(148, 52, 110)\",\"pattern\":{\"shape\":\"\"}},\"name\":\"Lithuania\",\"nbinsx\":30,\"offsetgroup\":\"Lithuania\",\"orientation\":\"v\",\"showlegend\":false,\"x\":[45.61509323],\"xaxis\":\"x2\",\"yaxis\":\"y2\",\"type\":\"histogram\"},{\"alignmentgroup\":\"True\",\"bingroup\":\"x\",\"hovertemplate\":\"Reference area=Luxembourg\\u003cbr\\u003ePlace of birth=Native-born\\u003cbr\\u003eOBS_VALUE=%{x}\\u003cbr\\u003ecount=%{y}\\u003cextra\\u003e\\u003c\\u002fextra\\u003e\",\"legendgroup\":\"Luxembourg\",\"marker\":{\"color\":\"rgb(111, 64, 112)\",\"pattern\":{\"shape\":\"\"}},\"name\":\"Luxembourg\",\"nbinsx\":30,\"offsetgroup\":\"Luxembourg\",\"orientation\":\"v\",\"showlegend\":true,\"x\":[40.98654938],\"xaxis\":\"x\",\"yaxis\":\"y\",\"type\":\"histogram\"},{\"alignmentgroup\":\"True\",\"bingroup\":\"x\",\"hovertemplate\":\"Reference area=Luxembourg\\u003cbr\\u003ePlace of birth=Foreign-born\\u003cbr\\u003eOBS_VALUE=%{x}\\u003cbr\\u003ecount=%{y}\\u003cextra\\u003e\\u003c\\u002fextra\\u003e\",\"legendgroup\":\"Luxembourg\",\"marker\":{\"color\":\"rgb(111, 64, 112)\",\"pattern\":{\"shape\":\"\"}},\"name\":\"Luxembourg\",\"nbinsx\":30,\"offsetgroup\":\"Luxembourg\",\"orientation\":\"v\",\"showlegend\":false,\"x\":[57.68785858],\"xaxis\":\"x2\",\"yaxis\":\"y2\",\"type\":\"histogram\"},{\"alignmentgroup\":\"True\",\"bingroup\":\"x\",\"hovertemplate\":\"Reference area=Mexico\\u003cbr\\u003ePlace of birth=Native-born\\u003cbr\\u003eOBS_VALUE=%{x}\\u003cbr\\u003ecount=%{y}\\u003cextra\\u003e\\u003c\\u002fextra\\u003e\",\"legendgroup\":\"Mexico\",\"marker\":{\"color\":\"rgb(102, 102, 102)\",\"pattern\":{\"shape\":\"\"}},\"name\":\"Mexico\",\"nbinsx\":30,\"offsetgroup\":\"Mexico\",\"orientation\":\"v\",\"showlegend\":true,\"x\":[20.86810875],\"xaxis\":\"x\",\"yaxis\":\"y\",\"type\":\"histogram\"},{\"alignmentgroup\":\"True\",\"bingroup\":\"x\",\"hovertemplate\":\"Reference area=Mexico\\u003cbr\\u003ePlace of birth=Foreign-born\\u003cbr\\u003eOBS_VALUE=%{x}\\u003cbr\\u003ecount=%{y}\\u003cextra\\u003e\\u003c\\u002fextra\\u003e\",\"legendgroup\":\"Mexico\",\"marker\":{\"color\":\"rgb(102, 102, 102)\",\"pattern\":{\"shape\":\"\"}},\"name\":\"Mexico\",\"nbinsx\":30,\"offsetgroup\":\"Mexico\",\"orientation\":\"v\",\"showlegend\":false,\"x\":[38.85329437],\"xaxis\":\"x2\",\"yaxis\":\"y2\",\"type\":\"histogram\"},{\"alignmentgroup\":\"True\",\"bingroup\":\"x\",\"hovertemplate\":\"Reference area=Netherlands\\u003cbr\\u003ePlace of birth=Native-born\\u003cbr\\u003eOBS_VALUE=%{x}\\u003cbr\\u003ecount=%{y}\\u003cextra\\u003e\\u003c\\u002fextra\\u003e\",\"legendgroup\":\"Netherlands\",\"marker\":{\"color\":\"rgb(95, 70, 144)\",\"pattern\":{\"shape\":\"\"}},\"name\":\"Netherlands\",\"nbinsx\":30,\"offsetgroup\":\"Netherlands\",\"orientation\":\"v\",\"showlegend\":true,\"x\":[43.12560654],\"xaxis\":\"x\",\"yaxis\":\"y\",\"type\":\"histogram\"},{\"alignmentgroup\":\"True\",\"bingroup\":\"x\",\"hovertemplate\":\"Reference area=Netherlands\\u003cbr\\u003ePlace of birth=Foreign-born\\u003cbr\\u003eOBS_VALUE=%{x}\\u003cbr\\u003ecount=%{y}\\u003cextra\\u003e\\u003c\\u002fextra\\u003e\",\"legendgroup\":\"Netherlands\",\"marker\":{\"color\":\"rgb(95, 70, 144)\",\"pattern\":{\"shape\":\"\"}},\"name\":\"Netherlands\",\"nbinsx\":30,\"offsetgroup\":\"Netherlands\",\"orientation\":\"v\",\"showlegend\":false,\"x\":[41.86574936],\"xaxis\":\"x2\",\"yaxis\":\"y2\",\"type\":\"histogram\"},{\"alignmentgroup\":\"True\",\"bingroup\":\"x\",\"hovertemplate\":\"Reference area=New Zealand\\u003cbr\\u003ePlace of birth=Native-born\\u003cbr\\u003eOBS_VALUE=%{x}\\u003cbr\\u003ecount=%{y}\\u003cextra\\u003e\\u003c\\u002fextra\\u003e\",\"legendgroup\":\"New Zealand\",\"marker\":{\"color\":\"rgb(29, 105, 150)\",\"pattern\":{\"shape\":\"\"}},\"name\":\"New Zealand\",\"nbinsx\":30,\"offsetgroup\":\"New Zealand\",\"orientation\":\"v\",\"showlegend\":true,\"x\":[35.92984009],\"xaxis\":\"x\",\"yaxis\":\"y\",\"type\":\"histogram\"},{\"alignmentgroup\":\"True\",\"bingroup\":\"x\",\"hovertemplate\":\"Reference area=New Zealand\\u003cbr\\u003ePlace of birth=Foreign-born\\u003cbr\\u003eOBS_VALUE=%{x}\\u003cbr\\u003ecount=%{y}\\u003cextra\\u003e\\u003c\\u002fextra\\u003e\",\"legendgroup\":\"New Zealand\",\"marker\":{\"color\":\"rgb(29, 105, 150)\",\"pattern\":{\"shape\":\"\"}},\"name\":\"New Zealand\",\"nbinsx\":30,\"offsetgroup\":\"New Zealand\",\"orientation\":\"v\",\"showlegend\":false,\"x\":[51.31377029],\"xaxis\":\"x2\",\"yaxis\":\"y2\",\"type\":\"histogram\"},{\"alignmentgroup\":\"True\",\"bingroup\":\"x\",\"hovertemplate\":\"Reference area=Norway\\u003cbr\\u003ePlace of birth=Native-born\\u003cbr\\u003eOBS_VALUE=%{x}\\u003cbr\\u003ecount=%{y}\\u003cextra\\u003e\\u003c\\u002fextra\\u003e\",\"legendgroup\":\"Norway\",\"marker\":{\"color\":\"rgb(56, 166, 165)\",\"pattern\":{\"shape\":\"\"}},\"name\":\"Norway\",\"nbinsx\":30,\"offsetgroup\":\"Norway\",\"orientation\":\"v\",\"showlegend\":true,\"x\":[49.38158417],\"xaxis\":\"x\",\"yaxis\":\"y\",\"type\":\"histogram\"},{\"alignmentgroup\":\"True\",\"bingroup\":\"x\",\"hovertemplate\":\"Reference area=Norway\\u003cbr\\u003ePlace of birth=Foreign-born\\u003cbr\\u003eOBS_VALUE=%{x}\\u003cbr\\u003ecount=%{y}\\u003cextra\\u003e\\u003c\\u002fextra\\u003e\",\"legendgroup\":\"Norway\",\"marker\":{\"color\":\"rgb(56, 166, 165)\",\"pattern\":{\"shape\":\"\"}},\"name\":\"Norway\",\"nbinsx\":30,\"offsetgroup\":\"Norway\",\"orientation\":\"v\",\"showlegend\":false,\"x\":[46.8023262],\"xaxis\":\"x2\",\"yaxis\":\"y2\",\"type\":\"histogram\"},{\"alignmentgroup\":\"True\",\"bingroup\":\"x\",\"hovertemplate\":\"Reference area=OECD\\u003cbr\\u003ePlace of birth=Native-born\\u003cbr\\u003eOBS_VALUE=%{x}\\u003cbr\\u003ecount=%{y}\\u003cextra\\u003e\\u003c\\u002fextra\\u003e\",\"legendgroup\":\"OECD\",\"marker\":{\"color\":\"rgb(15, 133, 84)\",\"pattern\":{\"shape\":\"\"}},\"name\":\"OECD\",\"nbinsx\":30,\"offsetgroup\":\"OECD\",\"orientation\":\"v\",\"showlegend\":true,\"x\":[39.18903522],\"xaxis\":\"x\",\"yaxis\":\"y\",\"type\":\"histogram\"},{\"alignmentgroup\":\"True\",\"bingroup\":\"x\",\"hovertemplate\":\"Reference area=OECD\\u003cbr\\u003ePlace of birth=Foreign-born\\u003cbr\\u003eOBS_VALUE=%{x}\\u003cbr\\u003ecount=%{y}\\u003cextra\\u003e\\u003c\\u002fextra\\u003e\",\"legendgroup\":\"OECD\",\"marker\":{\"color\":\"rgb(15, 133, 84)\",\"pattern\":{\"shape\":\"\"}},\"name\":\"OECD\",\"nbinsx\":30,\"offsetgroup\":\"OECD\",\"orientation\":\"v\",\"showlegend\":false,\"x\":[41.81975307],\"xaxis\":\"x2\",\"yaxis\":\"y2\",\"type\":\"histogram\"},{\"alignmentgroup\":\"True\",\"bingroup\":\"x\",\"hovertemplate\":\"Reference area=Poland\\u003cbr\\u003ePlace of birth=Native-born\\u003cbr\\u003eOBS_VALUE=%{x}\\u003cbr\\u003ecount=%{y}\\u003cextra\\u003e\\u003c\\u002fextra\\u003e\",\"legendgroup\":\"Poland\",\"marker\":{\"color\":\"rgb(115, 175, 72)\",\"pattern\":{\"shape\":\"\"}},\"name\":\"Poland\",\"nbinsx\":30,\"offsetgroup\":\"Poland\",\"orientation\":\"v\",\"showlegend\":true,\"x\":[37.63965988],\"xaxis\":\"x\",\"yaxis\":\"y\",\"type\":\"histogram\"},{\"alignmentgroup\":\"True\",\"bingroup\":\"x\",\"hovertemplate\":\"Reference area=Poland\\u003cbr\\u003ePlace of birth=Foreign-born\\u003cbr\\u003eOBS_VALUE=%{x}\\u003cbr\\u003ecount=%{y}\\u003cextra\\u003e\\u003c\\u002fextra\\u003e\",\"legendgroup\":\"Poland\",\"marker\":{\"color\":\"rgb(115, 175, 72)\",\"pattern\":{\"shape\":\"\"}},\"name\":\"Poland\",\"nbinsx\":30,\"offsetgroup\":\"Poland\",\"orientation\":\"v\",\"showlegend\":false,\"x\":[55.66636276],\"xaxis\":\"x2\",\"yaxis\":\"y2\",\"type\":\"histogram\"},{\"alignmentgroup\":\"True\",\"bingroup\":\"x\",\"hovertemplate\":\"Reference area=Portugal\\u003cbr\\u003ePlace of birth=Native-born\\u003cbr\\u003eOBS_VALUE=%{x}\\u003cbr\\u003ecount=%{y}\\u003cextra\\u003e\\u003c\\u002fextra\\u003e\",\"legendgroup\":\"Portugal\",\"marker\":{\"color\":\"rgb(237, 173, 8)\",\"pattern\":{\"shape\":\"\"}},\"name\":\"Portugal\",\"nbinsx\":30,\"offsetgroup\":\"Portugal\",\"orientation\":\"v\",\"showlegend\":true,\"x\":[28.83273888],\"xaxis\":\"x\",\"yaxis\":\"y\",\"type\":\"histogram\"},{\"alignmentgroup\":\"True\",\"bingroup\":\"x\",\"hovertemplate\":\"Reference area=Portugal\\u003cbr\\u003ePlace of birth=Foreign-born\\u003cbr\\u003eOBS_VALUE=%{x}\\u003cbr\\u003ecount=%{y}\\u003cextra\\u003e\\u003c\\u002fextra\\u003e\",\"legendgroup\":\"Portugal\",\"marker\":{\"color\":\"rgb(237, 173, 8)\",\"pattern\":{\"shape\":\"\"}},\"name\":\"Portugal\",\"nbinsx\":30,\"offsetgroup\":\"Portugal\",\"orientation\":\"v\",\"showlegend\":false,\"x\":[36.32902908],\"xaxis\":\"x2\",\"yaxis\":\"y2\",\"type\":\"histogram\"},{\"alignmentgroup\":\"True\",\"bingroup\":\"x\",\"hovertemplate\":\"Reference area=Romania\\u003cbr\\u003ePlace of birth=Native-born\\u003cbr\\u003eOBS_VALUE=%{x}\\u003cbr\\u003ecount=%{y}\\u003cextra\\u003e\\u003c\\u002fextra\\u003e\",\"legendgroup\":\"Romania\",\"marker\":{\"color\":\"rgb(225, 124, 5)\",\"pattern\":{\"shape\":\"\"}},\"name\":\"Romania\",\"nbinsx\":30,\"offsetgroup\":\"Romania\",\"orientation\":\"v\",\"showlegend\":true,\"x\":[18.58439255],\"xaxis\":\"x\",\"yaxis\":\"y\",\"type\":\"histogram\"},{\"alignmentgroup\":\"True\",\"bingroup\":\"x\",\"hovertemplate\":\"Reference area=Romania\\u003cbr\\u003ePlace of birth=Foreign-born\\u003cbr\\u003eOBS_VALUE=%{x}\\u003cbr\\u003ecount=%{y}\\u003cextra\\u003e\\u003c\\u002fextra\\u003e\",\"legendgroup\":\"Romania\",\"marker\":{\"color\":\"rgb(225, 124, 5)\",\"pattern\":{\"shape\":\"\"}},\"name\":\"Romania\",\"nbinsx\":30,\"offsetgroup\":\"Romania\",\"orientation\":\"v\",\"showlegend\":false,\"x\":[34.65583038],\"xaxis\":\"x2\",\"yaxis\":\"y2\",\"type\":\"histogram\"},{\"alignmentgroup\":\"True\",\"bingroup\":\"x\",\"hovertemplate\":\"Reference area=Slovak Republic\\u003cbr\\u003ePlace of birth=Native-born\\u003cbr\\u003eOBS_VALUE=%{x}\\u003cbr\\u003ecount=%{y}\\u003cextra\\u003e\\u003c\\u002fextra\\u003e\",\"legendgroup\":\"Slovak Republic\",\"marker\":{\"color\":\"rgb(204, 80, 62)\",\"pattern\":{\"shape\":\"\"}},\"name\":\"Slovak Republic\",\"nbinsx\":30,\"offsetgroup\":\"Slovak Republic\",\"orientation\":\"v\",\"showlegend\":true,\"x\":[28.67724609],\"xaxis\":\"x\",\"yaxis\":\"y\",\"type\":\"histogram\"},{\"alignmentgroup\":\"True\",\"bingroup\":\"x\",\"hovertemplate\":\"Reference area=Slovak Republic\\u003cbr\\u003ePlace of birth=Foreign-born\\u003cbr\\u003eOBS_VALUE=%{x}\\u003cbr\\u003ecount=%{y}\\u003cextra\\u003e\\u003c\\u002fextra\\u003e\",\"legendgroup\":\"Slovak Republic\",\"marker\":{\"color\":\"rgb(204, 80, 62)\",\"pattern\":{\"shape\":\"\"}},\"name\":\"Slovak Republic\",\"nbinsx\":30,\"offsetgroup\":\"Slovak Republic\",\"orientation\":\"v\",\"showlegend\":false,\"x\":[39.82294846],\"xaxis\":\"x2\",\"yaxis\":\"y2\",\"type\":\"histogram\"},{\"alignmentgroup\":\"True\",\"bingroup\":\"x\",\"hovertemplate\":\"Reference area=Slovenia\\u003cbr\\u003ePlace of birth=Native-born\\u003cbr\\u003eOBS_VALUE=%{x}\\u003cbr\\u003ecount=%{y}\\u003cextra\\u003e\\u003c\\u002fextra\\u003e\",\"legendgroup\":\"Slovenia\",\"marker\":{\"color\":\"rgb(148, 52, 110)\",\"pattern\":{\"shape\":\"\"}},\"name\":\"Slovenia\",\"nbinsx\":30,\"offsetgroup\":\"Slovenia\",\"orientation\":\"v\",\"showlegend\":true,\"x\":[37.0370369],\"xaxis\":\"x\",\"yaxis\":\"y\",\"type\":\"histogram\"},{\"alignmentgroup\":\"True\",\"bingroup\":\"x\",\"hovertemplate\":\"Reference area=Slovenia\\u003cbr\\u003ePlace of birth=Foreign-born\\u003cbr\\u003eOBS_VALUE=%{x}\\u003cbr\\u003ecount=%{y}\\u003cextra\\u003e\\u003c\\u002fextra\\u003e\",\"legendgroup\":\"Slovenia\",\"marker\":{\"color\":\"rgb(148, 52, 110)\",\"pattern\":{\"shape\":\"\"}},\"name\":\"Slovenia\",\"nbinsx\":30,\"offsetgroup\":\"Slovenia\",\"orientation\":\"v\",\"showlegend\":false,\"x\":[15.1898737],\"xaxis\":\"x2\",\"yaxis\":\"y2\",\"type\":\"histogram\"},{\"alignmentgroup\":\"True\",\"bingroup\":\"x\",\"hovertemplate\":\"Reference area=Spain\\u003cbr\\u003ePlace of birth=Native-born\\u003cbr\\u003eOBS_VALUE=%{x}\\u003cbr\\u003ecount=%{y}\\u003cextra\\u003e\\u003c\\u002fextra\\u003e\",\"legendgroup\":\"Spain\",\"marker\":{\"color\":\"rgb(111, 64, 112)\",\"pattern\":{\"shape\":\"\"}},\"name\":\"Spain\",\"nbinsx\":30,\"offsetgroup\":\"Spain\",\"orientation\":\"v\",\"showlegend\":true,\"x\":[45.35423279],\"xaxis\":\"x\",\"yaxis\":\"y\",\"type\":\"histogram\"},{\"alignmentgroup\":\"True\",\"bingroup\":\"x\",\"hovertemplate\":\"Reference area=Spain\\u003cbr\\u003ePlace of birth=Foreign-born\\u003cbr\\u003eOBS_VALUE=%{x}\\u003cbr\\u003ecount=%{y}\\u003cextra\\u003e\\u003c\\u002fextra\\u003e\",\"legendgroup\":\"Spain\",\"marker\":{\"color\":\"rgb(111, 64, 112)\",\"pattern\":{\"shape\":\"\"}},\"name\":\"Spain\",\"nbinsx\":30,\"offsetgroup\":\"Spain\",\"orientation\":\"v\",\"showlegend\":false,\"x\":[28.06167221],\"xaxis\":\"x2\",\"yaxis\":\"y2\",\"type\":\"histogram\"},{\"alignmentgroup\":\"True\",\"bingroup\":\"x\",\"hovertemplate\":\"Reference area=Sweden\\u003cbr\\u003ePlace of birth=Native-born\\u003cbr\\u003eOBS_VALUE=%{x}\\u003cbr\\u003ecount=%{y}\\u003cextra\\u003e\\u003c\\u002fextra\\u003e\",\"legendgroup\":\"Sweden\",\"marker\":{\"color\":\"rgb(102, 102, 102)\",\"pattern\":{\"shape\":\"\"}},\"name\":\"Sweden\",\"nbinsx\":30,\"offsetgroup\":\"Sweden\",\"orientation\":\"v\",\"showlegend\":true,\"x\":[49.60296631],\"xaxis\":\"x\",\"yaxis\":\"y\",\"type\":\"histogram\"},{\"alignmentgroup\":\"True\",\"bingroup\":\"x\",\"hovertemplate\":\"Reference area=Sweden\\u003cbr\\u003ePlace of birth=Foreign-born\\u003cbr\\u003eOBS_VALUE=%{x}\\u003cbr\\u003ecount=%{y}\\u003cextra\\u003e\\u003c\\u002fextra\\u003e\",\"legendgroup\":\"Sweden\",\"marker\":{\"color\":\"rgb(102, 102, 102)\",\"pattern\":{\"shape\":\"\"}},\"name\":\"Sweden\",\"nbinsx\":30,\"offsetgroup\":\"Sweden\",\"orientation\":\"v\",\"showlegend\":false,\"x\":[48.86008835],\"xaxis\":\"x2\",\"yaxis\":\"y2\",\"type\":\"histogram\"},{\"alignmentgroup\":\"True\",\"bingroup\":\"x\",\"hovertemplate\":\"Reference area=Switzerland\\u003cbr\\u003ePlace of birth=Native-born\\u003cbr\\u003eOBS_VALUE=%{x}\\u003cbr\\u003ecount=%{y}\\u003cextra\\u003e\\u003c\\u002fextra\\u003e\",\"legendgroup\":\"Switzerland\",\"marker\":{\"color\":\"rgb(95, 70, 144)\",\"pattern\":{\"shape\":\"\"}},\"name\":\"Switzerland\",\"nbinsx\":30,\"offsetgroup\":\"Switzerland\",\"orientation\":\"v\",\"showlegend\":true,\"x\":[45.52560043],\"xaxis\":\"x\",\"yaxis\":\"y\",\"type\":\"histogram\"},{\"alignmentgroup\":\"True\",\"bingroup\":\"x\",\"hovertemplate\":\"Reference area=Switzerland\\u003cbr\\u003ePlace of birth=Foreign-born\\u003cbr\\u003eOBS_VALUE=%{x}\\u003cbr\\u003ecount=%{y}\\u003cextra\\u003e\\u003c\\u002fextra\\u003e\",\"legendgroup\":\"Switzerland\",\"marker\":{\"color\":\"rgb(95, 70, 144)\",\"pattern\":{\"shape\":\"\"}},\"name\":\"Switzerland\",\"nbinsx\":30,\"offsetgroup\":\"Switzerland\",\"orientation\":\"v\",\"showlegend\":false,\"x\":[46.85208511],\"xaxis\":\"x2\",\"yaxis\":\"y2\",\"type\":\"histogram\"},{\"alignmentgroup\":\"True\",\"bingroup\":\"x\",\"hovertemplate\":\"Reference area=United Kingdom\\u003cbr\\u003ePlace of birth=Native-born\\u003cbr\\u003eOBS_VALUE=%{x}\\u003cbr\\u003ecount=%{y}\\u003cextra\\u003e\\u003c\\u002fextra\\u003e\",\"legendgroup\":\"United Kingdom\",\"marker\":{\"color\":\"rgb(29, 105, 150)\",\"pattern\":{\"shape\":\"\"}},\"name\":\"United Kingdom\",\"nbinsx\":30,\"offsetgroup\":\"United Kingdom\",\"orientation\":\"v\",\"showlegend\":true,\"x\":[48.09827423],\"xaxis\":\"x\",\"yaxis\":\"y\",\"type\":\"histogram\"},{\"alignmentgroup\":\"True\",\"bingroup\":\"x\",\"hovertemplate\":\"Reference area=United Kingdom\\u003cbr\\u003ePlace of birth=Foreign-born\\u003cbr\\u003eOBS_VALUE=%{x}\\u003cbr\\u003ecount=%{y}\\u003cextra\\u003e\\u003c\\u002fextra\\u003e\",\"legendgroup\":\"United Kingdom\",\"marker\":{\"color\":\"rgb(29, 105, 150)\",\"pattern\":{\"shape\":\"\"}},\"name\":\"United Kingdom\",\"nbinsx\":30,\"offsetgroup\":\"United Kingdom\",\"orientation\":\"v\",\"showlegend\":false,\"x\":[71.93881989],\"xaxis\":\"x2\",\"yaxis\":\"y2\",\"type\":\"histogram\"},{\"alignmentgroup\":\"True\",\"bingroup\":\"x\",\"hovertemplate\":\"Reference area=United States\\u003cbr\\u003ePlace of birth=Native-born\\u003cbr\\u003eOBS_VALUE=%{x}\\u003cbr\\u003ecount=%{y}\\u003cextra\\u003e\\u003c\\u002fextra\\u003e\",\"legendgroup\":\"United States\",\"marker\":{\"color\":\"rgb(56, 166, 165)\",\"pattern\":{\"shape\":\"\"}},\"name\":\"United States\",\"nbinsx\":30,\"offsetgroup\":\"United States\",\"orientation\":\"v\",\"showlegend\":true,\"x\":[52.19411469],\"xaxis\":\"x\",\"yaxis\":\"y\",\"type\":\"histogram\"},{\"alignmentgroup\":\"True\",\"bingroup\":\"x\",\"hovertemplate\":\"Reference area=United States\\u003cbr\\u003ePlace of birth=Foreign-born\\u003cbr\\u003eOBS_VALUE=%{x}\\u003cbr\\u003ecount=%{y}\\u003cextra\\u003e\\u003c\\u002fextra\\u003e\",\"legendgroup\":\"United States\",\"marker\":{\"color\":\"rgb(56, 166, 165)\",\"pattern\":{\"shape\":\"\"}},\"name\":\"United States\",\"nbinsx\":30,\"offsetgroup\":\"United States\",\"orientation\":\"v\",\"showlegend\":false,\"x\":[44.86714172],\"xaxis\":\"x2\",\"yaxis\":\"y2\",\"type\":\"histogram\"}],                        {\"template\":{\"data\":{\"histogram2dcontour\":[{\"type\":\"histogram2dcontour\",\"colorbar\":{\"outlinewidth\":0,\"ticks\":\"\"},\"colorscale\":[[0.0,\"#0d0887\"],[0.1111111111111111,\"#46039f\"],[0.2222222222222222,\"#7201a8\"],[0.3333333333333333,\"#9c179e\"],[0.4444444444444444,\"#bd3786\"],[0.5555555555555556,\"#d8576b\"],[0.6666666666666666,\"#ed7953\"],[0.7777777777777778,\"#fb9f3a\"],[0.8888888888888888,\"#fdca26\"],[1.0,\"#f0f921\"]]}],\"choropleth\":[{\"type\":\"choropleth\",\"colorbar\":{\"outlinewidth\":0,\"ticks\":\"\"}}],\"histogram2d\":[{\"type\":\"histogram2d\",\"colorbar\":{\"outlinewidth\":0,\"ticks\":\"\"},\"colorscale\":[[0.0,\"#0d0887\"],[0.1111111111111111,\"#46039f\"],[0.2222222222222222,\"#7201a8\"],[0.3333333333333333,\"#9c179e\"],[0.4444444444444444,\"#bd3786\"],[0.5555555555555556,\"#d8576b\"],[0.6666666666666666,\"#ed7953\"],[0.7777777777777778,\"#fb9f3a\"],[0.8888888888888888,\"#fdca26\"],[1.0,\"#f0f921\"]]}],\"heatmap\":[{\"type\":\"heatmap\",\"colorbar\":{\"outlinewidth\":0,\"ticks\":\"\"},\"colorscale\":[[0.0,\"#0d0887\"],[0.1111111111111111,\"#46039f\"],[0.2222222222222222,\"#7201a8\"],[0.3333333333333333,\"#9c179e\"],[0.4444444444444444,\"#bd3786\"],[0.5555555555555556,\"#d8576b\"],[0.6666666666666666,\"#ed7953\"],[0.7777777777777778,\"#fb9f3a\"],[0.8888888888888888,\"#fdca26\"],[1.0,\"#f0f921\"]]}],\"heatmapgl\":[{\"type\":\"heatmapgl\",\"colorbar\":{\"outlinewidth\":0,\"ticks\":\"\"},\"colorscale\":[[0.0,\"#0d0887\"],[0.1111111111111111,\"#46039f\"],[0.2222222222222222,\"#7201a8\"],[0.3333333333333333,\"#9c179e\"],[0.4444444444444444,\"#bd3786\"],[0.5555555555555556,\"#d8576b\"],[0.6666666666666666,\"#ed7953\"],[0.7777777777777778,\"#fb9f3a\"],[0.8888888888888888,\"#fdca26\"],[1.0,\"#f0f921\"]]}],\"contourcarpet\":[{\"type\":\"contourcarpet\",\"colorbar\":{\"outlinewidth\":0,\"ticks\":\"\"}}],\"contour\":[{\"type\":\"contour\",\"colorbar\":{\"outlinewidth\":0,\"ticks\":\"\"},\"colorscale\":[[0.0,\"#0d0887\"],[0.1111111111111111,\"#46039f\"],[0.2222222222222222,\"#7201a8\"],[0.3333333333333333,\"#9c179e\"],[0.4444444444444444,\"#bd3786\"],[0.5555555555555556,\"#d8576b\"],[0.6666666666666666,\"#ed7953\"],[0.7777777777777778,\"#fb9f3a\"],[0.8888888888888888,\"#fdca26\"],[1.0,\"#f0f921\"]]}],\"surface\":[{\"type\":\"surface\",\"colorbar\":{\"outlinewidth\":0,\"ticks\":\"\"},\"colorscale\":[[0.0,\"#0d0887\"],[0.1111111111111111,\"#46039f\"],[0.2222222222222222,\"#7201a8\"],[0.3333333333333333,\"#9c179e\"],[0.4444444444444444,\"#bd3786\"],[0.5555555555555556,\"#d8576b\"],[0.6666666666666666,\"#ed7953\"],[0.7777777777777778,\"#fb9f3a\"],[0.8888888888888888,\"#fdca26\"],[1.0,\"#f0f921\"]]}],\"mesh3d\":[{\"type\":\"mesh3d\",\"colorbar\":{\"outlinewidth\":0,\"ticks\":\"\"}}],\"scatter\":[{\"fillpattern\":{\"fillmode\":\"overlay\",\"size\":10,\"solidity\":0.2},\"type\":\"scatter\"}],\"parcoords\":[{\"type\":\"parcoords\",\"line\":{\"colorbar\":{\"outlinewidth\":0,\"ticks\":\"\"}}}],\"scatterpolargl\":[{\"type\":\"scatterpolargl\",\"marker\":{\"colorbar\":{\"outlinewidth\":0,\"ticks\":\"\"}}}],\"bar\":[{\"error_x\":{\"color\":\"#2a3f5f\"},\"error_y\":{\"color\":\"#2a3f5f\"},\"marker\":{\"line\":{\"color\":\"#E5ECF6\",\"width\":0.5},\"pattern\":{\"fillmode\":\"overlay\",\"size\":10,\"solidity\":0.2}},\"type\":\"bar\"}],\"scattergeo\":[{\"type\":\"scattergeo\",\"marker\":{\"colorbar\":{\"outlinewidth\":0,\"ticks\":\"\"}}}],\"scatterpolar\":[{\"type\":\"scatterpolar\",\"marker\":{\"colorbar\":{\"outlinewidth\":0,\"ticks\":\"\"}}}],\"histogram\":[{\"marker\":{\"pattern\":{\"fillmode\":\"overlay\",\"size\":10,\"solidity\":0.2}},\"type\":\"histogram\"}],\"scattergl\":[{\"type\":\"scattergl\",\"marker\":{\"colorbar\":{\"outlinewidth\":0,\"ticks\":\"\"}}}],\"scatter3d\":[{\"type\":\"scatter3d\",\"line\":{\"colorbar\":{\"outlinewidth\":0,\"ticks\":\"\"}},\"marker\":{\"colorbar\":{\"outlinewidth\":0,\"ticks\":\"\"}}}],\"scattermapbox\":[{\"type\":\"scattermapbox\",\"marker\":{\"colorbar\":{\"outlinewidth\":0,\"ticks\":\"\"}}}],\"scatterternary\":[{\"type\":\"scatterternary\",\"marker\":{\"colorbar\":{\"outlinewidth\":0,\"ticks\":\"\"}}}],\"scattercarpet\":[{\"type\":\"scattercarpet\",\"marker\":{\"colorbar\":{\"outlinewidth\":0,\"ticks\":\"\"}}}],\"carpet\":[{\"aaxis\":{\"endlinecolor\":\"#2a3f5f\",\"gridcolor\":\"white\",\"linecolor\":\"white\",\"minorgridcolor\":\"white\",\"startlinecolor\":\"#2a3f5f\"},\"baxis\":{\"endlinecolor\":\"#2a3f5f\",\"gridcolor\":\"white\",\"linecolor\":\"white\",\"minorgridcolor\":\"white\",\"startlinecolor\":\"#2a3f5f\"},\"type\":\"carpet\"}],\"table\":[{\"cells\":{\"fill\":{\"color\":\"#EBF0F8\"},\"line\":{\"color\":\"white\"}},\"header\":{\"fill\":{\"color\":\"#C8D4E3\"},\"line\":{\"color\":\"white\"}},\"type\":\"table\"}],\"barpolar\":[{\"marker\":{\"line\":{\"color\":\"#E5ECF6\",\"width\":0.5},\"pattern\":{\"fillmode\":\"overlay\",\"size\":10,\"solidity\":0.2}},\"type\":\"barpolar\"}],\"pie\":[{\"automargin\":true,\"type\":\"pie\"}]},\"layout\":{\"autotypenumbers\":\"strict\",\"colorway\":[\"#636efa\",\"#EF553B\",\"#00cc96\",\"#ab63fa\",\"#FFA15A\",\"#19d3f3\",\"#FF6692\",\"#B6E880\",\"#FF97FF\",\"#FECB52\"],\"font\":{\"color\":\"#2a3f5f\"},\"hovermode\":\"closest\",\"hoverlabel\":{\"align\":\"left\"},\"paper_bgcolor\":\"white\",\"plot_bgcolor\":\"#E5ECF6\",\"polar\":{\"bgcolor\":\"#E5ECF6\",\"angularaxis\":{\"gridcolor\":\"white\",\"linecolor\":\"white\",\"ticks\":\"\"},\"radialaxis\":{\"gridcolor\":\"white\",\"linecolor\":\"white\",\"ticks\":\"\"}},\"ternary\":{\"bgcolor\":\"#E5ECF6\",\"aaxis\":{\"gridcolor\":\"white\",\"linecolor\":\"white\",\"ticks\":\"\"},\"baxis\":{\"gridcolor\":\"white\",\"linecolor\":\"white\",\"ticks\":\"\"},\"caxis\":{\"gridcolor\":\"white\",\"linecolor\":\"white\",\"ticks\":\"\"}},\"coloraxis\":{\"colorbar\":{\"outlinewidth\":0,\"ticks\":\"\"}},\"colorscale\":{\"sequential\":[[0.0,\"#0d0887\"],[0.1111111111111111,\"#46039f\"],[0.2222222222222222,\"#7201a8\"],[0.3333333333333333,\"#9c179e\"],[0.4444444444444444,\"#bd3786\"],[0.5555555555555556,\"#d8576b\"],[0.6666666666666666,\"#ed7953\"],[0.7777777777777778,\"#fb9f3a\"],[0.8888888888888888,\"#fdca26\"],[1.0,\"#f0f921\"]],\"sequentialminus\":[[0.0,\"#0d0887\"],[0.1111111111111111,\"#46039f\"],[0.2222222222222222,\"#7201a8\"],[0.3333333333333333,\"#9c179e\"],[0.4444444444444444,\"#bd3786\"],[0.5555555555555556,\"#d8576b\"],[0.6666666666666666,\"#ed7953\"],[0.7777777777777778,\"#fb9f3a\"],[0.8888888888888888,\"#fdca26\"],[1.0,\"#f0f921\"]],\"diverging\":[[0,\"#8e0152\"],[0.1,\"#c51b7d\"],[0.2,\"#de77ae\"],[0.3,\"#f1b6da\"],[0.4,\"#fde0ef\"],[0.5,\"#f7f7f7\"],[0.6,\"#e6f5d0\"],[0.7,\"#b8e186\"],[0.8,\"#7fbc41\"],[0.9,\"#4d9221\"],[1,\"#276419\"]]},\"xaxis\":{\"gridcolor\":\"white\",\"linecolor\":\"white\",\"ticks\":\"\",\"title\":{\"standoff\":15},\"zerolinecolor\":\"white\",\"automargin\":true,\"zerolinewidth\":2},\"yaxis\":{\"gridcolor\":\"white\",\"linecolor\":\"white\",\"ticks\":\"\",\"title\":{\"standoff\":15},\"zerolinecolor\":\"white\",\"automargin\":true,\"zerolinewidth\":2},\"scene\":{\"xaxis\":{\"backgroundcolor\":\"#E5ECF6\",\"gridcolor\":\"white\",\"linecolor\":\"white\",\"showbackground\":true,\"ticks\":\"\",\"zerolinecolor\":\"white\",\"gridwidth\":2},\"yaxis\":{\"backgroundcolor\":\"#E5ECF6\",\"gridcolor\":\"white\",\"linecolor\":\"white\",\"showbackground\":true,\"ticks\":\"\",\"zerolinecolor\":\"white\",\"gridwidth\":2},\"zaxis\":{\"backgroundcolor\":\"#E5ECF6\",\"gridcolor\":\"white\",\"linecolor\":\"white\",\"showbackground\":true,\"ticks\":\"\",\"zerolinecolor\":\"white\",\"gridwidth\":2}},\"shapedefaults\":{\"line\":{\"color\":\"#2a3f5f\"}},\"annotationdefaults\":{\"arrowcolor\":\"#2a3f5f\",\"arrowhead\":0,\"arrowwidth\":1},\"geo\":{\"bgcolor\":\"white\",\"landcolor\":\"#E5ECF6\",\"subunitcolor\":\"white\",\"showland\":true,\"showlakes\":true,\"lakecolor\":\"white\"},\"title\":{\"x\":0.05},\"mapbox\":{\"style\":\"light\"}}},\"xaxis\":{\"anchor\":\"y\",\"domain\":[0.0,0.49],\"title\":{\"text\":\"Observation Percentage\"}},\"yaxis\":{\"anchor\":\"x\",\"domain\":[0.0,1.0],\"title\":{\"text\":\"Frequency\"}},\"xaxis2\":{\"anchor\":\"y2\",\"domain\":[0.51,1.0],\"matches\":\"x\",\"title\":{\"text\":\"Observation Percentage\"}},\"yaxis2\":{\"anchor\":\"x2\",\"domain\":[0.0,1.0],\"matches\":\"y\",\"showticklabels\":false},\"annotations\":[{\"font\":{},\"showarrow\":false,\"text\":\"Native-born\",\"x\":0.245,\"xanchor\":\"center\",\"xref\":\"paper\",\"y\":1.0,\"yanchor\":\"bottom\",\"yref\":\"paper\"},{\"font\":{},\"showarrow\":false,\"text\":\"Foreign-born\",\"x\":0.755,\"xanchor\":\"center\",\"xref\":\"paper\",\"y\":1.0,\"yanchor\":\"bottom\",\"yref\":\"paper\"}],\"legend\":{\"title\":{\"text\":\"Country\"},\"tracegroupgap\":0},\"margin\":{\"t\":60},\"barmode\":\"relative\",\"title\":{\"text\":\"Percent of Population ages 24-60 w\\u002f a Tertiary education\",\"x\":0.5},\"bargap\":0.02,\"autosize\":false,\"width\":1200,\"height\":500},                        {\"responsive\": true}                    ).then(function(){\n",
       "                            \n",
       "var gd = document.getElementById('ad527be6-44e9-4dd2-b9a6-2599b0229593');\n",
       "var x = new MutationObserver(function (mutations, observer) {{\n",
       "        var display = window.getComputedStyle(gd).display;\n",
       "        if (!display || display === 'none') {{\n",
       "            console.log([gd, 'removed!']);\n",
       "            Plotly.purge(gd);\n",
       "            observer.disconnect();\n",
       "        }}\n",
       "}});\n",
       "\n",
       "// Listen for the removal of the full notebook cells\n",
       "var notebookContainer = gd.closest('#notebook-container');\n",
       "if (notebookContainer) {{\n",
       "    x.observe(notebookContainer, {childList: true});\n",
       "}}\n",
       "\n",
       "// Listen for the clearing of the current output cell\n",
       "var outputEl = gd.closest('.output');\n",
       "if (outputEl) {{\n",
       "    x.observe(outputEl, {childList: true});\n",
       "}}\n",
       "\n",
       "                        })                };                });            </script>        </div>"
      ]
     },
     "metadata": {},
     "output_type": "display_data"
    }
   ],
   "source": [
    "fig = px.histogram(DF_rory_T,\n",
    "                 x='OBS_VALUE',\n",
    "                 nbins=30,\n",
    "                 facet_col= 'Place of birth',\n",
    "                 facet_col_wrap=2,\n",
    "                  color='Reference area',\n",
    "                  color_discrete_sequence=px.colors.qualitative.Prism,\n",
    "                  category_orders={'origin' : [\"Native-Born\",\"Foreign-Born\"]})\n",
    "fig.for_each_annotation(lambda a: a.update(text=a.text.split(\"=\")[-1]))\n",
    "fig.update_xaxes(title_text='Observation Percentage')\n",
    "fig.update_layout(bargap=0.02,\n",
    "                  title='Percent of Population ages 24-60 w/ a Tertiary education',\n",
    "                  title_x=0.5,\n",
    "                  xaxis_title=\"Observation Percentage\",\n",
    "                  yaxis_title=\"Frequency\",\n",
    "                  legend_title=\"Country\",\n",
    "                  autosize=False,\n",
    "                  width=1200,\n",
    "                  height=500)\n",
    "\n",
    "fig.show()"
   ]
  },
  {
   "cell_type": "code",
   "execution_count": 134,
   "id": "e7922e62-b54f-4b58-9b10-a12c9411e626",
   "metadata": {},
   "outputs": [
    {
     "data": {
      "application/vnd.plotly.v1+json": {
       "config": {
        "plotlyServerURL": "https://plot.ly"
       },
       "data": [
        {
         "alignmentgroup": "True",
         "bingroup": "x",
         "hovertemplate": "Reference area=Australia<br>Place of birth=Foreign-born<br>OBS_VALUE=%{x}<br>count=%{y}<extra></extra>",
         "legendgroup": "Australia",
         "marker": {
          "color": "rgb(95, 70, 144)",
          "pattern": {
           "shape": ""
          }
         },
         "name": "Australia",
         "nbinsx": 30,
         "offsetgroup": "Australia",
         "orientation": "v",
         "showlegend": true,
         "type": "histogram",
         "x": [
          24.16026306
         ],
         "xaxis": "x",
         "yaxis": "y"
        },
        {
         "alignmentgroup": "True",
         "bingroup": "x",
         "hovertemplate": "Reference area=Australia<br>Place of birth=Native-born<br>OBS_VALUE=%{x}<br>count=%{y}<extra></extra>",
         "legendgroup": "Australia",
         "marker": {
          "color": "rgb(95, 70, 144)",
          "pattern": {
           "shape": ""
          }
         },
         "name": "Australia",
         "nbinsx": 30,
         "offsetgroup": "Australia",
         "orientation": "v",
         "showlegend": false,
         "type": "histogram",
         "x": [
          38.76971054
         ],
         "xaxis": "x2",
         "yaxis": "y2"
        },
        {
         "alignmentgroup": "True",
         "bingroup": "x",
         "hovertemplate": "Reference area=Austria<br>Place of birth=Foreign-born<br>OBS_VALUE=%{x}<br>count=%{y}<extra></extra>",
         "legendgroup": "Austria",
         "marker": {
          "color": "rgb(29, 105, 150)",
          "pattern": {
           "shape": ""
          }
         },
         "name": "Austria",
         "nbinsx": 30,
         "offsetgroup": "Austria",
         "orientation": "v",
         "showlegend": true,
         "type": "histogram",
         "x": [
          39.63525009
         ],
         "xaxis": "x",
         "yaxis": "y"
        },
        {
         "alignmentgroup": "True",
         "bingroup": "x",
         "hovertemplate": "Reference area=Austria<br>Place of birth=Native-born<br>OBS_VALUE=%{x}<br>count=%{y}<extra></extra>",
         "legendgroup": "Austria",
         "marker": {
          "color": "rgb(29, 105, 150)",
          "pattern": {
           "shape": ""
          }
         },
         "name": "Austria",
         "nbinsx": 30,
         "offsetgroup": "Austria",
         "orientation": "v",
         "showlegend": false,
         "type": "histogram",
         "x": [
          53.12902451
         ],
         "xaxis": "x2",
         "yaxis": "y2"
        },
        {
         "alignmentgroup": "True",
         "bingroup": "x",
         "hovertemplate": "Reference area=Belgium<br>Place of birth=Foreign-born<br>OBS_VALUE=%{x}<br>count=%{y}<extra></extra>",
         "legendgroup": "Belgium",
         "marker": {
          "color": "rgb(56, 166, 165)",
          "pattern": {
           "shape": ""
          }
         },
         "name": "Belgium",
         "nbinsx": 30,
         "offsetgroup": "Belgium",
         "orientation": "v",
         "showlegend": true,
         "type": "histogram",
         "x": [
          30.66323662
         ],
         "xaxis": "x",
         "yaxis": "y"
        },
        {
         "alignmentgroup": "True",
         "bingroup": "x",
         "hovertemplate": "Reference area=Belgium<br>Place of birth=Native-born<br>OBS_VALUE=%{x}<br>count=%{y}<extra></extra>",
         "legendgroup": "Belgium",
         "marker": {
          "color": "rgb(56, 166, 165)",
          "pattern": {
           "shape": ""
          }
         },
         "name": "Belgium",
         "nbinsx": 30,
         "offsetgroup": "Belgium",
         "orientation": "v",
         "showlegend": false,
         "type": "histogram",
         "x": [
          39.39927292
         ],
         "xaxis": "x2",
         "yaxis": "y2"
        },
        {
         "alignmentgroup": "True",
         "bingroup": "x",
         "hovertemplate": "Reference area=Bulgaria<br>Place of birth=Foreign-born<br>OBS_VALUE=%{x}<br>count=%{y}<extra></extra>",
         "legendgroup": "Bulgaria",
         "marker": {
          "color": "rgb(15, 133, 84)",
          "pattern": {
           "shape": ""
          }
         },
         "name": "Bulgaria",
         "nbinsx": 30,
         "offsetgroup": "Bulgaria",
         "orientation": "v",
         "showlegend": true,
         "type": "histogram",
         "x": [
          37.57933426
         ],
         "xaxis": "x",
         "yaxis": "y"
        },
        {
         "alignmentgroup": "True",
         "bingroup": "x",
         "hovertemplate": "Reference area=Bulgaria<br>Place of birth=Native-born<br>OBS_VALUE=%{x}<br>count=%{y}<extra></extra>",
         "legendgroup": "Bulgaria",
         "marker": {
          "color": "rgb(15, 133, 84)",
          "pattern": {
           "shape": ""
          }
         },
         "name": "Bulgaria",
         "nbinsx": 30,
         "offsetgroup": "Bulgaria",
         "orientation": "v",
         "showlegend": false,
         "type": "histogram",
         "x": [
          54.79957199
         ],
         "xaxis": "x2",
         "yaxis": "y2"
        },
        {
         "alignmentgroup": "True",
         "bingroup": "x",
         "hovertemplate": "Reference area=Canada<br>Place of birth=Foreign-born<br>OBS_VALUE=%{x}<br>count=%{y}<extra></extra>",
         "legendgroup": "Canada",
         "marker": {
          "color": "rgb(115, 175, 72)",
          "pattern": {
           "shape": ""
          }
         },
         "name": "Canada",
         "nbinsx": 30,
         "offsetgroup": "Canada",
         "orientation": "v",
         "showlegend": true,
         "type": "histogram",
         "x": [
          20.97087288
         ],
         "xaxis": "x",
         "yaxis": "y"
        },
        {
         "alignmentgroup": "True",
         "bingroup": "x",
         "hovertemplate": "Reference area=Canada<br>Place of birth=Native-born<br>OBS_VALUE=%{x}<br>count=%{y}<extra></extra>",
         "legendgroup": "Canada",
         "marker": {
          "color": "rgb(115, 175, 72)",
          "pattern": {
           "shape": ""
          }
         },
         "name": "Canada",
         "nbinsx": 30,
         "offsetgroup": "Canada",
         "orientation": "v",
         "showlegend": false,
         "type": "histogram",
         "x": [
          34.37792587
         ],
         "xaxis": "x2",
         "yaxis": "y2"
        },
        {
         "alignmentgroup": "True",
         "bingroup": "x",
         "hovertemplate": "Reference area=Chile<br>Place of birth=Foreign-born<br>OBS_VALUE=%{x}<br>count=%{y}<extra></extra>",
         "legendgroup": "Chile",
         "marker": {
          "color": "rgb(237, 173, 8)",
          "pattern": {
           "shape": ""
          }
         },
         "name": "Chile",
         "nbinsx": 30,
         "offsetgroup": "Chile",
         "orientation": "v",
         "showlegend": true,
         "type": "histogram",
         "x": [
          42.62602234
         ],
         "xaxis": "x",
         "yaxis": "y"
        },
        {
         "alignmentgroup": "True",
         "bingroup": "x",
         "hovertemplate": "Reference area=Chile<br>Place of birth=Native-born<br>OBS_VALUE=%{x}<br>count=%{y}<extra></extra>",
         "legendgroup": "Chile",
         "marker": {
          "color": "rgb(237, 173, 8)",
          "pattern": {
           "shape": ""
          }
         },
         "name": "Chile",
         "nbinsx": 30,
         "offsetgroup": "Chile",
         "orientation": "v",
         "showlegend": false,
         "type": "histogram",
         "x": [
          42.0294342
         ],
         "xaxis": "x2",
         "yaxis": "y2"
        },
        {
         "alignmentgroup": "True",
         "bingroup": "x",
         "hovertemplate": "Reference area=Colombia<br>Place of birth=Foreign-born<br>OBS_VALUE=%{x}<br>count=%{y}<extra></extra>",
         "legendgroup": "Colombia",
         "marker": {
          "color": "rgb(225, 124, 5)",
          "pattern": {
           "shape": ""
          }
         },
         "name": "Colombia",
         "nbinsx": 30,
         "offsetgroup": "Colombia",
         "orientation": "v",
         "showlegend": true,
         "type": "histogram",
         "x": [
          42.85206604
         ],
         "xaxis": "x",
         "yaxis": "y"
        },
        {
         "alignmentgroup": "True",
         "bingroup": "x",
         "hovertemplate": "Reference area=Colombia<br>Place of birth=Native-born<br>OBS_VALUE=%{x}<br>count=%{y}<extra></extra>",
         "legendgroup": "Colombia",
         "marker": {
          "color": "rgb(225, 124, 5)",
          "pattern": {
           "shape": ""
          }
         },
         "name": "Colombia",
         "nbinsx": 30,
         "offsetgroup": "Colombia",
         "orientation": "v",
         "showlegend": false,
         "type": "histogram",
         "x": [
          33.873806
         ],
         "xaxis": "x2",
         "yaxis": "y2"
        },
        {
         "alignmentgroup": "True",
         "bingroup": "x",
         "hovertemplate": "Reference area=Costa Rica<br>Place of birth=Foreign-born<br>OBS_VALUE=%{x}<br>count=%{y}<extra></extra>",
         "legendgroup": "Costa Rica",
         "marker": {
          "color": "rgb(204, 80, 62)",
          "pattern": {
           "shape": ""
          }
         },
         "name": "Costa Rica",
         "nbinsx": 30,
         "offsetgroup": "Costa Rica",
         "orientation": "v",
         "showlegend": true,
         "type": "histogram",
         "x": [
          19.72923851
         ],
         "xaxis": "x",
         "yaxis": "y"
        },
        {
         "alignmentgroup": "True",
         "bingroup": "x",
         "hovertemplate": "Reference area=Costa Rica<br>Place of birth=Native-born<br>OBS_VALUE=%{x}<br>count=%{y}<extra></extra>",
         "legendgroup": "Costa Rica",
         "marker": {
          "color": "rgb(204, 80, 62)",
          "pattern": {
           "shape": ""
          }
         },
         "name": "Costa Rica",
         "nbinsx": 30,
         "offsetgroup": "Costa Rica",
         "orientation": "v",
         "showlegend": false,
         "type": "histogram",
         "x": [
          20.2641449
         ],
         "xaxis": "x2",
         "yaxis": "y2"
        },
        {
         "alignmentgroup": "True",
         "bingroup": "x",
         "hovertemplate": "Reference area=Czechia<br>Place of birth=Foreign-born<br>OBS_VALUE=%{x}<br>count=%{y}<extra></extra>",
         "legendgroup": "Czechia",
         "marker": {
          "color": "rgb(148, 52, 110)",
          "pattern": {
           "shape": ""
          }
         },
         "name": "Czechia",
         "nbinsx": 30,
         "offsetgroup": "Czechia",
         "orientation": "v",
         "showlegend": true,
         "type": "histogram",
         "x": [
          28.74621201
         ],
         "xaxis": "x",
         "yaxis": "y"
        },
        {
         "alignmentgroup": "True",
         "bingroup": "x",
         "hovertemplate": "Reference area=Czechia<br>Place of birth=Native-born<br>OBS_VALUE=%{x}<br>count=%{y}<extra></extra>",
         "legendgroup": "Czechia",
         "marker": {
          "color": "rgb(148, 52, 110)",
          "pattern": {
           "shape": ""
          }
         },
         "name": "Czechia",
         "nbinsx": 30,
         "offsetgroup": "Czechia",
         "orientation": "v",
         "showlegend": false,
         "type": "histogram",
         "x": [
          35.47780991
         ],
         "xaxis": "x2",
         "yaxis": "y2"
        },
        {
         "alignmentgroup": "True",
         "bingroup": "x",
         "hovertemplate": "Reference area=Estonia<br>Place of birth=Foreign-born<br>OBS_VALUE=%{x}<br>count=%{y}<extra></extra>",
         "legendgroup": "Estonia",
         "marker": {
          "color": "rgb(111, 64, 112)",
          "pattern": {
           "shape": ""
          }
         },
         "name": "Estonia",
         "nbinsx": 30,
         "offsetgroup": "Estonia",
         "orientation": "v",
         "showlegend": true,
         "type": "histogram",
         "x": [
          43.77045441
         ],
         "xaxis": "x",
         "yaxis": "y"
        },
        {
         "alignmentgroup": "True",
         "bingroup": "x",
         "hovertemplate": "Reference area=Estonia<br>Place of birth=Native-born<br>OBS_VALUE=%{x}<br>count=%{y}<extra></extra>",
         "legendgroup": "Estonia",
         "marker": {
          "color": "rgb(111, 64, 112)",
          "pattern": {
           "shape": ""
          }
         },
         "name": "Estonia",
         "nbinsx": 30,
         "offsetgroup": "Estonia",
         "orientation": "v",
         "showlegend": false,
         "type": "histogram",
         "x": [
          48.36727142
         ],
         "xaxis": "x2",
         "yaxis": "y2"
        },
        {
         "alignmentgroup": "True",
         "bingroup": "x",
         "hovertemplate": "Reference area=European Union (25 countries)<br>Place of birth=Foreign-born<br>OBS_VALUE=%{x}<br>count=%{y}<extra></extra>",
         "legendgroup": "European Union (25 countries)",
         "marker": {
          "color": "rgb(102, 102, 102)",
          "pattern": {
           "shape": ""
          }
         },
         "name": "European Union (25 countries)",
         "nbinsx": 30,
         "offsetgroup": "European Union (25 countries)",
         "orientation": "v",
         "showlegend": true,
         "type": "histogram",
         "x": [
          39.5921768
         ],
         "xaxis": "x",
         "yaxis": "y"
        },
        {
         "alignmentgroup": "True",
         "bingroup": "x",
         "hovertemplate": "Reference area=European Union (25 countries)<br>Place of birth=Native-born<br>OBS_VALUE=%{x}<br>count=%{y}<extra></extra>",
         "legendgroup": "European Union (25 countries)",
         "marker": {
          "color": "rgb(102, 102, 102)",
          "pattern": {
           "shape": ""
          }
         },
         "name": "European Union (25 countries)",
         "nbinsx": 30,
         "offsetgroup": "European Union (25 countries)",
         "orientation": "v",
         "showlegend": false,
         "type": "histogram",
         "x": [
          46.89281091
         ],
         "xaxis": "x2",
         "yaxis": "y2"
        },
        {
         "alignmentgroup": "True",
         "bingroup": "x",
         "hovertemplate": "Reference area=France<br>Place of birth=Foreign-born<br>OBS_VALUE=%{x}<br>count=%{y}<extra></extra>",
         "legendgroup": "France",
         "marker": {
          "color": "rgb(95, 70, 144)",
          "pattern": {
           "shape": ""
          }
         },
         "name": "France",
         "nbinsx": 30,
         "offsetgroup": "France",
         "orientation": "v",
         "showlegend": true,
         "type": "histogram",
         "x": [
          28.78729248
         ],
         "xaxis": "x",
         "yaxis": "y"
        },
        {
         "alignmentgroup": "True",
         "bingroup": "x",
         "hovertemplate": "Reference area=France<br>Place of birth=Native-born<br>OBS_VALUE=%{x}<br>count=%{y}<extra></extra>",
         "legendgroup": "France",
         "marker": {
          "color": "rgb(95, 70, 144)",
          "pattern": {
           "shape": ""
          }
         },
         "name": "France",
         "nbinsx": 30,
         "offsetgroup": "France",
         "orientation": "v",
         "showlegend": false,
         "type": "histogram",
         "x": [
          43.52770996
         ],
         "xaxis": "x2",
         "yaxis": "y2"
        },
        {
         "alignmentgroup": "True",
         "bingroup": "x",
         "hovertemplate": "Reference area=G20<br>Place of birth=Foreign-born<br>OBS_VALUE=%{x}<br>count=%{y}<extra></extra>",
         "legendgroup": "G20",
         "marker": {
          "color": "rgb(29, 105, 150)",
          "pattern": {
           "shape": ""
          }
         },
         "name": "G20",
         "nbinsx": 30,
         "offsetgroup": "G20",
         "orientation": "v",
         "showlegend": true,
         "type": "histogram",
         "x": [
          null
         ],
         "xaxis": "x",
         "yaxis": "y"
        },
        {
         "alignmentgroup": "True",
         "bingroup": "x",
         "hovertemplate": "Reference area=G20<br>Place of birth=Native-born<br>OBS_VALUE=%{x}<br>count=%{y}<extra></extra>",
         "legendgroup": "G20",
         "marker": {
          "color": "rgb(29, 105, 150)",
          "pattern": {
           "shape": ""
          }
         },
         "name": "G20",
         "nbinsx": 30,
         "offsetgroup": "G20",
         "orientation": "v",
         "showlegend": false,
         "type": "histogram",
         "x": [
          null
         ],
         "xaxis": "x2",
         "yaxis": "y2"
        },
        {
         "alignmentgroup": "True",
         "bingroup": "x",
         "hovertemplate": "Reference area=Germany<br>Place of birth=Foreign-born<br>OBS_VALUE=%{x}<br>count=%{y}<extra></extra>",
         "legendgroup": "Germany",
         "marker": {
          "color": "rgb(56, 166, 165)",
          "pattern": {
           "shape": ""
          }
         },
         "name": "Germany",
         "nbinsx": 30,
         "offsetgroup": "Germany",
         "orientation": "v",
         "showlegend": true,
         "type": "histogram",
         "x": [
          34.98344803
         ],
         "xaxis": "x",
         "yaxis": "y"
        },
        {
         "alignmentgroup": "True",
         "bingroup": "x",
         "hovertemplate": "Reference area=Germany<br>Place of birth=Native-born<br>OBS_VALUE=%{x}<br>count=%{y}<extra></extra>",
         "legendgroup": "Germany",
         "marker": {
          "color": "rgb(56, 166, 165)",
          "pattern": {
           "shape": ""
          }
         },
         "name": "Germany",
         "nbinsx": 30,
         "offsetgroup": "Germany",
         "orientation": "v",
         "showlegend": false,
         "type": "histogram",
         "x": [
          54.75814438
         ],
         "xaxis": "x2",
         "yaxis": "y2"
        },
        {
         "alignmentgroup": "True",
         "bingroup": "x",
         "hovertemplate": "Reference area=Greece<br>Place of birth=Foreign-born<br>OBS_VALUE=%{x}<br>count=%{y}<extra></extra>",
         "legendgroup": "Greece",
         "marker": {
          "color": "rgb(15, 133, 84)",
          "pattern": {
           "shape": ""
          }
         },
         "name": "Greece",
         "nbinsx": 30,
         "offsetgroup": "Greece",
         "orientation": "v",
         "showlegend": true,
         "type": "histogram",
         "x": [
          47.87234879
         ],
         "xaxis": "x",
         "yaxis": "y"
        },
        {
         "alignmentgroup": "True",
         "bingroup": "x",
         "hovertemplate": "Reference area=Greece<br>Place of birth=Native-born<br>OBS_VALUE=%{x}<br>count=%{y}<extra></extra>",
         "legendgroup": "Greece",
         "marker": {
          "color": "rgb(15, 133, 84)",
          "pattern": {
           "shape": ""
          }
         },
         "name": "Greece",
         "nbinsx": 30,
         "offsetgroup": "Greece",
         "orientation": "v",
         "showlegend": false,
         "type": "histogram",
         "x": [
          46.30613327
         ],
         "xaxis": "x2",
         "yaxis": "y2"
        },
        {
         "alignmentgroup": "True",
         "bingroup": "x",
         "hovertemplate": "Reference area=Hungary<br>Place of birth=Foreign-born<br>OBS_VALUE=%{x}<br>count=%{y}<extra></extra>",
         "legendgroup": "Hungary",
         "marker": {
          "color": "rgb(115, 175, 72)",
          "pattern": {
           "shape": ""
          }
         },
         "name": "Hungary",
         "nbinsx": 30,
         "offsetgroup": "Hungary",
         "orientation": "v",
         "showlegend": true,
         "type": "histogram",
         "x": [
          48.98677444
         ],
         "xaxis": "x",
         "yaxis": "y"
        },
        {
         "alignmentgroup": "True",
         "bingroup": "x",
         "hovertemplate": "Reference area=Hungary<br>Place of birth=Native-born<br>OBS_VALUE=%{x}<br>count=%{y}<extra></extra>",
         "legendgroup": "Hungary",
         "marker": {
          "color": "rgb(115, 175, 72)",
          "pattern": {
           "shape": ""
          }
         },
         "name": "Hungary",
         "nbinsx": 30,
         "offsetgroup": "Hungary",
         "orientation": "v",
         "showlegend": false,
         "type": "histogram",
         "x": [
          57.84262466
         ],
         "xaxis": "x2",
         "yaxis": "y2"
        },
        {
         "alignmentgroup": "True",
         "bingroup": "x",
         "hovertemplate": "Reference area=Israel<br>Place of birth=Foreign-born<br>OBS_VALUE=%{x}<br>count=%{y}<extra></extra>",
         "legendgroup": "Israel",
         "marker": {
          "color": "rgb(237, 173, 8)",
          "pattern": {
           "shape": ""
          }
         },
         "name": "Israel",
         "nbinsx": 30,
         "offsetgroup": "Israel",
         "orientation": "v",
         "showlegend": true,
         "type": "histogram",
         "x": [
          29.94160461
         ],
         "xaxis": "x",
         "yaxis": "y"
        },
        {
         "alignmentgroup": "True",
         "bingroup": "x",
         "hovertemplate": "Reference area=Israel<br>Place of birth=Native-born<br>OBS_VALUE=%{x}<br>count=%{y}<extra></extra>",
         "legendgroup": "Israel",
         "marker": {
          "color": "rgb(237, 173, 8)",
          "pattern": {
           "shape": ""
          }
         },
         "name": "Israel",
         "nbinsx": 30,
         "offsetgroup": "Israel",
         "orientation": "v",
         "showlegend": false,
         "type": "histogram",
         "x": [
          37.16548157
         ],
         "xaxis": "x2",
         "yaxis": "y2"
        },
        {
         "alignmentgroup": "True",
         "bingroup": "x",
         "hovertemplate": "Reference area=Italy<br>Place of birth=Foreign-born<br>OBS_VALUE=%{x}<br>count=%{y}<extra></extra>",
         "legendgroup": "Italy",
         "marker": {
          "color": "rgb(225, 124, 5)",
          "pattern": {
           "shape": ""
          }
         },
         "name": "Italy",
         "nbinsx": 30,
         "offsetgroup": "Italy",
         "orientation": "v",
         "showlegend": true,
         "type": "histogram",
         "x": [
          42.58736801
         ],
         "xaxis": "x",
         "yaxis": "y"
        },
        {
         "alignmentgroup": "True",
         "bingroup": "x",
         "hovertemplate": "Reference area=Italy<br>Place of birth=Native-born<br>OBS_VALUE=%{x}<br>count=%{y}<extra></extra>",
         "legendgroup": "Italy",
         "marker": {
          "color": "rgb(225, 124, 5)",
          "pattern": {
           "shape": ""
          }
         },
         "name": "Italy",
         "nbinsx": 30,
         "offsetgroup": "Italy",
         "orientation": "v",
         "showlegend": false,
         "type": "histogram",
         "x": [
          44.13784027
         ],
         "xaxis": "x2",
         "yaxis": "y2"
        },
        {
         "alignmentgroup": "True",
         "bingroup": "x",
         "hovertemplate": "Reference area=Latvia<br>Place of birth=Foreign-born<br>OBS_VALUE=%{x}<br>count=%{y}<extra></extra>",
         "legendgroup": "Latvia",
         "marker": {
          "color": "rgb(204, 80, 62)",
          "pattern": {
           "shape": ""
          }
         },
         "name": "Latvia",
         "nbinsx": 30,
         "offsetgroup": "Latvia",
         "orientation": "v",
         "showlegend": true,
         "type": "histogram",
         "x": [
          49.98078156
         ],
         "xaxis": "x",
         "yaxis": "y"
        },
        {
         "alignmentgroup": "True",
         "bingroup": "x",
         "hovertemplate": "Reference area=Latvia<br>Place of birth=Native-born<br>OBS_VALUE=%{x}<br>count=%{y}<extra></extra>",
         "legendgroup": "Latvia",
         "marker": {
          "color": "rgb(204, 80, 62)",
          "pattern": {
           "shape": ""
          }
         },
         "name": "Latvia",
         "nbinsx": 30,
         "offsetgroup": "Latvia",
         "orientation": "v",
         "showlegend": false,
         "type": "histogram",
         "x": [
          49.67399597
         ],
         "xaxis": "x2",
         "yaxis": "y2"
        },
        {
         "alignmentgroup": "True",
         "bingroup": "x",
         "hovertemplate": "Reference area=Lithuania<br>Place of birth=Foreign-born<br>OBS_VALUE=%{x}<br>count=%{y}<extra></extra>",
         "legendgroup": "Lithuania",
         "marker": {
          "color": "rgb(148, 52, 110)",
          "pattern": {
           "shape": ""
          }
         },
         "name": "Lithuania",
         "nbinsx": 30,
         "offsetgroup": "Lithuania",
         "orientation": "v",
         "showlegend": true,
         "type": "histogram",
         "x": [
          50.43571091
         ],
         "xaxis": "x",
         "yaxis": "y"
        },
        {
         "alignmentgroup": "True",
         "bingroup": "x",
         "hovertemplate": "Reference area=Lithuania<br>Place of birth=Native-born<br>OBS_VALUE=%{x}<br>count=%{y}<extra></extra>",
         "legendgroup": "Lithuania",
         "marker": {
          "color": "rgb(148, 52, 110)",
          "pattern": {
           "shape": ""
          }
         },
         "name": "Lithuania",
         "nbinsx": 30,
         "offsetgroup": "Lithuania",
         "orientation": "v",
         "showlegend": false,
         "type": "histogram",
         "x": [
          46.33892059
         ],
         "xaxis": "x2",
         "yaxis": "y2"
        },
        {
         "alignmentgroup": "True",
         "bingroup": "x",
         "hovertemplate": "Reference area=Luxembourg<br>Place of birth=Foreign-born<br>OBS_VALUE=%{x}<br>count=%{y}<extra></extra>",
         "legendgroup": "Luxembourg",
         "marker": {
          "color": "rgb(111, 64, 112)",
          "pattern": {
           "shape": ""
          }
         },
         "name": "Luxembourg",
         "nbinsx": 30,
         "offsetgroup": "Luxembourg",
         "orientation": "v",
         "showlegend": true,
         "type": "histogram",
         "x": [
          21.11701584
         ],
         "xaxis": "x",
         "yaxis": "y"
        },
        {
         "alignmentgroup": "True",
         "bingroup": "x",
         "hovertemplate": "Reference area=Luxembourg<br>Place of birth=Native-born<br>OBS_VALUE=%{x}<br>count=%{y}<extra></extra>",
         "legendgroup": "Luxembourg",
         "marker": {
          "color": "rgb(111, 64, 112)",
          "pattern": {
           "shape": ""
          }
         },
         "name": "Luxembourg",
         "nbinsx": 30,
         "offsetgroup": "Luxembourg",
         "orientation": "v",
         "showlegend": false,
         "type": "histogram",
         "x": [
          43.24528503
         ],
         "xaxis": "x2",
         "yaxis": "y2"
        },
        {
         "alignmentgroup": "True",
         "bingroup": "x",
         "hovertemplate": "Reference area=Mexico<br>Place of birth=Foreign-born<br>OBS_VALUE=%{x}<br>count=%{y}<extra></extra>",
         "legendgroup": "Mexico",
         "marker": {
          "color": "rgb(102, 102, 102)",
          "pattern": {
           "shape": ""
          }
         },
         "name": "Mexico",
         "nbinsx": 30,
         "offsetgroup": "Mexico",
         "orientation": "v",
         "showlegend": true,
         "type": "histogram",
         "x": [
          32.67081833
         ],
         "xaxis": "x",
         "yaxis": "y"
        },
        {
         "alignmentgroup": "True",
         "bingroup": "x",
         "hovertemplate": "Reference area=Mexico<br>Place of birth=Native-born<br>OBS_VALUE=%{x}<br>count=%{y}<extra></extra>",
         "legendgroup": "Mexico",
         "marker": {
          "color": "rgb(102, 102, 102)",
          "pattern": {
           "shape": ""
          }
         },
         "name": "Mexico",
         "nbinsx": 30,
         "offsetgroup": "Mexico",
         "orientation": "v",
         "showlegend": false,
         "type": "histogram",
         "x": [
          23.43372154
         ],
         "xaxis": "x2",
         "yaxis": "y2"
        },
        {
         "alignmentgroup": "True",
         "bingroup": "x",
         "hovertemplate": "Reference area=Netherlands<br>Place of birth=Foreign-born<br>OBS_VALUE=%{x}<br>count=%{y}<extra></extra>",
         "legendgroup": "Netherlands",
         "marker": {
          "color": "rgb(95, 70, 144)",
          "pattern": {
           "shape": ""
          }
         },
         "name": "Netherlands",
         "nbinsx": 30,
         "offsetgroup": "Netherlands",
         "orientation": "v",
         "showlegend": true,
         "type": "histogram",
         "x": [
          28.98631287
         ],
         "xaxis": "x",
         "yaxis": "y"
        },
        {
         "alignmentgroup": "True",
         "bingroup": "x",
         "hovertemplate": "Reference area=Netherlands<br>Place of birth=Native-born<br>OBS_VALUE=%{x}<br>count=%{y}<extra></extra>",
         "legendgroup": "Netherlands",
         "marker": {
          "color": "rgb(95, 70, 144)",
          "pattern": {
           "shape": ""
          }
         },
         "name": "Netherlands",
         "nbinsx": 30,
         "offsetgroup": "Netherlands",
         "orientation": "v",
         "showlegend": false,
         "type": "histogram",
         "x": [
          39.9494133
         ],
         "xaxis": "x2",
         "yaxis": "y2"
        },
        {
         "alignmentgroup": "True",
         "bingroup": "x",
         "hovertemplate": "Reference area=New Zealand<br>Place of birth=Foreign-born<br>OBS_VALUE=%{x}<br>count=%{y}<extra></extra>",
         "legendgroup": "New Zealand",
         "marker": {
          "color": "rgb(29, 105, 150)",
          "pattern": {
           "shape": ""
          }
         },
         "name": "New Zealand",
         "nbinsx": 30,
         "offsetgroup": "New Zealand",
         "orientation": "v",
         "showlegend": true,
         "type": "histogram",
         "x": [
          39.56650543
         ],
         "xaxis": "x",
         "yaxis": "y"
        },
        {
         "alignmentgroup": "True",
         "bingroup": "x",
         "hovertemplate": "Reference area=New Zealand<br>Place of birth=Native-born<br>OBS_VALUE=%{x}<br>count=%{y}<extra></extra>",
         "legendgroup": "New Zealand",
         "marker": {
          "color": "rgb(29, 105, 150)",
          "pattern": {
           "shape": ""
          }
         },
         "name": "New Zealand",
         "nbinsx": 30,
         "offsetgroup": "New Zealand",
         "orientation": "v",
         "showlegend": false,
         "type": "histogram",
         "x": [
          42.07169342
         ],
         "xaxis": "x2",
         "yaxis": "y2"
        },
        {
         "alignmentgroup": "True",
         "bingroup": "x",
         "hovertemplate": "Reference area=Norway<br>Place of birth=Foreign-born<br>OBS_VALUE=%{x}<br>count=%{y}<extra></extra>",
         "legendgroup": "Norway",
         "marker": {
          "color": "rgb(56, 166, 165)",
          "pattern": {
           "shape": ""
          }
         },
         "name": "Norway",
         "nbinsx": 30,
         "offsetgroup": "Norway",
         "orientation": "v",
         "showlegend": true,
         "type": "histogram",
         "x": [
          30.0872097
         ],
         "xaxis": "x",
         "yaxis": "y"
        },
        {
         "alignmentgroup": "True",
         "bingroup": "x",
         "hovertemplate": "Reference area=Norway<br>Place of birth=Native-born<br>OBS_VALUE=%{x}<br>count=%{y}<extra></extra>",
         "legendgroup": "Norway",
         "marker": {
          "color": "rgb(56, 166, 165)",
          "pattern": {
           "shape": ""
          }
         },
         "name": "Norway",
         "nbinsx": 30,
         "offsetgroup": "Norway",
         "orientation": "v",
         "showlegend": false,
         "type": "histogram",
         "x": [
          36.28034973
         ],
         "xaxis": "x2",
         "yaxis": "y2"
        },
        {
         "alignmentgroup": "True",
         "bingroup": "x",
         "hovertemplate": "Reference area=OECD<br>Place of birth=Foreign-born<br>OBS_VALUE=%{x}<br>count=%{y}<extra></extra>",
         "legendgroup": "OECD",
         "marker": {
          "color": "rgb(15, 133, 84)",
          "pattern": {
           "shape": ""
          }
         },
         "name": "OECD",
         "nbinsx": 30,
         "offsetgroup": "OECD",
         "orientation": "v",
         "showlegend": true,
         "type": "histogram",
         "x": [
          35.21255935
         ],
         "xaxis": "x",
         "yaxis": "y"
        },
        {
         "alignmentgroup": "True",
         "bingroup": "x",
         "hovertemplate": "Reference area=OECD<br>Place of birth=Native-born<br>OBS_VALUE=%{x}<br>count=%{y}<extra></extra>",
         "legendgroup": "OECD",
         "marker": {
          "color": "rgb(15, 133, 84)",
          "pattern": {
           "shape": ""
          }
         },
         "name": "OECD",
         "nbinsx": 30,
         "offsetgroup": "OECD",
         "orientation": "v",
         "showlegend": false,
         "type": "histogram",
         "x": [
          41.98069865
         ],
         "xaxis": "x2",
         "yaxis": "y2"
        },
        {
         "alignmentgroup": "True",
         "bingroup": "x",
         "hovertemplate": "Reference area=Poland<br>Place of birth=Foreign-born<br>OBS_VALUE=%{x}<br>count=%{y}<extra></extra>",
         "legendgroup": "Poland",
         "marker": {
          "color": "rgb(115, 175, 72)",
          "pattern": {
           "shape": ""
          }
         },
         "name": "Poland",
         "nbinsx": 30,
         "offsetgroup": "Poland",
         "orientation": "v",
         "showlegend": true,
         "type": "histogram",
         "x": [
          41.49289703
         ],
         "xaxis": "x",
         "yaxis": "y"
        },
        {
         "alignmentgroup": "True",
         "bingroup": "x",
         "hovertemplate": "Reference area=Poland<br>Place of birth=Native-born<br>OBS_VALUE=%{x}<br>count=%{y}<extra></extra>",
         "legendgroup": "Poland",
         "marker": {
          "color": "rgb(115, 175, 72)",
          "pattern": {
           "shape": ""
          }
         },
         "name": "Poland",
         "nbinsx": 30,
         "offsetgroup": "Poland",
         "orientation": "v",
         "showlegend": false,
         "type": "histogram",
         "x": [
          56.64398575
         ],
         "xaxis": "x2",
         "yaxis": "y2"
        },
        {
         "alignmentgroup": "True",
         "bingroup": "x",
         "hovertemplate": "Reference area=Portugal<br>Place of birth=Foreign-born<br>OBS_VALUE=%{x}<br>count=%{y}<extra></extra>",
         "legendgroup": "Portugal",
         "marker": {
          "color": "rgb(237, 173, 8)",
          "pattern": {
           "shape": ""
          }
         },
         "name": "Portugal",
         "nbinsx": 30,
         "offsetgroup": "Portugal",
         "orientation": "v",
         "showlegend": true,
         "type": "histogram",
         "x": [
          39.38708115
         ],
         "xaxis": "x",
         "yaxis": "y"
        },
        {
         "alignmentgroup": "True",
         "bingroup": "x",
         "hovertemplate": "Reference area=Portugal<br>Place of birth=Native-born<br>OBS_VALUE=%{x}<br>count=%{y}<extra></extra>",
         "legendgroup": "Portugal",
         "marker": {
          "color": "rgb(237, 173, 8)",
          "pattern": {
           "shape": ""
          }
         },
         "name": "Portugal",
         "nbinsx": 30,
         "offsetgroup": "Portugal",
         "orientation": "v",
         "showlegend": false,
         "type": "histogram",
         "x": [
          27.89471436
         ],
         "xaxis": "x2",
         "yaxis": "y2"
        },
        {
         "alignmentgroup": "True",
         "bingroup": "x",
         "hovertemplate": "Reference area=Romania<br>Place of birth=Foreign-born<br>OBS_VALUE=%{x}<br>count=%{y}<extra></extra>",
         "legendgroup": "Romania",
         "marker": {
          "color": "rgb(225, 124, 5)",
          "pattern": {
           "shape": ""
          }
         },
         "name": "Romania",
         "nbinsx": 30,
         "offsetgroup": "Romania",
         "orientation": "v",
         "showlegend": true,
         "type": "histogram",
         "x": [
          52.87546539
         ],
         "xaxis": "x",
         "yaxis": "y"
        },
        {
         "alignmentgroup": "True",
         "bingroup": "x",
         "hovertemplate": "Reference area=Romania<br>Place of birth=Native-born<br>OBS_VALUE=%{x}<br>count=%{y}<extra></extra>",
         "legendgroup": "Romania",
         "marker": {
          "color": "rgb(225, 124, 5)",
          "pattern": {
           "shape": ""
          }
         },
         "name": "Romania",
         "nbinsx": 30,
         "offsetgroup": "Romania",
         "orientation": "v",
         "showlegend": false,
         "type": "histogram",
         "x": [
          61.79627609
         ],
         "xaxis": "x2",
         "yaxis": "y2"
        },
        {
         "alignmentgroup": "True",
         "bingroup": "x",
         "hovertemplate": "Reference area=Slovak Republic<br>Place of birth=Foreign-born<br>OBS_VALUE=%{x}<br>count=%{y}<extra></extra>",
         "legendgroup": "Slovak Republic",
         "marker": {
          "color": "rgb(204, 80, 62)",
          "pattern": {
           "shape": ""
          }
         },
         "name": "Slovak Republic",
         "nbinsx": 30,
         "offsetgroup": "Slovak Republic",
         "orientation": "v",
         "showlegend": true,
         "type": "histogram",
         "x": [
          53.96113968
         ],
         "xaxis": "x",
         "yaxis": "y"
        },
        {
         "alignmentgroup": "True",
         "bingroup": "x",
         "hovertemplate": "Reference area=Slovak Republic<br>Place of birth=Native-born<br>OBS_VALUE=%{x}<br>count=%{y}<extra></extra>",
         "legendgroup": "Slovak Republic",
         "marker": {
          "color": "rgb(204, 80, 62)",
          "pattern": {
           "shape": ""
          }
         },
         "name": "Slovak Republic",
         "nbinsx": 30,
         "offsetgroup": "Slovak Republic",
         "orientation": "v",
         "showlegend": false,
         "type": "histogram",
         "x": [
          64.94944
         ],
         "xaxis": "x2",
         "yaxis": "y2"
        },
        {
         "alignmentgroup": "True",
         "bingroup": "x",
         "hovertemplate": "Reference area=Slovenia<br>Place of birth=Foreign-born<br>OBS_VALUE=%{x}<br>count=%{y}<extra></extra>",
         "legendgroup": "Slovenia",
         "marker": {
          "color": "rgb(148, 52, 110)",
          "pattern": {
           "shape": ""
          }
         },
         "name": "Slovenia",
         "nbinsx": 30,
         "offsetgroup": "Slovenia",
         "orientation": "v",
         "showlegend": true,
         "type": "histogram",
         "x": [
          59.49367142
         ],
         "xaxis": "x",
         "yaxis": "y"
        },
        {
         "alignmentgroup": "True",
         "bingroup": "x",
         "hovertemplate": "Reference area=Slovenia<br>Place of birth=Native-born<br>OBS_VALUE=%{x}<br>count=%{y}<extra></extra>",
         "legendgroup": "Slovenia",
         "marker": {
          "color": "rgb(148, 52, 110)",
          "pattern": {
           "shape": ""
          }
         },
         "name": "Slovenia",
         "nbinsx": 30,
         "offsetgroup": "Slovenia",
         "orientation": "v",
         "showlegend": false,
         "type": "histogram",
         "x": [
          53.8065834
         ],
         "xaxis": "x2",
         "yaxis": "y2"
        },
        {
         "alignmentgroup": "True",
         "bingroup": "x",
         "hovertemplate": "Reference area=Spain<br>Place of birth=Foreign-born<br>OBS_VALUE=%{x}<br>count=%{y}<extra></extra>",
         "legendgroup": "Spain",
         "marker": {
          "color": "rgb(111, 64, 112)",
          "pattern": {
           "shape": ""
          }
         },
         "name": "Spain",
         "nbinsx": 30,
         "offsetgroup": "Spain",
         "orientation": "v",
         "showlegend": true,
         "type": "histogram",
         "x": [
          28.5496769
         ],
         "xaxis": "x",
         "yaxis": "y"
        },
        {
         "alignmentgroup": "True",
         "bingroup": "x",
         "hovertemplate": "Reference area=Spain<br>Place of birth=Native-born<br>OBS_VALUE=%{x}<br>count=%{y}<extra></extra>",
         "legendgroup": "Spain",
         "marker": {
          "color": "rgb(111, 64, 112)",
          "pattern": {
           "shape": ""
          }
         },
         "name": "Spain",
         "nbinsx": 30,
         "offsetgroup": "Spain",
         "orientation": "v",
         "showlegend": false,
         "type": "histogram",
         "x": [
          21.04017067
         ],
         "xaxis": "x2",
         "yaxis": "y2"
        },
        {
         "alignmentgroup": "True",
         "bingroup": "x",
         "hovertemplate": "Reference area=Sweden<br>Place of birth=Foreign-born<br>OBS_VALUE=%{x}<br>count=%{y}<extra></extra>",
         "legendgroup": "Sweden",
         "marker": {
          "color": "rgb(102, 102, 102)",
          "pattern": {
           "shape": ""
          }
         },
         "name": "Sweden",
         "nbinsx": 30,
         "offsetgroup": "Sweden",
         "orientation": "v",
         "showlegend": true,
         "type": "histogram",
         "x": [
          21.54424095
         ],
         "xaxis": "x",
         "yaxis": "y"
        },
        {
         "alignmentgroup": "True",
         "bingroup": "x",
         "hovertemplate": "Reference area=Sweden<br>Place of birth=Native-born<br>OBS_VALUE=%{x}<br>count=%{y}<extra></extra>",
         "legendgroup": "Sweden",
         "marker": {
          "color": "rgb(102, 102, 102)",
          "pattern": {
           "shape": ""
          }
         },
         "name": "Sweden",
         "nbinsx": 30,
         "offsetgroup": "Sweden",
         "orientation": "v",
         "showlegend": false,
         "type": "histogram",
         "x": [
          41.6648407
         ],
         "xaxis": "x2",
         "yaxis": "y2"
        },
        {
         "alignmentgroup": "True",
         "bingroup": "x",
         "hovertemplate": "Reference area=Switzerland<br>Place of birth=Foreign-born<br>OBS_VALUE=%{x}<br>count=%{y}<extra></extra>",
         "legendgroup": "Switzerland",
         "marker": {
          "color": "rgb(95, 70, 144)",
          "pattern": {
           "shape": ""
          }
         },
         "name": "Switzerland",
         "nbinsx": 30,
         "offsetgroup": "Switzerland",
         "orientation": "v",
         "showlegend": true,
         "type": "histogram",
         "x": [
          26.15987968
         ],
         "xaxis": "x",
         "yaxis": "y"
        },
        {
         "alignmentgroup": "True",
         "bingroup": "x",
         "hovertemplate": "Reference area=Switzerland<br>Place of birth=Native-born<br>OBS_VALUE=%{x}<br>count=%{y}<extra></extra>",
         "legendgroup": "Switzerland",
         "marker": {
          "color": "rgb(95, 70, 144)",
          "pattern": {
           "shape": ""
          }
         },
         "name": "Switzerland",
         "nbinsx": 30,
         "offsetgroup": "Switzerland",
         "orientation": "v",
         "showlegend": false,
         "type": "histogram",
         "x": [
          48.95915222
         ],
         "xaxis": "x2",
         "yaxis": "y2"
        },
        {
         "alignmentgroup": "True",
         "bingroup": "x",
         "hovertemplate": "Reference area=United Kingdom<br>Place of birth=Foreign-born<br>OBS_VALUE=%{x}<br>count=%{y}<extra></extra>",
         "legendgroup": "United Kingdom",
         "marker": {
          "color": "rgb(29, 105, 150)",
          "pattern": {
           "shape": ""
          }
         },
         "name": "United Kingdom",
         "nbinsx": 30,
         "offsetgroup": "United Kingdom",
         "orientation": "v",
         "showlegend": true,
         "type": "histogram",
         "x": [
          14.58166218
         ],
         "xaxis": "x",
         "yaxis": "y"
        },
        {
         "alignmentgroup": "True",
         "bingroup": "x",
         "hovertemplate": "Reference area=United Kingdom<br>Place of birth=Native-born<br>OBS_VALUE=%{x}<br>count=%{y}<extra></extra>",
         "legendgroup": "United Kingdom",
         "marker": {
          "color": "rgb(29, 105, 150)",
          "pattern": {
           "shape": ""
          }
         },
         "name": "United Kingdom",
         "nbinsx": 30,
         "offsetgroup": "United Kingdom",
         "orientation": "v",
         "showlegend": false,
         "type": "histogram",
         "x": [
          33.09085083
         ],
         "xaxis": "x2",
         "yaxis": "y2"
        },
        {
         "alignmentgroup": "True",
         "bingroup": "x",
         "hovertemplate": "Reference area=United States<br>Place of birth=Foreign-born<br>OBS_VALUE=%{x}<br>count=%{y}<extra></extra>",
         "legendgroup": "United States",
         "marker": {
          "color": "rgb(56, 166, 165)",
          "pattern": {
           "shape": ""
          }
         },
         "name": "United States",
         "nbinsx": 30,
         "offsetgroup": "United States",
         "orientation": "v",
         "showlegend": true,
         "type": "histogram",
         "x": [
          34.67574692
         ],
         "xaxis": "x",
         "yaxis": "y"
        },
        {
         "alignmentgroup": "True",
         "bingroup": "x",
         "hovertemplate": "Reference area=United States<br>Place of birth=Native-born<br>OBS_VALUE=%{x}<br>count=%{y}<extra></extra>",
         "legendgroup": "United States",
         "marker": {
          "color": "rgb(56, 166, 165)",
          "pattern": {
           "shape": ""
          }
         },
         "name": "United States",
         "nbinsx": 30,
         "offsetgroup": "United States",
         "orientation": "v",
         "showlegend": false,
         "type": "histogram",
         "x": [
          42.98094177
         ],
         "xaxis": "x2",
         "yaxis": "y2"
        }
       ],
       "layout": {
        "annotations": [
         {
          "font": {},
          "showarrow": false,
          "text": "Foreign-born",
          "x": 0.245,
          "xanchor": "center",
          "xref": "paper",
          "y": 1,
          "yanchor": "bottom",
          "yref": "paper"
         },
         {
          "font": {},
          "showarrow": false,
          "text": "Native-born",
          "x": 0.755,
          "xanchor": "center",
          "xref": "paper",
          "y": 1,
          "yanchor": "bottom",
          "yref": "paper"
         }
        ],
        "autosize": false,
        "bargap": 0.02,
        "barmode": "relative",
        "height": 500,
        "legend": {
         "title": {
          "text": "Country"
         },
         "tracegroupgap": 0
        },
        "margin": {
         "t": 60
        },
        "template": {
         "data": {
          "bar": [
           {
            "error_x": {
             "color": "#2a3f5f"
            },
            "error_y": {
             "color": "#2a3f5f"
            },
            "marker": {
             "line": {
              "color": "#E5ECF6",
              "width": 0.5
             },
             "pattern": {
              "fillmode": "overlay",
              "size": 10,
              "solidity": 0.2
             }
            },
            "type": "bar"
           }
          ],
          "barpolar": [
           {
            "marker": {
             "line": {
              "color": "#E5ECF6",
              "width": 0.5
             },
             "pattern": {
              "fillmode": "overlay",
              "size": 10,
              "solidity": 0.2
             }
            },
            "type": "barpolar"
           }
          ],
          "carpet": [
           {
            "aaxis": {
             "endlinecolor": "#2a3f5f",
             "gridcolor": "white",
             "linecolor": "white",
             "minorgridcolor": "white",
             "startlinecolor": "#2a3f5f"
            },
            "baxis": {
             "endlinecolor": "#2a3f5f",
             "gridcolor": "white",
             "linecolor": "white",
             "minorgridcolor": "white",
             "startlinecolor": "#2a3f5f"
            },
            "type": "carpet"
           }
          ],
          "choropleth": [
           {
            "colorbar": {
             "outlinewidth": 0,
             "ticks": ""
            },
            "type": "choropleth"
           }
          ],
          "contour": [
           {
            "colorbar": {
             "outlinewidth": 0,
             "ticks": ""
            },
            "colorscale": [
             [
              0,
              "#0d0887"
             ],
             [
              0.1111111111111111,
              "#46039f"
             ],
             [
              0.2222222222222222,
              "#7201a8"
             ],
             [
              0.3333333333333333,
              "#9c179e"
             ],
             [
              0.4444444444444444,
              "#bd3786"
             ],
             [
              0.5555555555555556,
              "#d8576b"
             ],
             [
              0.6666666666666666,
              "#ed7953"
             ],
             [
              0.7777777777777778,
              "#fb9f3a"
             ],
             [
              0.8888888888888888,
              "#fdca26"
             ],
             [
              1,
              "#f0f921"
             ]
            ],
            "type": "contour"
           }
          ],
          "contourcarpet": [
           {
            "colorbar": {
             "outlinewidth": 0,
             "ticks": ""
            },
            "type": "contourcarpet"
           }
          ],
          "heatmap": [
           {
            "colorbar": {
             "outlinewidth": 0,
             "ticks": ""
            },
            "colorscale": [
             [
              0,
              "#0d0887"
             ],
             [
              0.1111111111111111,
              "#46039f"
             ],
             [
              0.2222222222222222,
              "#7201a8"
             ],
             [
              0.3333333333333333,
              "#9c179e"
             ],
             [
              0.4444444444444444,
              "#bd3786"
             ],
             [
              0.5555555555555556,
              "#d8576b"
             ],
             [
              0.6666666666666666,
              "#ed7953"
             ],
             [
              0.7777777777777778,
              "#fb9f3a"
             ],
             [
              0.8888888888888888,
              "#fdca26"
             ],
             [
              1,
              "#f0f921"
             ]
            ],
            "type": "heatmap"
           }
          ],
          "heatmapgl": [
           {
            "colorbar": {
             "outlinewidth": 0,
             "ticks": ""
            },
            "colorscale": [
             [
              0,
              "#0d0887"
             ],
             [
              0.1111111111111111,
              "#46039f"
             ],
             [
              0.2222222222222222,
              "#7201a8"
             ],
             [
              0.3333333333333333,
              "#9c179e"
             ],
             [
              0.4444444444444444,
              "#bd3786"
             ],
             [
              0.5555555555555556,
              "#d8576b"
             ],
             [
              0.6666666666666666,
              "#ed7953"
             ],
             [
              0.7777777777777778,
              "#fb9f3a"
             ],
             [
              0.8888888888888888,
              "#fdca26"
             ],
             [
              1,
              "#f0f921"
             ]
            ],
            "type": "heatmapgl"
           }
          ],
          "histogram": [
           {
            "marker": {
             "pattern": {
              "fillmode": "overlay",
              "size": 10,
              "solidity": 0.2
             }
            },
            "type": "histogram"
           }
          ],
          "histogram2d": [
           {
            "colorbar": {
             "outlinewidth": 0,
             "ticks": ""
            },
            "colorscale": [
             [
              0,
              "#0d0887"
             ],
             [
              0.1111111111111111,
              "#46039f"
             ],
             [
              0.2222222222222222,
              "#7201a8"
             ],
             [
              0.3333333333333333,
              "#9c179e"
             ],
             [
              0.4444444444444444,
              "#bd3786"
             ],
             [
              0.5555555555555556,
              "#d8576b"
             ],
             [
              0.6666666666666666,
              "#ed7953"
             ],
             [
              0.7777777777777778,
              "#fb9f3a"
             ],
             [
              0.8888888888888888,
              "#fdca26"
             ],
             [
              1,
              "#f0f921"
             ]
            ],
            "type": "histogram2d"
           }
          ],
          "histogram2dcontour": [
           {
            "colorbar": {
             "outlinewidth": 0,
             "ticks": ""
            },
            "colorscale": [
             [
              0,
              "#0d0887"
             ],
             [
              0.1111111111111111,
              "#46039f"
             ],
             [
              0.2222222222222222,
              "#7201a8"
             ],
             [
              0.3333333333333333,
              "#9c179e"
             ],
             [
              0.4444444444444444,
              "#bd3786"
             ],
             [
              0.5555555555555556,
              "#d8576b"
             ],
             [
              0.6666666666666666,
              "#ed7953"
             ],
             [
              0.7777777777777778,
              "#fb9f3a"
             ],
             [
              0.8888888888888888,
              "#fdca26"
             ],
             [
              1,
              "#f0f921"
             ]
            ],
            "type": "histogram2dcontour"
           }
          ],
          "mesh3d": [
           {
            "colorbar": {
             "outlinewidth": 0,
             "ticks": ""
            },
            "type": "mesh3d"
           }
          ],
          "parcoords": [
           {
            "line": {
             "colorbar": {
              "outlinewidth": 0,
              "ticks": ""
             }
            },
            "type": "parcoords"
           }
          ],
          "pie": [
           {
            "automargin": true,
            "type": "pie"
           }
          ],
          "scatter": [
           {
            "fillpattern": {
             "fillmode": "overlay",
             "size": 10,
             "solidity": 0.2
            },
            "type": "scatter"
           }
          ],
          "scatter3d": [
           {
            "line": {
             "colorbar": {
              "outlinewidth": 0,
              "ticks": ""
             }
            },
            "marker": {
             "colorbar": {
              "outlinewidth": 0,
              "ticks": ""
             }
            },
            "type": "scatter3d"
           }
          ],
          "scattercarpet": [
           {
            "marker": {
             "colorbar": {
              "outlinewidth": 0,
              "ticks": ""
             }
            },
            "type": "scattercarpet"
           }
          ],
          "scattergeo": [
           {
            "marker": {
             "colorbar": {
              "outlinewidth": 0,
              "ticks": ""
             }
            },
            "type": "scattergeo"
           }
          ],
          "scattergl": [
           {
            "marker": {
             "colorbar": {
              "outlinewidth": 0,
              "ticks": ""
             }
            },
            "type": "scattergl"
           }
          ],
          "scattermapbox": [
           {
            "marker": {
             "colorbar": {
              "outlinewidth": 0,
              "ticks": ""
             }
            },
            "type": "scattermapbox"
           }
          ],
          "scatterpolar": [
           {
            "marker": {
             "colorbar": {
              "outlinewidth": 0,
              "ticks": ""
             }
            },
            "type": "scatterpolar"
           }
          ],
          "scatterpolargl": [
           {
            "marker": {
             "colorbar": {
              "outlinewidth": 0,
              "ticks": ""
             }
            },
            "type": "scatterpolargl"
           }
          ],
          "scatterternary": [
           {
            "marker": {
             "colorbar": {
              "outlinewidth": 0,
              "ticks": ""
             }
            },
            "type": "scatterternary"
           }
          ],
          "surface": [
           {
            "colorbar": {
             "outlinewidth": 0,
             "ticks": ""
            },
            "colorscale": [
             [
              0,
              "#0d0887"
             ],
             [
              0.1111111111111111,
              "#46039f"
             ],
             [
              0.2222222222222222,
              "#7201a8"
             ],
             [
              0.3333333333333333,
              "#9c179e"
             ],
             [
              0.4444444444444444,
              "#bd3786"
             ],
             [
              0.5555555555555556,
              "#d8576b"
             ],
             [
              0.6666666666666666,
              "#ed7953"
             ],
             [
              0.7777777777777778,
              "#fb9f3a"
             ],
             [
              0.8888888888888888,
              "#fdca26"
             ],
             [
              1,
              "#f0f921"
             ]
            ],
            "type": "surface"
           }
          ],
          "table": [
           {
            "cells": {
             "fill": {
              "color": "#EBF0F8"
             },
             "line": {
              "color": "white"
             }
            },
            "header": {
             "fill": {
              "color": "#C8D4E3"
             },
             "line": {
              "color": "white"
             }
            },
            "type": "table"
           }
          ]
         },
         "layout": {
          "annotationdefaults": {
           "arrowcolor": "#2a3f5f",
           "arrowhead": 0,
           "arrowwidth": 1
          },
          "autotypenumbers": "strict",
          "coloraxis": {
           "colorbar": {
            "outlinewidth": 0,
            "ticks": ""
           }
          },
          "colorscale": {
           "diverging": [
            [
             0,
             "#8e0152"
            ],
            [
             0.1,
             "#c51b7d"
            ],
            [
             0.2,
             "#de77ae"
            ],
            [
             0.3,
             "#f1b6da"
            ],
            [
             0.4,
             "#fde0ef"
            ],
            [
             0.5,
             "#f7f7f7"
            ],
            [
             0.6,
             "#e6f5d0"
            ],
            [
             0.7,
             "#b8e186"
            ],
            [
             0.8,
             "#7fbc41"
            ],
            [
             0.9,
             "#4d9221"
            ],
            [
             1,
             "#276419"
            ]
           ],
           "sequential": [
            [
             0,
             "#0d0887"
            ],
            [
             0.1111111111111111,
             "#46039f"
            ],
            [
             0.2222222222222222,
             "#7201a8"
            ],
            [
             0.3333333333333333,
             "#9c179e"
            ],
            [
             0.4444444444444444,
             "#bd3786"
            ],
            [
             0.5555555555555556,
             "#d8576b"
            ],
            [
             0.6666666666666666,
             "#ed7953"
            ],
            [
             0.7777777777777778,
             "#fb9f3a"
            ],
            [
             0.8888888888888888,
             "#fdca26"
            ],
            [
             1,
             "#f0f921"
            ]
           ],
           "sequentialminus": [
            [
             0,
             "#0d0887"
            ],
            [
             0.1111111111111111,
             "#46039f"
            ],
            [
             0.2222222222222222,
             "#7201a8"
            ],
            [
             0.3333333333333333,
             "#9c179e"
            ],
            [
             0.4444444444444444,
             "#bd3786"
            ],
            [
             0.5555555555555556,
             "#d8576b"
            ],
            [
             0.6666666666666666,
             "#ed7953"
            ],
            [
             0.7777777777777778,
             "#fb9f3a"
            ],
            [
             0.8888888888888888,
             "#fdca26"
            ],
            [
             1,
             "#f0f921"
            ]
           ]
          },
          "colorway": [
           "#636efa",
           "#EF553B",
           "#00cc96",
           "#ab63fa",
           "#FFA15A",
           "#19d3f3",
           "#FF6692",
           "#B6E880",
           "#FF97FF",
           "#FECB52"
          ],
          "font": {
           "color": "#2a3f5f"
          },
          "geo": {
           "bgcolor": "white",
           "lakecolor": "white",
           "landcolor": "#E5ECF6",
           "showlakes": true,
           "showland": true,
           "subunitcolor": "white"
          },
          "hoverlabel": {
           "align": "left"
          },
          "hovermode": "closest",
          "mapbox": {
           "style": "light"
          },
          "paper_bgcolor": "white",
          "plot_bgcolor": "#E5ECF6",
          "polar": {
           "angularaxis": {
            "gridcolor": "white",
            "linecolor": "white",
            "ticks": ""
           },
           "bgcolor": "#E5ECF6",
           "radialaxis": {
            "gridcolor": "white",
            "linecolor": "white",
            "ticks": ""
           }
          },
          "scene": {
           "xaxis": {
            "backgroundcolor": "#E5ECF6",
            "gridcolor": "white",
            "gridwidth": 2,
            "linecolor": "white",
            "showbackground": true,
            "ticks": "",
            "zerolinecolor": "white"
           },
           "yaxis": {
            "backgroundcolor": "#E5ECF6",
            "gridcolor": "white",
            "gridwidth": 2,
            "linecolor": "white",
            "showbackground": true,
            "ticks": "",
            "zerolinecolor": "white"
           },
           "zaxis": {
            "backgroundcolor": "#E5ECF6",
            "gridcolor": "white",
            "gridwidth": 2,
            "linecolor": "white",
            "showbackground": true,
            "ticks": "",
            "zerolinecolor": "white"
           }
          },
          "shapedefaults": {
           "line": {
            "color": "#2a3f5f"
           }
          },
          "ternary": {
           "aaxis": {
            "gridcolor": "white",
            "linecolor": "white",
            "ticks": ""
           },
           "baxis": {
            "gridcolor": "white",
            "linecolor": "white",
            "ticks": ""
           },
           "bgcolor": "#E5ECF6",
           "caxis": {
            "gridcolor": "white",
            "linecolor": "white",
            "ticks": ""
           }
          },
          "title": {
           "x": 0.05
          },
          "xaxis": {
           "automargin": true,
           "gridcolor": "white",
           "linecolor": "white",
           "ticks": "",
           "title": {
            "standoff": 15
           },
           "zerolinecolor": "white",
           "zerolinewidth": 2
          },
          "yaxis": {
           "automargin": true,
           "gridcolor": "white",
           "linecolor": "white",
           "ticks": "",
           "title": {
            "standoff": 15
           },
           "zerolinecolor": "white",
           "zerolinewidth": 2
          }
         }
        },
        "title": {
         "text": "Percent of Population ages 24-60 w/ a Upper secondary or post-secondary non-tertiary education",
         "x": 0.5
        },
        "width": 1200,
        "xaxis": {
         "anchor": "y",
         "autorange": true,
         "domain": [
          0,
          0.49
         ],
         "range": [
          14,
          66
         ],
         "title": {
          "text": "Observation Percentage"
         },
         "type": "linear"
        },
        "xaxis2": {
         "anchor": "y2",
         "autorange": true,
         "domain": [
          0.51,
          1
         ],
         "matches": "x",
         "range": [
          14,
          66
         ],
         "title": {
          "text": "Observation Percentage"
         },
         "type": "linear"
        },
        "yaxis": {
         "anchor": "x",
         "autorange": true,
         "domain": [
          0,
          1
         ],
         "range": [
          0,
          5.2631578947368425
         ],
         "title": {
          "text": "Frequency"
         }
        },
        "yaxis2": {
         "anchor": "x2",
         "autorange": true,
         "domain": [
          0,
          1
         ],
         "matches": "y",
         "range": [
          0,
          5.2631578947368425
         ],
         "showticklabels": false
        }
       }
      },
      "image/png": "[encoded data removed]",
      "text/html": [
       "<div>                            <div id=\"f9d0580d-01ab-4daa-a726-928bf651f5ff\" class=\"plotly-graph-div\" style=\"height:500px; width:1200px;\"></div>            <script type=\"text/javascript\">                require([\"plotly\"], function(Plotly) {                    window.PLOTLYENV=window.PLOTLYENV || {};                                    if (document.getElementById(\"f9d0580d-01ab-4daa-a726-928bf651f5ff\")) {                    Plotly.newPlot(                        \"f9d0580d-01ab-4daa-a726-928bf651f5ff\",                        [{\"alignmentgroup\":\"True\",\"bingroup\":\"x\",\"hovertemplate\":\"Reference area=Australia\\u003cbr\\u003ePlace of birth=Foreign-born\\u003cbr\\u003eOBS_VALUE=%{x}\\u003cbr\\u003ecount=%{y}\\u003cextra\\u003e\\u003c\\u002fextra\\u003e\",\"legendgroup\":\"Australia\",\"marker\":{\"color\":\"rgb(95, 70, 144)\",\"pattern\":{\"shape\":\"\"}},\"name\":\"Australia\",\"nbinsx\":30,\"offsetgroup\":\"Australia\",\"orientation\":\"v\",\"showlegend\":true,\"x\":[24.16026306],\"xaxis\":\"x\",\"yaxis\":\"y\",\"type\":\"histogram\"},{\"alignmentgroup\":\"True\",\"bingroup\":\"x\",\"hovertemplate\":\"Reference area=Australia\\u003cbr\\u003ePlace of birth=Native-born\\u003cbr\\u003eOBS_VALUE=%{x}\\u003cbr\\u003ecount=%{y}\\u003cextra\\u003e\\u003c\\u002fextra\\u003e\",\"legendgroup\":\"Australia\",\"marker\":{\"color\":\"rgb(95, 70, 144)\",\"pattern\":{\"shape\":\"\"}},\"name\":\"Australia\",\"nbinsx\":30,\"offsetgroup\":\"Australia\",\"orientation\":\"v\",\"showlegend\":false,\"x\":[38.76971054],\"xaxis\":\"x2\",\"yaxis\":\"y2\",\"type\":\"histogram\"},{\"alignmentgroup\":\"True\",\"bingroup\":\"x\",\"hovertemplate\":\"Reference area=Austria\\u003cbr\\u003ePlace of birth=Foreign-born\\u003cbr\\u003eOBS_VALUE=%{x}\\u003cbr\\u003ecount=%{y}\\u003cextra\\u003e\\u003c\\u002fextra\\u003e\",\"legendgroup\":\"Austria\",\"marker\":{\"color\":\"rgb(29, 105, 150)\",\"pattern\":{\"shape\":\"\"}},\"name\":\"Austria\",\"nbinsx\":30,\"offsetgroup\":\"Austria\",\"orientation\":\"v\",\"showlegend\":true,\"x\":[39.63525009],\"xaxis\":\"x\",\"yaxis\":\"y\",\"type\":\"histogram\"},{\"alignmentgroup\":\"True\",\"bingroup\":\"x\",\"hovertemplate\":\"Reference area=Austria\\u003cbr\\u003ePlace of birth=Native-born\\u003cbr\\u003eOBS_VALUE=%{x}\\u003cbr\\u003ecount=%{y}\\u003cextra\\u003e\\u003c\\u002fextra\\u003e\",\"legendgroup\":\"Austria\",\"marker\":{\"color\":\"rgb(29, 105, 150)\",\"pattern\":{\"shape\":\"\"}},\"name\":\"Austria\",\"nbinsx\":30,\"offsetgroup\":\"Austria\",\"orientation\":\"v\",\"showlegend\":false,\"x\":[53.12902451],\"xaxis\":\"x2\",\"yaxis\":\"y2\",\"type\":\"histogram\"},{\"alignmentgroup\":\"True\",\"bingroup\":\"x\",\"hovertemplate\":\"Reference area=Belgium\\u003cbr\\u003ePlace of birth=Foreign-born\\u003cbr\\u003eOBS_VALUE=%{x}\\u003cbr\\u003ecount=%{y}\\u003cextra\\u003e\\u003c\\u002fextra\\u003e\",\"legendgroup\":\"Belgium\",\"marker\":{\"color\":\"rgb(56, 166, 165)\",\"pattern\":{\"shape\":\"\"}},\"name\":\"Belgium\",\"nbinsx\":30,\"offsetgroup\":\"Belgium\",\"orientation\":\"v\",\"showlegend\":true,\"x\":[30.66323662],\"xaxis\":\"x\",\"yaxis\":\"y\",\"type\":\"histogram\"},{\"alignmentgroup\":\"True\",\"bingroup\":\"x\",\"hovertemplate\":\"Reference area=Belgium\\u003cbr\\u003ePlace of birth=Native-born\\u003cbr\\u003eOBS_VALUE=%{x}\\u003cbr\\u003ecount=%{y}\\u003cextra\\u003e\\u003c\\u002fextra\\u003e\",\"legendgroup\":\"Belgium\",\"marker\":{\"color\":\"rgb(56, 166, 165)\",\"pattern\":{\"shape\":\"\"}},\"name\":\"Belgium\",\"nbinsx\":30,\"offsetgroup\":\"Belgium\",\"orientation\":\"v\",\"showlegend\":false,\"x\":[39.39927292],\"xaxis\":\"x2\",\"yaxis\":\"y2\",\"type\":\"histogram\"},{\"alignmentgroup\":\"True\",\"bingroup\":\"x\",\"hovertemplate\":\"Reference area=Bulgaria\\u003cbr\\u003ePlace of birth=Foreign-born\\u003cbr\\u003eOBS_VALUE=%{x}\\u003cbr\\u003ecount=%{y}\\u003cextra\\u003e\\u003c\\u002fextra\\u003e\",\"legendgroup\":\"Bulgaria\",\"marker\":{\"color\":\"rgb(15, 133, 84)\",\"pattern\":{\"shape\":\"\"}},\"name\":\"Bulgaria\",\"nbinsx\":30,\"offsetgroup\":\"Bulgaria\",\"orientation\":\"v\",\"showlegend\":true,\"x\":[37.57933426],\"xaxis\":\"x\",\"yaxis\":\"y\",\"type\":\"histogram\"},{\"alignmentgroup\":\"True\",\"bingroup\":\"x\",\"hovertemplate\":\"Reference area=Bulgaria\\u003cbr\\u003ePlace of birth=Native-born\\u003cbr\\u003eOBS_VALUE=%{x}\\u003cbr\\u003ecount=%{y}\\u003cextra\\u003e\\u003c\\u002fextra\\u003e\",\"legendgroup\":\"Bulgaria\",\"marker\":{\"color\":\"rgb(15, 133, 84)\",\"pattern\":{\"shape\":\"\"}},\"name\":\"Bulgaria\",\"nbinsx\":30,\"offsetgroup\":\"Bulgaria\",\"orientation\":\"v\",\"showlegend\":false,\"x\":[54.79957199],\"xaxis\":\"x2\",\"yaxis\":\"y2\",\"type\":\"histogram\"},{\"alignmentgroup\":\"True\",\"bingroup\":\"x\",\"hovertemplate\":\"Reference area=Canada\\u003cbr\\u003ePlace of birth=Foreign-born\\u003cbr\\u003eOBS_VALUE=%{x}\\u003cbr\\u003ecount=%{y}\\u003cextra\\u003e\\u003c\\u002fextra\\u003e\",\"legendgroup\":\"Canada\",\"marker\":{\"color\":\"rgb(115, 175, 72)\",\"pattern\":{\"shape\":\"\"}},\"name\":\"Canada\",\"nbinsx\":30,\"offsetgroup\":\"Canada\",\"orientation\":\"v\",\"showlegend\":true,\"x\":[20.97087288],\"xaxis\":\"x\",\"yaxis\":\"y\",\"type\":\"histogram\"},{\"alignmentgroup\":\"True\",\"bingroup\":\"x\",\"hovertemplate\":\"Reference area=Canada\\u003cbr\\u003ePlace of birth=Native-born\\u003cbr\\u003eOBS_VALUE=%{x}\\u003cbr\\u003ecount=%{y}\\u003cextra\\u003e\\u003c\\u002fextra\\u003e\",\"legendgroup\":\"Canada\",\"marker\":{\"color\":\"rgb(115, 175, 72)\",\"pattern\":{\"shape\":\"\"}},\"name\":\"Canada\",\"nbinsx\":30,\"offsetgroup\":\"Canada\",\"orientation\":\"v\",\"showlegend\":false,\"x\":[34.37792587],\"xaxis\":\"x2\",\"yaxis\":\"y2\",\"type\":\"histogram\"},{\"alignmentgroup\":\"True\",\"bingroup\":\"x\",\"hovertemplate\":\"Reference area=Chile\\u003cbr\\u003ePlace of birth=Foreign-born\\u003cbr\\u003eOBS_VALUE=%{x}\\u003cbr\\u003ecount=%{y}\\u003cextra\\u003e\\u003c\\u002fextra\\u003e\",\"legendgroup\":\"Chile\",\"marker\":{\"color\":\"rgb(237, 173, 8)\",\"pattern\":{\"shape\":\"\"}},\"name\":\"Chile\",\"nbinsx\":30,\"offsetgroup\":\"Chile\",\"orientation\":\"v\",\"showlegend\":true,\"x\":[42.62602234],\"xaxis\":\"x\",\"yaxis\":\"y\",\"type\":\"histogram\"},{\"alignmentgroup\":\"True\",\"bingroup\":\"x\",\"hovertemplate\":\"Reference area=Chile\\u003cbr\\u003ePlace of birth=Native-born\\u003cbr\\u003eOBS_VALUE=%{x}\\u003cbr\\u003ecount=%{y}\\u003cextra\\u003e\\u003c\\u002fextra\\u003e\",\"legendgroup\":\"Chile\",\"marker\":{\"color\":\"rgb(237, 173, 8)\",\"pattern\":{\"shape\":\"\"}},\"name\":\"Chile\",\"nbinsx\":30,\"offsetgroup\":\"Chile\",\"orientation\":\"v\",\"showlegend\":false,\"x\":[42.0294342],\"xaxis\":\"x2\",\"yaxis\":\"y2\",\"type\":\"histogram\"},{\"alignmentgroup\":\"True\",\"bingroup\":\"x\",\"hovertemplate\":\"Reference area=Colombia\\u003cbr\\u003ePlace of birth=Foreign-born\\u003cbr\\u003eOBS_VALUE=%{x}\\u003cbr\\u003ecount=%{y}\\u003cextra\\u003e\\u003c\\u002fextra\\u003e\",\"legendgroup\":\"Colombia\",\"marker\":{\"color\":\"rgb(225, 124, 5)\",\"pattern\":{\"shape\":\"\"}},\"name\":\"Colombia\",\"nbinsx\":30,\"offsetgroup\":\"Colombia\",\"orientation\":\"v\",\"showlegend\":true,\"x\":[42.85206604],\"xaxis\":\"x\",\"yaxis\":\"y\",\"type\":\"histogram\"},{\"alignmentgroup\":\"True\",\"bingroup\":\"x\",\"hovertemplate\":\"Reference area=Colombia\\u003cbr\\u003ePlace of birth=Native-born\\u003cbr\\u003eOBS_VALUE=%{x}\\u003cbr\\u003ecount=%{y}\\u003cextra\\u003e\\u003c\\u002fextra\\u003e\",\"legendgroup\":\"Colombia\",\"marker\":{\"color\":\"rgb(225, 124, 5)\",\"pattern\":{\"shape\":\"\"}},\"name\":\"Colombia\",\"nbinsx\":30,\"offsetgroup\":\"Colombia\",\"orientation\":\"v\",\"showlegend\":false,\"x\":[33.873806],\"xaxis\":\"x2\",\"yaxis\":\"y2\",\"type\":\"histogram\"},{\"alignmentgroup\":\"True\",\"bingroup\":\"x\",\"hovertemplate\":\"Reference area=Costa Rica\\u003cbr\\u003ePlace of birth=Foreign-born\\u003cbr\\u003eOBS_VALUE=%{x}\\u003cbr\\u003ecount=%{y}\\u003cextra\\u003e\\u003c\\u002fextra\\u003e\",\"legendgroup\":\"Costa Rica\",\"marker\":{\"color\":\"rgb(204, 80, 62)\",\"pattern\":{\"shape\":\"\"}},\"name\":\"Costa Rica\",\"nbinsx\":30,\"offsetgroup\":\"Costa Rica\",\"orientation\":\"v\",\"showlegend\":true,\"x\":[19.72923851],\"xaxis\":\"x\",\"yaxis\":\"y\",\"type\":\"histogram\"},{\"alignmentgroup\":\"True\",\"bingroup\":\"x\",\"hovertemplate\":\"Reference area=Costa Rica\\u003cbr\\u003ePlace of birth=Native-born\\u003cbr\\u003eOBS_VALUE=%{x}\\u003cbr\\u003ecount=%{y}\\u003cextra\\u003e\\u003c\\u002fextra\\u003e\",\"legendgroup\":\"Costa Rica\",\"marker\":{\"color\":\"rgb(204, 80, 62)\",\"pattern\":{\"shape\":\"\"}},\"name\":\"Costa Rica\",\"nbinsx\":30,\"offsetgroup\":\"Costa Rica\",\"orientation\":\"v\",\"showlegend\":false,\"x\":[20.2641449],\"xaxis\":\"x2\",\"yaxis\":\"y2\",\"type\":\"histogram\"},{\"alignmentgroup\":\"True\",\"bingroup\":\"x\",\"hovertemplate\":\"Reference area=Czechia\\u003cbr\\u003ePlace of birth=Foreign-born\\u003cbr\\u003eOBS_VALUE=%{x}\\u003cbr\\u003ecount=%{y}\\u003cextra\\u003e\\u003c\\u002fextra\\u003e\",\"legendgroup\":\"Czechia\",\"marker\":{\"color\":\"rgb(148, 52, 110)\",\"pattern\":{\"shape\":\"\"}},\"name\":\"Czechia\",\"nbinsx\":30,\"offsetgroup\":\"Czechia\",\"orientation\":\"v\",\"showlegend\":true,\"x\":[28.74621201],\"xaxis\":\"x\",\"yaxis\":\"y\",\"type\":\"histogram\"},{\"alignmentgroup\":\"True\",\"bingroup\":\"x\",\"hovertemplate\":\"Reference area=Czechia\\u003cbr\\u003ePlace of birth=Native-born\\u003cbr\\u003eOBS_VALUE=%{x}\\u003cbr\\u003ecount=%{y}\\u003cextra\\u003e\\u003c\\u002fextra\\u003e\",\"legendgroup\":\"Czechia\",\"marker\":{\"color\":\"rgb(148, 52, 110)\",\"pattern\":{\"shape\":\"\"}},\"name\":\"Czechia\",\"nbinsx\":30,\"offsetgroup\":\"Czechia\",\"orientation\":\"v\",\"showlegend\":false,\"x\":[35.47780991],\"xaxis\":\"x2\",\"yaxis\":\"y2\",\"type\":\"histogram\"},{\"alignmentgroup\":\"True\",\"bingroup\":\"x\",\"hovertemplate\":\"Reference area=Estonia\\u003cbr\\u003ePlace of birth=Foreign-born\\u003cbr\\u003eOBS_VALUE=%{x}\\u003cbr\\u003ecount=%{y}\\u003cextra\\u003e\\u003c\\u002fextra\\u003e\",\"legendgroup\":\"Estonia\",\"marker\":{\"color\":\"rgb(111, 64, 112)\",\"pattern\":{\"shape\":\"\"}},\"name\":\"Estonia\",\"nbinsx\":30,\"offsetgroup\":\"Estonia\",\"orientation\":\"v\",\"showlegend\":true,\"x\":[43.77045441],\"xaxis\":\"x\",\"yaxis\":\"y\",\"type\":\"histogram\"},{\"alignmentgroup\":\"True\",\"bingroup\":\"x\",\"hovertemplate\":\"Reference area=Estonia\\u003cbr\\u003ePlace of birth=Native-born\\u003cbr\\u003eOBS_VALUE=%{x}\\u003cbr\\u003ecount=%{y}\\u003cextra\\u003e\\u003c\\u002fextra\\u003e\",\"legendgroup\":\"Estonia\",\"marker\":{\"color\":\"rgb(111, 64, 112)\",\"pattern\":{\"shape\":\"\"}},\"name\":\"Estonia\",\"nbinsx\":30,\"offsetgroup\":\"Estonia\",\"orientation\":\"v\",\"showlegend\":false,\"x\":[48.36727142],\"xaxis\":\"x2\",\"yaxis\":\"y2\",\"type\":\"histogram\"},{\"alignmentgroup\":\"True\",\"bingroup\":\"x\",\"hovertemplate\":\"Reference area=European Union (25 countries)\\u003cbr\\u003ePlace of birth=Foreign-born\\u003cbr\\u003eOBS_VALUE=%{x}\\u003cbr\\u003ecount=%{y}\\u003cextra\\u003e\\u003c\\u002fextra\\u003e\",\"legendgroup\":\"European Union (25 countries)\",\"marker\":{\"color\":\"rgb(102, 102, 102)\",\"pattern\":{\"shape\":\"\"}},\"name\":\"European Union (25 countries)\",\"nbinsx\":30,\"offsetgroup\":\"European Union (25 countries)\",\"orientation\":\"v\",\"showlegend\":true,\"x\":[39.5921768],\"xaxis\":\"x\",\"yaxis\":\"y\",\"type\":\"histogram\"},{\"alignmentgroup\":\"True\",\"bingroup\":\"x\",\"hovertemplate\":\"Reference area=European Union (25 countries)\\u003cbr\\u003ePlace of birth=Native-born\\u003cbr\\u003eOBS_VALUE=%{x}\\u003cbr\\u003ecount=%{y}\\u003cextra\\u003e\\u003c\\u002fextra\\u003e\",\"legendgroup\":\"European Union (25 countries)\",\"marker\":{\"color\":\"rgb(102, 102, 102)\",\"pattern\":{\"shape\":\"\"}},\"name\":\"European Union (25 countries)\",\"nbinsx\":30,\"offsetgroup\":\"European Union (25 countries)\",\"orientation\":\"v\",\"showlegend\":false,\"x\":[46.89281091],\"xaxis\":\"x2\",\"yaxis\":\"y2\",\"type\":\"histogram\"},{\"alignmentgroup\":\"True\",\"bingroup\":\"x\",\"hovertemplate\":\"Reference area=France\\u003cbr\\u003ePlace of birth=Foreign-born\\u003cbr\\u003eOBS_VALUE=%{x}\\u003cbr\\u003ecount=%{y}\\u003cextra\\u003e\\u003c\\u002fextra\\u003e\",\"legendgroup\":\"France\",\"marker\":{\"color\":\"rgb(95, 70, 144)\",\"pattern\":{\"shape\":\"\"}},\"name\":\"France\",\"nbinsx\":30,\"offsetgroup\":\"France\",\"orientation\":\"v\",\"showlegend\":true,\"x\":[28.78729248],\"xaxis\":\"x\",\"yaxis\":\"y\",\"type\":\"histogram\"},{\"alignmentgroup\":\"True\",\"bingroup\":\"x\",\"hovertemplate\":\"Reference area=France\\u003cbr\\u003ePlace of birth=Native-born\\u003cbr\\u003eOBS_VALUE=%{x}\\u003cbr\\u003ecount=%{y}\\u003cextra\\u003e\\u003c\\u002fextra\\u003e\",\"legendgroup\":\"France\",\"marker\":{\"color\":\"rgb(95, 70, 144)\",\"pattern\":{\"shape\":\"\"}},\"name\":\"France\",\"nbinsx\":30,\"offsetgroup\":\"France\",\"orientation\":\"v\",\"showlegend\":false,\"x\":[43.52770996],\"xaxis\":\"x2\",\"yaxis\":\"y2\",\"type\":\"histogram\"},{\"alignmentgroup\":\"True\",\"bingroup\":\"x\",\"hovertemplate\":\"Reference area=G20\\u003cbr\\u003ePlace of birth=Foreign-born\\u003cbr\\u003eOBS_VALUE=%{x}\\u003cbr\\u003ecount=%{y}\\u003cextra\\u003e\\u003c\\u002fextra\\u003e\",\"legendgroup\":\"G20\",\"marker\":{\"color\":\"rgb(29, 105, 150)\",\"pattern\":{\"shape\":\"\"}},\"name\":\"G20\",\"nbinsx\":30,\"offsetgroup\":\"G20\",\"orientation\":\"v\",\"showlegend\":true,\"x\":[null],\"xaxis\":\"x\",\"yaxis\":\"y\",\"type\":\"histogram\"},{\"alignmentgroup\":\"True\",\"bingroup\":\"x\",\"hovertemplate\":\"Reference area=G20\\u003cbr\\u003ePlace of birth=Native-born\\u003cbr\\u003eOBS_VALUE=%{x}\\u003cbr\\u003ecount=%{y}\\u003cextra\\u003e\\u003c\\u002fextra\\u003e\",\"legendgroup\":\"G20\",\"marker\":{\"color\":\"rgb(29, 105, 150)\",\"pattern\":{\"shape\":\"\"}},\"name\":\"G20\",\"nbinsx\":30,\"offsetgroup\":\"G20\",\"orientation\":\"v\",\"showlegend\":false,\"x\":[null],\"xaxis\":\"x2\",\"yaxis\":\"y2\",\"type\":\"histogram\"},{\"alignmentgroup\":\"True\",\"bingroup\":\"x\",\"hovertemplate\":\"Reference area=Germany\\u003cbr\\u003ePlace of birth=Foreign-born\\u003cbr\\u003eOBS_VALUE=%{x}\\u003cbr\\u003ecount=%{y}\\u003cextra\\u003e\\u003c\\u002fextra\\u003e\",\"legendgroup\":\"Germany\",\"marker\":{\"color\":\"rgb(56, 166, 165)\",\"pattern\":{\"shape\":\"\"}},\"name\":\"Germany\",\"nbinsx\":30,\"offsetgroup\":\"Germany\",\"orientation\":\"v\",\"showlegend\":true,\"x\":[34.98344803],\"xaxis\":\"x\",\"yaxis\":\"y\",\"type\":\"histogram\"},{\"alignmentgroup\":\"True\",\"bingroup\":\"x\",\"hovertemplate\":\"Reference area=Germany\\u003cbr\\u003ePlace of birth=Native-born\\u003cbr\\u003eOBS_VALUE=%{x}\\u003cbr\\u003ecount=%{y}\\u003cextra\\u003e\\u003c\\u002fextra\\u003e\",\"legendgroup\":\"Germany\",\"marker\":{\"color\":\"rgb(56, 166, 165)\",\"pattern\":{\"shape\":\"\"}},\"name\":\"Germany\",\"nbinsx\":30,\"offsetgroup\":\"Germany\",\"orientation\":\"v\",\"showlegend\":false,\"x\":[54.75814438],\"xaxis\":\"x2\",\"yaxis\":\"y2\",\"type\":\"histogram\"},{\"alignmentgroup\":\"True\",\"bingroup\":\"x\",\"hovertemplate\":\"Reference area=Greece\\u003cbr\\u003ePlace of birth=Foreign-born\\u003cbr\\u003eOBS_VALUE=%{x}\\u003cbr\\u003ecount=%{y}\\u003cextra\\u003e\\u003c\\u002fextra\\u003e\",\"legendgroup\":\"Greece\",\"marker\":{\"color\":\"rgb(15, 133, 84)\",\"pattern\":{\"shape\":\"\"}},\"name\":\"Greece\",\"nbinsx\":30,\"offsetgroup\":\"Greece\",\"orientation\":\"v\",\"showlegend\":true,\"x\":[47.87234879],\"xaxis\":\"x\",\"yaxis\":\"y\",\"type\":\"histogram\"},{\"alignmentgroup\":\"True\",\"bingroup\":\"x\",\"hovertemplate\":\"Reference area=Greece\\u003cbr\\u003ePlace of birth=Native-born\\u003cbr\\u003eOBS_VALUE=%{x}\\u003cbr\\u003ecount=%{y}\\u003cextra\\u003e\\u003c\\u002fextra\\u003e\",\"legendgroup\":\"Greece\",\"marker\":{\"color\":\"rgb(15, 133, 84)\",\"pattern\":{\"shape\":\"\"}},\"name\":\"Greece\",\"nbinsx\":30,\"offsetgroup\":\"Greece\",\"orientation\":\"v\",\"showlegend\":false,\"x\":[46.30613327],\"xaxis\":\"x2\",\"yaxis\":\"y2\",\"type\":\"histogram\"},{\"alignmentgroup\":\"True\",\"bingroup\":\"x\",\"hovertemplate\":\"Reference area=Hungary\\u003cbr\\u003ePlace of birth=Foreign-born\\u003cbr\\u003eOBS_VALUE=%{x}\\u003cbr\\u003ecount=%{y}\\u003cextra\\u003e\\u003c\\u002fextra\\u003e\",\"legendgroup\":\"Hungary\",\"marker\":{\"color\":\"rgb(115, 175, 72)\",\"pattern\":{\"shape\":\"\"}},\"name\":\"Hungary\",\"nbinsx\":30,\"offsetgroup\":\"Hungary\",\"orientation\":\"v\",\"showlegend\":true,\"x\":[48.98677444],\"xaxis\":\"x\",\"yaxis\":\"y\",\"type\":\"histogram\"},{\"alignmentgroup\":\"True\",\"bingroup\":\"x\",\"hovertemplate\":\"Reference area=Hungary\\u003cbr\\u003ePlace of birth=Native-born\\u003cbr\\u003eOBS_VALUE=%{x}\\u003cbr\\u003ecount=%{y}\\u003cextra\\u003e\\u003c\\u002fextra\\u003e\",\"legendgroup\":\"Hungary\",\"marker\":{\"color\":\"rgb(115, 175, 72)\",\"pattern\":{\"shape\":\"\"}},\"name\":\"Hungary\",\"nbinsx\":30,\"offsetgroup\":\"Hungary\",\"orientation\":\"v\",\"showlegend\":false,\"x\":[57.84262466],\"xaxis\":\"x2\",\"yaxis\":\"y2\",\"type\":\"histogram\"},{\"alignmentgroup\":\"True\",\"bingroup\":\"x\",\"hovertemplate\":\"Reference area=Israel\\u003cbr\\u003ePlace of birth=Foreign-born\\u003cbr\\u003eOBS_VALUE=%{x}\\u003cbr\\u003ecount=%{y}\\u003cextra\\u003e\\u003c\\u002fextra\\u003e\",\"legendgroup\":\"Israel\",\"marker\":{\"color\":\"rgb(237, 173, 8)\",\"pattern\":{\"shape\":\"\"}},\"name\":\"Israel\",\"nbinsx\":30,\"offsetgroup\":\"Israel\",\"orientation\":\"v\",\"showlegend\":true,\"x\":[29.94160461],\"xaxis\":\"x\",\"yaxis\":\"y\",\"type\":\"histogram\"},{\"alignmentgroup\":\"True\",\"bingroup\":\"x\",\"hovertemplate\":\"Reference area=Israel\\u003cbr\\u003ePlace of birth=Native-born\\u003cbr\\u003eOBS_VALUE=%{x}\\u003cbr\\u003ecount=%{y}\\u003cextra\\u003e\\u003c\\u002fextra\\u003e\",\"legendgroup\":\"Israel\",\"marker\":{\"color\":\"rgb(237, 173, 8)\",\"pattern\":{\"shape\":\"\"}},\"name\":\"Israel\",\"nbinsx\":30,\"offsetgroup\":\"Israel\",\"orientation\":\"v\",\"showlegend\":false,\"x\":[37.16548157],\"xaxis\":\"x2\",\"yaxis\":\"y2\",\"type\":\"histogram\"},{\"alignmentgroup\":\"True\",\"bingroup\":\"x\",\"hovertemplate\":\"Reference area=Italy\\u003cbr\\u003ePlace of birth=Foreign-born\\u003cbr\\u003eOBS_VALUE=%{x}\\u003cbr\\u003ecount=%{y}\\u003cextra\\u003e\\u003c\\u002fextra\\u003e\",\"legendgroup\":\"Italy\",\"marker\":{\"color\":\"rgb(225, 124, 5)\",\"pattern\":{\"shape\":\"\"}},\"name\":\"Italy\",\"nbinsx\":30,\"offsetgroup\":\"Italy\",\"orientation\":\"v\",\"showlegend\":true,\"x\":[42.58736801],\"xaxis\":\"x\",\"yaxis\":\"y\",\"type\":\"histogram\"},{\"alignmentgroup\":\"True\",\"bingroup\":\"x\",\"hovertemplate\":\"Reference area=Italy\\u003cbr\\u003ePlace of birth=Native-born\\u003cbr\\u003eOBS_VALUE=%{x}\\u003cbr\\u003ecount=%{y}\\u003cextra\\u003e\\u003c\\u002fextra\\u003e\",\"legendgroup\":\"Italy\",\"marker\":{\"color\":\"rgb(225, 124, 5)\",\"pattern\":{\"shape\":\"\"}},\"name\":\"Italy\",\"nbinsx\":30,\"offsetgroup\":\"Italy\",\"orientation\":\"v\",\"showlegend\":false,\"x\":[44.13784027],\"xaxis\":\"x2\",\"yaxis\":\"y2\",\"type\":\"histogram\"},{\"alignmentgroup\":\"True\",\"bingroup\":\"x\",\"hovertemplate\":\"Reference area=Latvia\\u003cbr\\u003ePlace of birth=Foreign-born\\u003cbr\\u003eOBS_VALUE=%{x}\\u003cbr\\u003ecount=%{y}\\u003cextra\\u003e\\u003c\\u002fextra\\u003e\",\"legendgroup\":\"Latvia\",\"marker\":{\"color\":\"rgb(204, 80, 62)\",\"pattern\":{\"shape\":\"\"}},\"name\":\"Latvia\",\"nbinsx\":30,\"offsetgroup\":\"Latvia\",\"orientation\":\"v\",\"showlegend\":true,\"x\":[49.98078156],\"xaxis\":\"x\",\"yaxis\":\"y\",\"type\":\"histogram\"},{\"alignmentgroup\":\"True\",\"bingroup\":\"x\",\"hovertemplate\":\"Reference area=Latvia\\u003cbr\\u003ePlace of birth=Native-born\\u003cbr\\u003eOBS_VALUE=%{x}\\u003cbr\\u003ecount=%{y}\\u003cextra\\u003e\\u003c\\u002fextra\\u003e\",\"legendgroup\":\"Latvia\",\"marker\":{\"color\":\"rgb(204, 80, 62)\",\"pattern\":{\"shape\":\"\"}},\"name\":\"Latvia\",\"nbinsx\":30,\"offsetgroup\":\"Latvia\",\"orientation\":\"v\",\"showlegend\":false,\"x\":[49.67399597],\"xaxis\":\"x2\",\"yaxis\":\"y2\",\"type\":\"histogram\"},{\"alignmentgroup\":\"True\",\"bingroup\":\"x\",\"hovertemplate\":\"Reference area=Lithuania\\u003cbr\\u003ePlace of birth=Foreign-born\\u003cbr\\u003eOBS_VALUE=%{x}\\u003cbr\\u003ecount=%{y}\\u003cextra\\u003e\\u003c\\u002fextra\\u003e\",\"legendgroup\":\"Lithuania\",\"marker\":{\"color\":\"rgb(148, 52, 110)\",\"pattern\":{\"shape\":\"\"}},\"name\":\"Lithuania\",\"nbinsx\":30,\"offsetgroup\":\"Lithuania\",\"orientation\":\"v\",\"showlegend\":true,\"x\":[50.43571091],\"xaxis\":\"x\",\"yaxis\":\"y\",\"type\":\"histogram\"},{\"alignmentgroup\":\"True\",\"bingroup\":\"x\",\"hovertemplate\":\"Reference area=Lithuania\\u003cbr\\u003ePlace of birth=Native-born\\u003cbr\\u003eOBS_VALUE=%{x}\\u003cbr\\u003ecount=%{y}\\u003cextra\\u003e\\u003c\\u002fextra\\u003e\",\"legendgroup\":\"Lithuania\",\"marker\":{\"color\":\"rgb(148, 52, 110)\",\"pattern\":{\"shape\":\"\"}},\"name\":\"Lithuania\",\"nbinsx\":30,\"offsetgroup\":\"Lithuania\",\"orientation\":\"v\",\"showlegend\":false,\"x\":[46.33892059],\"xaxis\":\"x2\",\"yaxis\":\"y2\",\"type\":\"histogram\"},{\"alignmentgroup\":\"True\",\"bingroup\":\"x\",\"hovertemplate\":\"Reference area=Luxembourg\\u003cbr\\u003ePlace of birth=Foreign-born\\u003cbr\\u003eOBS_VALUE=%{x}\\u003cbr\\u003ecount=%{y}\\u003cextra\\u003e\\u003c\\u002fextra\\u003e\",\"legendgroup\":\"Luxembourg\",\"marker\":{\"color\":\"rgb(111, 64, 112)\",\"pattern\":{\"shape\":\"\"}},\"name\":\"Luxembourg\",\"nbinsx\":30,\"offsetgroup\":\"Luxembourg\",\"orientation\":\"v\",\"showlegend\":true,\"x\":[21.11701584],\"xaxis\":\"x\",\"yaxis\":\"y\",\"type\":\"histogram\"},{\"alignmentgroup\":\"True\",\"bingroup\":\"x\",\"hovertemplate\":\"Reference area=Luxembourg\\u003cbr\\u003ePlace of birth=Native-born\\u003cbr\\u003eOBS_VALUE=%{x}\\u003cbr\\u003ecount=%{y}\\u003cextra\\u003e\\u003c\\u002fextra\\u003e\",\"legendgroup\":\"Luxembourg\",\"marker\":{\"color\":\"rgb(111, 64, 112)\",\"pattern\":{\"shape\":\"\"}},\"name\":\"Luxembourg\",\"nbinsx\":30,\"offsetgroup\":\"Luxembourg\",\"orientation\":\"v\",\"showlegend\":false,\"x\":[43.24528503],\"xaxis\":\"x2\",\"yaxis\":\"y2\",\"type\":\"histogram\"},{\"alignmentgroup\":\"True\",\"bingroup\":\"x\",\"hovertemplate\":\"Reference area=Mexico\\u003cbr\\u003ePlace of birth=Foreign-born\\u003cbr\\u003eOBS_VALUE=%{x}\\u003cbr\\u003ecount=%{y}\\u003cextra\\u003e\\u003c\\u002fextra\\u003e\",\"legendgroup\":\"Mexico\",\"marker\":{\"color\":\"rgb(102, 102, 102)\",\"pattern\":{\"shape\":\"\"}},\"name\":\"Mexico\",\"nbinsx\":30,\"offsetgroup\":\"Mexico\",\"orientation\":\"v\",\"showlegend\":true,\"x\":[32.67081833],\"xaxis\":\"x\",\"yaxis\":\"y\",\"type\":\"histogram\"},{\"alignmentgroup\":\"True\",\"bingroup\":\"x\",\"hovertemplate\":\"Reference area=Mexico\\u003cbr\\u003ePlace of birth=Native-born\\u003cbr\\u003eOBS_VALUE=%{x}\\u003cbr\\u003ecount=%{y}\\u003cextra\\u003e\\u003c\\u002fextra\\u003e\",\"legendgroup\":\"Mexico\",\"marker\":{\"color\":\"rgb(102, 102, 102)\",\"pattern\":{\"shape\":\"\"}},\"name\":\"Mexico\",\"nbinsx\":30,\"offsetgroup\":\"Mexico\",\"orientation\":\"v\",\"showlegend\":false,\"x\":[23.43372154],\"xaxis\":\"x2\",\"yaxis\":\"y2\",\"type\":\"histogram\"},{\"alignmentgroup\":\"True\",\"bingroup\":\"x\",\"hovertemplate\":\"Reference area=Netherlands\\u003cbr\\u003ePlace of birth=Foreign-born\\u003cbr\\u003eOBS_VALUE=%{x}\\u003cbr\\u003ecount=%{y}\\u003cextra\\u003e\\u003c\\u002fextra\\u003e\",\"legendgroup\":\"Netherlands\",\"marker\":{\"color\":\"rgb(95, 70, 144)\",\"pattern\":{\"shape\":\"\"}},\"name\":\"Netherlands\",\"nbinsx\":30,\"offsetgroup\":\"Netherlands\",\"orientation\":\"v\",\"showlegend\":true,\"x\":[28.98631287],\"xaxis\":\"x\",\"yaxis\":\"y\",\"type\":\"histogram\"},{\"alignmentgroup\":\"True\",\"bingroup\":\"x\",\"hovertemplate\":\"Reference area=Netherlands\\u003cbr\\u003ePlace of birth=Native-born\\u003cbr\\u003eOBS_VALUE=%{x}\\u003cbr\\u003ecount=%{y}\\u003cextra\\u003e\\u003c\\u002fextra\\u003e\",\"legendgroup\":\"Netherlands\",\"marker\":{\"color\":\"rgb(95, 70, 144)\",\"pattern\":{\"shape\":\"\"}},\"name\":\"Netherlands\",\"nbinsx\":30,\"offsetgroup\":\"Netherlands\",\"orientation\":\"v\",\"showlegend\":false,\"x\":[39.9494133],\"xaxis\":\"x2\",\"yaxis\":\"y2\",\"type\":\"histogram\"},{\"alignmentgroup\":\"True\",\"bingroup\":\"x\",\"hovertemplate\":\"Reference area=New Zealand\\u003cbr\\u003ePlace of birth=Foreign-born\\u003cbr\\u003eOBS_VALUE=%{x}\\u003cbr\\u003ecount=%{y}\\u003cextra\\u003e\\u003c\\u002fextra\\u003e\",\"legendgroup\":\"New Zealand\",\"marker\":{\"color\":\"rgb(29, 105, 150)\",\"pattern\":{\"shape\":\"\"}},\"name\":\"New Zealand\",\"nbinsx\":30,\"offsetgroup\":\"New Zealand\",\"orientation\":\"v\",\"showlegend\":true,\"x\":[39.56650543],\"xaxis\":\"x\",\"yaxis\":\"y\",\"type\":\"histogram\"},{\"alignmentgroup\":\"True\",\"bingroup\":\"x\",\"hovertemplate\":\"Reference area=New Zealand\\u003cbr\\u003ePlace of birth=Native-born\\u003cbr\\u003eOBS_VALUE=%{x}\\u003cbr\\u003ecount=%{y}\\u003cextra\\u003e\\u003c\\u002fextra\\u003e\",\"legendgroup\":\"New Zealand\",\"marker\":{\"color\":\"rgb(29, 105, 150)\",\"pattern\":{\"shape\":\"\"}},\"name\":\"New Zealand\",\"nbinsx\":30,\"offsetgroup\":\"New Zealand\",\"orientation\":\"v\",\"showlegend\":false,\"x\":[42.07169342],\"xaxis\":\"x2\",\"yaxis\":\"y2\",\"type\":\"histogram\"},{\"alignmentgroup\":\"True\",\"bingroup\":\"x\",\"hovertemplate\":\"Reference area=Norway\\u003cbr\\u003ePlace of birth=Foreign-born\\u003cbr\\u003eOBS_VALUE=%{x}\\u003cbr\\u003ecount=%{y}\\u003cextra\\u003e\\u003c\\u002fextra\\u003e\",\"legendgroup\":\"Norway\",\"marker\":{\"color\":\"rgb(56, 166, 165)\",\"pattern\":{\"shape\":\"\"}},\"name\":\"Norway\",\"nbinsx\":30,\"offsetgroup\":\"Norway\",\"orientation\":\"v\",\"showlegend\":true,\"x\":[30.0872097],\"xaxis\":\"x\",\"yaxis\":\"y\",\"type\":\"histogram\"},{\"alignmentgroup\":\"True\",\"bingroup\":\"x\",\"hovertemplate\":\"Reference area=Norway\\u003cbr\\u003ePlace of birth=Native-born\\u003cbr\\u003eOBS_VALUE=%{x}\\u003cbr\\u003ecount=%{y}\\u003cextra\\u003e\\u003c\\u002fextra\\u003e\",\"legendgroup\":\"Norway\",\"marker\":{\"color\":\"rgb(56, 166, 165)\",\"pattern\":{\"shape\":\"\"}},\"name\":\"Norway\",\"nbinsx\":30,\"offsetgroup\":\"Norway\",\"orientation\":\"v\",\"showlegend\":false,\"x\":[36.28034973],\"xaxis\":\"x2\",\"yaxis\":\"y2\",\"type\":\"histogram\"},{\"alignmentgroup\":\"True\",\"bingroup\":\"x\",\"hovertemplate\":\"Reference area=OECD\\u003cbr\\u003ePlace of birth=Foreign-born\\u003cbr\\u003eOBS_VALUE=%{x}\\u003cbr\\u003ecount=%{y}\\u003cextra\\u003e\\u003c\\u002fextra\\u003e\",\"legendgroup\":\"OECD\",\"marker\":{\"color\":\"rgb(15, 133, 84)\",\"pattern\":{\"shape\":\"\"}},\"name\":\"OECD\",\"nbinsx\":30,\"offsetgroup\":\"OECD\",\"orientation\":\"v\",\"showlegend\":true,\"x\":[35.21255935],\"xaxis\":\"x\",\"yaxis\":\"y\",\"type\":\"histogram\"},{\"alignmentgroup\":\"True\",\"bingroup\":\"x\",\"hovertemplate\":\"Reference area=OECD\\u003cbr\\u003ePlace of birth=Native-born\\u003cbr\\u003eOBS_VALUE=%{x}\\u003cbr\\u003ecount=%{y}\\u003cextra\\u003e\\u003c\\u002fextra\\u003e\",\"legendgroup\":\"OECD\",\"marker\":{\"color\":\"rgb(15, 133, 84)\",\"pattern\":{\"shape\":\"\"}},\"name\":\"OECD\",\"nbinsx\":30,\"offsetgroup\":\"OECD\",\"orientation\":\"v\",\"showlegend\":false,\"x\":[41.98069865],\"xaxis\":\"x2\",\"yaxis\":\"y2\",\"type\":\"histogram\"},{\"alignmentgroup\":\"True\",\"bingroup\":\"x\",\"hovertemplate\":\"Reference area=Poland\\u003cbr\\u003ePlace of birth=Foreign-born\\u003cbr\\u003eOBS_VALUE=%{x}\\u003cbr\\u003ecount=%{y}\\u003cextra\\u003e\\u003c\\u002fextra\\u003e\",\"legendgroup\":\"Poland\",\"marker\":{\"color\":\"rgb(115, 175, 72)\",\"pattern\":{\"shape\":\"\"}},\"name\":\"Poland\",\"nbinsx\":30,\"offsetgroup\":\"Poland\",\"orientation\":\"v\",\"showlegend\":true,\"x\":[41.49289703],\"xaxis\":\"x\",\"yaxis\":\"y\",\"type\":\"histogram\"},{\"alignmentgroup\":\"True\",\"bingroup\":\"x\",\"hovertemplate\":\"Reference area=Poland\\u003cbr\\u003ePlace of birth=Native-born\\u003cbr\\u003eOBS_VALUE=%{x}\\u003cbr\\u003ecount=%{y}\\u003cextra\\u003e\\u003c\\u002fextra\\u003e\",\"legendgroup\":\"Poland\",\"marker\":{\"color\":\"rgb(115, 175, 72)\",\"pattern\":{\"shape\":\"\"}},\"name\":\"Poland\",\"nbinsx\":30,\"offsetgroup\":\"Poland\",\"orientation\":\"v\",\"showlegend\":false,\"x\":[56.64398575],\"xaxis\":\"x2\",\"yaxis\":\"y2\",\"type\":\"histogram\"},{\"alignmentgroup\":\"True\",\"bingroup\":\"x\",\"hovertemplate\":\"Reference area=Portugal\\u003cbr\\u003ePlace of birth=Foreign-born\\u003cbr\\u003eOBS_VALUE=%{x}\\u003cbr\\u003ecount=%{y}\\u003cextra\\u003e\\u003c\\u002fextra\\u003e\",\"legendgroup\":\"Portugal\",\"marker\":{\"color\":\"rgb(237, 173, 8)\",\"pattern\":{\"shape\":\"\"}},\"name\":\"Portugal\",\"nbinsx\":30,\"offsetgroup\":\"Portugal\",\"orientation\":\"v\",\"showlegend\":true,\"x\":[39.38708115],\"xaxis\":\"x\",\"yaxis\":\"y\",\"type\":\"histogram\"},{\"alignmentgroup\":\"True\",\"bingroup\":\"x\",\"hovertemplate\":\"Reference area=Portugal\\u003cbr\\u003ePlace of birth=Native-born\\u003cbr\\u003eOBS_VALUE=%{x}\\u003cbr\\u003ecount=%{y}\\u003cextra\\u003e\\u003c\\u002fextra\\u003e\",\"legendgroup\":\"Portugal\",\"marker\":{\"color\":\"rgb(237, 173, 8)\",\"pattern\":{\"shape\":\"\"}},\"name\":\"Portugal\",\"nbinsx\":30,\"offsetgroup\":\"Portugal\",\"orientation\":\"v\",\"showlegend\":false,\"x\":[27.89471436],\"xaxis\":\"x2\",\"yaxis\":\"y2\",\"type\":\"histogram\"},{\"alignmentgroup\":\"True\",\"bingroup\":\"x\",\"hovertemplate\":\"Reference area=Romania\\u003cbr\\u003ePlace of birth=Foreign-born\\u003cbr\\u003eOBS_VALUE=%{x}\\u003cbr\\u003ecount=%{y}\\u003cextra\\u003e\\u003c\\u002fextra\\u003e\",\"legendgroup\":\"Romania\",\"marker\":{\"color\":\"rgb(225, 124, 5)\",\"pattern\":{\"shape\":\"\"}},\"name\":\"Romania\",\"nbinsx\":30,\"offsetgroup\":\"Romania\",\"orientation\":\"v\",\"showlegend\":true,\"x\":[52.87546539],\"xaxis\":\"x\",\"yaxis\":\"y\",\"type\":\"histogram\"},{\"alignmentgroup\":\"True\",\"bingroup\":\"x\",\"hovertemplate\":\"Reference area=Romania\\u003cbr\\u003ePlace of birth=Native-born\\u003cbr\\u003eOBS_VALUE=%{x}\\u003cbr\\u003ecount=%{y}\\u003cextra\\u003e\\u003c\\u002fextra\\u003e\",\"legendgroup\":\"Romania\",\"marker\":{\"color\":\"rgb(225, 124, 5)\",\"pattern\":{\"shape\":\"\"}},\"name\":\"Romania\",\"nbinsx\":30,\"offsetgroup\":\"Romania\",\"orientation\":\"v\",\"showlegend\":false,\"x\":[61.79627609],\"xaxis\":\"x2\",\"yaxis\":\"y2\",\"type\":\"histogram\"},{\"alignmentgroup\":\"True\",\"bingroup\":\"x\",\"hovertemplate\":\"Reference area=Slovak Republic\\u003cbr\\u003ePlace of birth=Foreign-born\\u003cbr\\u003eOBS_VALUE=%{x}\\u003cbr\\u003ecount=%{y}\\u003cextra\\u003e\\u003c\\u002fextra\\u003e\",\"legendgroup\":\"Slovak Republic\",\"marker\":{\"color\":\"rgb(204, 80, 62)\",\"pattern\":{\"shape\":\"\"}},\"name\":\"Slovak Republic\",\"nbinsx\":30,\"offsetgroup\":\"Slovak Republic\",\"orientation\":\"v\",\"showlegend\":true,\"x\":[53.96113968],\"xaxis\":\"x\",\"yaxis\":\"y\",\"type\":\"histogram\"},{\"alignmentgroup\":\"True\",\"bingroup\":\"x\",\"hovertemplate\":\"Reference area=Slovak Republic\\u003cbr\\u003ePlace of birth=Native-born\\u003cbr\\u003eOBS_VALUE=%{x}\\u003cbr\\u003ecount=%{y}\\u003cextra\\u003e\\u003c\\u002fextra\\u003e\",\"legendgroup\":\"Slovak Republic\",\"marker\":{\"color\":\"rgb(204, 80, 62)\",\"pattern\":{\"shape\":\"\"}},\"name\":\"Slovak Republic\",\"nbinsx\":30,\"offsetgroup\":\"Slovak Republic\",\"orientation\":\"v\",\"showlegend\":false,\"x\":[64.94944],\"xaxis\":\"x2\",\"yaxis\":\"y2\",\"type\":\"histogram\"},{\"alignmentgroup\":\"True\",\"bingroup\":\"x\",\"hovertemplate\":\"Reference area=Slovenia\\u003cbr\\u003ePlace of birth=Foreign-born\\u003cbr\\u003eOBS_VALUE=%{x}\\u003cbr\\u003ecount=%{y}\\u003cextra\\u003e\\u003c\\u002fextra\\u003e\",\"legendgroup\":\"Slovenia\",\"marker\":{\"color\":\"rgb(148, 52, 110)\",\"pattern\":{\"shape\":\"\"}},\"name\":\"Slovenia\",\"nbinsx\":30,\"offsetgroup\":\"Slovenia\",\"orientation\":\"v\",\"showlegend\":true,\"x\":[59.49367142],\"xaxis\":\"x\",\"yaxis\":\"y\",\"type\":\"histogram\"},{\"alignmentgroup\":\"True\",\"bingroup\":\"x\",\"hovertemplate\":\"Reference area=Slovenia\\u003cbr\\u003ePlace of birth=Native-born\\u003cbr\\u003eOBS_VALUE=%{x}\\u003cbr\\u003ecount=%{y}\\u003cextra\\u003e\\u003c\\u002fextra\\u003e\",\"legendgroup\":\"Slovenia\",\"marker\":{\"color\":\"rgb(148, 52, 110)\",\"pattern\":{\"shape\":\"\"}},\"name\":\"Slovenia\",\"nbinsx\":30,\"offsetgroup\":\"Slovenia\",\"orientation\":\"v\",\"showlegend\":false,\"x\":[53.8065834],\"xaxis\":\"x2\",\"yaxis\":\"y2\",\"type\":\"histogram\"},{\"alignmentgroup\":\"True\",\"bingroup\":\"x\",\"hovertemplate\":\"Reference area=Spain\\u003cbr\\u003ePlace of birth=Foreign-born\\u003cbr\\u003eOBS_VALUE=%{x}\\u003cbr\\u003ecount=%{y}\\u003cextra\\u003e\\u003c\\u002fextra\\u003e\",\"legendgroup\":\"Spain\",\"marker\":{\"color\":\"rgb(111, 64, 112)\",\"pattern\":{\"shape\":\"\"}},\"name\":\"Spain\",\"nbinsx\":30,\"offsetgroup\":\"Spain\",\"orientation\":\"v\",\"showlegend\":true,\"x\":[28.5496769],\"xaxis\":\"x\",\"yaxis\":\"y\",\"type\":\"histogram\"},{\"alignmentgroup\":\"True\",\"bingroup\":\"x\",\"hovertemplate\":\"Reference area=Spain\\u003cbr\\u003ePlace of birth=Native-born\\u003cbr\\u003eOBS_VALUE=%{x}\\u003cbr\\u003ecount=%{y}\\u003cextra\\u003e\\u003c\\u002fextra\\u003e\",\"legendgroup\":\"Spain\",\"marker\":{\"color\":\"rgb(111, 64, 112)\",\"pattern\":{\"shape\":\"\"}},\"name\":\"Spain\",\"nbinsx\":30,\"offsetgroup\":\"Spain\",\"orientation\":\"v\",\"showlegend\":false,\"x\":[21.04017067],\"xaxis\":\"x2\",\"yaxis\":\"y2\",\"type\":\"histogram\"},{\"alignmentgroup\":\"True\",\"bingroup\":\"x\",\"hovertemplate\":\"Reference area=Sweden\\u003cbr\\u003ePlace of birth=Foreign-born\\u003cbr\\u003eOBS_VALUE=%{x}\\u003cbr\\u003ecount=%{y}\\u003cextra\\u003e\\u003c\\u002fextra\\u003e\",\"legendgroup\":\"Sweden\",\"marker\":{\"color\":\"rgb(102, 102, 102)\",\"pattern\":{\"shape\":\"\"}},\"name\":\"Sweden\",\"nbinsx\":30,\"offsetgroup\":\"Sweden\",\"orientation\":\"v\",\"showlegend\":true,\"x\":[21.54424095],\"xaxis\":\"x\",\"yaxis\":\"y\",\"type\":\"histogram\"},{\"alignmentgroup\":\"True\",\"bingroup\":\"x\",\"hovertemplate\":\"Reference area=Sweden\\u003cbr\\u003ePlace of birth=Native-born\\u003cbr\\u003eOBS_VALUE=%{x}\\u003cbr\\u003ecount=%{y}\\u003cextra\\u003e\\u003c\\u002fextra\\u003e\",\"legendgroup\":\"Sweden\",\"marker\":{\"color\":\"rgb(102, 102, 102)\",\"pattern\":{\"shape\":\"\"}},\"name\":\"Sweden\",\"nbinsx\":30,\"offsetgroup\":\"Sweden\",\"orientation\":\"v\",\"showlegend\":false,\"x\":[41.6648407],\"xaxis\":\"x2\",\"yaxis\":\"y2\",\"type\":\"histogram\"},{\"alignmentgroup\":\"True\",\"bingroup\":\"x\",\"hovertemplate\":\"Reference area=Switzerland\\u003cbr\\u003ePlace of birth=Foreign-born\\u003cbr\\u003eOBS_VALUE=%{x}\\u003cbr\\u003ecount=%{y}\\u003cextra\\u003e\\u003c\\u002fextra\\u003e\",\"legendgroup\":\"Switzerland\",\"marker\":{\"color\":\"rgb(95, 70, 144)\",\"pattern\":{\"shape\":\"\"}},\"name\":\"Switzerland\",\"nbinsx\":30,\"offsetgroup\":\"Switzerland\",\"orientation\":\"v\",\"showlegend\":true,\"x\":[26.15987968],\"xaxis\":\"x\",\"yaxis\":\"y\",\"type\":\"histogram\"},{\"alignmentgroup\":\"True\",\"bingroup\":\"x\",\"hovertemplate\":\"Reference area=Switzerland\\u003cbr\\u003ePlace of birth=Native-born\\u003cbr\\u003eOBS_VALUE=%{x}\\u003cbr\\u003ecount=%{y}\\u003cextra\\u003e\\u003c\\u002fextra\\u003e\",\"legendgroup\":\"Switzerland\",\"marker\":{\"color\":\"rgb(95, 70, 144)\",\"pattern\":{\"shape\":\"\"}},\"name\":\"Switzerland\",\"nbinsx\":30,\"offsetgroup\":\"Switzerland\",\"orientation\":\"v\",\"showlegend\":false,\"x\":[48.95915222],\"xaxis\":\"x2\",\"yaxis\":\"y2\",\"type\":\"histogram\"},{\"alignmentgroup\":\"True\",\"bingroup\":\"x\",\"hovertemplate\":\"Reference area=United Kingdom\\u003cbr\\u003ePlace of birth=Foreign-born\\u003cbr\\u003eOBS_VALUE=%{x}\\u003cbr\\u003ecount=%{y}\\u003cextra\\u003e\\u003c\\u002fextra\\u003e\",\"legendgroup\":\"United Kingdom\",\"marker\":{\"color\":\"rgb(29, 105, 150)\",\"pattern\":{\"shape\":\"\"}},\"name\":\"United Kingdom\",\"nbinsx\":30,\"offsetgroup\":\"United Kingdom\",\"orientation\":\"v\",\"showlegend\":true,\"x\":[14.58166218],\"xaxis\":\"x\",\"yaxis\":\"y\",\"type\":\"histogram\"},{\"alignmentgroup\":\"True\",\"bingroup\":\"x\",\"hovertemplate\":\"Reference area=United Kingdom\\u003cbr\\u003ePlace of birth=Native-born\\u003cbr\\u003eOBS_VALUE=%{x}\\u003cbr\\u003ecount=%{y}\\u003cextra\\u003e\\u003c\\u002fextra\\u003e\",\"legendgroup\":\"United Kingdom\",\"marker\":{\"color\":\"rgb(29, 105, 150)\",\"pattern\":{\"shape\":\"\"}},\"name\":\"United Kingdom\",\"nbinsx\":30,\"offsetgroup\":\"United Kingdom\",\"orientation\":\"v\",\"showlegend\":false,\"x\":[33.09085083],\"xaxis\":\"x2\",\"yaxis\":\"y2\",\"type\":\"histogram\"},{\"alignmentgroup\":\"True\",\"bingroup\":\"x\",\"hovertemplate\":\"Reference area=United States\\u003cbr\\u003ePlace of birth=Foreign-born\\u003cbr\\u003eOBS_VALUE=%{x}\\u003cbr\\u003ecount=%{y}\\u003cextra\\u003e\\u003c\\u002fextra\\u003e\",\"legendgroup\":\"United States\",\"marker\":{\"color\":\"rgb(56, 166, 165)\",\"pattern\":{\"shape\":\"\"}},\"name\":\"United States\",\"nbinsx\":30,\"offsetgroup\":\"United States\",\"orientation\":\"v\",\"showlegend\":true,\"x\":[34.67574692],\"xaxis\":\"x\",\"yaxis\":\"y\",\"type\":\"histogram\"},{\"alignmentgroup\":\"True\",\"bingroup\":\"x\",\"hovertemplate\":\"Reference area=United States\\u003cbr\\u003ePlace of birth=Native-born\\u003cbr\\u003eOBS_VALUE=%{x}\\u003cbr\\u003ecount=%{y}\\u003cextra\\u003e\\u003c\\u002fextra\\u003e\",\"legendgroup\":\"United States\",\"marker\":{\"color\":\"rgb(56, 166, 165)\",\"pattern\":{\"shape\":\"\"}},\"name\":\"United States\",\"nbinsx\":30,\"offsetgroup\":\"United States\",\"orientation\":\"v\",\"showlegend\":false,\"x\":[42.98094177],\"xaxis\":\"x2\",\"yaxis\":\"y2\",\"type\":\"histogram\"}],                        {\"template\":{\"data\":{\"histogram2dcontour\":[{\"type\":\"histogram2dcontour\",\"colorbar\":{\"outlinewidth\":0,\"ticks\":\"\"},\"colorscale\":[[0.0,\"#0d0887\"],[0.1111111111111111,\"#46039f\"],[0.2222222222222222,\"#7201a8\"],[0.3333333333333333,\"#9c179e\"],[0.4444444444444444,\"#bd3786\"],[0.5555555555555556,\"#d8576b\"],[0.6666666666666666,\"#ed7953\"],[0.7777777777777778,\"#fb9f3a\"],[0.8888888888888888,\"#fdca26\"],[1.0,\"#f0f921\"]]}],\"choropleth\":[{\"type\":\"choropleth\",\"colorbar\":{\"outlinewidth\":0,\"ticks\":\"\"}}],\"histogram2d\":[{\"type\":\"histogram2d\",\"colorbar\":{\"outlinewidth\":0,\"ticks\":\"\"},\"colorscale\":[[0.0,\"#0d0887\"],[0.1111111111111111,\"#46039f\"],[0.2222222222222222,\"#7201a8\"],[0.3333333333333333,\"#9c179e\"],[0.4444444444444444,\"#bd3786\"],[0.5555555555555556,\"#d8576b\"],[0.6666666666666666,\"#ed7953\"],[0.7777777777777778,\"#fb9f3a\"],[0.8888888888888888,\"#fdca26\"],[1.0,\"#f0f921\"]]}],\"heatmap\":[{\"type\":\"heatmap\",\"colorbar\":{\"outlinewidth\":0,\"ticks\":\"\"},\"colorscale\":[[0.0,\"#0d0887\"],[0.1111111111111111,\"#46039f\"],[0.2222222222222222,\"#7201a8\"],[0.3333333333333333,\"#9c179e\"],[0.4444444444444444,\"#bd3786\"],[0.5555555555555556,\"#d8576b\"],[0.6666666666666666,\"#ed7953\"],[0.7777777777777778,\"#fb9f3a\"],[0.8888888888888888,\"#fdca26\"],[1.0,\"#f0f921\"]]}],\"heatmapgl\":[{\"type\":\"heatmapgl\",\"colorbar\":{\"outlinewidth\":0,\"ticks\":\"\"},\"colorscale\":[[0.0,\"#0d0887\"],[0.1111111111111111,\"#46039f\"],[0.2222222222222222,\"#7201a8\"],[0.3333333333333333,\"#9c179e\"],[0.4444444444444444,\"#bd3786\"],[0.5555555555555556,\"#d8576b\"],[0.6666666666666666,\"#ed7953\"],[0.7777777777777778,\"#fb9f3a\"],[0.8888888888888888,\"#fdca26\"],[1.0,\"#f0f921\"]]}],\"contourcarpet\":[{\"type\":\"contourcarpet\",\"colorbar\":{\"outlinewidth\":0,\"ticks\":\"\"}}],\"contour\":[{\"type\":\"contour\",\"colorbar\":{\"outlinewidth\":0,\"ticks\":\"\"},\"colorscale\":[[0.0,\"#0d0887\"],[0.1111111111111111,\"#46039f\"],[0.2222222222222222,\"#7201a8\"],[0.3333333333333333,\"#9c179e\"],[0.4444444444444444,\"#bd3786\"],[0.5555555555555556,\"#d8576b\"],[0.6666666666666666,\"#ed7953\"],[0.7777777777777778,\"#fb9f3a\"],[0.8888888888888888,\"#fdca26\"],[1.0,\"#f0f921\"]]}],\"surface\":[{\"type\":\"surface\",\"colorbar\":{\"outlinewidth\":0,\"ticks\":\"\"},\"colorscale\":[[0.0,\"#0d0887\"],[0.1111111111111111,\"#46039f\"],[0.2222222222222222,\"#7201a8\"],[0.3333333333333333,\"#9c179e\"],[0.4444444444444444,\"#bd3786\"],[0.5555555555555556,\"#d8576b\"],[0.6666666666666666,\"#ed7953\"],[0.7777777777777778,\"#fb9f3a\"],[0.8888888888888888,\"#fdca26\"],[1.0,\"#f0f921\"]]}],\"mesh3d\":[{\"type\":\"mesh3d\",\"colorbar\":{\"outlinewidth\":0,\"ticks\":\"\"}}],\"scatter\":[{\"fillpattern\":{\"fillmode\":\"overlay\",\"size\":10,\"solidity\":0.2},\"type\":\"scatter\"}],\"parcoords\":[{\"type\":\"parcoords\",\"line\":{\"colorbar\":{\"outlinewidth\":0,\"ticks\":\"\"}}}],\"scatterpolargl\":[{\"type\":\"scatterpolargl\",\"marker\":{\"colorbar\":{\"outlinewidth\":0,\"ticks\":\"\"}}}],\"bar\":[{\"error_x\":{\"color\":\"#2a3f5f\"},\"error_y\":{\"color\":\"#2a3f5f\"},\"marker\":{\"line\":{\"color\":\"#E5ECF6\",\"width\":0.5},\"pattern\":{\"fillmode\":\"overlay\",\"size\":10,\"solidity\":0.2}},\"type\":\"bar\"}],\"scattergeo\":[{\"type\":\"scattergeo\",\"marker\":{\"colorbar\":{\"outlinewidth\":0,\"ticks\":\"\"}}}],\"scatterpolar\":[{\"type\":\"scatterpolar\",\"marker\":{\"colorbar\":{\"outlinewidth\":0,\"ticks\":\"\"}}}],\"histogram\":[{\"marker\":{\"pattern\":{\"fillmode\":\"overlay\",\"size\":10,\"solidity\":0.2}},\"type\":\"histogram\"}],\"scattergl\":[{\"type\":\"scattergl\",\"marker\":{\"colorbar\":{\"outlinewidth\":0,\"ticks\":\"\"}}}],\"scatter3d\":[{\"type\":\"scatter3d\",\"line\":{\"colorbar\":{\"outlinewidth\":0,\"ticks\":\"\"}},\"marker\":{\"colorbar\":{\"outlinewidth\":0,\"ticks\":\"\"}}}],\"scattermapbox\":[{\"type\":\"scattermapbox\",\"marker\":{\"colorbar\":{\"outlinewidth\":0,\"ticks\":\"\"}}}],\"scatterternary\":[{\"type\":\"scatterternary\",\"marker\":{\"colorbar\":{\"outlinewidth\":0,\"ticks\":\"\"}}}],\"scattercarpet\":[{\"type\":\"scattercarpet\",\"marker\":{\"colorbar\":{\"outlinewidth\":0,\"ticks\":\"\"}}}],\"carpet\":[{\"aaxis\":{\"endlinecolor\":\"#2a3f5f\",\"gridcolor\":\"white\",\"linecolor\":\"white\",\"minorgridcolor\":\"white\",\"startlinecolor\":\"#2a3f5f\"},\"baxis\":{\"endlinecolor\":\"#2a3f5f\",\"gridcolor\":\"white\",\"linecolor\":\"white\",\"minorgridcolor\":\"white\",\"startlinecolor\":\"#2a3f5f\"},\"type\":\"carpet\"}],\"table\":[{\"cells\":{\"fill\":{\"color\":\"#EBF0F8\"},\"line\":{\"color\":\"white\"}},\"header\":{\"fill\":{\"color\":\"#C8D4E3\"},\"line\":{\"color\":\"white\"}},\"type\":\"table\"}],\"barpolar\":[{\"marker\":{\"line\":{\"color\":\"#E5ECF6\",\"width\":0.5},\"pattern\":{\"fillmode\":\"overlay\",\"size\":10,\"solidity\":0.2}},\"type\":\"barpolar\"}],\"pie\":[{\"automargin\":true,\"type\":\"pie\"}]},\"layout\":{\"autotypenumbers\":\"strict\",\"colorway\":[\"#636efa\",\"#EF553B\",\"#00cc96\",\"#ab63fa\",\"#FFA15A\",\"#19d3f3\",\"#FF6692\",\"#B6E880\",\"#FF97FF\",\"#FECB52\"],\"font\":{\"color\":\"#2a3f5f\"},\"hovermode\":\"closest\",\"hoverlabel\":{\"align\":\"left\"},\"paper_bgcolor\":\"white\",\"plot_bgcolor\":\"#E5ECF6\",\"polar\":{\"bgcolor\":\"#E5ECF6\",\"angularaxis\":{\"gridcolor\":\"white\",\"linecolor\":\"white\",\"ticks\":\"\"},\"radialaxis\":{\"gridcolor\":\"white\",\"linecolor\":\"white\",\"ticks\":\"\"}},\"ternary\":{\"bgcolor\":\"#E5ECF6\",\"aaxis\":{\"gridcolor\":\"white\",\"linecolor\":\"white\",\"ticks\":\"\"},\"baxis\":{\"gridcolor\":\"white\",\"linecolor\":\"white\",\"ticks\":\"\"},\"caxis\":{\"gridcolor\":\"white\",\"linecolor\":\"white\",\"ticks\":\"\"}},\"coloraxis\":{\"colorbar\":{\"outlinewidth\":0,\"ticks\":\"\"}},\"colorscale\":{\"sequential\":[[0.0,\"#0d0887\"],[0.1111111111111111,\"#46039f\"],[0.2222222222222222,\"#7201a8\"],[0.3333333333333333,\"#9c179e\"],[0.4444444444444444,\"#bd3786\"],[0.5555555555555556,\"#d8576b\"],[0.6666666666666666,\"#ed7953\"],[0.7777777777777778,\"#fb9f3a\"],[0.8888888888888888,\"#fdca26\"],[1.0,\"#f0f921\"]],\"sequentialminus\":[[0.0,\"#0d0887\"],[0.1111111111111111,\"#46039f\"],[0.2222222222222222,\"#7201a8\"],[0.3333333333333333,\"#9c179e\"],[0.4444444444444444,\"#bd3786\"],[0.5555555555555556,\"#d8576b\"],[0.6666666666666666,\"#ed7953\"],[0.7777777777777778,\"#fb9f3a\"],[0.8888888888888888,\"#fdca26\"],[1.0,\"#f0f921\"]],\"diverging\":[[0,\"#8e0152\"],[0.1,\"#c51b7d\"],[0.2,\"#de77ae\"],[0.3,\"#f1b6da\"],[0.4,\"#fde0ef\"],[0.5,\"#f7f7f7\"],[0.6,\"#e6f5d0\"],[0.7,\"#b8e186\"],[0.8,\"#7fbc41\"],[0.9,\"#4d9221\"],[1,\"#276419\"]]},\"xaxis\":{\"gridcolor\":\"white\",\"linecolor\":\"white\",\"ticks\":\"\",\"title\":{\"standoff\":15},\"zerolinecolor\":\"white\",\"automargin\":true,\"zerolinewidth\":2},\"yaxis\":{\"gridcolor\":\"white\",\"linecolor\":\"white\",\"ticks\":\"\",\"title\":{\"standoff\":15},\"zerolinecolor\":\"white\",\"automargin\":true,\"zerolinewidth\":2},\"scene\":{\"xaxis\":{\"backgroundcolor\":\"#E5ECF6\",\"gridcolor\":\"white\",\"linecolor\":\"white\",\"showbackground\":true,\"ticks\":\"\",\"zerolinecolor\":\"white\",\"gridwidth\":2},\"yaxis\":{\"backgroundcolor\":\"#E5ECF6\",\"gridcolor\":\"white\",\"linecolor\":\"white\",\"showbackground\":true,\"ticks\":\"\",\"zerolinecolor\":\"white\",\"gridwidth\":2},\"zaxis\":{\"backgroundcolor\":\"#E5ECF6\",\"gridcolor\":\"white\",\"linecolor\":\"white\",\"showbackground\":true,\"ticks\":\"\",\"zerolinecolor\":\"white\",\"gridwidth\":2}},\"shapedefaults\":{\"line\":{\"color\":\"#2a3f5f\"}},\"annotationdefaults\":{\"arrowcolor\":\"#2a3f5f\",\"arrowhead\":0,\"arrowwidth\":1},\"geo\":{\"bgcolor\":\"white\",\"landcolor\":\"#E5ECF6\",\"subunitcolor\":\"white\",\"showland\":true,\"showlakes\":true,\"lakecolor\":\"white\"},\"title\":{\"x\":0.05},\"mapbox\":{\"style\":\"light\"}}},\"xaxis\":{\"anchor\":\"y\",\"domain\":[0.0,0.49],\"title\":{\"text\":\"Observation Percentage\"}},\"yaxis\":{\"anchor\":\"x\",\"domain\":[0.0,1.0],\"title\":{\"text\":\"Frequency\"}},\"xaxis2\":{\"anchor\":\"y2\",\"domain\":[0.51,1.0],\"matches\":\"x\",\"title\":{\"text\":\"Observation Percentage\"}},\"yaxis2\":{\"anchor\":\"x2\",\"domain\":[0.0,1.0],\"matches\":\"y\",\"showticklabels\":false},\"annotations\":[{\"font\":{},\"showarrow\":false,\"text\":\"Foreign-born\",\"x\":0.245,\"xanchor\":\"center\",\"xref\":\"paper\",\"y\":1.0,\"yanchor\":\"bottom\",\"yref\":\"paper\"},{\"font\":{},\"showarrow\":false,\"text\":\"Native-born\",\"x\":0.755,\"xanchor\":\"center\",\"xref\":\"paper\",\"y\":1.0,\"yanchor\":\"bottom\",\"yref\":\"paper\"}],\"legend\":{\"title\":{\"text\":\"Country\"},\"tracegroupgap\":0},\"margin\":{\"t\":60},\"barmode\":\"relative\",\"title\":{\"text\":\"Percent of Population ages 24-60 w\\u002f a Upper secondary or post-secondary non-tertiary education\",\"x\":0.5},\"bargap\":0.02,\"autosize\":false,\"width\":1200,\"height\":500},                        {\"responsive\": true}                    ).then(function(){\n",
       "                            \n",
       "var gd = document.getElementById('f9d0580d-01ab-4daa-a726-928bf651f5ff');\n",
       "var x = new MutationObserver(function (mutations, observer) {{\n",
       "        var display = window.getComputedStyle(gd).display;\n",
       "        if (!display || display === 'none') {{\n",
       "            console.log([gd, 'removed!']);\n",
       "            Plotly.purge(gd);\n",
       "            observer.disconnect();\n",
       "        }}\n",
       "}});\n",
       "\n",
       "// Listen for the removal of the full notebook cells\n",
       "var notebookContainer = gd.closest('#notebook-container');\n",
       "if (notebookContainer) {{\n",
       "    x.observe(notebookContainer, {childList: true});\n",
       "}}\n",
       "\n",
       "// Listen for the clearing of the current output cell\n",
       "var outputEl = gd.closest('.output');\n",
       "if (outputEl) {{\n",
       "    x.observe(outputEl, {childList: true});\n",
       "}}\n",
       "\n",
       "                        })                };                });            </script>        </div>"
      ]
     },
     "metadata": {},
     "output_type": "display_data"
    }
   ],
   "source": [
    "fig = px.histogram(DF_rory_S,\n",
    "                 x='OBS_VALUE',\n",
    "                 nbins=30,\n",
    "                 facet_col= 'Place of birth',\n",
    "                 facet_col_wrap=2,\n",
    "                  color='Reference area',\n",
    "                  color_discrete_sequence=px.colors.qualitative.Prism)\n",
    "fig.for_each_annotation(lambda a: a.update(text=a.text.split(\"=\")[-1]))\n",
    "fig.update_xaxes(title_text='Observation Percentage')\n",
    "fig.update_layout(bargap=0.02,\n",
    "                  title='Percent of Population ages 24-60 w/ a Upper secondary or post-secondary non-tertiary education',\n",
    "                  title_x=0.5,\n",
    "                  xaxis_title=\"Observation Percentage\",\n",
    "                  yaxis_title=\"Frequency\",\n",
    "                  legend_title=\"Country\",\n",
    "                  autosize=False,\n",
    "                  width=1200,\n",
    "                  height=500)\n",
    "\n",
    "fig.show()"
   ]
  },
  {
   "cell_type": "markdown",
   "id": "4eed2336-3461-488e-93e1-9776a56c8e71",
   "metadata": {},
   "source": [
    "In conclusion, the country with the highest percentage of their population with a Tertiary education for both native born and forgien born indivuals is Canada. The countries with the highest percentange of the population with a a Upper secondary or post-secondary non-tertiary education are Solvakia Republic native born and Slovania forgien born. The countries with the highest percent of their population with a Below upper secondary education are Costa rica forgien born and mexico native born."
   ]
  },
  {
   "cell_type": "markdown",
   "id": "de411b2e-fff3-4dfd-b484-85cf1dc78611",
   "metadata": {},
   "source": [
    "#### Joseph"
   ]
  },
  {
   "cell_type": "code",
   "execution_count": 137,
   "id": "3fed8037-a4ca-462c-ac62-0ff535b47de3",
   "metadata": {},
   "outputs": [],
   "source": [
    "my_cols = ['cgpa','sports_engagement','average_sleep','depression','anxiety','isolation','future_insecurity']\n",
    "DF_j = DF_raw[my_cols]\n",
    "DF_j['mental_health'] = 20 - (DF_j['depression'] + DF_j['anxiety'] + DF_j['isolation'] + DF_j['future_insecurity'])"
   ]
  },
  {
   "cell_type": "code",
   "execution_count": 138,
   "id": "08e9e700-b283-4b67-8171-50ddb7b09dfd",
   "metadata": {},
   "outputs": [
    {
     "data": {
      "application/vnd.plotly.v1+json": {
       "config": {
        "plotlyServerURL": "https://plot.ly"
       },
       "data": [
        {
         "alignmentgroup": "True",
         "bingroup": "x",
         "hovertemplate": "cgpa=0.0-0.0<br>sports_engagement=%{x}<br>count (normalized as percent)=%{y}<extra></extra>",
         "legendgroup": "0.0-0.0",
         "marker": {
          "color": "#f0f9e8",
          "pattern": {
           "shape": ""
          }
         },
         "name": "0.0-0.0",
         "offsetgroup": "0.0-0.0",
         "orientation": "v",
         "showlegend": true,
         "type": "histogram",
         "x": [
          "7+ times",
          "No Sports",
          "7+ times",
          "1-3 times",
          "7+ times"
         ],
         "xaxis": "x",
         "yaxis": "y"
        },
        {
         "alignmentgroup": "True",
         "bingroup": "x",
         "hovertemplate": "cgpa=1.5-2.0<br>sports_engagement=%{x}<br>count (normalized as percent)=%{y}<extra></extra>",
         "legendgroup": "1.5-2.0",
         "marker": {
          "color": "#ccebc5",
          "pattern": {
           "shape": ""
          }
         },
         "name": "1.5-2.0",
         "offsetgroup": "1.5-2.0",
         "orientation": "v",
         "showlegend": true,
         "type": "histogram",
         "x": [
          "No Sports",
          "7+ times"
         ],
         "xaxis": "x",
         "yaxis": "y"
        },
        {
         "alignmentgroup": "True",
         "bingroup": "x",
         "hovertemplate": "cgpa=2.0-2.5<br>sports_engagement=%{x}<br>count (normalized as percent)=%{y}<extra></extra>",
         "legendgroup": "2.0-2.5",
         "marker": {
          "color": "#a8ddb5",
          "pattern": {
           "shape": ""
          }
         },
         "name": "2.0-2.5",
         "offsetgroup": "2.0-2.5",
         "orientation": "v",
         "showlegend": true,
         "type": "histogram",
         "x": [
          "No Sports",
          "No Sports",
          "1-3 times",
          "1-3 times"
         ],
         "xaxis": "x",
         "yaxis": "y"
        },
        {
         "alignmentgroup": "True",
         "bingroup": "x",
         "hovertemplate": "cgpa=2.5-3.0<br>sports_engagement=%{x}<br>count (normalized as percent)=%{y}<extra></extra>",
         "legendgroup": "2.5-3.0",
         "marker": {
          "color": "#7bccc4",
          "pattern": {
           "shape": ""
          }
         },
         "name": "2.5-3.0",
         "offsetgroup": "2.5-3.0",
         "orientation": "v",
         "showlegend": true,
         "type": "histogram",
         "x": [
          "No Sports",
          "4-6 times",
          "7+ times",
          "No Sports",
          "1-3 times",
          "No Sports",
          "No Sports",
          "No Sports",
          "1-3 times",
          "4-6 times",
          "4-6 times",
          "4-6 times",
          "1-3 times",
          "1-3 times",
          "No Sports",
          "No Sports",
          "No Sports",
          "1-3 times",
          "No Sports",
          "1-3 times",
          "No Sports",
          "1-3 times"
         ],
         "xaxis": "x",
         "yaxis": "y"
        },
        {
         "alignmentgroup": "True",
         "bingroup": "x",
         "hovertemplate": "cgpa=3.0-3.5<br>sports_engagement=%{x}<br>count (normalized as percent)=%{y}<extra></extra>",
         "legendgroup": "3.0-3.5",
         "marker": {
          "color": "#43a2ca",
          "pattern": {
           "shape": ""
          }
         },
         "name": "3.0-3.5",
         "offsetgroup": "3.0-3.5",
         "orientation": "v",
         "showlegend": true,
         "type": "histogram",
         "x": [
          "7+ times",
          "No Sports",
          "No Sports",
          "No Sports",
          "No Sports",
          "1-3 times",
          "No Sports",
          "1-3 times",
          "1-3 times",
          "No Sports",
          "1-3 times",
          "7+ times",
          "No Sports",
          "No Sports",
          "No Sports",
          "No Sports",
          "No Sports",
          "No Sports",
          "No Sports",
          "No Sports",
          "4-6 times",
          "No Sports",
          "4-6 times",
          "No Sports",
          "No Sports",
          "1-3 times",
          "No Sports"
         ],
         "xaxis": "x",
         "yaxis": "y"
        },
        {
         "alignmentgroup": "True",
         "bingroup": "x",
         "hovertemplate": "cgpa=3.5-4.0<br>sports_engagement=%{x}<br>count (normalized as percent)=%{y}<extra></extra>",
         "legendgroup": "3.5-4.0",
         "marker": {
          "color": "#0868ac",
          "pattern": {
           "shape": ""
          }
         },
         "name": "3.5-4.0",
         "offsetgroup": "3.5-4.0",
         "orientation": "v",
         "showlegend": true,
         "type": "histogram",
         "x": [
          "No Sports",
          "No Sports",
          "1-3 times",
          "7+ times",
          "No Sports",
          "No Sports",
          "4-6 times",
          "7+ times",
          "No Sports",
          "1-3 times",
          "1-3 times",
          "1-3 times",
          "1-3 times",
          "4-6 times",
          "No Sports",
          "No Sports",
          "7+ times",
          "No Sports",
          "1-3 times",
          "1-3 times",
          "1-3 times",
          "No Sports",
          "1-3 times",
          "4-6 times",
          "4-6 times",
          "No Sports",
          "4-6 times"
         ],
         "xaxis": "x",
         "yaxis": "y"
        }
       ],
       "layout": {
        "autosize": true,
        "barmode": "relative",
        "barnorm": "percent",
        "legend": {
         "title": {
          "text": "Cumulative GPA"
         },
         "tracegroupgap": 0
        },
        "margin": {
         "t": 60
        },
        "template": {
         "data": {
          "bar": [
           {
            "error_x": {
             "color": "#2a3f5f"
            },
            "error_y": {
             "color": "#2a3f5f"
            },
            "marker": {
             "line": {
              "color": "#E5ECF6",
              "width": 0.5
             },
             "pattern": {
              "fillmode": "overlay",
              "size": 10,
              "solidity": 0.2
             }
            },
            "type": "bar"
           }
          ],
          "barpolar": [
           {
            "marker": {
             "line": {
              "color": "#E5ECF6",
              "width": 0.5
             },
             "pattern": {
              "fillmode": "overlay",
              "size": 10,
              "solidity": 0.2
             }
            },
            "type": "barpolar"
           }
          ],
          "carpet": [
           {
            "aaxis": {
             "endlinecolor": "#2a3f5f",
             "gridcolor": "white",
             "linecolor": "white",
             "minorgridcolor": "white",
             "startlinecolor": "#2a3f5f"
            },
            "baxis": {
             "endlinecolor": "#2a3f5f",
             "gridcolor": "white",
             "linecolor": "white",
             "minorgridcolor": "white",
             "startlinecolor": "#2a3f5f"
            },
            "type": "carpet"
           }
          ],
          "choropleth": [
           {
            "colorbar": {
             "outlinewidth": 0,
             "ticks": ""
            },
            "type": "choropleth"
           }
          ],
          "contour": [
           {
            "colorbar": {
             "outlinewidth": 0,
             "ticks": ""
            },
            "colorscale": [
             [
              0,
              "#0d0887"
             ],
             [
              0.1111111111111111,
              "#46039f"
             ],
             [
              0.2222222222222222,
              "#7201a8"
             ],
             [
              0.3333333333333333,
              "#9c179e"
             ],
             [
              0.4444444444444444,
              "#bd3786"
             ],
             [
              0.5555555555555556,
              "#d8576b"
             ],
             [
              0.6666666666666666,
              "#ed7953"
             ],
             [
              0.7777777777777778,
              "#fb9f3a"
             ],
             [
              0.8888888888888888,
              "#fdca26"
             ],
             [
              1,
              "#f0f921"
             ]
            ],
            "type": "contour"
           }
          ],
          "contourcarpet": [
           {
            "colorbar": {
             "outlinewidth": 0,
             "ticks": ""
            },
            "type": "contourcarpet"
           }
          ],
          "heatmap": [
           {
            "colorbar": {
             "outlinewidth": 0,
             "ticks": ""
            },
            "colorscale": [
             [
              0,
              "#0d0887"
             ],
             [
              0.1111111111111111,
              "#46039f"
             ],
             [
              0.2222222222222222,
              "#7201a8"
             ],
             [
              0.3333333333333333,
              "#9c179e"
             ],
             [
              0.4444444444444444,
              "#bd3786"
             ],
             [
              0.5555555555555556,
              "#d8576b"
             ],
             [
              0.6666666666666666,
              "#ed7953"
             ],
             [
              0.7777777777777778,
              "#fb9f3a"
             ],
             [
              0.8888888888888888,
              "#fdca26"
             ],
             [
              1,
              "#f0f921"
             ]
            ],
            "type": "heatmap"
           }
          ],
          "heatmapgl": [
           {
            "colorbar": {
             "outlinewidth": 0,
             "ticks": ""
            },
            "colorscale": [
             [
              0,
              "#0d0887"
             ],
             [
              0.1111111111111111,
              "#46039f"
             ],
             [
              0.2222222222222222,
              "#7201a8"
             ],
             [
              0.3333333333333333,
              "#9c179e"
             ],
             [
              0.4444444444444444,
              "#bd3786"
             ],
             [
              0.5555555555555556,
              "#d8576b"
             ],
             [
              0.6666666666666666,
              "#ed7953"
             ],
             [
              0.7777777777777778,
              "#fb9f3a"
             ],
             [
              0.8888888888888888,
              "#fdca26"
             ],
             [
              1,
              "#f0f921"
             ]
            ],
            "type": "heatmapgl"
           }
          ],
          "histogram": [
           {
            "marker": {
             "pattern": {
              "fillmode": "overlay",
              "size": 10,
              "solidity": 0.2
             }
            },
            "type": "histogram"
           }
          ],
          "histogram2d": [
           {
            "colorbar": {
             "outlinewidth": 0,
             "ticks": ""
            },
            "colorscale": [
             [
              0,
              "#0d0887"
             ],
             [
              0.1111111111111111,
              "#46039f"
             ],
             [
              0.2222222222222222,
              "#7201a8"
             ],
             [
              0.3333333333333333,
              "#9c179e"
             ],
             [
              0.4444444444444444,
              "#bd3786"
             ],
             [
              0.5555555555555556,
              "#d8576b"
             ],
             [
              0.6666666666666666,
              "#ed7953"
             ],
             [
              0.7777777777777778,
              "#fb9f3a"
             ],
             [
              0.8888888888888888,
              "#fdca26"
             ],
             [
              1,
              "#f0f921"
             ]
            ],
            "type": "histogram2d"
           }
          ],
          "histogram2dcontour": [
           {
            "colorbar": {
             "outlinewidth": 0,
             "ticks": ""
            },
            "colorscale": [
             [
              0,
              "#0d0887"
             ],
             [
              0.1111111111111111,
              "#46039f"
             ],
             [
              0.2222222222222222,
              "#7201a8"
             ],
             [
              0.3333333333333333,
              "#9c179e"
             ],
             [
              0.4444444444444444,
              "#bd3786"
             ],
             [
              0.5555555555555556,
              "#d8576b"
             ],
             [
              0.6666666666666666,
              "#ed7953"
             ],
             [
              0.7777777777777778,
              "#fb9f3a"
             ],
             [
              0.8888888888888888,
              "#fdca26"
             ],
             [
              1,
              "#f0f921"
             ]
            ],
            "type": "histogram2dcontour"
           }
          ],
          "mesh3d": [
           {
            "colorbar": {
             "outlinewidth": 0,
             "ticks": ""
            },
            "type": "mesh3d"
           }
          ],
          "parcoords": [
           {
            "line": {
             "colorbar": {
              "outlinewidth": 0,
              "ticks": ""
             }
            },
            "type": "parcoords"
           }
          ],
          "pie": [
           {
            "automargin": true,
            "type": "pie"
           }
          ],
          "scatter": [
           {
            "fillpattern": {
             "fillmode": "overlay",
             "size": 10,
             "solidity": 0.2
            },
            "type": "scatter"
           }
          ],
          "scatter3d": [
           {
            "line": {
             "colorbar": {
              "outlinewidth": 0,
              "ticks": ""
             }
            },
            "marker": {
             "colorbar": {
              "outlinewidth": 0,
              "ticks": ""
             }
            },
            "type": "scatter3d"
           }
          ],
          "scattercarpet": [
           {
            "marker": {
             "colorbar": {
              "outlinewidth": 0,
              "ticks": ""
             }
            },
            "type": "scattercarpet"
           }
          ],
          "scattergeo": [
           {
            "marker": {
             "colorbar": {
              "outlinewidth": 0,
              "ticks": ""
             }
            },
            "type": "scattergeo"
           }
          ],
          "scattergl": [
           {
            "marker": {
             "colorbar": {
              "outlinewidth": 0,
              "ticks": ""
             }
            },
            "type": "scattergl"
           }
          ],
          "scattermapbox": [
           {
            "marker": {
             "colorbar": {
              "outlinewidth": 0,
              "ticks": ""
             }
            },
            "type": "scattermapbox"
           }
          ],
          "scatterpolar": [
           {
            "marker": {
             "colorbar": {
              "outlinewidth": 0,
              "ticks": ""
             }
            },
            "type": "scatterpolar"
           }
          ],
          "scatterpolargl": [
           {
            "marker": {
             "colorbar": {
              "outlinewidth": 0,
              "ticks": ""
             }
            },
            "type": "scatterpolargl"
           }
          ],
          "scatterternary": [
           {
            "marker": {
             "colorbar": {
              "outlinewidth": 0,
              "ticks": ""
             }
            },
            "type": "scatterternary"
           }
          ],
          "surface": [
           {
            "colorbar": {
             "outlinewidth": 0,
             "ticks": ""
            },
            "colorscale": [
             [
              0,
              "#0d0887"
             ],
             [
              0.1111111111111111,
              "#46039f"
             ],
             [
              0.2222222222222222,
              "#7201a8"
             ],
             [
              0.3333333333333333,
              "#9c179e"
             ],
             [
              0.4444444444444444,
              "#bd3786"
             ],
             [
              0.5555555555555556,
              "#d8576b"
             ],
             [
              0.6666666666666666,
              "#ed7953"
             ],
             [
              0.7777777777777778,
              "#fb9f3a"
             ],
             [
              0.8888888888888888,
              "#fdca26"
             ],
             [
              1,
              "#f0f921"
             ]
            ],
            "type": "surface"
           }
          ],
          "table": [
           {
            "cells": {
             "fill": {
              "color": "#EBF0F8"
             },
             "line": {
              "color": "white"
             }
            },
            "header": {
             "fill": {
              "color": "#C8D4E3"
             },
             "line": {
              "color": "white"
             }
            },
            "type": "table"
           }
          ]
         },
         "layout": {
          "annotationdefaults": {
           "arrowcolor": "#2a3f5f",
           "arrowhead": 0,
           "arrowwidth": 1
          },
          "autotypenumbers": "strict",
          "coloraxis": {
           "colorbar": {
            "outlinewidth": 0,
            "ticks": ""
           }
          },
          "colorscale": {
           "diverging": [
            [
             0,
             "#8e0152"
            ],
            [
             0.1,
             "#c51b7d"
            ],
            [
             0.2,
             "#de77ae"
            ],
            [
             0.3,
             "#f1b6da"
            ],
            [
             0.4,
             "#fde0ef"
            ],
            [
             0.5,
             "#f7f7f7"
            ],
            [
             0.6,
             "#e6f5d0"
            ],
            [
             0.7,
             "#b8e186"
            ],
            [
             0.8,
             "#7fbc41"
            ],
            [
             0.9,
             "#4d9221"
            ],
            [
             1,
             "#276419"
            ]
           ],
           "sequential": [
            [
             0,
             "#0d0887"
            ],
            [
             0.1111111111111111,
             "#46039f"
            ],
            [
             0.2222222222222222,
             "#7201a8"
            ],
            [
             0.3333333333333333,
             "#9c179e"
            ],
            [
             0.4444444444444444,
             "#bd3786"
            ],
            [
             0.5555555555555556,
             "#d8576b"
            ],
            [
             0.6666666666666666,
             "#ed7953"
            ],
            [
             0.7777777777777778,
             "#fb9f3a"
            ],
            [
             0.8888888888888888,
             "#fdca26"
            ],
            [
             1,
             "#f0f921"
            ]
           ],
           "sequentialminus": [
            [
             0,
             "#0d0887"
            ],
            [
             0.1111111111111111,
             "#46039f"
            ],
            [
             0.2222222222222222,
             "#7201a8"
            ],
            [
             0.3333333333333333,
             "#9c179e"
            ],
            [
             0.4444444444444444,
             "#bd3786"
            ],
            [
             0.5555555555555556,
             "#d8576b"
            ],
            [
             0.6666666666666666,
             "#ed7953"
            ],
            [
             0.7777777777777778,
             "#fb9f3a"
            ],
            [
             0.8888888888888888,
             "#fdca26"
            ],
            [
             1,
             "#f0f921"
            ]
           ]
          },
          "colorway": [
           "#636efa",
           "#EF553B",
           "#00cc96",
           "#ab63fa",
           "#FFA15A",
           "#19d3f3",
           "#FF6692",
           "#B6E880",
           "#FF97FF",
           "#FECB52"
          ],
          "font": {
           "color": "#2a3f5f"
          },
          "geo": {
           "bgcolor": "white",
           "lakecolor": "white",
           "landcolor": "#E5ECF6",
           "showlakes": true,
           "showland": true,
           "subunitcolor": "white"
          },
          "hoverlabel": {
           "align": "left"
          },
          "hovermode": "closest",
          "mapbox": {
           "style": "light"
          },
          "paper_bgcolor": "white",
          "plot_bgcolor": "#E5ECF6",
          "polar": {
           "angularaxis": {
            "gridcolor": "white",
            "linecolor": "white",
            "ticks": ""
           },
           "bgcolor": "#E5ECF6",
           "radialaxis": {
            "gridcolor": "white",
            "linecolor": "white",
            "ticks": ""
           }
          },
          "scene": {
           "xaxis": {
            "backgroundcolor": "#E5ECF6",
            "gridcolor": "white",
            "gridwidth": 2,
            "linecolor": "white",
            "showbackground": true,
            "ticks": "",
            "zerolinecolor": "white"
           },
           "yaxis": {
            "backgroundcolor": "#E5ECF6",
            "gridcolor": "white",
            "gridwidth": 2,
            "linecolor": "white",
            "showbackground": true,
            "ticks": "",
            "zerolinecolor": "white"
           },
           "zaxis": {
            "backgroundcolor": "#E5ECF6",
            "gridcolor": "white",
            "gridwidth": 2,
            "linecolor": "white",
            "showbackground": true,
            "ticks": "",
            "zerolinecolor": "white"
           }
          },
          "shapedefaults": {
           "line": {
            "color": "#2a3f5f"
           }
          },
          "ternary": {
           "aaxis": {
            "gridcolor": "white",
            "linecolor": "white",
            "ticks": ""
           },
           "baxis": {
            "gridcolor": "white",
            "linecolor": "white",
            "ticks": ""
           },
           "bgcolor": "#E5ECF6",
           "caxis": {
            "gridcolor": "white",
            "linecolor": "white",
            "ticks": ""
           }
          },
          "title": {
           "x": 0.05
          },
          "xaxis": {
           "automargin": true,
           "gridcolor": "white",
           "linecolor": "white",
           "ticks": "",
           "title": {
            "standoff": 15
           },
           "zerolinecolor": "white",
           "zerolinewidth": 2
          },
          "yaxis": {
           "automargin": true,
           "gridcolor": "white",
           "linecolor": "white",
           "ticks": "",
           "title": {
            "standoff": 15
           },
           "zerolinecolor": "white",
           "zerolinewidth": 2
          }
         }
        },
        "title": {
         "text": "Percentages of Cumulative Grade-Point Average by Sports Engagement"
        },
        "xaxis": {
         "anchor": "y",
         "autorange": true,
         "categoryarray": [
          "No Sports",
          "1-3 times",
          "4-6 times",
          "7+ times"
         ],
         "categoryorder": "array",
         "domain": [
          0,
          1
         ],
         "range": [
          -0.5,
          3.5
         ],
         "title": {
          "text": "Sports Engagement"
         },
         "type": "category"
        },
        "yaxis": {
         "anchor": "x",
         "autorange": true,
         "domain": [
          0,
          1
         ],
         "range": [
          0,
          105.26315789473685
         ],
         "title": {
          "text": "Percentage"
         }
        }
       }
      },
      "image/png": "[encoded data removed]",
      "text/html": [
       "<div>                            <div id=\"5857ad60-a7cb-4e96-a2bd-21081a7f0511\" class=\"plotly-graph-div\" style=\"height:525px; width:100%;\"></div>            <script type=\"text/javascript\">                require([\"plotly\"], function(Plotly) {                    window.PLOTLYENV=window.PLOTLYENV || {};                                    if (document.getElementById(\"5857ad60-a7cb-4e96-a2bd-21081a7f0511\")) {                    Plotly.newPlot(                        \"5857ad60-a7cb-4e96-a2bd-21081a7f0511\",                        [{\"alignmentgroup\":\"True\",\"bingroup\":\"x\",\"hovertemplate\":\"cgpa=0.0-0.0\\u003cbr\\u003esports_engagement=%{x}\\u003cbr\\u003ecount (normalized as percent)=%{y}\\u003cextra\\u003e\\u003c\\u002fextra\\u003e\",\"legendgroup\":\"0.0-0.0\",\"marker\":{\"color\":\"#f0f9e8\",\"pattern\":{\"shape\":\"\"}},\"name\":\"0.0-0.0\",\"offsetgroup\":\"0.0-0.0\",\"orientation\":\"v\",\"showlegend\":true,\"x\":[\"7+ times\",\"No Sports\",\"7+ times\",\"1-3 times\",\"7+ times\"],\"xaxis\":\"x\",\"yaxis\":\"y\",\"type\":\"histogram\"},{\"alignmentgroup\":\"True\",\"bingroup\":\"x\",\"hovertemplate\":\"cgpa=1.5-2.0\\u003cbr\\u003esports_engagement=%{x}\\u003cbr\\u003ecount (normalized as percent)=%{y}\\u003cextra\\u003e\\u003c\\u002fextra\\u003e\",\"legendgroup\":\"1.5-2.0\",\"marker\":{\"color\":\"#ccebc5\",\"pattern\":{\"shape\":\"\"}},\"name\":\"1.5-2.0\",\"offsetgroup\":\"1.5-2.0\",\"orientation\":\"v\",\"showlegend\":true,\"x\":[\"No Sports\",\"7+ times\"],\"xaxis\":\"x\",\"yaxis\":\"y\",\"type\":\"histogram\"},{\"alignmentgroup\":\"True\",\"bingroup\":\"x\",\"hovertemplate\":\"cgpa=2.0-2.5\\u003cbr\\u003esports_engagement=%{x}\\u003cbr\\u003ecount (normalized as percent)=%{y}\\u003cextra\\u003e\\u003c\\u002fextra\\u003e\",\"legendgroup\":\"2.0-2.5\",\"marker\":{\"color\":\"#a8ddb5\",\"pattern\":{\"shape\":\"\"}},\"name\":\"2.0-2.5\",\"offsetgroup\":\"2.0-2.5\",\"orientation\":\"v\",\"showlegend\":true,\"x\":[\"No Sports\",\"No Sports\",\"1-3 times\",\"1-3 times\"],\"xaxis\":\"x\",\"yaxis\":\"y\",\"type\":\"histogram\"},{\"alignmentgroup\":\"True\",\"bingroup\":\"x\",\"hovertemplate\":\"cgpa=2.5-3.0\\u003cbr\\u003esports_engagement=%{x}\\u003cbr\\u003ecount (normalized as percent)=%{y}\\u003cextra\\u003e\\u003c\\u002fextra\\u003e\",\"legendgroup\":\"2.5-3.0\",\"marker\":{\"color\":\"#7bccc4\",\"pattern\":{\"shape\":\"\"}},\"name\":\"2.5-3.0\",\"offsetgroup\":\"2.5-3.0\",\"orientation\":\"v\",\"showlegend\":true,\"x\":[\"No Sports\",\"4-6 times\",\"7+ times\",\"No Sports\",\"1-3 times\",\"No Sports\",\"No Sports\",\"No Sports\",\"1-3 times\",\"4-6 times\",\"4-6 times\",\"4-6 times\",\"1-3 times\",\"1-3 times\",\"No Sports\",\"No Sports\",\"No Sports\",\"1-3 times\",\"No Sports\",\"1-3 times\",\"No Sports\",\"1-3 times\"],\"xaxis\":\"x\",\"yaxis\":\"y\",\"type\":\"histogram\"},{\"alignmentgroup\":\"True\",\"bingroup\":\"x\",\"hovertemplate\":\"cgpa=3.0-3.5\\u003cbr\\u003esports_engagement=%{x}\\u003cbr\\u003ecount (normalized as percent)=%{y}\\u003cextra\\u003e\\u003c\\u002fextra\\u003e\",\"legendgroup\":\"3.0-3.5\",\"marker\":{\"color\":\"#43a2ca\",\"pattern\":{\"shape\":\"\"}},\"name\":\"3.0-3.5\",\"offsetgroup\":\"3.0-3.5\",\"orientation\":\"v\",\"showlegend\":true,\"x\":[\"7+ times\",\"No Sports\",\"No Sports\",\"No Sports\",\"No Sports\",\"1-3 times\",\"No Sports\",\"1-3 times\",\"1-3 times\",\"No Sports\",\"1-3 times\",\"7+ times\",\"No Sports\",\"No Sports\",\"No Sports\",\"No Sports\",\"No Sports\",\"No Sports\",\"No Sports\",\"No Sports\",\"4-6 times\",\"No Sports\",\"4-6 times\",\"No Sports\",\"No Sports\",\"1-3 times\",\"No Sports\"],\"xaxis\":\"x\",\"yaxis\":\"y\",\"type\":\"histogram\"},{\"alignmentgroup\":\"True\",\"bingroup\":\"x\",\"hovertemplate\":\"cgpa=3.5-4.0\\u003cbr\\u003esports_engagement=%{x}\\u003cbr\\u003ecount (normalized as percent)=%{y}\\u003cextra\\u003e\\u003c\\u002fextra\\u003e\",\"legendgroup\":\"3.5-4.0\",\"marker\":{\"color\":\"#0868ac\",\"pattern\":{\"shape\":\"\"}},\"name\":\"3.5-4.0\",\"offsetgroup\":\"3.5-4.0\",\"orientation\":\"v\",\"showlegend\":true,\"x\":[\"No Sports\",\"No Sports\",\"1-3 times\",\"7+ times\",\"No Sports\",\"No Sports\",\"4-6 times\",\"7+ times\",\"No Sports\",\"1-3 times\",\"1-3 times\",\"1-3 times\",\"1-3 times\",\"4-6 times\",\"No Sports\",\"No Sports\",\"7+ times\",\"No Sports\",\"1-3 times\",\"1-3 times\",\"1-3 times\",\"No Sports\",\"1-3 times\",\"4-6 times\",\"4-6 times\",\"No Sports\",\"4-6 times\"],\"xaxis\":\"x\",\"yaxis\":\"y\",\"type\":\"histogram\"}],                        {\"template\":{\"data\":{\"histogram2dcontour\":[{\"type\":\"histogram2dcontour\",\"colorbar\":{\"outlinewidth\":0,\"ticks\":\"\"},\"colorscale\":[[0.0,\"#0d0887\"],[0.1111111111111111,\"#46039f\"],[0.2222222222222222,\"#7201a8\"],[0.3333333333333333,\"#9c179e\"],[0.4444444444444444,\"#bd3786\"],[0.5555555555555556,\"#d8576b\"],[0.6666666666666666,\"#ed7953\"],[0.7777777777777778,\"#fb9f3a\"],[0.8888888888888888,\"#fdca26\"],[1.0,\"#f0f921\"]]}],\"choropleth\":[{\"type\":\"choropleth\",\"colorbar\":{\"outlinewidth\":0,\"ticks\":\"\"}}],\"histogram2d\":[{\"type\":\"histogram2d\",\"colorbar\":{\"outlinewidth\":0,\"ticks\":\"\"},\"colorscale\":[[0.0,\"#0d0887\"],[0.1111111111111111,\"#46039f\"],[0.2222222222222222,\"#7201a8\"],[0.3333333333333333,\"#9c179e\"],[0.4444444444444444,\"#bd3786\"],[0.5555555555555556,\"#d8576b\"],[0.6666666666666666,\"#ed7953\"],[0.7777777777777778,\"#fb9f3a\"],[0.8888888888888888,\"#fdca26\"],[1.0,\"#f0f921\"]]}],\"heatmap\":[{\"type\":\"heatmap\",\"colorbar\":{\"outlinewidth\":0,\"ticks\":\"\"},\"colorscale\":[[0.0,\"#0d0887\"],[0.1111111111111111,\"#46039f\"],[0.2222222222222222,\"#7201a8\"],[0.3333333333333333,\"#9c179e\"],[0.4444444444444444,\"#bd3786\"],[0.5555555555555556,\"#d8576b\"],[0.6666666666666666,\"#ed7953\"],[0.7777777777777778,\"#fb9f3a\"],[0.8888888888888888,\"#fdca26\"],[1.0,\"#f0f921\"]]}],\"heatmapgl\":[{\"type\":\"heatmapgl\",\"colorbar\":{\"outlinewidth\":0,\"ticks\":\"\"},\"colorscale\":[[0.0,\"#0d0887\"],[0.1111111111111111,\"#46039f\"],[0.2222222222222222,\"#7201a8\"],[0.3333333333333333,\"#9c179e\"],[0.4444444444444444,\"#bd3786\"],[0.5555555555555556,\"#d8576b\"],[0.6666666666666666,\"#ed7953\"],[0.7777777777777778,\"#fb9f3a\"],[0.8888888888888888,\"#fdca26\"],[1.0,\"#f0f921\"]]}],\"contourcarpet\":[{\"type\":\"contourcarpet\",\"colorbar\":{\"outlinewidth\":0,\"ticks\":\"\"}}],\"contour\":[{\"type\":\"contour\",\"colorbar\":{\"outlinewidth\":0,\"ticks\":\"\"},\"colorscale\":[[0.0,\"#0d0887\"],[0.1111111111111111,\"#46039f\"],[0.2222222222222222,\"#7201a8\"],[0.3333333333333333,\"#9c179e\"],[0.4444444444444444,\"#bd3786\"],[0.5555555555555556,\"#d8576b\"],[0.6666666666666666,\"#ed7953\"],[0.7777777777777778,\"#fb9f3a\"],[0.8888888888888888,\"#fdca26\"],[1.0,\"#f0f921\"]]}],\"surface\":[{\"type\":\"surface\",\"colorbar\":{\"outlinewidth\":0,\"ticks\":\"\"},\"colorscale\":[[0.0,\"#0d0887\"],[0.1111111111111111,\"#46039f\"],[0.2222222222222222,\"#7201a8\"],[0.3333333333333333,\"#9c179e\"],[0.4444444444444444,\"#bd3786\"],[0.5555555555555556,\"#d8576b\"],[0.6666666666666666,\"#ed7953\"],[0.7777777777777778,\"#fb9f3a\"],[0.8888888888888888,\"#fdca26\"],[1.0,\"#f0f921\"]]}],\"mesh3d\":[{\"type\":\"mesh3d\",\"colorbar\":{\"outlinewidth\":0,\"ticks\":\"\"}}],\"scatter\":[{\"fillpattern\":{\"fillmode\":\"overlay\",\"size\":10,\"solidity\":0.2},\"type\":\"scatter\"}],\"parcoords\":[{\"type\":\"parcoords\",\"line\":{\"colorbar\":{\"outlinewidth\":0,\"ticks\":\"\"}}}],\"scatterpolargl\":[{\"type\":\"scatterpolargl\",\"marker\":{\"colorbar\":{\"outlinewidth\":0,\"ticks\":\"\"}}}],\"bar\":[{\"error_x\":{\"color\":\"#2a3f5f\"},\"error_y\":{\"color\":\"#2a3f5f\"},\"marker\":{\"line\":{\"color\":\"#E5ECF6\",\"width\":0.5},\"pattern\":{\"fillmode\":\"overlay\",\"size\":10,\"solidity\":0.2}},\"type\":\"bar\"}],\"scattergeo\":[{\"type\":\"scattergeo\",\"marker\":{\"colorbar\":{\"outlinewidth\":0,\"ticks\":\"\"}}}],\"scatterpolar\":[{\"type\":\"scatterpolar\",\"marker\":{\"colorbar\":{\"outlinewidth\":0,\"ticks\":\"\"}}}],\"histogram\":[{\"marker\":{\"pattern\":{\"fillmode\":\"overlay\",\"size\":10,\"solidity\":0.2}},\"type\":\"histogram\"}],\"scattergl\":[{\"type\":\"scattergl\",\"marker\":{\"colorbar\":{\"outlinewidth\":0,\"ticks\":\"\"}}}],\"scatter3d\":[{\"type\":\"scatter3d\",\"line\":{\"colorbar\":{\"outlinewidth\":0,\"ticks\":\"\"}},\"marker\":{\"colorbar\":{\"outlinewidth\":0,\"ticks\":\"\"}}}],\"scattermapbox\":[{\"type\":\"scattermapbox\",\"marker\":{\"colorbar\":{\"outlinewidth\":0,\"ticks\":\"\"}}}],\"scatterternary\":[{\"type\":\"scatterternary\",\"marker\":{\"colorbar\":{\"outlinewidth\":0,\"ticks\":\"\"}}}],\"scattercarpet\":[{\"type\":\"scattercarpet\",\"marker\":{\"colorbar\":{\"outlinewidth\":0,\"ticks\":\"\"}}}],\"carpet\":[{\"aaxis\":{\"endlinecolor\":\"#2a3f5f\",\"gridcolor\":\"white\",\"linecolor\":\"white\",\"minorgridcolor\":\"white\",\"startlinecolor\":\"#2a3f5f\"},\"baxis\":{\"endlinecolor\":\"#2a3f5f\",\"gridcolor\":\"white\",\"linecolor\":\"white\",\"minorgridcolor\":\"white\",\"startlinecolor\":\"#2a3f5f\"},\"type\":\"carpet\"}],\"table\":[{\"cells\":{\"fill\":{\"color\":\"#EBF0F8\"},\"line\":{\"color\":\"white\"}},\"header\":{\"fill\":{\"color\":\"#C8D4E3\"},\"line\":{\"color\":\"white\"}},\"type\":\"table\"}],\"barpolar\":[{\"marker\":{\"line\":{\"color\":\"#E5ECF6\",\"width\":0.5},\"pattern\":{\"fillmode\":\"overlay\",\"size\":10,\"solidity\":0.2}},\"type\":\"barpolar\"}],\"pie\":[{\"automargin\":true,\"type\":\"pie\"}]},\"layout\":{\"autotypenumbers\":\"strict\",\"colorway\":[\"#636efa\",\"#EF553B\",\"#00cc96\",\"#ab63fa\",\"#FFA15A\",\"#19d3f3\",\"#FF6692\",\"#B6E880\",\"#FF97FF\",\"#FECB52\"],\"font\":{\"color\":\"#2a3f5f\"},\"hovermode\":\"closest\",\"hoverlabel\":{\"align\":\"left\"},\"paper_bgcolor\":\"white\",\"plot_bgcolor\":\"#E5ECF6\",\"polar\":{\"bgcolor\":\"#E5ECF6\",\"angularaxis\":{\"gridcolor\":\"white\",\"linecolor\":\"white\",\"ticks\":\"\"},\"radialaxis\":{\"gridcolor\":\"white\",\"linecolor\":\"white\",\"ticks\":\"\"}},\"ternary\":{\"bgcolor\":\"#E5ECF6\",\"aaxis\":{\"gridcolor\":\"white\",\"linecolor\":\"white\",\"ticks\":\"\"},\"baxis\":{\"gridcolor\":\"white\",\"linecolor\":\"white\",\"ticks\":\"\"},\"caxis\":{\"gridcolor\":\"white\",\"linecolor\":\"white\",\"ticks\":\"\"}},\"coloraxis\":{\"colorbar\":{\"outlinewidth\":0,\"ticks\":\"\"}},\"colorscale\":{\"sequential\":[[0.0,\"#0d0887\"],[0.1111111111111111,\"#46039f\"],[0.2222222222222222,\"#7201a8\"],[0.3333333333333333,\"#9c179e\"],[0.4444444444444444,\"#bd3786\"],[0.5555555555555556,\"#d8576b\"],[0.6666666666666666,\"#ed7953\"],[0.7777777777777778,\"#fb9f3a\"],[0.8888888888888888,\"#fdca26\"],[1.0,\"#f0f921\"]],\"sequentialminus\":[[0.0,\"#0d0887\"],[0.1111111111111111,\"#46039f\"],[0.2222222222222222,\"#7201a8\"],[0.3333333333333333,\"#9c179e\"],[0.4444444444444444,\"#bd3786\"],[0.5555555555555556,\"#d8576b\"],[0.6666666666666666,\"#ed7953\"],[0.7777777777777778,\"#fb9f3a\"],[0.8888888888888888,\"#fdca26\"],[1.0,\"#f0f921\"]],\"diverging\":[[0,\"#8e0152\"],[0.1,\"#c51b7d\"],[0.2,\"#de77ae\"],[0.3,\"#f1b6da\"],[0.4,\"#fde0ef\"],[0.5,\"#f7f7f7\"],[0.6,\"#e6f5d0\"],[0.7,\"#b8e186\"],[0.8,\"#7fbc41\"],[0.9,\"#4d9221\"],[1,\"#276419\"]]},\"xaxis\":{\"gridcolor\":\"white\",\"linecolor\":\"white\",\"ticks\":\"\",\"title\":{\"standoff\":15},\"zerolinecolor\":\"white\",\"automargin\":true,\"zerolinewidth\":2},\"yaxis\":{\"gridcolor\":\"white\",\"linecolor\":\"white\",\"ticks\":\"\",\"title\":{\"standoff\":15},\"zerolinecolor\":\"white\",\"automargin\":true,\"zerolinewidth\":2},\"scene\":{\"xaxis\":{\"backgroundcolor\":\"#E5ECF6\",\"gridcolor\":\"white\",\"linecolor\":\"white\",\"showbackground\":true,\"ticks\":\"\",\"zerolinecolor\":\"white\",\"gridwidth\":2},\"yaxis\":{\"backgroundcolor\":\"#E5ECF6\",\"gridcolor\":\"white\",\"linecolor\":\"white\",\"showbackground\":true,\"ticks\":\"\",\"zerolinecolor\":\"white\",\"gridwidth\":2},\"zaxis\":{\"backgroundcolor\":\"#E5ECF6\",\"gridcolor\":\"white\",\"linecolor\":\"white\",\"showbackground\":true,\"ticks\":\"\",\"zerolinecolor\":\"white\",\"gridwidth\":2}},\"shapedefaults\":{\"line\":{\"color\":\"#2a3f5f\"}},\"annotationdefaults\":{\"arrowcolor\":\"#2a3f5f\",\"arrowhead\":0,\"arrowwidth\":1},\"geo\":{\"bgcolor\":\"white\",\"landcolor\":\"#E5ECF6\",\"subunitcolor\":\"white\",\"showland\":true,\"showlakes\":true,\"lakecolor\":\"white\"},\"title\":{\"x\":0.05},\"mapbox\":{\"style\":\"light\"}}},\"xaxis\":{\"anchor\":\"y\",\"domain\":[0.0,1.0],\"title\":{\"text\":\"Sports Engagement\"},\"categoryorder\":\"array\",\"categoryarray\":[\"No Sports\",\"1-3 times\",\"4-6 times\",\"7+ times\"]},\"yaxis\":{\"anchor\":\"x\",\"domain\":[0.0,1.0],\"title\":{\"text\":\"Percentage\"}},\"legend\":{\"title\":{\"text\":\"Cumulative GPA\"},\"tracegroupgap\":0},\"margin\":{\"t\":60},\"barmode\":\"relative\",\"barnorm\":\"percent\",\"title\":{\"text\":\"Percentages of Cumulative Grade-Point Average by Sports Engagement\"}},                        {\"responsive\": true}                    ).then(function(){\n",
       "                            \n",
       "var gd = document.getElementById('5857ad60-a7cb-4e96-a2bd-21081a7f0511');\n",
       "var x = new MutationObserver(function (mutations, observer) {{\n",
       "        var display = window.getComputedStyle(gd).display;\n",
       "        if (!display || display === 'none') {{\n",
       "            console.log([gd, 'removed!']);\n",
       "            Plotly.purge(gd);\n",
       "            observer.disconnect();\n",
       "        }}\n",
       "}});\n",
       "\n",
       "// Listen for the removal of the full notebook cells\n",
       "var notebookContainer = gd.closest('#notebook-container');\n",
       "if (notebookContainer) {{\n",
       "    x.observe(notebookContainer, {childList: true});\n",
       "}}\n",
       "\n",
       "// Listen for the clearing of the current output cell\n",
       "var outputEl = gd.closest('.output');\n",
       "if (outputEl) {{\n",
       "    x.observe(outputEl, {childList: true});\n",
       "}}\n",
       "\n",
       "                        })                };                });            </script>        </div>"
      ]
     },
     "metadata": {},
     "output_type": "display_data"
    }
   ],
   "source": [
    "fig = px.histogram(DF_j.sort_values(by='cgpa'),\n",
    "                   x='sports_engagement',\n",
    "                   color='cgpa',\n",
    "                   color_discrete_sequence=['#f0f9e8','#ccebc5','#a8ddb5','#7bccc4','#43a2ca','#0868ac'],\n",
    "                   barnorm='percent',\n",
    "                   category_orders={'sports_engagement' : ['No Sports','1-3 times','4-6 times','7+ times']})\n",
    "fig.update_layout(title=\"Percentages of Cumulative Grade-Point Average by Sports Engagement\",\n",
    "                  xaxis_title='Sports Engagement',\n",
    "                  yaxis_title='Percentage',\n",
    "                  legend_title='Cumulative GPA')\n",
    "fig.show()"
   ]
  },
  {
   "cell_type": "markdown",
   "id": "251ccd50-2f65-4567-b906-e64459714f3d",
   "metadata": {},
   "source": [
    "There is a possible relationship between the amount of monthly sport engagement and cumulative GPA. It appears that a high frequency of sport engagement correlates to a greater probability of a worse GPA. Observations that reported no monthly sport engagement had the greatest percentage of GPAs of 3.0+. It appears that the percentage of very high (3.5-4.0) GPAs increases as sports engagement increases, reaching a peak when monthly sports engagement is 4-6 times. However, the pattern ends at this peak, and decreases for very high frequencies of sport engagement."
   ]
  },
  {
   "cell_type": "code",
   "execution_count": 140,
   "id": "73397134-5ee5-4fa8-a6e8-955da9602d16",
   "metadata": {},
   "outputs": [
    {
     "data": {
      "application/vnd.plotly.v1+json": {
       "config": {
        "plotlyServerURL": "https://plot.ly"
       },
       "data": [
        {
         "alignmentgroup": "True",
         "bingroup": "x",
         "hovertemplate": "cgpa=0.0-0.0<br>average_sleep=%{x}<br>count (normalized as percent)=%{y}<extra></extra>",
         "legendgroup": "0.0-0.0",
         "marker": {
          "color": "#f0f9e8",
          "pattern": {
           "shape": ""
          }
         },
         "name": "0.0-0.0",
         "offsetgroup": "0.0-0.0",
         "orientation": "v",
         "showlegend": true,
         "type": "histogram",
         "x": [
          "7-8 hrs",
          "4-6 hrs",
          "7-8 hrs",
          "4-6 hrs",
          "7-8 hrs"
         ],
         "xaxis": "x",
         "yaxis": "y"
        },
        {
         "alignmentgroup": "True",
         "bingroup": "x",
         "hovertemplate": "cgpa=1.5-2.0<br>average_sleep=%{x}<br>count (normalized as percent)=%{y}<extra></extra>",
         "legendgroup": "1.5-2.0",
         "marker": {
          "color": "#ccebc5",
          "pattern": {
           "shape": ""
          }
         },
         "name": "1.5-2.0",
         "offsetgroup": "1.5-2.0",
         "orientation": "v",
         "showlegend": true,
         "type": "histogram",
         "x": [
          "4-6 hrs",
          "2-4 hrs"
         ],
         "xaxis": "x",
         "yaxis": "y"
        },
        {
         "alignmentgroup": "True",
         "bingroup": "x",
         "hovertemplate": "cgpa=2.0-2.5<br>average_sleep=%{x}<br>count (normalized as percent)=%{y}<extra></extra>",
         "legendgroup": "2.0-2.5",
         "marker": {
          "color": "#a8ddb5",
          "pattern": {
           "shape": ""
          }
         },
         "name": "2.0-2.5",
         "offsetgroup": "2.0-2.5",
         "orientation": "v",
         "showlegend": true,
         "type": "histogram",
         "x": [
          "4-6 hrs",
          "4-6 hrs",
          "4-6 hrs",
          "7-8 hrs"
         ],
         "xaxis": "x",
         "yaxis": "y"
        },
        {
         "alignmentgroup": "True",
         "bingroup": "x",
         "hovertemplate": "cgpa=2.5-3.0<br>average_sleep=%{x}<br>count (normalized as percent)=%{y}<extra></extra>",
         "legendgroup": "2.5-3.0",
         "marker": {
          "color": "#7bccc4",
          "pattern": {
           "shape": ""
          }
         },
         "name": "2.5-3.0",
         "offsetgroup": "2.5-3.0",
         "orientation": "v",
         "showlegend": true,
         "type": "histogram",
         "x": [
          "4-6 hrs",
          "7-8 hrs",
          "4-6 hrs",
          "4-6 hrs",
          "4-6 hrs",
          "2-4 hrs",
          "4-6 hrs",
          "4-6 hrs",
          "4-6 hrs",
          "7-8 hrs",
          "4-6 hrs",
          "4-6 hrs",
          "7-8 hrs",
          "4-6 hrs",
          "7-8 hrs",
          "4-6 hrs",
          "4-6 hrs",
          "2-4 hrs",
          "4-6 hrs",
          "4-6 hrs",
          "7-8 hrs",
          "7-8 hrs"
         ],
         "xaxis": "x",
         "yaxis": "y"
        },
        {
         "alignmentgroup": "True",
         "bingroup": "x",
         "hovertemplate": "cgpa=3.0-3.5<br>average_sleep=%{x}<br>count (normalized as percent)=%{y}<extra></extra>",
         "legendgroup": "3.0-3.5",
         "marker": {
          "color": "#43a2ca",
          "pattern": {
           "shape": ""
          }
         },
         "name": "3.0-3.5",
         "offsetgroup": "3.0-3.5",
         "orientation": "v",
         "showlegend": true,
         "type": "histogram",
         "x": [
          "4-6 hrs",
          "4-6 hrs",
          "4-6 hrs",
          "4-6 hrs",
          "4-6 hrs",
          "4-6 hrs",
          "4-6 hrs",
          "4-6 hrs",
          "4-6 hrs",
          "7-8 hrs",
          "7-8 hrs",
          "7-8 hrs",
          "4-6 hrs",
          "4-6 hrs",
          "4-6 hrs",
          "4-6 hrs",
          "4-6 hrs",
          "7-8 hrs",
          "7-8 hrs",
          "2-4 hrs",
          "7-8 hrs",
          "7-8 hrs",
          "4-6 hrs",
          "7-8 hrs",
          "7-8 hrs",
          "7-8 hrs",
          "4-6 hrs"
         ],
         "xaxis": "x",
         "yaxis": "y"
        },
        {
         "alignmentgroup": "True",
         "bingroup": "x",
         "hovertemplate": "cgpa=3.5-4.0<br>average_sleep=%{x}<br>count (normalized as percent)=%{y}<extra></extra>",
         "legendgroup": "3.5-4.0",
         "marker": {
          "color": "#0868ac",
          "pattern": {
           "shape": ""
          }
         },
         "name": "3.5-4.0",
         "offsetgroup": "3.5-4.0",
         "orientation": "v",
         "showlegend": true,
         "type": "histogram",
         "x": [
          "4-6 hrs",
          "4-6 hrs",
          "7-8 hrs",
          "7-8 hrs",
          "7-8 hrs",
          "2-4 hrs",
          "7-8 hrs",
          "7-8 hrs",
          "4-6 hrs",
          "4-6 hrs",
          "4-6 hrs",
          "4-6 hrs",
          "4-6 hrs",
          "7-8 hrs",
          "7-8 hrs",
          "4-6 hrs",
          "4-6 hrs",
          "4-6 hrs",
          "4-6 hrs",
          "7-8 hrs",
          "4-6 hrs",
          "7-8 hrs",
          "4-6 hrs",
          "7-8 hrs",
          "7-8 hrs",
          "7-8 hrs",
          "4-6 hrs"
         ],
         "xaxis": "x",
         "yaxis": "y"
        }
       ],
       "layout": {
        "autosize": true,
        "barmode": "relative",
        "barnorm": "percent",
        "legend": {
         "title": {
          "text": "Cumulative GPA"
         },
         "tracegroupgap": 0
        },
        "margin": {
         "t": 60
        },
        "template": {
         "data": {
          "bar": [
           {
            "error_x": {
             "color": "#2a3f5f"
            },
            "error_y": {
             "color": "#2a3f5f"
            },
            "marker": {
             "line": {
              "color": "#E5ECF6",
              "width": 0.5
             },
             "pattern": {
              "fillmode": "overlay",
              "size": 10,
              "solidity": 0.2
             }
            },
            "type": "bar"
           }
          ],
          "barpolar": [
           {
            "marker": {
             "line": {
              "color": "#E5ECF6",
              "width": 0.5
             },
             "pattern": {
              "fillmode": "overlay",
              "size": 10,
              "solidity": 0.2
             }
            },
            "type": "barpolar"
           }
          ],
          "carpet": [
           {
            "aaxis": {
             "endlinecolor": "#2a3f5f",
             "gridcolor": "white",
             "linecolor": "white",
             "minorgridcolor": "white",
             "startlinecolor": "#2a3f5f"
            },
            "baxis": {
             "endlinecolor": "#2a3f5f",
             "gridcolor": "white",
             "linecolor": "white",
             "minorgridcolor": "white",
             "startlinecolor": "#2a3f5f"
            },
            "type": "carpet"
           }
          ],
          "choropleth": [
           {
            "colorbar": {
             "outlinewidth": 0,
             "ticks": ""
            },
            "type": "choropleth"
           }
          ],
          "contour": [
           {
            "colorbar": {
             "outlinewidth": 0,
             "ticks": ""
            },
            "colorscale": [
             [
              0,
              "#0d0887"
             ],
             [
              0.1111111111111111,
              "#46039f"
             ],
             [
              0.2222222222222222,
              "#7201a8"
             ],
             [
              0.3333333333333333,
              "#9c179e"
             ],
             [
              0.4444444444444444,
              "#bd3786"
             ],
             [
              0.5555555555555556,
              "#d8576b"
             ],
             [
              0.6666666666666666,
              "#ed7953"
             ],
             [
              0.7777777777777778,
              "#fb9f3a"
             ],
             [
              0.8888888888888888,
              "#fdca26"
             ],
             [
              1,
              "#f0f921"
             ]
            ],
            "type": "contour"
           }
          ],
          "contourcarpet": [
           {
            "colorbar": {
             "outlinewidth": 0,
             "ticks": ""
            },
            "type": "contourcarpet"
           }
          ],
          "heatmap": [
           {
            "colorbar": {
             "outlinewidth": 0,
             "ticks": ""
            },
            "colorscale": [
             [
              0,
              "#0d0887"
             ],
             [
              0.1111111111111111,
              "#46039f"
             ],
             [
              0.2222222222222222,
              "#7201a8"
             ],
             [
              0.3333333333333333,
              "#9c179e"
             ],
             [
              0.4444444444444444,
              "#bd3786"
             ],
             [
              0.5555555555555556,
              "#d8576b"
             ],
             [
              0.6666666666666666,
              "#ed7953"
             ],
             [
              0.7777777777777778,
              "#fb9f3a"
             ],
             [
              0.8888888888888888,
              "#fdca26"
             ],
             [
              1,
              "#f0f921"
             ]
            ],
            "type": "heatmap"
           }
          ],
          "heatmapgl": [
           {
            "colorbar": {
             "outlinewidth": 0,
             "ticks": ""
            },
            "colorscale": [
             [
              0,
              "#0d0887"
             ],
             [
              0.1111111111111111,
              "#46039f"
             ],
             [
              0.2222222222222222,
              "#7201a8"
             ],
             [
              0.3333333333333333,
              "#9c179e"
             ],
             [
              0.4444444444444444,
              "#bd3786"
             ],
             [
              0.5555555555555556,
              "#d8576b"
             ],
             [
              0.6666666666666666,
              "#ed7953"
             ],
             [
              0.7777777777777778,
              "#fb9f3a"
             ],
             [
              0.8888888888888888,
              "#fdca26"
             ],
             [
              1,
              "#f0f921"
             ]
            ],
            "type": "heatmapgl"
           }
          ],
          "histogram": [
           {
            "marker": {
             "pattern": {
              "fillmode": "overlay",
              "size": 10,
              "solidity": 0.2
             }
            },
            "type": "histogram"
           }
          ],
          "histogram2d": [
           {
            "colorbar": {
             "outlinewidth": 0,
             "ticks": ""
            },
            "colorscale": [
             [
              0,
              "#0d0887"
             ],
             [
              0.1111111111111111,
              "#46039f"
             ],
             [
              0.2222222222222222,
              "#7201a8"
             ],
             [
              0.3333333333333333,
              "#9c179e"
             ],
             [
              0.4444444444444444,
              "#bd3786"
             ],
             [
              0.5555555555555556,
              "#d8576b"
             ],
             [
              0.6666666666666666,
              "#ed7953"
             ],
             [
              0.7777777777777778,
              "#fb9f3a"
             ],
             [
              0.8888888888888888,
              "#fdca26"
             ],
             [
              1,
              "#f0f921"
             ]
            ],
            "type": "histogram2d"
           }
          ],
          "histogram2dcontour": [
           {
            "colorbar": {
             "outlinewidth": 0,
             "ticks": ""
            },
            "colorscale": [
             [
              0,
              "#0d0887"
             ],
             [
              0.1111111111111111,
              "#46039f"
             ],
             [
              0.2222222222222222,
              "#7201a8"
             ],
             [
              0.3333333333333333,
              "#9c179e"
             ],
             [
              0.4444444444444444,
              "#bd3786"
             ],
             [
              0.5555555555555556,
              "#d8576b"
             ],
             [
              0.6666666666666666,
              "#ed7953"
             ],
             [
              0.7777777777777778,
              "#fb9f3a"
             ],
             [
              0.8888888888888888,
              "#fdca26"
             ],
             [
              1,
              "#f0f921"
             ]
            ],
            "type": "histogram2dcontour"
           }
          ],
          "mesh3d": [
           {
            "colorbar": {
             "outlinewidth": 0,
             "ticks": ""
            },
            "type": "mesh3d"
           }
          ],
          "parcoords": [
           {
            "line": {
             "colorbar": {
              "outlinewidth": 0,
              "ticks": ""
             }
            },
            "type": "parcoords"
           }
          ],
          "pie": [
           {
            "automargin": true,
            "type": "pie"
           }
          ],
          "scatter": [
           {
            "fillpattern": {
             "fillmode": "overlay",
             "size": 10,
             "solidity": 0.2
            },
            "type": "scatter"
           }
          ],
          "scatter3d": [
           {
            "line": {
             "colorbar": {
              "outlinewidth": 0,
              "ticks": ""
             }
            },
            "marker": {
             "colorbar": {
              "outlinewidth": 0,
              "ticks": ""
             }
            },
            "type": "scatter3d"
           }
          ],
          "scattercarpet": [
           {
            "marker": {
             "colorbar": {
              "outlinewidth": 0,
              "ticks": ""
             }
            },
            "type": "scattercarpet"
           }
          ],
          "scattergeo": [
           {
            "marker": {
             "colorbar": {
              "outlinewidth": 0,
              "ticks": ""
             }
            },
            "type": "scattergeo"
           }
          ],
          "scattergl": [
           {
            "marker": {
             "colorbar": {
              "outlinewidth": 0,
              "ticks": ""
             }
            },
            "type": "scattergl"
           }
          ],
          "scattermapbox": [
           {
            "marker": {
             "colorbar": {
              "outlinewidth": 0,
              "ticks": ""
             }
            },
            "type": "scattermapbox"
           }
          ],
          "scatterpolar": [
           {
            "marker": {
             "colorbar": {
              "outlinewidth": 0,
              "ticks": ""
             }
            },
            "type": "scatterpolar"
           }
          ],
          "scatterpolargl": [
           {
            "marker": {
             "colorbar": {
              "outlinewidth": 0,
              "ticks": ""
             }
            },
            "type": "scatterpolargl"
           }
          ],
          "scatterternary": [
           {
            "marker": {
             "colorbar": {
              "outlinewidth": 0,
              "ticks": ""
             }
            },
            "type": "scatterternary"
           }
          ],
          "surface": [
           {
            "colorbar": {
             "outlinewidth": 0,
             "ticks": ""
            },
            "colorscale": [
             [
              0,
              "#0d0887"
             ],
             [
              0.1111111111111111,
              "#46039f"
             ],
             [
              0.2222222222222222,
              "#7201a8"
             ],
             [
              0.3333333333333333,
              "#9c179e"
             ],
             [
              0.4444444444444444,
              "#bd3786"
             ],
             [
              0.5555555555555556,
              "#d8576b"
             ],
             [
              0.6666666666666666,
              "#ed7953"
             ],
             [
              0.7777777777777778,
              "#fb9f3a"
             ],
             [
              0.8888888888888888,
              "#fdca26"
             ],
             [
              1,
              "#f0f921"
             ]
            ],
            "type": "surface"
           }
          ],
          "table": [
           {
            "cells": {
             "fill": {
              "color": "#EBF0F8"
             },
             "line": {
              "color": "white"
             }
            },
            "header": {
             "fill": {
              "color": "#C8D4E3"
             },
             "line": {
              "color": "white"
             }
            },
            "type": "table"
           }
          ]
         },
         "layout": {
          "annotationdefaults": {
           "arrowcolor": "#2a3f5f",
           "arrowhead": 0,
           "arrowwidth": 1
          },
          "autotypenumbers": "strict",
          "coloraxis": {
           "colorbar": {
            "outlinewidth": 0,
            "ticks": ""
           }
          },
          "colorscale": {
           "diverging": [
            [
             0,
             "#8e0152"
            ],
            [
             0.1,
             "#c51b7d"
            ],
            [
             0.2,
             "#de77ae"
            ],
            [
             0.3,
             "#f1b6da"
            ],
            [
             0.4,
             "#fde0ef"
            ],
            [
             0.5,
             "#f7f7f7"
            ],
            [
             0.6,
             "#e6f5d0"
            ],
            [
             0.7,
             "#b8e186"
            ],
            [
             0.8,
             "#7fbc41"
            ],
            [
             0.9,
             "#4d9221"
            ],
            [
             1,
             "#276419"
            ]
           ],
           "sequential": [
            [
             0,
             "#0d0887"
            ],
            [
             0.1111111111111111,
             "#46039f"
            ],
            [
             0.2222222222222222,
             "#7201a8"
            ],
            [
             0.3333333333333333,
             "#9c179e"
            ],
            [
             0.4444444444444444,
             "#bd3786"
            ],
            [
             0.5555555555555556,
             "#d8576b"
            ],
            [
             0.6666666666666666,
             "#ed7953"
            ],
            [
             0.7777777777777778,
             "#fb9f3a"
            ],
            [
             0.8888888888888888,
             "#fdca26"
            ],
            [
             1,
             "#f0f921"
            ]
           ],
           "sequentialminus": [
            [
             0,
             "#0d0887"
            ],
            [
             0.1111111111111111,
             "#46039f"
            ],
            [
             0.2222222222222222,
             "#7201a8"
            ],
            [
             0.3333333333333333,
             "#9c179e"
            ],
            [
             0.4444444444444444,
             "#bd3786"
            ],
            [
             0.5555555555555556,
             "#d8576b"
            ],
            [
             0.6666666666666666,
             "#ed7953"
            ],
            [
             0.7777777777777778,
             "#fb9f3a"
            ],
            [
             0.8888888888888888,
             "#fdca26"
            ],
            [
             1,
             "#f0f921"
            ]
           ]
          },
          "colorway": [
           "#636efa",
           "#EF553B",
           "#00cc96",
           "#ab63fa",
           "#FFA15A",
           "#19d3f3",
           "#FF6692",
           "#B6E880",
           "#FF97FF",
           "#FECB52"
          ],
          "font": {
           "color": "#2a3f5f"
          },
          "geo": {
           "bgcolor": "white",
           "lakecolor": "white",
           "landcolor": "#E5ECF6",
           "showlakes": true,
           "showland": true,
           "subunitcolor": "white"
          },
          "hoverlabel": {
           "align": "left"
          },
          "hovermode": "closest",
          "mapbox": {
           "style": "light"
          },
          "paper_bgcolor": "white",
          "plot_bgcolor": "#E5ECF6",
          "polar": {
           "angularaxis": {
            "gridcolor": "white",
            "linecolor": "white",
            "ticks": ""
           },
           "bgcolor": "#E5ECF6",
           "radialaxis": {
            "gridcolor": "white",
            "linecolor": "white",
            "ticks": ""
           }
          },
          "scene": {
           "xaxis": {
            "backgroundcolor": "#E5ECF6",
            "gridcolor": "white",
            "gridwidth": 2,
            "linecolor": "white",
            "showbackground": true,
            "ticks": "",
            "zerolinecolor": "white"
           },
           "yaxis": {
            "backgroundcolor": "#E5ECF6",
            "gridcolor": "white",
            "gridwidth": 2,
            "linecolor": "white",
            "showbackground": true,
            "ticks": "",
            "zerolinecolor": "white"
           },
           "zaxis": {
            "backgroundcolor": "#E5ECF6",
            "gridcolor": "white",
            "gridwidth": 2,
            "linecolor": "white",
            "showbackground": true,
            "ticks": "",
            "zerolinecolor": "white"
           }
          },
          "shapedefaults": {
           "line": {
            "color": "#2a3f5f"
           }
          },
          "ternary": {
           "aaxis": {
            "gridcolor": "white",
            "linecolor": "white",
            "ticks": ""
           },
           "baxis": {
            "gridcolor": "white",
            "linecolor": "white",
            "ticks": ""
           },
           "bgcolor": "#E5ECF6",
           "caxis": {
            "gridcolor": "white",
            "linecolor": "white",
            "ticks": ""
           }
          },
          "title": {
           "x": 0.05
          },
          "xaxis": {
           "automargin": true,
           "gridcolor": "white",
           "linecolor": "white",
           "ticks": "",
           "title": {
            "standoff": 15
           },
           "zerolinecolor": "white",
           "zerolinewidth": 2
          },
          "yaxis": {
           "automargin": true,
           "gridcolor": "white",
           "linecolor": "white",
           "ticks": "",
           "title": {
            "standoff": 15
           },
           "zerolinecolor": "white",
           "zerolinewidth": 2
          }
         }
        },
        "title": {
         "text": "Percentages of Cumulative Grade-Point Average by Average Sleep"
        },
        "xaxis": {
         "anchor": "y",
         "autorange": true,
         "categoryarray": [
          "2-4 hrs",
          "4-6 hrs",
          "7-8 hrs"
         ],
         "categoryorder": "array",
         "domain": [
          0,
          1
         ],
         "range": [
          -0.5,
          2.5
         ],
         "title": {
          "text": "Average Sleep"
         },
         "type": "category"
        },
        "yaxis": {
         "anchor": "x",
         "autorange": true,
         "domain": [
          0,
          1
         ],
         "range": [
          0,
          105.26315789473685
         ],
         "title": {
          "text": "Percentage"
         }
        }
       }
      },
      "image/png": "[encoded data removed]",
      "text/html": [
       "<div>                            <div id=\"f60c241c-a029-41f8-8b0a-914ac62c6033\" class=\"plotly-graph-div\" style=\"height:525px; width:100%;\"></div>            <script type=\"text/javascript\">                require([\"plotly\"], function(Plotly) {                    window.PLOTLYENV=window.PLOTLYENV || {};                                    if (document.getElementById(\"f60c241c-a029-41f8-8b0a-914ac62c6033\")) {                    Plotly.newPlot(                        \"f60c241c-a029-41f8-8b0a-914ac62c6033\",                        [{\"alignmentgroup\":\"True\",\"bingroup\":\"x\",\"hovertemplate\":\"cgpa=0.0-0.0\\u003cbr\\u003eaverage_sleep=%{x}\\u003cbr\\u003ecount (normalized as percent)=%{y}\\u003cextra\\u003e\\u003c\\u002fextra\\u003e\",\"legendgroup\":\"0.0-0.0\",\"marker\":{\"color\":\"#f0f9e8\",\"pattern\":{\"shape\":\"\"}},\"name\":\"0.0-0.0\",\"offsetgroup\":\"0.0-0.0\",\"orientation\":\"v\",\"showlegend\":true,\"x\":[\"7-8 hrs\",\"4-6 hrs\",\"7-8 hrs\",\"4-6 hrs\",\"7-8 hrs\"],\"xaxis\":\"x\",\"yaxis\":\"y\",\"type\":\"histogram\"},{\"alignmentgroup\":\"True\",\"bingroup\":\"x\",\"hovertemplate\":\"cgpa=1.5-2.0\\u003cbr\\u003eaverage_sleep=%{x}\\u003cbr\\u003ecount (normalized as percent)=%{y}\\u003cextra\\u003e\\u003c\\u002fextra\\u003e\",\"legendgroup\":\"1.5-2.0\",\"marker\":{\"color\":\"#ccebc5\",\"pattern\":{\"shape\":\"\"}},\"name\":\"1.5-2.0\",\"offsetgroup\":\"1.5-2.0\",\"orientation\":\"v\",\"showlegend\":true,\"x\":[\"4-6 hrs\",\"2-4 hrs\"],\"xaxis\":\"x\",\"yaxis\":\"y\",\"type\":\"histogram\"},{\"alignmentgroup\":\"True\",\"bingroup\":\"x\",\"hovertemplate\":\"cgpa=2.0-2.5\\u003cbr\\u003eaverage_sleep=%{x}\\u003cbr\\u003ecount (normalized as percent)=%{y}\\u003cextra\\u003e\\u003c\\u002fextra\\u003e\",\"legendgroup\":\"2.0-2.5\",\"marker\":{\"color\":\"#a8ddb5\",\"pattern\":{\"shape\":\"\"}},\"name\":\"2.0-2.5\",\"offsetgroup\":\"2.0-2.5\",\"orientation\":\"v\",\"showlegend\":true,\"x\":[\"4-6 hrs\",\"4-6 hrs\",\"4-6 hrs\",\"7-8 hrs\"],\"xaxis\":\"x\",\"yaxis\":\"y\",\"type\":\"histogram\"},{\"alignmentgroup\":\"True\",\"bingroup\":\"x\",\"hovertemplate\":\"cgpa=2.5-3.0\\u003cbr\\u003eaverage_sleep=%{x}\\u003cbr\\u003ecount (normalized as percent)=%{y}\\u003cextra\\u003e\\u003c\\u002fextra\\u003e\",\"legendgroup\":\"2.5-3.0\",\"marker\":{\"color\":\"#7bccc4\",\"pattern\":{\"shape\":\"\"}},\"name\":\"2.5-3.0\",\"offsetgroup\":\"2.5-3.0\",\"orientation\":\"v\",\"showlegend\":true,\"x\":[\"4-6 hrs\",\"7-8 hrs\",\"4-6 hrs\",\"4-6 hrs\",\"4-6 hrs\",\"2-4 hrs\",\"4-6 hrs\",\"4-6 hrs\",\"4-6 hrs\",\"7-8 hrs\",\"4-6 hrs\",\"4-6 hrs\",\"7-8 hrs\",\"4-6 hrs\",\"7-8 hrs\",\"4-6 hrs\",\"4-6 hrs\",\"2-4 hrs\",\"4-6 hrs\",\"4-6 hrs\",\"7-8 hrs\",\"7-8 hrs\"],\"xaxis\":\"x\",\"yaxis\":\"y\",\"type\":\"histogram\"},{\"alignmentgroup\":\"True\",\"bingroup\":\"x\",\"hovertemplate\":\"cgpa=3.0-3.5\\u003cbr\\u003eaverage_sleep=%{x}\\u003cbr\\u003ecount (normalized as percent)=%{y}\\u003cextra\\u003e\\u003c\\u002fextra\\u003e\",\"legendgroup\":\"3.0-3.5\",\"marker\":{\"color\":\"#43a2ca\",\"pattern\":{\"shape\":\"\"}},\"name\":\"3.0-3.5\",\"offsetgroup\":\"3.0-3.5\",\"orientation\":\"v\",\"showlegend\":true,\"x\":[\"4-6 hrs\",\"4-6 hrs\",\"4-6 hrs\",\"4-6 hrs\",\"4-6 hrs\",\"4-6 hrs\",\"4-6 hrs\",\"4-6 hrs\",\"4-6 hrs\",\"7-8 hrs\",\"7-8 hrs\",\"7-8 hrs\",\"4-6 hrs\",\"4-6 hrs\",\"4-6 hrs\",\"4-6 hrs\",\"4-6 hrs\",\"7-8 hrs\",\"7-8 hrs\",\"2-4 hrs\",\"7-8 hrs\",\"7-8 hrs\",\"4-6 hrs\",\"7-8 hrs\",\"7-8 hrs\",\"7-8 hrs\",\"4-6 hrs\"],\"xaxis\":\"x\",\"yaxis\":\"y\",\"type\":\"histogram\"},{\"alignmentgroup\":\"True\",\"bingroup\":\"x\",\"hovertemplate\":\"cgpa=3.5-4.0\\u003cbr\\u003eaverage_sleep=%{x}\\u003cbr\\u003ecount (normalized as percent)=%{y}\\u003cextra\\u003e\\u003c\\u002fextra\\u003e\",\"legendgroup\":\"3.5-4.0\",\"marker\":{\"color\":\"#0868ac\",\"pattern\":{\"shape\":\"\"}},\"name\":\"3.5-4.0\",\"offsetgroup\":\"3.5-4.0\",\"orientation\":\"v\",\"showlegend\":true,\"x\":[\"4-6 hrs\",\"4-6 hrs\",\"7-8 hrs\",\"7-8 hrs\",\"7-8 hrs\",\"2-4 hrs\",\"7-8 hrs\",\"7-8 hrs\",\"4-6 hrs\",\"4-6 hrs\",\"4-6 hrs\",\"4-6 hrs\",\"4-6 hrs\",\"7-8 hrs\",\"7-8 hrs\",\"4-6 hrs\",\"4-6 hrs\",\"4-6 hrs\",\"4-6 hrs\",\"7-8 hrs\",\"4-6 hrs\",\"7-8 hrs\",\"4-6 hrs\",\"7-8 hrs\",\"7-8 hrs\",\"7-8 hrs\",\"4-6 hrs\"],\"xaxis\":\"x\",\"yaxis\":\"y\",\"type\":\"histogram\"}],                        {\"template\":{\"data\":{\"histogram2dcontour\":[{\"type\":\"histogram2dcontour\",\"colorbar\":{\"outlinewidth\":0,\"ticks\":\"\"},\"colorscale\":[[0.0,\"#0d0887\"],[0.1111111111111111,\"#46039f\"],[0.2222222222222222,\"#7201a8\"],[0.3333333333333333,\"#9c179e\"],[0.4444444444444444,\"#bd3786\"],[0.5555555555555556,\"#d8576b\"],[0.6666666666666666,\"#ed7953\"],[0.7777777777777778,\"#fb9f3a\"],[0.8888888888888888,\"#fdca26\"],[1.0,\"#f0f921\"]]}],\"choropleth\":[{\"type\":\"choropleth\",\"colorbar\":{\"outlinewidth\":0,\"ticks\":\"\"}}],\"histogram2d\":[{\"type\":\"histogram2d\",\"colorbar\":{\"outlinewidth\":0,\"ticks\":\"\"},\"colorscale\":[[0.0,\"#0d0887\"],[0.1111111111111111,\"#46039f\"],[0.2222222222222222,\"#7201a8\"],[0.3333333333333333,\"#9c179e\"],[0.4444444444444444,\"#bd3786\"],[0.5555555555555556,\"#d8576b\"],[0.6666666666666666,\"#ed7953\"],[0.7777777777777778,\"#fb9f3a\"],[0.8888888888888888,\"#fdca26\"],[1.0,\"#f0f921\"]]}],\"heatmap\":[{\"type\":\"heatmap\",\"colorbar\":{\"outlinewidth\":0,\"ticks\":\"\"},\"colorscale\":[[0.0,\"#0d0887\"],[0.1111111111111111,\"#46039f\"],[0.2222222222222222,\"#7201a8\"],[0.3333333333333333,\"#9c179e\"],[0.4444444444444444,\"#bd3786\"],[0.5555555555555556,\"#d8576b\"],[0.6666666666666666,\"#ed7953\"],[0.7777777777777778,\"#fb9f3a\"],[0.8888888888888888,\"#fdca26\"],[1.0,\"#f0f921\"]]}],\"heatmapgl\":[{\"type\":\"heatmapgl\",\"colorbar\":{\"outlinewidth\":0,\"ticks\":\"\"},\"colorscale\":[[0.0,\"#0d0887\"],[0.1111111111111111,\"#46039f\"],[0.2222222222222222,\"#7201a8\"],[0.3333333333333333,\"#9c179e\"],[0.4444444444444444,\"#bd3786\"],[0.5555555555555556,\"#d8576b\"],[0.6666666666666666,\"#ed7953\"],[0.7777777777777778,\"#fb9f3a\"],[0.8888888888888888,\"#fdca26\"],[1.0,\"#f0f921\"]]}],\"contourcarpet\":[{\"type\":\"contourcarpet\",\"colorbar\":{\"outlinewidth\":0,\"ticks\":\"\"}}],\"contour\":[{\"type\":\"contour\",\"colorbar\":{\"outlinewidth\":0,\"ticks\":\"\"},\"colorscale\":[[0.0,\"#0d0887\"],[0.1111111111111111,\"#46039f\"],[0.2222222222222222,\"#7201a8\"],[0.3333333333333333,\"#9c179e\"],[0.4444444444444444,\"#bd3786\"],[0.5555555555555556,\"#d8576b\"],[0.6666666666666666,\"#ed7953\"],[0.7777777777777778,\"#fb9f3a\"],[0.8888888888888888,\"#fdca26\"],[1.0,\"#f0f921\"]]}],\"surface\":[{\"type\":\"surface\",\"colorbar\":{\"outlinewidth\":0,\"ticks\":\"\"},\"colorscale\":[[0.0,\"#0d0887\"],[0.1111111111111111,\"#46039f\"],[0.2222222222222222,\"#7201a8\"],[0.3333333333333333,\"#9c179e\"],[0.4444444444444444,\"#bd3786\"],[0.5555555555555556,\"#d8576b\"],[0.6666666666666666,\"#ed7953\"],[0.7777777777777778,\"#fb9f3a\"],[0.8888888888888888,\"#fdca26\"],[1.0,\"#f0f921\"]]}],\"mesh3d\":[{\"type\":\"mesh3d\",\"colorbar\":{\"outlinewidth\":0,\"ticks\":\"\"}}],\"scatter\":[{\"fillpattern\":{\"fillmode\":\"overlay\",\"size\":10,\"solidity\":0.2},\"type\":\"scatter\"}],\"parcoords\":[{\"type\":\"parcoords\",\"line\":{\"colorbar\":{\"outlinewidth\":0,\"ticks\":\"\"}}}],\"scatterpolargl\":[{\"type\":\"scatterpolargl\",\"marker\":{\"colorbar\":{\"outlinewidth\":0,\"ticks\":\"\"}}}],\"bar\":[{\"error_x\":{\"color\":\"#2a3f5f\"},\"error_y\":{\"color\":\"#2a3f5f\"},\"marker\":{\"line\":{\"color\":\"#E5ECF6\",\"width\":0.5},\"pattern\":{\"fillmode\":\"overlay\",\"size\":10,\"solidity\":0.2}},\"type\":\"bar\"}],\"scattergeo\":[{\"type\":\"scattergeo\",\"marker\":{\"colorbar\":{\"outlinewidth\":0,\"ticks\":\"\"}}}],\"scatterpolar\":[{\"type\":\"scatterpolar\",\"marker\":{\"colorbar\":{\"outlinewidth\":0,\"ticks\":\"\"}}}],\"histogram\":[{\"marker\":{\"pattern\":{\"fillmode\":\"overlay\",\"size\":10,\"solidity\":0.2}},\"type\":\"histogram\"}],\"scattergl\":[{\"type\":\"scattergl\",\"marker\":{\"colorbar\":{\"outlinewidth\":0,\"ticks\":\"\"}}}],\"scatter3d\":[{\"type\":\"scatter3d\",\"line\":{\"colorbar\":{\"outlinewidth\":0,\"ticks\":\"\"}},\"marker\":{\"colorbar\":{\"outlinewidth\":0,\"ticks\":\"\"}}}],\"scattermapbox\":[{\"type\":\"scattermapbox\",\"marker\":{\"colorbar\":{\"outlinewidth\":0,\"ticks\":\"\"}}}],\"scatterternary\":[{\"type\":\"scatterternary\",\"marker\":{\"colorbar\":{\"outlinewidth\":0,\"ticks\":\"\"}}}],\"scattercarpet\":[{\"type\":\"scattercarpet\",\"marker\":{\"colorbar\":{\"outlinewidth\":0,\"ticks\":\"\"}}}],\"carpet\":[{\"aaxis\":{\"endlinecolor\":\"#2a3f5f\",\"gridcolor\":\"white\",\"linecolor\":\"white\",\"minorgridcolor\":\"white\",\"startlinecolor\":\"#2a3f5f\"},\"baxis\":{\"endlinecolor\":\"#2a3f5f\",\"gridcolor\":\"white\",\"linecolor\":\"white\",\"minorgridcolor\":\"white\",\"startlinecolor\":\"#2a3f5f\"},\"type\":\"carpet\"}],\"table\":[{\"cells\":{\"fill\":{\"color\":\"#EBF0F8\"},\"line\":{\"color\":\"white\"}},\"header\":{\"fill\":{\"color\":\"#C8D4E3\"},\"line\":{\"color\":\"white\"}},\"type\":\"table\"}],\"barpolar\":[{\"marker\":{\"line\":{\"color\":\"#E5ECF6\",\"width\":0.5},\"pattern\":{\"fillmode\":\"overlay\",\"size\":10,\"solidity\":0.2}},\"type\":\"barpolar\"}],\"pie\":[{\"automargin\":true,\"type\":\"pie\"}]},\"layout\":{\"autotypenumbers\":\"strict\",\"colorway\":[\"#636efa\",\"#EF553B\",\"#00cc96\",\"#ab63fa\",\"#FFA15A\",\"#19d3f3\",\"#FF6692\",\"#B6E880\",\"#FF97FF\",\"#FECB52\"],\"font\":{\"color\":\"#2a3f5f\"},\"hovermode\":\"closest\",\"hoverlabel\":{\"align\":\"left\"},\"paper_bgcolor\":\"white\",\"plot_bgcolor\":\"#E5ECF6\",\"polar\":{\"bgcolor\":\"#E5ECF6\",\"angularaxis\":{\"gridcolor\":\"white\",\"linecolor\":\"white\",\"ticks\":\"\"},\"radialaxis\":{\"gridcolor\":\"white\",\"linecolor\":\"white\",\"ticks\":\"\"}},\"ternary\":{\"bgcolor\":\"#E5ECF6\",\"aaxis\":{\"gridcolor\":\"white\",\"linecolor\":\"white\",\"ticks\":\"\"},\"baxis\":{\"gridcolor\":\"white\",\"linecolor\":\"white\",\"ticks\":\"\"},\"caxis\":{\"gridcolor\":\"white\",\"linecolor\":\"white\",\"ticks\":\"\"}},\"coloraxis\":{\"colorbar\":{\"outlinewidth\":0,\"ticks\":\"\"}},\"colorscale\":{\"sequential\":[[0.0,\"#0d0887\"],[0.1111111111111111,\"#46039f\"],[0.2222222222222222,\"#7201a8\"],[0.3333333333333333,\"#9c179e\"],[0.4444444444444444,\"#bd3786\"],[0.5555555555555556,\"#d8576b\"],[0.6666666666666666,\"#ed7953\"],[0.7777777777777778,\"#fb9f3a\"],[0.8888888888888888,\"#fdca26\"],[1.0,\"#f0f921\"]],\"sequentialminus\":[[0.0,\"#0d0887\"],[0.1111111111111111,\"#46039f\"],[0.2222222222222222,\"#7201a8\"],[0.3333333333333333,\"#9c179e\"],[0.4444444444444444,\"#bd3786\"],[0.5555555555555556,\"#d8576b\"],[0.6666666666666666,\"#ed7953\"],[0.7777777777777778,\"#fb9f3a\"],[0.8888888888888888,\"#fdca26\"],[1.0,\"#f0f921\"]],\"diverging\":[[0,\"#8e0152\"],[0.1,\"#c51b7d\"],[0.2,\"#de77ae\"],[0.3,\"#f1b6da\"],[0.4,\"#fde0ef\"],[0.5,\"#f7f7f7\"],[0.6,\"#e6f5d0\"],[0.7,\"#b8e186\"],[0.8,\"#7fbc41\"],[0.9,\"#4d9221\"],[1,\"#276419\"]]},\"xaxis\":{\"gridcolor\":\"white\",\"linecolor\":\"white\",\"ticks\":\"\",\"title\":{\"standoff\":15},\"zerolinecolor\":\"white\",\"automargin\":true,\"zerolinewidth\":2},\"yaxis\":{\"gridcolor\":\"white\",\"linecolor\":\"white\",\"ticks\":\"\",\"title\":{\"standoff\":15},\"zerolinecolor\":\"white\",\"automargin\":true,\"zerolinewidth\":2},\"scene\":{\"xaxis\":{\"backgroundcolor\":\"#E5ECF6\",\"gridcolor\":\"white\",\"linecolor\":\"white\",\"showbackground\":true,\"ticks\":\"\",\"zerolinecolor\":\"white\",\"gridwidth\":2},\"yaxis\":{\"backgroundcolor\":\"#E5ECF6\",\"gridcolor\":\"white\",\"linecolor\":\"white\",\"showbackground\":true,\"ticks\":\"\",\"zerolinecolor\":\"white\",\"gridwidth\":2},\"zaxis\":{\"backgroundcolor\":\"#E5ECF6\",\"gridcolor\":\"white\",\"linecolor\":\"white\",\"showbackground\":true,\"ticks\":\"\",\"zerolinecolor\":\"white\",\"gridwidth\":2}},\"shapedefaults\":{\"line\":{\"color\":\"#2a3f5f\"}},\"annotationdefaults\":{\"arrowcolor\":\"#2a3f5f\",\"arrowhead\":0,\"arrowwidth\":1},\"geo\":{\"bgcolor\":\"white\",\"landcolor\":\"#E5ECF6\",\"subunitcolor\":\"white\",\"showland\":true,\"showlakes\":true,\"lakecolor\":\"white\"},\"title\":{\"x\":0.05},\"mapbox\":{\"style\":\"light\"}}},\"xaxis\":{\"anchor\":\"y\",\"domain\":[0.0,1.0],\"title\":{\"text\":\"Average Sleep\"},\"categoryorder\":\"array\",\"categoryarray\":[\"2-4 hrs\",\"4-6 hrs\",\"7-8 hrs\"]},\"yaxis\":{\"anchor\":\"x\",\"domain\":[0.0,1.0],\"title\":{\"text\":\"Percentage\"}},\"legend\":{\"title\":{\"text\":\"Cumulative GPA\"},\"tracegroupgap\":0},\"margin\":{\"t\":60},\"barmode\":\"relative\",\"barnorm\":\"percent\",\"title\":{\"text\":\"Percentages of Cumulative Grade-Point Average by Average Sleep\"}},                        {\"responsive\": true}                    ).then(function(){\n",
       "                            \n",
       "var gd = document.getElementById('f60c241c-a029-41f8-8b0a-914ac62c6033');\n",
       "var x = new MutationObserver(function (mutations, observer) {{\n",
       "        var display = window.getComputedStyle(gd).display;\n",
       "        if (!display || display === 'none') {{\n",
       "            console.log([gd, 'removed!']);\n",
       "            Plotly.purge(gd);\n",
       "            observer.disconnect();\n",
       "        }}\n",
       "}});\n",
       "\n",
       "// Listen for the removal of the full notebook cells\n",
       "var notebookContainer = gd.closest('#notebook-container');\n",
       "if (notebookContainer) {{\n",
       "    x.observe(notebookContainer, {childList: true});\n",
       "}}\n",
       "\n",
       "// Listen for the clearing of the current output cell\n",
       "var outputEl = gd.closest('.output');\n",
       "if (outputEl) {{\n",
       "    x.observe(outputEl, {childList: true});\n",
       "}}\n",
       "\n",
       "                        })                };                });            </script>        </div>"
      ]
     },
     "metadata": {},
     "output_type": "display_data"
    }
   ],
   "source": [
    "fig = px.histogram(DF_j.sort_values(by='cgpa'),\n",
    "                   x='average_sleep',\n",
    "                   color='cgpa',\n",
    "                   color_discrete_sequence=['#f0f9e8','#ccebc5','#a8ddb5','#7bccc4','#43a2ca','#0868ac'],\n",
    "                   barnorm='percent',\n",
    "                   category_orders={'average_sleep' : ['2-4 hrs','4-6 hrs','7-8 hrs']})\n",
    "fig.update_layout(title=\"Percentages of Cumulative Grade-Point Average by Average Sleep\",\n",
    "                  xaxis_title='Average Sleep',\n",
    "                  yaxis_title='Percentage',\n",
    "                  legend_title='Cumulative GPA')\n",
    "fig.show()"
   ]
  },
  {
   "cell_type": "markdown",
   "id": "8d7c317c-f87b-49e4-a84f-8d7baec8ab39",
   "metadata": {},
   "source": [
    "There is a possible association between amount of sleep and cumulative GPA. Observations with greater amounts of average sleep tend to have higher frequencies of better GPAs. Frequency of high GPAs (3.0+) increase and the frequency of moderate to low GPAs (3.0-) decrease as amount of sleep increases."
   ]
  },
  {
   "cell_type": "markdown",
   "id": "ee711cf8-8fd3-4234-9310-627fe1c96524",
   "metadata": {},
   "source": [
    "#### Ruben"
   ]
  },
  {
   "cell_type": "code",
   "execution_count": 161,
   "id": "78207cf6-9efd-428a-acb2-c6e2c546db01",
   "metadata": {},
   "outputs": [
    {
     "data": {
      "application/vnd.plotly.v1+json": {
       "config": {
        "plotlyServerURL": "https://plot.ly"
       },
       "data": [
        {
         "domain": {
          "x": [
           0,
           1
          ],
          "y": [
           0,
           1
          ]
         },
         "hovertemplate": "parental level of education=%{label}<extra></extra>",
         "labels": [
          "bachelor's degree",
          "some college",
          "master's degree",
          "associate's degree",
          "some college",
          "associate's degree",
          "some college",
          "some college",
          "high school",
          "high school",
          "associate's degree",
          "associate's degree",
          "high school",
          "some college",
          "master's degree",
          "some high school",
          "high school",
          "some high school",
          "master's degree",
          "associate's degree",
          "high school",
          "some college",
          "some college",
          "some high school",
          "bachelor's degree",
          "master's degree",
          "some college",
          "bachelor's degree",
          "high school",
          "master's degree",
          "some college",
          "some college",
          "master's degree",
          "some college",
          "some college",
          "associate's degree",
          "associate's degree",
          "some high school",
          "associate's degree",
          "associate's degree",
          "associate's degree",
          "associate's degree",
          "associate's degree",
          "some college",
          "associate's degree",
          "associate's degree",
          "associate's degree",
          "high school",
          "associate's degree",
          "high school",
          "some college",
          "associate's degree",
          "some college",
          "high school",
          "some high school",
          "high school",
          "associate's degree",
          "associate's degree",
          "some college",
          "some high school",
          "bachelor's degree",
          "some high school",
          "associate's degree",
          "associate's degree",
          "some high school",
          "some high school",
          "some high school",
          "some college",
          "associate's degree",
          "associate's degree",
          "some college",
          "some college",
          "associate's degree",
          "some high school",
          "some high school",
          "associate's degree",
          "some high school",
          "bachelor's degree",
          "some high school",
          "master's degree",
          "associate's degree",
          "high school",
          "some college",
          "associate's degree",
          "high school",
          "some college",
          "some college",
          "associate's degree",
          "some college",
          "some high school",
          "bachelor's degree",
          "high school",
          "high school",
          "associate's degree",
          "some college",
          "associate's degree",
          "some high school",
          "some college",
          "some college",
          "bachelor's degree",
          "some college",
          "bachelor's degree",
          "associate's degree",
          "high school",
          "some college",
          "some college",
          "master's degree",
          "associate's degree",
          "associate's degree",
          "some high school",
          "associate's degree",
          "high school",
          "associate's degree",
          "some college",
          "bachelor's degree",
          "high school",
          "bachelor's degree",
          "bachelor's degree",
          "some high school",
          "some college",
          "bachelor's degree",
          "associate's degree",
          "some college",
          "high school",
          "some college",
          "high school",
          "some high school",
          "some college",
          "master's degree",
          "bachelor's degree",
          "master's degree",
          "some high school",
          "some college",
          "some college",
          "bachelor's degree",
          "bachelor's degree",
          "some high school",
          "high school",
          "associate's degree",
          "some college",
          "some high school",
          "some college",
          "some college",
          "high school",
          "some college",
          "some college",
          "some high school",
          "associate's degree",
          "bachelor's degree",
          "associate's degree",
          "some high school",
          "bachelor's degree",
          "associate's degree",
          "bachelor's degree",
          "some high school",
          "some college",
          "high school",
          "some college",
          "associate's degree",
          "associate's degree",
          "associate's degree",
          "some college",
          "master's degree",
          "high school",
          "master's degree",
          "bachelor's degree",
          "high school",
          "master's degree",
          "high school",
          "some college",
          "high school",
          "some high school",
          "some college",
          "associate's degree",
          "bachelor's degree",
          "master's degree",
          "high school",
          "associate's degree",
          "master's degree",
          "some high school",
          "master's degree",
          "some college",
          "high school",
          "associate's degree",
          "some high school",
          "associate's degree",
          "high school",
          "some high school",
          "some high school",
          "bachelor's degree",
          "associate's degree",
          "some college",
          "some high school",
          "some college",
          "master's degree",
          "associate's degree",
          "some high school",
          "high school",
          "some college",
          "bachelor's degree",
          "associate's degree",
          "some college",
          "associate's degree",
          "associate's degree",
          "some college",
          "some high school",
          "bachelor's degree",
          "high school",
          "some college",
          "some college",
          "some high school",
          "some college",
          "high school",
          "associate's degree",
          "high school",
          "some high school",
          "associate's degree",
          "high school",
          "high school",
          "some high school",
          "high school",
          "associate's degree",
          "some high school",
          "some high school",
          "associate's degree",
          "master's degree",
          "some college",
          "high school",
          "some high school",
          "some college",
          "some college",
          "associate's degree",
          "bachelor's degree",
          "some high school",
          "bachelor's degree",
          "associate's degree",
          "bachelor's degree",
          "some high school",
          "some college",
          "associate's degree",
          "high school",
          "bachelor's degree",
          "high school",
          "some college",
          "some high school",
          "associate's degree",
          "associate's degree",
          "high school",
          "high school",
          "high school",
          "some high school",
          "some college",
          "some high school",
          "master's degree",
          "high school",
          "some college",
          "associate's degree",
          "associate's degree",
          "some college",
          "master's degree",
          "some high school",
          "some college",
          "some high school",
          "high school",
          "high school",
          "some high school",
          "bachelor's degree",
          "high school",
          "associate's degree",
          "some college",
          "bachelor's degree",
          "some college",
          "associate's degree",
          "some college",
          "some college",
          "bachelor's degree",
          "some high school",
          "high school",
          "some high school",
          "bachelor's degree",
          "high school",
          "high school",
          "bachelor's degree",
          "some college",
          "some high school",
          "associate's degree",
          "associate's degree",
          "some high school",
          "bachelor's degree",
          "some high school",
          "associate's degree",
          "some high school",
          "some high school",
          "bachelor's degree",
          "high school",
          "associate's degree",
          "some high school",
          "associate's degree",
          "high school",
          "associate's degree",
          "some college",
          "some high school",
          "associate's degree",
          "associate's degree",
          "associate's degree",
          "some college",
          "some college",
          "some high school",
          "associate's degree",
          "high school",
          "associate's degree",
          "bachelor's degree",
          "bachelor's degree",
          "associate's degree",
          "bachelor's degree",
          "high school",
          "master's degree",
          "associate's degree",
          "bachelor's degree",
          "associate's degree",
          "high school",
          "high school",
          "some college",
          "some high school",
          "high school",
          "some college",
          "some college",
          "some college",
          "associate's degree",
          "some high school",
          "high school",
          "associate's degree",
          "associate's degree",
          "associate's degree",
          "bachelor's degree",
          "some college",
          "some high school",
          "associate's degree",
          "some high school",
          "some high school",
          "high school",
          "high school",
          "high school",
          "associate's degree",
          "some college",
          "high school",
          "some college",
          "bachelor's degree",
          "high school",
          "associate's degree",
          "bachelor's degree",
          "some college",
          "some college",
          "associate's degree",
          "some college",
          "bachelor's degree",
          "associate's degree",
          "some college",
          "some college",
          "some college",
          "high school",
          "some high school",
          "some college",
          "some high school",
          "some college",
          "bachelor's degree",
          "high school",
          "bachelor's degree",
          "some high school",
          "some high school",
          "some college",
          "some college",
          "some high school",
          "some college",
          "bachelor's degree",
          "associate's degree",
          "some high school",
          "master's degree",
          "some high school",
          "bachelor's degree",
          "associate's degree",
          "associate's degree",
          "master's degree",
          "some high school",
          "some high school",
          "some college",
          "bachelor's degree",
          "associate's degree",
          "high school",
          "master's degree",
          "some high school",
          "some college",
          "some college",
          "associate's degree",
          "some high school",
          "high school",
          "high school",
          "associate's degree",
          "some high school",
          "some high school",
          "some high school",
          "some college",
          "some college",
          "high school",
          "high school",
          "some high school",
          "associate's degree",
          "associate's degree",
          "high school",
          "associate's degree",
          "master's degree",
          "some college",
          "associate's degree",
          "some high school",
          "bachelor's degree",
          "high school",
          "bachelor's degree",
          "associate's degree",
          "some college",
          "high school",
          "associate's degree",
          "high school",
          "master's degree",
          "some high school",
          "some college",
          "some college",
          "bachelor's degree",
          "some high school",
          "some high school",
          "some high school",
          "associate's degree",
          "high school",
          "high school",
          "some high school",
          "some high school",
          "some college",
          "associate's degree",
          "associate's degree",
          "high school",
          "some high school",
          "some college",
          "high school",
          "some high school",
          "associate's degree",
          "some high school",
          "some high school",
          "some college",
          "high school",
          "high school",
          "associate's degree",
          "some college",
          "some college",
          "associate's degree",
          "some college",
          "associate's degree",
          "bachelor's degree",
          "bachelor's degree",
          "associate's degree",
          "bachelor's degree",
          "high school",
          "bachelor's degree",
          "some college",
          "some college",
          "some college",
          "bachelor's degree",
          "some college",
          "associate's degree",
          "high school",
          "high school",
          "some college",
          "associate's degree",
          "high school",
          "associate's degree",
          "some high school",
          "associate's degree",
          "bachelor's degree",
          "bachelor's degree",
          "associate's degree",
          "master's degree",
          "associate's degree",
          "high school",
          "associate's degree",
          "some college",
          "high school",
          "associate's degree",
          "high school",
          "some college",
          "associate's degree",
          "some high school",
          "associate's degree",
          "associate's degree",
          "associate's degree",
          "some college",
          "bachelor's degree",
          "high school",
          "high school",
          "some college",
          "some college",
          "some high school",
          "some college",
          "master's degree",
          "associate's degree",
          "some college",
          "associate's degree",
          "master's degree",
          "some high school",
          "high school",
          "bachelor's degree",
          "master's degree",
          "bachelor's degree",
          "some college",
          "some high school",
          "some high school",
          "some high school",
          "master's degree",
          "some high school",
          "some college",
          "some college",
          "some high school",
          "high school",
          "some college",
          "associate's degree",
          "bachelor's degree",
          "master's degree",
          "high school",
          "some college",
          "some high school",
          "high school",
          "bachelor's degree",
          "associate's degree",
          "associate's degree",
          "some high school",
          "associate's degree",
          "associate's degree",
          "high school",
          "bachelor's degree",
          "associate's degree",
          "high school",
          "bachelor's degree",
          "associate's degree",
          "high school",
          "associate's degree",
          "associate's degree",
          "associate's degree",
          "master's degree",
          "some high school",
          "some high school",
          "high school",
          "high school",
          "master's degree",
          "some high school",
          "bachelor's degree",
          "associate's degree",
          "some college",
          "associate's degree",
          "some college",
          "associate's degree",
          "master's degree",
          "associate's degree",
          "some high school",
          "some college",
          "some college",
          "bachelor's degree",
          "some college",
          "bachelor's degree",
          "associate's degree",
          "bachelor's degree",
          "master's degree",
          "high school",
          "bachelor's degree",
          "some college",
          "bachelor's degree",
          "some college",
          "high school",
          "high school",
          "associate's degree",
          "some college",
          "high school",
          "some college",
          "master's degree",
          "some high school",
          "some high school",
          "bachelor's degree",
          "associate's degree",
          "some college",
          "associate's degree",
          "high school",
          "bachelor's degree",
          "some college",
          "some high school",
          "some college",
          "some high school",
          "bachelor's degree",
          "high school",
          "bachelor's degree",
          "bachelor's degree",
          "high school",
          "some high school",
          "high school",
          "some high school",
          "master's degree",
          "high school",
          "some college",
          "high school",
          "master's degree",
          "some high school",
          "associate's degree",
          "master's degree",
          "some college",
          "associate's degree",
          "some college",
          "some college",
          "bachelor's degree",
          "associate's degree",
          "associate's degree",
          "high school",
          "bachelor's degree",
          "bachelor's degree",
          "master's degree",
          "associate's degree",
          "high school",
          "bachelor's degree",
          "high school",
          "some college",
          "bachelor's degree",
          "some college",
          "associate's degree",
          "associate's degree",
          "some college",
          "some high school",
          "some college",
          "high school",
          "bachelor's degree",
          "high school",
          "some high school",
          "high school",
          "high school",
          "some high school",
          "some college",
          "associate's degree",
          "high school",
          "associate's degree",
          "some high school",
          "high school",
          "high school",
          "bachelor's degree",
          "associate's degree",
          "high school",
          "high school",
          "some college",
          "some high school",
          "high school",
          "some college",
          "associate's degree",
          "some high school",
          "some college",
          "associate's degree",
          "some high school",
          "associate's degree",
          "associate's degree",
          "some college",
          "some high school",
          "some college",
          "high school",
          "associate's degree",
          "some high school",
          "some college",
          "bachelor's degree",
          "some college",
          "associate's degree",
          "high school",
          "associate's degree",
          "some college",
          "associate's degree",
          "high school",
          "some college",
          "some college",
          "some high school",
          "associate's degree",
          "some college",
          "high school",
          "high school",
          "high school",
          "some high school",
          "some college",
          "master's degree",
          "some college",
          "associate's degree",
          "high school",
          "some college",
          "associate's degree",
          "associate's degree",
          "bachelor's degree",
          "associate's degree",
          "some high school",
          "some college",
          "associate's degree",
          "bachelor's degree",
          "associate's degree",
          "high school",
          "bachelor's degree",
          "some high school",
          "bachelor's degree",
          "some college",
          "some high school",
          "bachelor's degree",
          "high school",
          "some college",
          "high school",
          "associate's degree",
          "some college",
          "some high school",
          "some college",
          "master's degree",
          "some high school",
          "associate's degree",
          "associate's degree",
          "associate's degree",
          "high school",
          "associate's degree",
          "some college",
          "some high school",
          "some high school",
          "high school",
          "some college",
          "some college",
          "associate's degree",
          "some high school",
          "high school",
          "some college",
          "associate's degree",
          "some high school",
          "some college",
          "some high school",
          "some college",
          "master's degree",
          "associate's degree",
          "some college",
          "associate's degree",
          "high school",
          "bachelor's degree",
          "associate's degree",
          "high school",
          "associate's degree",
          "some college",
          "associate's degree",
          "high school",
          "some college",
          "bachelor's degree",
          "some college",
          "some high school",
          "some college",
          "master's degree",
          "some high school",
          "associate's degree",
          "associate's degree",
          "some college",
          "bachelor's degree",
          "some college",
          "some college",
          "high school",
          "some high school",
          "some high school",
          "high school",
          "some college",
          "high school",
          "high school",
          "high school",
          "some high school",
          "some college",
          "high school",
          "bachelor's degree",
          "some high school",
          "bachelor's degree",
          "some college",
          "some high school",
          "high school",
          "some college",
          "some college",
          "associate's degree",
          "associate's degree",
          "master's degree",
          "high school",
          "associate's degree",
          "bachelor's degree",
          "some high school",
          "some high school",
          "some college",
          "associate's degree",
          "master's degree",
          "high school",
          "some college",
          "high school",
          "some high school",
          "high school",
          "associate's degree",
          "high school",
          "associate's degree",
          "some college",
          "associate's degree",
          "some high school",
          "some high school",
          "associate's degree",
          "some college",
          "some college",
          "some college",
          "some college",
          "high school",
          "high school",
          "bachelor's degree",
          "some high school",
          "high school",
          "master's degree",
          "some high school",
          "high school",
          "some high school",
          "bachelor's degree",
          "bachelor's degree",
          "high school",
          "some high school",
          "some high school",
          "bachelor's degree",
          "some college",
          "high school",
          "some high school",
          "high school",
          "associate's degree",
          "some high school",
          "some high school",
          "some high school",
          "some college",
          "bachelor's degree",
          "bachelor's degree",
          "high school",
          "some college",
          "high school",
          "high school",
          "high school",
          "associate's degree",
          "associate's degree",
          "high school",
          "some high school",
          "high school",
          "some college",
          "some high school",
          "master's degree",
          "master's degree",
          "high school",
          "high school",
          "associate's degree",
          "master's degree",
          "high school",
          "some college",
          "some high school",
          "some high school",
          "bachelor's degree",
          "some college",
          "bachelor's degree",
          "high school",
          "associate's degree",
          "associate's degree",
          "master's degree",
          "bachelor's degree",
          "some college",
          "associate's degree",
          "some college",
          "high school",
          "associate's degree",
          "associate's degree",
          "associate's degree",
          "high school",
          "some college",
          "associate's degree",
          "associate's degree",
          "bachelor's degree",
          "some college",
          "some college",
          "some high school",
          "some high school",
          "associate's degree",
          "bachelor's degree",
          "bachelor's degree",
          "high school",
          "bachelor's degree",
          "associate's degree",
          "associate's degree",
          "associate's degree",
          "high school",
          "some college",
          "high school",
          "some college",
          "associate's degree",
          "master's degree",
          "some high school",
          "associate's degree",
          "some high school",
          "high school",
          "some high school",
          "associate's degree",
          "some high school",
          "master's degree",
          "master's degree",
          "high school",
          "bachelor's degree",
          "some high school",
          "some college",
          "high school",
          "some college",
          "bachelor's degree",
          "bachelor's degree",
          "bachelor's degree",
          "some college",
          "bachelor's degree",
          "bachelor's degree",
          "associate's degree",
          "some college",
          "bachelor's degree",
          "high school",
          "associate's degree",
          "some college",
          "high school",
          "high school",
          "high school",
          "associate's degree",
          "high school",
          "some high school",
          "associate's degree",
          "high school",
          "associate's degree",
          "some high school",
          "some college",
          "some college",
          "associate's degree",
          "bachelor's degree",
          "associate's degree",
          "some college",
          "associate's degree",
          "high school",
          "some college",
          "some high school",
          "master's degree",
          "master's degree",
          "high school",
          "some high school",
          "high school",
          "associate's degree",
          "high school",
          "some college",
          "some high school",
          "high school",
          "high school",
          "some college",
          "some high school",
          "high school",
          "some college",
          "associate's degree",
          "some college",
          "master's degree",
          "high school",
          "high school",
          "some college",
          "some high school",
          "associate's degree",
          "some high school",
          "some college",
          "some college",
          "some high school",
          "some college",
          "associate's degree",
          "bachelor's degree",
          "bachelor's degree",
          "some high school",
          "high school",
          "some college",
          "some college",
          "some college",
          "some college",
          "associate's degree",
          "high school",
          "associate's degree",
          "high school",
          "some high school",
          "some high school",
          "some college",
          "some high school",
          "high school",
          "associate's degree",
          "some high school",
          "some high school",
          "some college",
          "high school",
          "some high school",
          "associate's degree",
          "bachelor's degree",
          "high school",
          "master's degree",
          "high school",
          "high school",
          "some college",
          "some college"
         ],
         "legendgroup": "",
         "name": "",
         "showlegend": true,
         "type": "pie"
        }
       ],
       "layout": {
        "autosize": true,
        "legend": {
         "title": {
          "text": "level of education"
         },
         "tracegroupgap": 0
        },
        "margin": {
         "t": 60
        },
        "template": {
         "data": {
          "bar": [
           {
            "error_x": {
             "color": "#2a3f5f"
            },
            "error_y": {
             "color": "#2a3f5f"
            },
            "marker": {
             "line": {
              "color": "#E5ECF6",
              "width": 0.5
             },
             "pattern": {
              "fillmode": "overlay",
              "size": 10,
              "solidity": 0.2
             }
            },
            "type": "bar"
           }
          ],
          "barpolar": [
           {
            "marker": {
             "line": {
              "color": "#E5ECF6",
              "width": 0.5
             },
             "pattern": {
              "fillmode": "overlay",
              "size": 10,
              "solidity": 0.2
             }
            },
            "type": "barpolar"
           }
          ],
          "carpet": [
           {
            "aaxis": {
             "endlinecolor": "#2a3f5f",
             "gridcolor": "white",
             "linecolor": "white",
             "minorgridcolor": "white",
             "startlinecolor": "#2a3f5f"
            },
            "baxis": {
             "endlinecolor": "#2a3f5f",
             "gridcolor": "white",
             "linecolor": "white",
             "minorgridcolor": "white",
             "startlinecolor": "#2a3f5f"
            },
            "type": "carpet"
           }
          ],
          "choropleth": [
           {
            "colorbar": {
             "outlinewidth": 0,
             "ticks": ""
            },
            "type": "choropleth"
           }
          ],
          "contour": [
           {
            "colorbar": {
             "outlinewidth": 0,
             "ticks": ""
            },
            "colorscale": [
             [
              0,
              "#0d0887"
             ],
             [
              0.1111111111111111,
              "#46039f"
             ],
             [
              0.2222222222222222,
              "#7201a8"
             ],
             [
              0.3333333333333333,
              "#9c179e"
             ],
             [
              0.4444444444444444,
              "#bd3786"
             ],
             [
              0.5555555555555556,
              "#d8576b"
             ],
             [
              0.6666666666666666,
              "#ed7953"
             ],
             [
              0.7777777777777778,
              "#fb9f3a"
             ],
             [
              0.8888888888888888,
              "#fdca26"
             ],
             [
              1,
              "#f0f921"
             ]
            ],
            "type": "contour"
           }
          ],
          "contourcarpet": [
           {
            "colorbar": {
             "outlinewidth": 0,
             "ticks": ""
            },
            "type": "contourcarpet"
           }
          ],
          "heatmap": [
           {
            "colorbar": {
             "outlinewidth": 0,
             "ticks": ""
            },
            "colorscale": [
             [
              0,
              "#0d0887"
             ],
             [
              0.1111111111111111,
              "#46039f"
             ],
             [
              0.2222222222222222,
              "#7201a8"
             ],
             [
              0.3333333333333333,
              "#9c179e"
             ],
             [
              0.4444444444444444,
              "#bd3786"
             ],
             [
              0.5555555555555556,
              "#d8576b"
             ],
             [
              0.6666666666666666,
              "#ed7953"
             ],
             [
              0.7777777777777778,
              "#fb9f3a"
             ],
             [
              0.8888888888888888,
              "#fdca26"
             ],
             [
              1,
              "#f0f921"
             ]
            ],
            "type": "heatmap"
           }
          ],
          "heatmapgl": [
           {
            "colorbar": {
             "outlinewidth": 0,
             "ticks": ""
            },
            "colorscale": [
             [
              0,
              "#0d0887"
             ],
             [
              0.1111111111111111,
              "#46039f"
             ],
             [
              0.2222222222222222,
              "#7201a8"
             ],
             [
              0.3333333333333333,
              "#9c179e"
             ],
             [
              0.4444444444444444,
              "#bd3786"
             ],
             [
              0.5555555555555556,
              "#d8576b"
             ],
             [
              0.6666666666666666,
              "#ed7953"
             ],
             [
              0.7777777777777778,
              "#fb9f3a"
             ],
             [
              0.8888888888888888,
              "#fdca26"
             ],
             [
              1,
              "#f0f921"
             ]
            ],
            "type": "heatmapgl"
           }
          ],
          "histogram": [
           {
            "marker": {
             "pattern": {
              "fillmode": "overlay",
              "size": 10,
              "solidity": 0.2
             }
            },
            "type": "histogram"
           }
          ],
          "histogram2d": [
           {
            "colorbar": {
             "outlinewidth": 0,
             "ticks": ""
            },
            "colorscale": [
             [
              0,
              "#0d0887"
             ],
             [
              0.1111111111111111,
              "#46039f"
             ],
             [
              0.2222222222222222,
              "#7201a8"
             ],
             [
              0.3333333333333333,
              "#9c179e"
             ],
             [
              0.4444444444444444,
              "#bd3786"
             ],
             [
              0.5555555555555556,
              "#d8576b"
             ],
             [
              0.6666666666666666,
              "#ed7953"
             ],
             [
              0.7777777777777778,
              "#fb9f3a"
             ],
             [
              0.8888888888888888,
              "#fdca26"
             ],
             [
              1,
              "#f0f921"
             ]
            ],
            "type": "histogram2d"
           }
          ],
          "histogram2dcontour": [
           {
            "colorbar": {
             "outlinewidth": 0,
             "ticks": ""
            },
            "colorscale": [
             [
              0,
              "#0d0887"
             ],
             [
              0.1111111111111111,
              "#46039f"
             ],
             [
              0.2222222222222222,
              "#7201a8"
             ],
             [
              0.3333333333333333,
              "#9c179e"
             ],
             [
              0.4444444444444444,
              "#bd3786"
             ],
             [
              0.5555555555555556,
              "#d8576b"
             ],
             [
              0.6666666666666666,
              "#ed7953"
             ],
             [
              0.7777777777777778,
              "#fb9f3a"
             ],
             [
              0.8888888888888888,
              "#fdca26"
             ],
             [
              1,
              "#f0f921"
             ]
            ],
            "type": "histogram2dcontour"
           }
          ],
          "mesh3d": [
           {
            "colorbar": {
             "outlinewidth": 0,
             "ticks": ""
            },
            "type": "mesh3d"
           }
          ],
          "parcoords": [
           {
            "line": {
             "colorbar": {
              "outlinewidth": 0,
              "ticks": ""
             }
            },
            "type": "parcoords"
           }
          ],
          "pie": [
           {
            "automargin": true,
            "type": "pie"
           }
          ],
          "scatter": [
           {
            "fillpattern": {
             "fillmode": "overlay",
             "size": 10,
             "solidity": 0.2
            },
            "type": "scatter"
           }
          ],
          "scatter3d": [
           {
            "line": {
             "colorbar": {
              "outlinewidth": 0,
              "ticks": ""
             }
            },
            "marker": {
             "colorbar": {
              "outlinewidth": 0,
              "ticks": ""
             }
            },
            "type": "scatter3d"
           }
          ],
          "scattercarpet": [
           {
            "marker": {
             "colorbar": {
              "outlinewidth": 0,
              "ticks": ""
             }
            },
            "type": "scattercarpet"
           }
          ],
          "scattergeo": [
           {
            "marker": {
             "colorbar": {
              "outlinewidth": 0,
              "ticks": ""
             }
            },
            "type": "scattergeo"
           }
          ],
          "scattergl": [
           {
            "marker": {
             "colorbar": {
              "outlinewidth": 0,
              "ticks": ""
             }
            },
            "type": "scattergl"
           }
          ],
          "scattermapbox": [
           {
            "marker": {
             "colorbar": {
              "outlinewidth": 0,
              "ticks": ""
             }
            },
            "type": "scattermapbox"
           }
          ],
          "scatterpolar": [
           {
            "marker": {
             "colorbar": {
              "outlinewidth": 0,
              "ticks": ""
             }
            },
            "type": "scatterpolar"
           }
          ],
          "scatterpolargl": [
           {
            "marker": {
             "colorbar": {
              "outlinewidth": 0,
              "ticks": ""
             }
            },
            "type": "scatterpolargl"
           }
          ],
          "scatterternary": [
           {
            "marker": {
             "colorbar": {
              "outlinewidth": 0,
              "ticks": ""
             }
            },
            "type": "scatterternary"
           }
          ],
          "surface": [
           {
            "colorbar": {
             "outlinewidth": 0,
             "ticks": ""
            },
            "colorscale": [
             [
              0,
              "#0d0887"
             ],
             [
              0.1111111111111111,
              "#46039f"
             ],
             [
              0.2222222222222222,
              "#7201a8"
             ],
             [
              0.3333333333333333,
              "#9c179e"
             ],
             [
              0.4444444444444444,
              "#bd3786"
             ],
             [
              0.5555555555555556,
              "#d8576b"
             ],
             [
              0.6666666666666666,
              "#ed7953"
             ],
             [
              0.7777777777777778,
              "#fb9f3a"
             ],
             [
              0.8888888888888888,
              "#fdca26"
             ],
             [
              1,
              "#f0f921"
             ]
            ],
            "type": "surface"
           }
          ],
          "table": [
           {
            "cells": {
             "fill": {
              "color": "#EBF0F8"
             },
             "line": {
              "color": "white"
             }
            },
            "header": {
             "fill": {
              "color": "#C8D4E3"
             },
             "line": {
              "color": "white"
             }
            },
            "type": "table"
           }
          ]
         },
         "layout": {
          "annotationdefaults": {
           "arrowcolor": "#2a3f5f",
           "arrowhead": 0,
           "arrowwidth": 1
          },
          "autotypenumbers": "strict",
          "coloraxis": {
           "colorbar": {
            "outlinewidth": 0,
            "ticks": ""
           }
          },
          "colorscale": {
           "diverging": [
            [
             0,
             "#8e0152"
            ],
            [
             0.1,
             "#c51b7d"
            ],
            [
             0.2,
             "#de77ae"
            ],
            [
             0.3,
             "#f1b6da"
            ],
            [
             0.4,
             "#fde0ef"
            ],
            [
             0.5,
             "#f7f7f7"
            ],
            [
             0.6,
             "#e6f5d0"
            ],
            [
             0.7,
             "#b8e186"
            ],
            [
             0.8,
             "#7fbc41"
            ],
            [
             0.9,
             "#4d9221"
            ],
            [
             1,
             "#276419"
            ]
           ],
           "sequential": [
            [
             0,
             "#0d0887"
            ],
            [
             0.1111111111111111,
             "#46039f"
            ],
            [
             0.2222222222222222,
             "#7201a8"
            ],
            [
             0.3333333333333333,
             "#9c179e"
            ],
            [
             0.4444444444444444,
             "#bd3786"
            ],
            [
             0.5555555555555556,
             "#d8576b"
            ],
            [
             0.6666666666666666,
             "#ed7953"
            ],
            [
             0.7777777777777778,
             "#fb9f3a"
            ],
            [
             0.8888888888888888,
             "#fdca26"
            ],
            [
             1,
             "#f0f921"
            ]
           ],
           "sequentialminus": [
            [
             0,
             "#0d0887"
            ],
            [
             0.1111111111111111,
             "#46039f"
            ],
            [
             0.2222222222222222,
             "#7201a8"
            ],
            [
             0.3333333333333333,
             "#9c179e"
            ],
            [
             0.4444444444444444,
             "#bd3786"
            ],
            [
             0.5555555555555556,
             "#d8576b"
            ],
            [
             0.6666666666666666,
             "#ed7953"
            ],
            [
             0.7777777777777778,
             "#fb9f3a"
            ],
            [
             0.8888888888888888,
             "#fdca26"
            ],
            [
             1,
             "#f0f921"
            ]
           ]
          },
          "colorway": [
           "#636efa",
           "#EF553B",
           "#00cc96",
           "#ab63fa",
           "#FFA15A",
           "#19d3f3",
           "#FF6692",
           "#B6E880",
           "#FF97FF",
           "#FECB52"
          ],
          "font": {
           "color": "#2a3f5f"
          },
          "geo": {
           "bgcolor": "white",
           "lakecolor": "white",
           "landcolor": "#E5ECF6",
           "showlakes": true,
           "showland": true,
           "subunitcolor": "white"
          },
          "hoverlabel": {
           "align": "left"
          },
          "hovermode": "closest",
          "mapbox": {
           "style": "light"
          },
          "paper_bgcolor": "white",
          "plot_bgcolor": "#E5ECF6",
          "polar": {
           "angularaxis": {
            "gridcolor": "white",
            "linecolor": "white",
            "ticks": ""
           },
           "bgcolor": "#E5ECF6",
           "radialaxis": {
            "gridcolor": "white",
            "linecolor": "white",
            "ticks": ""
           }
          },
          "scene": {
           "xaxis": {
            "backgroundcolor": "#E5ECF6",
            "gridcolor": "white",
            "gridwidth": 2,
            "linecolor": "white",
            "showbackground": true,
            "ticks": "",
            "zerolinecolor": "white"
           },
           "yaxis": {
            "backgroundcolor": "#E5ECF6",
            "gridcolor": "white",
            "gridwidth": 2,
            "linecolor": "white",
            "showbackground": true,
            "ticks": "",
            "zerolinecolor": "white"
           },
           "zaxis": {
            "backgroundcolor": "#E5ECF6",
            "gridcolor": "white",
            "gridwidth": 2,
            "linecolor": "white",
            "showbackground": true,
            "ticks": "",
            "zerolinecolor": "white"
           }
          },
          "shapedefaults": {
           "line": {
            "color": "#2a3f5f"
           }
          },
          "ternary": {
           "aaxis": {
            "gridcolor": "white",
            "linecolor": "white",
            "ticks": ""
           },
           "baxis": {
            "gridcolor": "white",
            "linecolor": "white",
            "ticks": ""
           },
           "bgcolor": "#E5ECF6",
           "caxis": {
            "gridcolor": "white",
            "linecolor": "white",
            "ticks": ""
           }
          },
          "title": {
           "x": 0.05
          },
          "xaxis": {
           "automargin": true,
           "gridcolor": "white",
           "linecolor": "white",
           "ticks": "",
           "title": {
            "standoff": 15
           },
           "zerolinecolor": "white",
           "zerolinewidth": 2
          },
          "yaxis": {
           "automargin": true,
           "gridcolor": "white",
           "linecolor": "white",
           "ticks": "",
           "title": {
            "standoff": 15
           },
           "zerolinecolor": "white",
           "zerolinewidth": 2
          }
         }
        },
        "title": {
         "text": " Parental Level of Education Breakdown",
         "x": 0.5
        }
       }
      },
      "image/png": "[encoded data removed]",
      "text/html": [
       "<div>                            <div id=\"168a9c14-978a-4281-899b-cc63dc72ead9\" class=\"plotly-graph-div\" style=\"height:525px; width:100%;\"></div>            <script type=\"text/javascript\">                require([\"plotly\"], function(Plotly) {                    window.PLOTLYENV=window.PLOTLYENV || {};                                    if (document.getElementById(\"168a9c14-978a-4281-899b-cc63dc72ead9\")) {                    Plotly.newPlot(                        \"168a9c14-978a-4281-899b-cc63dc72ead9\",                        [{\"domain\":{\"x\":[0.0,1.0],\"y\":[0.0,1.0]},\"hovertemplate\":\"parental level of education=%{label}\\u003cextra\\u003e\\u003c\\u002fextra\\u003e\",\"labels\":[\"bachelor's degree\",\"some college\",\"master's degree\",\"associate's degree\",\"some college\",\"associate's degree\",\"some college\",\"some college\",\"high school\",\"high school\",\"associate's degree\",\"associate's degree\",\"high school\",\"some college\",\"master's degree\",\"some high school\",\"high school\",\"some high school\",\"master's degree\",\"associate's degree\",\"high school\",\"some college\",\"some college\",\"some high school\",\"bachelor's degree\",\"master's degree\",\"some college\",\"bachelor's degree\",\"high school\",\"master's degree\",\"some college\",\"some college\",\"master's degree\",\"some college\",\"some college\",\"associate's degree\",\"associate's degree\",\"some high school\",\"associate's degree\",\"associate's degree\",\"associate's degree\",\"associate's degree\",\"associate's degree\",\"some college\",\"associate's degree\",\"associate's degree\",\"associate's degree\",\"high school\",\"associate's degree\",\"high school\",\"some college\",\"associate's degree\",\"some college\",\"high school\",\"some high school\",\"high school\",\"associate's degree\",\"associate's degree\",\"some college\",\"some high school\",\"bachelor's degree\",\"some high school\",\"associate's degree\",\"associate's degree\",\"some high school\",\"some high school\",\"some high school\",\"some college\",\"associate's degree\",\"associate's degree\",\"some college\",\"some college\",\"associate's degree\",\"some high school\",\"some high school\",\"associate's degree\",\"some high school\",\"bachelor's degree\",\"some high school\",\"master's degree\",\"associate's degree\",\"high school\",\"some college\",\"associate's degree\",\"high school\",\"some college\",\"some college\",\"associate's degree\",\"some college\",\"some high school\",\"bachelor's degree\",\"high school\",\"high school\",\"associate's degree\",\"some college\",\"associate's degree\",\"some high school\",\"some college\",\"some college\",\"bachelor's degree\",\"some college\",\"bachelor's degree\",\"associate's degree\",\"high school\",\"some college\",\"some college\",\"master's degree\",\"associate's degree\",\"associate's degree\",\"some high school\",\"associate's degree\",\"high school\",\"associate's degree\",\"some college\",\"bachelor's degree\",\"high school\",\"bachelor's degree\",\"bachelor's degree\",\"some high school\",\"some college\",\"bachelor's degree\",\"associate's degree\",\"some college\",\"high school\",\"some college\",\"high school\",\"some high school\",\"some college\",\"master's degree\",\"bachelor's degree\",\"master's degree\",\"some high school\",\"some college\",\"some college\",\"bachelor's degree\",\"bachelor's degree\",\"some high school\",\"high school\",\"associate's degree\",\"some college\",\"some high school\",\"some college\",\"some college\",\"high school\",\"some college\",\"some college\",\"some high school\",\"associate's degree\",\"bachelor's degree\",\"associate's degree\",\"some high school\",\"bachelor's degree\",\"associate's degree\",\"bachelor's degree\",\"some high school\",\"some college\",\"high school\",\"some college\",\"associate's degree\",\"associate's degree\",\"associate's degree\",\"some college\",\"master's degree\",\"high school\",\"master's degree\",\"bachelor's degree\",\"high school\",\"master's degree\",\"high school\",\"some college\",\"high school\",\"some high school\",\"some college\",\"associate's degree\",\"bachelor's degree\",\"master's degree\",\"high school\",\"associate's degree\",\"master's degree\",\"some high school\",\"master's degree\",\"some college\",\"high school\",\"associate's degree\",\"some high school\",\"associate's degree\",\"high school\",\"some high school\",\"some high school\",\"bachelor's degree\",\"associate's degree\",\"some college\",\"some high school\",\"some college\",\"master's degree\",\"associate's degree\",\"some high school\",\"high school\",\"some college\",\"bachelor's degree\",\"associate's degree\",\"some college\",\"associate's degree\",\"associate's degree\",\"some college\",\"some high school\",\"bachelor's degree\",\"high school\",\"some college\",\"some college\",\"some high school\",\"some college\",\"high school\",\"associate's degree\",\"high school\",\"some high school\",\"associate's degree\",\"high school\",\"high school\",\"some high school\",\"high school\",\"associate's degree\",\"some high school\",\"some high school\",\"associate's degree\",\"master's degree\",\"some college\",\"high school\",\"some high school\",\"some college\",\"some college\",\"associate's degree\",\"bachelor's degree\",\"some high school\",\"bachelor's degree\",\"associate's degree\",\"bachelor's degree\",\"some high school\",\"some college\",\"associate's degree\",\"high school\",\"bachelor's degree\",\"high school\",\"some college\",\"some high school\",\"associate's degree\",\"associate's degree\",\"high school\",\"high school\",\"high school\",\"some high school\",\"some college\",\"some high school\",\"master's degree\",\"high school\",\"some college\",\"associate's degree\",\"associate's degree\",\"some college\",\"master's degree\",\"some high school\",\"some college\",\"some high school\",\"high school\",\"high school\",\"some high school\",\"bachelor's degree\",\"high school\",\"associate's degree\",\"some college\",\"bachelor's degree\",\"some college\",\"associate's degree\",\"some college\",\"some college\",\"bachelor's degree\",\"some high school\",\"high school\",\"some high school\",\"bachelor's degree\",\"high school\",\"high school\",\"bachelor's degree\",\"some college\",\"some high school\",\"associate's degree\",\"associate's degree\",\"some high school\",\"bachelor's degree\",\"some high school\",\"associate's degree\",\"some high school\",\"some high school\",\"bachelor's degree\",\"high school\",\"associate's degree\",\"some high school\",\"associate's degree\",\"high school\",\"associate's degree\",\"some college\",\"some high school\",\"associate's degree\",\"associate's degree\",\"associate's degree\",\"some college\",\"some college\",\"some high school\",\"associate's degree\",\"high school\",\"associate's degree\",\"bachelor's degree\",\"bachelor's degree\",\"associate's degree\",\"bachelor's degree\",\"high school\",\"master's degree\",\"associate's degree\",\"bachelor's degree\",\"associate's degree\",\"high school\",\"high school\",\"some college\",\"some high school\",\"high school\",\"some college\",\"some college\",\"some college\",\"associate's degree\",\"some high school\",\"high school\",\"associate's degree\",\"associate's degree\",\"associate's degree\",\"bachelor's degree\",\"some college\",\"some high school\",\"associate's degree\",\"some high school\",\"some high school\",\"high school\",\"high school\",\"high school\",\"associate's degree\",\"some college\",\"high school\",\"some college\",\"bachelor's degree\",\"high school\",\"associate's degree\",\"bachelor's degree\",\"some college\",\"some college\",\"associate's degree\",\"some college\",\"bachelor's degree\",\"associate's degree\",\"some college\",\"some college\",\"some college\",\"high school\",\"some high school\",\"some college\",\"some high school\",\"some college\",\"bachelor's degree\",\"high school\",\"bachelor's degree\",\"some high school\",\"some high school\",\"some college\",\"some college\",\"some high school\",\"some college\",\"bachelor's degree\",\"associate's degree\",\"some high school\",\"master's degree\",\"some high school\",\"bachelor's degree\",\"associate's degree\",\"associate's degree\",\"master's degree\",\"some high school\",\"some high school\",\"some college\",\"bachelor's degree\",\"associate's degree\",\"high school\",\"master's degree\",\"some high school\",\"some college\",\"some college\",\"associate's degree\",\"some high school\",\"high school\",\"high school\",\"associate's degree\",\"some high school\",\"some high school\",\"some high school\",\"some college\",\"some college\",\"high school\",\"high school\",\"some high school\",\"associate's degree\",\"associate's degree\",\"high school\",\"associate's degree\",\"master's degree\",\"some college\",\"associate's degree\",\"some high school\",\"bachelor's degree\",\"high school\",\"bachelor's degree\",\"associate's degree\",\"some college\",\"high school\",\"associate's degree\",\"high school\",\"master's degree\",\"some high school\",\"some college\",\"some college\",\"bachelor's degree\",\"some high school\",\"some high school\",\"some high school\",\"associate's degree\",\"high school\",\"high school\",\"some high school\",\"some high school\",\"some college\",\"associate's degree\",\"associate's degree\",\"high school\",\"some high school\",\"some college\",\"high school\",\"some high school\",\"associate's degree\",\"some high school\",\"some high school\",\"some college\",\"high school\",\"high school\",\"associate's degree\",\"some college\",\"some college\",\"associate's degree\",\"some college\",\"associate's degree\",\"bachelor's degree\",\"bachelor's degree\",\"associate's degree\",\"bachelor's degree\",\"high school\",\"bachelor's degree\",\"some college\",\"some college\",\"some college\",\"bachelor's degree\",\"some college\",\"associate's degree\",\"high school\",\"high school\",\"some college\",\"associate's degree\",\"high school\",\"associate's degree\",\"some high school\",\"associate's degree\",\"bachelor's degree\",\"bachelor's degree\",\"associate's degree\",\"master's degree\",\"associate's degree\",\"high school\",\"associate's degree\",\"some college\",\"high school\",\"associate's degree\",\"high school\",\"some college\",\"associate's degree\",\"some high school\",\"associate's degree\",\"associate's degree\",\"associate's degree\",\"some college\",\"bachelor's degree\",\"high school\",\"high school\",\"some college\",\"some college\",\"some high school\",\"some college\",\"master's degree\",\"associate's degree\",\"some college\",\"associate's degree\",\"master's degree\",\"some high school\",\"high school\",\"bachelor's degree\",\"master's degree\",\"bachelor's degree\",\"some college\",\"some high school\",\"some high school\",\"some high school\",\"master's degree\",\"some high school\",\"some college\",\"some college\",\"some high school\",\"high school\",\"some college\",\"associate's degree\",\"bachelor's degree\",\"master's degree\",\"high school\",\"some college\",\"some high school\",\"high school\",\"bachelor's degree\",\"associate's degree\",\"associate's degree\",\"some high school\",\"associate's degree\",\"associate's degree\",\"high school\",\"bachelor's degree\",\"associate's degree\",\"high school\",\"bachelor's degree\",\"associate's degree\",\"high school\",\"associate's degree\",\"associate's degree\",\"associate's degree\",\"master's degree\",\"some high school\",\"some high school\",\"high school\",\"high school\",\"master's degree\",\"some high school\",\"bachelor's degree\",\"associate's degree\",\"some college\",\"associate's degree\",\"some college\",\"associate's degree\",\"master's degree\",\"associate's degree\",\"some high school\",\"some college\",\"some college\",\"bachelor's degree\",\"some college\",\"bachelor's degree\",\"associate's degree\",\"bachelor's degree\",\"master's degree\",\"high school\",\"bachelor's degree\",\"some college\",\"bachelor's degree\",\"some college\",\"high school\",\"high school\",\"associate's degree\",\"some college\",\"high school\",\"some college\",\"master's degree\",\"some high school\",\"some high school\",\"bachelor's degree\",\"associate's degree\",\"some college\",\"associate's degree\",\"high school\",\"bachelor's degree\",\"some college\",\"some high school\",\"some college\",\"some high school\",\"bachelor's degree\",\"high school\",\"bachelor's degree\",\"bachelor's degree\",\"high school\",\"some high school\",\"high school\",\"some high school\",\"master's degree\",\"high school\",\"some college\",\"high school\",\"master's degree\",\"some high school\",\"associate's degree\",\"master's degree\",\"some college\",\"associate's degree\",\"some college\",\"some college\",\"bachelor's degree\",\"associate's degree\",\"associate's degree\",\"high school\",\"bachelor's degree\",\"bachelor's degree\",\"master's degree\",\"associate's degree\",\"high school\",\"bachelor's degree\",\"high school\",\"some college\",\"bachelor's degree\",\"some college\",\"associate's degree\",\"associate's degree\",\"some college\",\"some high school\",\"some college\",\"high school\",\"bachelor's degree\",\"high school\",\"some high school\",\"high school\",\"high school\",\"some high school\",\"some college\",\"associate's degree\",\"high school\",\"associate's degree\",\"some high school\",\"high school\",\"high school\",\"bachelor's degree\",\"associate's degree\",\"high school\",\"high school\",\"some college\",\"some high school\",\"high school\",\"some college\",\"associate's degree\",\"some high school\",\"some college\",\"associate's degree\",\"some high school\",\"associate's degree\",\"associate's degree\",\"some college\",\"some high school\",\"some college\",\"high school\",\"associate's degree\",\"some high school\",\"some college\",\"bachelor's degree\",\"some college\",\"associate's degree\",\"high school\",\"associate's degree\",\"some college\",\"associate's degree\",\"high school\",\"some college\",\"some college\",\"some high school\",\"associate's degree\",\"some college\",\"high school\",\"high school\",\"high school\",\"some high school\",\"some college\",\"master's degree\",\"some college\",\"associate's degree\",\"high school\",\"some college\",\"associate's degree\",\"associate's degree\",\"bachelor's degree\",\"associate's degree\",\"some high school\",\"some college\",\"associate's degree\",\"bachelor's degree\",\"associate's degree\",\"high school\",\"bachelor's degree\",\"some high school\",\"bachelor's degree\",\"some college\",\"some high school\",\"bachelor's degree\",\"high school\",\"some college\",\"high school\",\"associate's degree\",\"some college\",\"some high school\",\"some college\",\"master's degree\",\"some high school\",\"associate's degree\",\"associate's degree\",\"associate's degree\",\"high school\",\"associate's degree\",\"some college\",\"some high school\",\"some high school\",\"high school\",\"some college\",\"some college\",\"associate's degree\",\"some high school\",\"high school\",\"some college\",\"associate's degree\",\"some high school\",\"some college\",\"some high school\",\"some college\",\"master's degree\",\"associate's degree\",\"some college\",\"associate's degree\",\"high school\",\"bachelor's degree\",\"associate's degree\",\"high school\",\"associate's degree\",\"some college\",\"associate's degree\",\"high school\",\"some college\",\"bachelor's degree\",\"some college\",\"some high school\",\"some college\",\"master's degree\",\"some high school\",\"associate's degree\",\"associate's degree\",\"some college\",\"bachelor's degree\",\"some college\",\"some college\",\"high school\",\"some high school\",\"some high school\",\"high school\",\"some college\",\"high school\",\"high school\",\"high school\",\"some high school\",\"some college\",\"high school\",\"bachelor's degree\",\"some high school\",\"bachelor's degree\",\"some college\",\"some high school\",\"high school\",\"some college\",\"some college\",\"associate's degree\",\"associate's degree\",\"master's degree\",\"high school\",\"associate's degree\",\"bachelor's degree\",\"some high school\",\"some high school\",\"some college\",\"associate's degree\",\"master's degree\",\"high school\",\"some college\",\"high school\",\"some high school\",\"high school\",\"associate's degree\",\"high school\",\"associate's degree\",\"some college\",\"associate's degree\",\"some high school\",\"some high school\",\"associate's degree\",\"some college\",\"some college\",\"some college\",\"some college\",\"high school\",\"high school\",\"bachelor's degree\",\"some high school\",\"high school\",\"master's degree\",\"some high school\",\"high school\",\"some high school\",\"bachelor's degree\",\"bachelor's degree\",\"high school\",\"some high school\",\"some high school\",\"bachelor's degree\",\"some college\",\"high school\",\"some high school\",\"high school\",\"associate's degree\",\"some high school\",\"some high school\",\"some high school\",\"some college\",\"bachelor's degree\",\"bachelor's degree\",\"high school\",\"some college\",\"high school\",\"high school\",\"high school\",\"associate's degree\",\"associate's degree\",\"high school\",\"some high school\",\"high school\",\"some college\",\"some high school\",\"master's degree\",\"master's degree\",\"high school\",\"high school\",\"associate's degree\",\"master's degree\",\"high school\",\"some college\",\"some high school\",\"some high school\",\"bachelor's degree\",\"some college\",\"bachelor's degree\",\"high school\",\"associate's degree\",\"associate's degree\",\"master's degree\",\"bachelor's degree\",\"some college\",\"associate's degree\",\"some college\",\"high school\",\"associate's degree\",\"associate's degree\",\"associate's degree\",\"high school\",\"some college\",\"associate's degree\",\"associate's degree\",\"bachelor's degree\",\"some college\",\"some college\",\"some high school\",\"some high school\",\"associate's degree\",\"bachelor's degree\",\"bachelor's degree\",\"high school\",\"bachelor's degree\",\"associate's degree\",\"associate's degree\",\"associate's degree\",\"high school\",\"some college\",\"high school\",\"some college\",\"associate's degree\",\"master's degree\",\"some high school\",\"associate's degree\",\"some high school\",\"high school\",\"some high school\",\"associate's degree\",\"some high school\",\"master's degree\",\"master's degree\",\"high school\",\"bachelor's degree\",\"some high school\",\"some college\",\"high school\",\"some college\",\"bachelor's degree\",\"bachelor's degree\",\"bachelor's degree\",\"some college\",\"bachelor's degree\",\"bachelor's degree\",\"associate's degree\",\"some college\",\"bachelor's degree\",\"high school\",\"associate's degree\",\"some college\",\"high school\",\"high school\",\"high school\",\"associate's degree\",\"high school\",\"some high school\",\"associate's degree\",\"high school\",\"associate's degree\",\"some high school\",\"some college\",\"some college\",\"associate's degree\",\"bachelor's degree\",\"associate's degree\",\"some college\",\"associate's degree\",\"high school\",\"some college\",\"some high school\",\"master's degree\",\"master's degree\",\"high school\",\"some high school\",\"high school\",\"associate's degree\",\"high school\",\"some college\",\"some high school\",\"high school\",\"high school\",\"some college\",\"some high school\",\"high school\",\"some college\",\"associate's degree\",\"some college\",\"master's degree\",\"high school\",\"high school\",\"some college\",\"some high school\",\"associate's degree\",\"some high school\",\"some college\",\"some college\",\"some high school\",\"some college\",\"associate's degree\",\"bachelor's degree\",\"bachelor's degree\",\"some high school\",\"high school\",\"some college\",\"some college\",\"some college\",\"some college\",\"associate's degree\",\"high school\",\"associate's degree\",\"high school\",\"some high school\",\"some high school\",\"some college\",\"some high school\",\"high school\",\"associate's degree\",\"some high school\",\"some high school\",\"some college\",\"high school\",\"some high school\",\"associate's degree\",\"bachelor's degree\",\"high school\",\"master's degree\",\"high school\",\"high school\",\"some college\",\"some college\"],\"legendgroup\":\"\",\"name\":\"\",\"showlegend\":true,\"type\":\"pie\"}],                        {\"template\":{\"data\":{\"histogram2dcontour\":[{\"type\":\"histogram2dcontour\",\"colorbar\":{\"outlinewidth\":0,\"ticks\":\"\"},\"colorscale\":[[0.0,\"#0d0887\"],[0.1111111111111111,\"#46039f\"],[0.2222222222222222,\"#7201a8\"],[0.3333333333333333,\"#9c179e\"],[0.4444444444444444,\"#bd3786\"],[0.5555555555555556,\"#d8576b\"],[0.6666666666666666,\"#ed7953\"],[0.7777777777777778,\"#fb9f3a\"],[0.8888888888888888,\"#fdca26\"],[1.0,\"#f0f921\"]]}],\"choropleth\":[{\"type\":\"choropleth\",\"colorbar\":{\"outlinewidth\":0,\"ticks\":\"\"}}],\"histogram2d\":[{\"type\":\"histogram2d\",\"colorbar\":{\"outlinewidth\":0,\"ticks\":\"\"},\"colorscale\":[[0.0,\"#0d0887\"],[0.1111111111111111,\"#46039f\"],[0.2222222222222222,\"#7201a8\"],[0.3333333333333333,\"#9c179e\"],[0.4444444444444444,\"#bd3786\"],[0.5555555555555556,\"#d8576b\"],[0.6666666666666666,\"#ed7953\"],[0.7777777777777778,\"#fb9f3a\"],[0.8888888888888888,\"#fdca26\"],[1.0,\"#f0f921\"]]}],\"heatmap\":[{\"type\":\"heatmap\",\"colorbar\":{\"outlinewidth\":0,\"ticks\":\"\"},\"colorscale\":[[0.0,\"#0d0887\"],[0.1111111111111111,\"#46039f\"],[0.2222222222222222,\"#7201a8\"],[0.3333333333333333,\"#9c179e\"],[0.4444444444444444,\"#bd3786\"],[0.5555555555555556,\"#d8576b\"],[0.6666666666666666,\"#ed7953\"],[0.7777777777777778,\"#fb9f3a\"],[0.8888888888888888,\"#fdca26\"],[1.0,\"#f0f921\"]]}],\"heatmapgl\":[{\"type\":\"heatmapgl\",\"colorbar\":{\"outlinewidth\":0,\"ticks\":\"\"},\"colorscale\":[[0.0,\"#0d0887\"],[0.1111111111111111,\"#46039f\"],[0.2222222222222222,\"#7201a8\"],[0.3333333333333333,\"#9c179e\"],[0.4444444444444444,\"#bd3786\"],[0.5555555555555556,\"#d8576b\"],[0.6666666666666666,\"#ed7953\"],[0.7777777777777778,\"#fb9f3a\"],[0.8888888888888888,\"#fdca26\"],[1.0,\"#f0f921\"]]}],\"contourcarpet\":[{\"type\":\"contourcarpet\",\"colorbar\":{\"outlinewidth\":0,\"ticks\":\"\"}}],\"contour\":[{\"type\":\"contour\",\"colorbar\":{\"outlinewidth\":0,\"ticks\":\"\"},\"colorscale\":[[0.0,\"#0d0887\"],[0.1111111111111111,\"#46039f\"],[0.2222222222222222,\"#7201a8\"],[0.3333333333333333,\"#9c179e\"],[0.4444444444444444,\"#bd3786\"],[0.5555555555555556,\"#d8576b\"],[0.6666666666666666,\"#ed7953\"],[0.7777777777777778,\"#fb9f3a\"],[0.8888888888888888,\"#fdca26\"],[1.0,\"#f0f921\"]]}],\"surface\":[{\"type\":\"surface\",\"colorbar\":{\"outlinewidth\":0,\"ticks\":\"\"},\"colorscale\":[[0.0,\"#0d0887\"],[0.1111111111111111,\"#46039f\"],[0.2222222222222222,\"#7201a8\"],[0.3333333333333333,\"#9c179e\"],[0.4444444444444444,\"#bd3786\"],[0.5555555555555556,\"#d8576b\"],[0.6666666666666666,\"#ed7953\"],[0.7777777777777778,\"#fb9f3a\"],[0.8888888888888888,\"#fdca26\"],[1.0,\"#f0f921\"]]}],\"mesh3d\":[{\"type\":\"mesh3d\",\"colorbar\":{\"outlinewidth\":0,\"ticks\":\"\"}}],\"scatter\":[{\"fillpattern\":{\"fillmode\":\"overlay\",\"size\":10,\"solidity\":0.2},\"type\":\"scatter\"}],\"parcoords\":[{\"type\":\"parcoords\",\"line\":{\"colorbar\":{\"outlinewidth\":0,\"ticks\":\"\"}}}],\"scatterpolargl\":[{\"type\":\"scatterpolargl\",\"marker\":{\"colorbar\":{\"outlinewidth\":0,\"ticks\":\"\"}}}],\"bar\":[{\"error_x\":{\"color\":\"#2a3f5f\"},\"error_y\":{\"color\":\"#2a3f5f\"},\"marker\":{\"line\":{\"color\":\"#E5ECF6\",\"width\":0.5},\"pattern\":{\"fillmode\":\"overlay\",\"size\":10,\"solidity\":0.2}},\"type\":\"bar\"}],\"scattergeo\":[{\"type\":\"scattergeo\",\"marker\":{\"colorbar\":{\"outlinewidth\":0,\"ticks\":\"\"}}}],\"scatterpolar\":[{\"type\":\"scatterpolar\",\"marker\":{\"colorbar\":{\"outlinewidth\":0,\"ticks\":\"\"}}}],\"histogram\":[{\"marker\":{\"pattern\":{\"fillmode\":\"overlay\",\"size\":10,\"solidity\":0.2}},\"type\":\"histogram\"}],\"scattergl\":[{\"type\":\"scattergl\",\"marker\":{\"colorbar\":{\"outlinewidth\":0,\"ticks\":\"\"}}}],\"scatter3d\":[{\"type\":\"scatter3d\",\"line\":{\"colorbar\":{\"outlinewidth\":0,\"ticks\":\"\"}},\"marker\":{\"colorbar\":{\"outlinewidth\":0,\"ticks\":\"\"}}}],\"scattermapbox\":[{\"type\":\"scattermapbox\",\"marker\":{\"colorbar\":{\"outlinewidth\":0,\"ticks\":\"\"}}}],\"scatterternary\":[{\"type\":\"scatterternary\",\"marker\":{\"colorbar\":{\"outlinewidth\":0,\"ticks\":\"\"}}}],\"scattercarpet\":[{\"type\":\"scattercarpet\",\"marker\":{\"colorbar\":{\"outlinewidth\":0,\"ticks\":\"\"}}}],\"carpet\":[{\"aaxis\":{\"endlinecolor\":\"#2a3f5f\",\"gridcolor\":\"white\",\"linecolor\":\"white\",\"minorgridcolor\":\"white\",\"startlinecolor\":\"#2a3f5f\"},\"baxis\":{\"endlinecolor\":\"#2a3f5f\",\"gridcolor\":\"white\",\"linecolor\":\"white\",\"minorgridcolor\":\"white\",\"startlinecolor\":\"#2a3f5f\"},\"type\":\"carpet\"}],\"table\":[{\"cells\":{\"fill\":{\"color\":\"#EBF0F8\"},\"line\":{\"color\":\"white\"}},\"header\":{\"fill\":{\"color\":\"#C8D4E3\"},\"line\":{\"color\":\"white\"}},\"type\":\"table\"}],\"barpolar\":[{\"marker\":{\"line\":{\"color\":\"#E5ECF6\",\"width\":0.5},\"pattern\":{\"fillmode\":\"overlay\",\"size\":10,\"solidity\":0.2}},\"type\":\"barpolar\"}],\"pie\":[{\"automargin\":true,\"type\":\"pie\"}]},\"layout\":{\"autotypenumbers\":\"strict\",\"colorway\":[\"#636efa\",\"#EF553B\",\"#00cc96\",\"#ab63fa\",\"#FFA15A\",\"#19d3f3\",\"#FF6692\",\"#B6E880\",\"#FF97FF\",\"#FECB52\"],\"font\":{\"color\":\"#2a3f5f\"},\"hovermode\":\"closest\",\"hoverlabel\":{\"align\":\"left\"},\"paper_bgcolor\":\"white\",\"plot_bgcolor\":\"#E5ECF6\",\"polar\":{\"bgcolor\":\"#E5ECF6\",\"angularaxis\":{\"gridcolor\":\"white\",\"linecolor\":\"white\",\"ticks\":\"\"},\"radialaxis\":{\"gridcolor\":\"white\",\"linecolor\":\"white\",\"ticks\":\"\"}},\"ternary\":{\"bgcolor\":\"#E5ECF6\",\"aaxis\":{\"gridcolor\":\"white\",\"linecolor\":\"white\",\"ticks\":\"\"},\"baxis\":{\"gridcolor\":\"white\",\"linecolor\":\"white\",\"ticks\":\"\"},\"caxis\":{\"gridcolor\":\"white\",\"linecolor\":\"white\",\"ticks\":\"\"}},\"coloraxis\":{\"colorbar\":{\"outlinewidth\":0,\"ticks\":\"\"}},\"colorscale\":{\"sequential\":[[0.0,\"#0d0887\"],[0.1111111111111111,\"#46039f\"],[0.2222222222222222,\"#7201a8\"],[0.3333333333333333,\"#9c179e\"],[0.4444444444444444,\"#bd3786\"],[0.5555555555555556,\"#d8576b\"],[0.6666666666666666,\"#ed7953\"],[0.7777777777777778,\"#fb9f3a\"],[0.8888888888888888,\"#fdca26\"],[1.0,\"#f0f921\"]],\"sequentialminus\":[[0.0,\"#0d0887\"],[0.1111111111111111,\"#46039f\"],[0.2222222222222222,\"#7201a8\"],[0.3333333333333333,\"#9c179e\"],[0.4444444444444444,\"#bd3786\"],[0.5555555555555556,\"#d8576b\"],[0.6666666666666666,\"#ed7953\"],[0.7777777777777778,\"#fb9f3a\"],[0.8888888888888888,\"#fdca26\"],[1.0,\"#f0f921\"]],\"diverging\":[[0,\"#8e0152\"],[0.1,\"#c51b7d\"],[0.2,\"#de77ae\"],[0.3,\"#f1b6da\"],[0.4,\"#fde0ef\"],[0.5,\"#f7f7f7\"],[0.6,\"#e6f5d0\"],[0.7,\"#b8e186\"],[0.8,\"#7fbc41\"],[0.9,\"#4d9221\"],[1,\"#276419\"]]},\"xaxis\":{\"gridcolor\":\"white\",\"linecolor\":\"white\",\"ticks\":\"\",\"title\":{\"standoff\":15},\"zerolinecolor\":\"white\",\"automargin\":true,\"zerolinewidth\":2},\"yaxis\":{\"gridcolor\":\"white\",\"linecolor\":\"white\",\"ticks\":\"\",\"title\":{\"standoff\":15},\"zerolinecolor\":\"white\",\"automargin\":true,\"zerolinewidth\":2},\"scene\":{\"xaxis\":{\"backgroundcolor\":\"#E5ECF6\",\"gridcolor\":\"white\",\"linecolor\":\"white\",\"showbackground\":true,\"ticks\":\"\",\"zerolinecolor\":\"white\",\"gridwidth\":2},\"yaxis\":{\"backgroundcolor\":\"#E5ECF6\",\"gridcolor\":\"white\",\"linecolor\":\"white\",\"showbackground\":true,\"ticks\":\"\",\"zerolinecolor\":\"white\",\"gridwidth\":2},\"zaxis\":{\"backgroundcolor\":\"#E5ECF6\",\"gridcolor\":\"white\",\"linecolor\":\"white\",\"showbackground\":true,\"ticks\":\"\",\"zerolinecolor\":\"white\",\"gridwidth\":2}},\"shapedefaults\":{\"line\":{\"color\":\"#2a3f5f\"}},\"annotationdefaults\":{\"arrowcolor\":\"#2a3f5f\",\"arrowhead\":0,\"arrowwidth\":1},\"geo\":{\"bgcolor\":\"white\",\"landcolor\":\"#E5ECF6\",\"subunitcolor\":\"white\",\"showland\":true,\"showlakes\":true,\"lakecolor\":\"white\"},\"title\":{\"x\":0.05},\"mapbox\":{\"style\":\"light\"}}},\"legend\":{\"tracegroupgap\":0,\"title\":{\"text\":\"level of education\"}},\"margin\":{\"t\":60},\"title\":{\"text\":\" Parental Level of Education Breakdown\",\"x\":0.5}},                        {\"responsive\": true}                    ).then(function(){\n",
       "                            \n",
       "var gd = document.getElementById('168a9c14-978a-4281-899b-cc63dc72ead9');\n",
       "var x = new MutationObserver(function (mutations, observer) {{\n",
       "        var display = window.getComputedStyle(gd).display;\n",
       "        if (!display || display === 'none') {{\n",
       "            console.log([gd, 'removed!']);\n",
       "            Plotly.purge(gd);\n",
       "            observer.disconnect();\n",
       "        }}\n",
       "}});\n",
       "\n",
       "// Listen for the removal of the full notebook cells\n",
       "var notebookContainer = gd.closest('#notebook-container');\n",
       "if (notebookContainer) {{\n",
       "    x.observe(notebookContainer, {childList: true});\n",
       "}}\n",
       "\n",
       "// Listen for the clearing of the current output cell\n",
       "var outputEl = gd.closest('.output');\n",
       "if (outputEl) {{\n",
       "    x.observe(outputEl, {childList: true});\n",
       "}}\n",
       "\n",
       "                        })                };                });            </script>        </div>"
      ]
     },
     "metadata": {},
     "output_type": "display_data"
    }
   ],
   "source": [
    "fig = px.pie(DF_ruben,\n",
    "             names='parental level of education')\n",
    "fig.update_layout(title=\" Parental Level of Education Breakdown\",\n",
    "                  title_x=0.5,\n",
    "                  legend_title=\"level of education\")\n",
    "fig.show()"
   ]
  },
  {
   "cell_type": "markdown",
   "id": "47c3ed84-a82a-44d5-b216-c8a53c13037d",
   "metadata": {},
   "source": [
    "In this we can see that the majority of the parents have some sort of college education but as the level of degree rises, their margins shrink. This is very imporant as we will use this variable as a focal point in the data exploration"
   ]
  },
  {
   "cell_type": "code",
   "execution_count": 164,
   "id": "823eb40c-18bf-492a-a84c-061e7af62b5e",
   "metadata": {},
   "outputs": [],
   "source": [
    "order =  [\"some high school\",\"high school\", \"some college\", \"associate's degree\",\"bachelor's degree\",\"master's degree\"]\n",
    "DF_ruben['total score'] = DF_ruben['reading score'] + DF_ruben['writing score'] + DF_ruben['writing score']"
   ]
  },
  {
   "cell_type": "code",
   "execution_count": 166,
   "id": "7126b27e-88d5-40a1-bb3d-e103a3808c3c",
   "metadata": {},
   "outputs": [
    {
     "data": {
      "application/vnd.plotly.v1+json": {
       "config": {
        "plotlyServerURL": "https://plot.ly"
       },
       "data": [
        {
         "alignmentgroup": "True",
         "hovertemplate": "parental level of education=%{x}<br>total score=%{y}<extra></extra>",
         "legendgroup": "",
         "marker": {
          "color": "#636efa"
         },
         "name": "",
         "notched": false,
         "offsetgroup": "",
         "orientation": "v",
         "showlegend": false,
         "type": "box",
         "x": [
          "bachelor's degree",
          "some college",
          "master's degree",
          "associate's degree",
          "some college",
          "associate's degree",
          "some college",
          "some college",
          "high school",
          "high school",
          "associate's degree",
          "associate's degree",
          "high school",
          "some college",
          "master's degree",
          "some high school",
          "high school",
          "some high school",
          "master's degree",
          "associate's degree",
          "high school",
          "some college",
          "some college",
          "some high school",
          "bachelor's degree",
          "master's degree",
          "some college",
          "bachelor's degree",
          "high school",
          "master's degree",
          "some college",
          "some college",
          "master's degree",
          "some college",
          "some college",
          "associate's degree",
          "associate's degree",
          "some high school",
          "associate's degree",
          "associate's degree",
          "associate's degree",
          "associate's degree",
          "associate's degree",
          "some college",
          "associate's degree",
          "associate's degree",
          "associate's degree",
          "high school",
          "associate's degree",
          "high school",
          "some college",
          "associate's degree",
          "some college",
          "high school",
          "some high school",
          "high school",
          "associate's degree",
          "associate's degree",
          "some college",
          "some high school",
          "bachelor's degree",
          "some high school",
          "associate's degree",
          "associate's degree",
          "some high school",
          "some high school",
          "some high school",
          "some college",
          "associate's degree",
          "associate's degree",
          "some college",
          "some college",
          "associate's degree",
          "some high school",
          "some high school",
          "associate's degree",
          "some high school",
          "bachelor's degree",
          "some high school",
          "master's degree",
          "associate's degree",
          "high school",
          "some college",
          "associate's degree",
          "high school",
          "some college",
          "some college",
          "associate's degree",
          "some college",
          "some high school",
          "bachelor's degree",
          "high school",
          "high school",
          "associate's degree",
          "some college",
          "associate's degree",
          "some high school",
          "some college",
          "some college",
          "bachelor's degree",
          "some college",
          "bachelor's degree",
          "associate's degree",
          "high school",
          "some college",
          "some college",
          "master's degree",
          "associate's degree",
          "associate's degree",
          "some high school",
          "associate's degree",
          "high school",
          "associate's degree",
          "some college",
          "bachelor's degree",
          "high school",
          "bachelor's degree",
          "bachelor's degree",
          "some high school",
          "some college",
          "bachelor's degree",
          "associate's degree",
          "some college",
          "high school",
          "some college",
          "high school",
          "some high school",
          "some college",
          "master's degree",
          "bachelor's degree",
          "master's degree",
          "some high school",
          "some college",
          "some college",
          "bachelor's degree",
          "bachelor's degree",
          "some high school",
          "high school",
          "associate's degree",
          "some college",
          "some high school",
          "some college",
          "some college",
          "high school",
          "some college",
          "some college",
          "some high school",
          "associate's degree",
          "bachelor's degree",
          "associate's degree",
          "some high school",
          "bachelor's degree",
          "associate's degree",
          "bachelor's degree",
          "some high school",
          "some college",
          "high school",
          "some college",
          "associate's degree",
          "associate's degree",
          "associate's degree",
          "some college",
          "master's degree",
          "high school",
          "master's degree",
          "bachelor's degree",
          "high school",
          "master's degree",
          "high school",
          "some college",
          "high school",
          "some high school",
          "some college",
          "associate's degree",
          "bachelor's degree",
          "master's degree",
          "high school",
          "associate's degree",
          "master's degree",
          "some high school",
          "master's degree",
          "some college",
          "high school",
          "associate's degree",
          "some high school",
          "associate's degree",
          "high school",
          "some high school",
          "some high school",
          "bachelor's degree",
          "associate's degree",
          "some college",
          "some high school",
          "some college",
          "master's degree",
          "associate's degree",
          "some high school",
          "high school",
          "some college",
          "bachelor's degree",
          "associate's degree",
          "some college",
          "associate's degree",
          "associate's degree",
          "some college",
          "some high school",
          "bachelor's degree",
          "high school",
          "some college",
          "some college",
          "some high school",
          "some college",
          "high school",
          "associate's degree",
          "high school",
          "some high school",
          "associate's degree",
          "high school",
          "high school",
          "some high school",
          "high school",
          "associate's degree",
          "some high school",
          "some high school",
          "associate's degree",
          "master's degree",
          "some college",
          "high school",
          "some high school",
          "some college",
          "some college",
          "associate's degree",
          "bachelor's degree",
          "some high school",
          "bachelor's degree",
          "associate's degree",
          "bachelor's degree",
          "some high school",
          "some college",
          "associate's degree",
          "high school",
          "bachelor's degree",
          "high school",
          "some college",
          "some high school",
          "associate's degree",
          "associate's degree",
          "high school",
          "high school",
          "high school",
          "some high school",
          "some college",
          "some high school",
          "master's degree",
          "high school",
          "some college",
          "associate's degree",
          "associate's degree",
          "some college",
          "master's degree",
          "some high school",
          "some college",
          "some high school",
          "high school",
          "high school",
          "some high school",
          "bachelor's degree",
          "high school",
          "associate's degree",
          "some college",
          "bachelor's degree",
          "some college",
          "associate's degree",
          "some college",
          "some college",
          "bachelor's degree",
          "some high school",
          "high school",
          "some high school",
          "bachelor's degree",
          "high school",
          "high school",
          "bachelor's degree",
          "some college",
          "some high school",
          "associate's degree",
          "associate's degree",
          "some high school",
          "bachelor's degree",
          "some high school",
          "associate's degree",
          "some high school",
          "some high school",
          "bachelor's degree",
          "high school",
          "associate's degree",
          "some high school",
          "associate's degree",
          "high school",
          "associate's degree",
          "some college",
          "some high school",
          "associate's degree",
          "associate's degree",
          "associate's degree",
          "some college",
          "some college",
          "some high school",
          "associate's degree",
          "high school",
          "associate's degree",
          "bachelor's degree",
          "bachelor's degree",
          "associate's degree",
          "bachelor's degree",
          "high school",
          "master's degree",
          "associate's degree",
          "bachelor's degree",
          "associate's degree",
          "high school",
          "high school",
          "some college",
          "some high school",
          "high school",
          "some college",
          "some college",
          "some college",
          "associate's degree",
          "some high school",
          "high school",
          "associate's degree",
          "associate's degree",
          "associate's degree",
          "bachelor's degree",
          "some college",
          "some high school",
          "associate's degree",
          "some high school",
          "some high school",
          "high school",
          "high school",
          "high school",
          "associate's degree",
          "some college",
          "high school",
          "some college",
          "bachelor's degree",
          "high school",
          "associate's degree",
          "bachelor's degree",
          "some college",
          "some college",
          "associate's degree",
          "some college",
          "bachelor's degree",
          "associate's degree",
          "some college",
          "some college",
          "some college",
          "high school",
          "some high school",
          "some college",
          "some high school",
          "some college",
          "bachelor's degree",
          "high school",
          "bachelor's degree",
          "some high school",
          "some high school",
          "some college",
          "some college",
          "some high school",
          "some college",
          "bachelor's degree",
          "associate's degree",
          "some high school",
          "master's degree",
          "some high school",
          "bachelor's degree",
          "associate's degree",
          "associate's degree",
          "master's degree",
          "some high school",
          "some high school",
          "some college",
          "bachelor's degree",
          "associate's degree",
          "high school",
          "master's degree",
          "some high school",
          "some college",
          "some college",
          "associate's degree",
          "some high school",
          "high school",
          "high school",
          "associate's degree",
          "some high school",
          "some high school",
          "some high school",
          "some college",
          "some college",
          "high school",
          "high school",
          "some high school",
          "associate's degree",
          "associate's degree",
          "high school",
          "associate's degree",
          "master's degree",
          "some college",
          "associate's degree",
          "some high school",
          "bachelor's degree",
          "high school",
          "bachelor's degree",
          "associate's degree",
          "some college",
          "high school",
          "associate's degree",
          "high school",
          "master's degree",
          "some high school",
          "some college",
          "some college",
          "bachelor's degree",
          "some high school",
          "some high school",
          "some high school",
          "associate's degree",
          "high school",
          "high school",
          "some high school",
          "some high school",
          "some college",
          "associate's degree",
          "associate's degree",
          "high school",
          "some high school",
          "some college",
          "high school",
          "some high school",
          "associate's degree",
          "some high school",
          "some high school",
          "some college",
          "high school",
          "high school",
          "associate's degree",
          "some college",
          "some college",
          "associate's degree",
          "some college",
          "associate's degree",
          "bachelor's degree",
          "bachelor's degree",
          "associate's degree",
          "bachelor's degree",
          "high school",
          "bachelor's degree",
          "some college",
          "some college",
          "some college",
          "bachelor's degree",
          "some college",
          "associate's degree",
          "high school",
          "high school",
          "some college",
          "associate's degree",
          "high school",
          "associate's degree",
          "some high school",
          "associate's degree",
          "bachelor's degree",
          "bachelor's degree",
          "associate's degree",
          "master's degree",
          "associate's degree",
          "high school",
          "associate's degree",
          "some college",
          "high school",
          "associate's degree",
          "high school",
          "some college",
          "associate's degree",
          "some high school",
          "associate's degree",
          "associate's degree",
          "associate's degree",
          "some college",
          "bachelor's degree",
          "high school",
          "high school",
          "some college",
          "some college",
          "some high school",
          "some college",
          "master's degree",
          "associate's degree",
          "some college",
          "associate's degree",
          "master's degree",
          "some high school",
          "high school",
          "bachelor's degree",
          "master's degree",
          "bachelor's degree",
          "some college",
          "some high school",
          "some high school",
          "some high school",
          "master's degree",
          "some high school",
          "some college",
          "some college",
          "some high school",
          "high school",
          "some college",
          "associate's degree",
          "bachelor's degree",
          "master's degree",
          "high school",
          "some college",
          "some high school",
          "high school",
          "bachelor's degree",
          "associate's degree",
          "associate's degree",
          "some high school",
          "associate's degree",
          "associate's degree",
          "high school",
          "bachelor's degree",
          "associate's degree",
          "high school",
          "bachelor's degree",
          "associate's degree",
          "high school",
          "associate's degree",
          "associate's degree",
          "associate's degree",
          "master's degree",
          "some high school",
          "some high school",
          "high school",
          "high school",
          "master's degree",
          "some high school",
          "bachelor's degree",
          "associate's degree",
          "some college",
          "associate's degree",
          "some college",
          "associate's degree",
          "master's degree",
          "associate's degree",
          "some high school",
          "some college",
          "some college",
          "bachelor's degree",
          "some college",
          "bachelor's degree",
          "associate's degree",
          "bachelor's degree",
          "master's degree",
          "high school",
          "bachelor's degree",
          "some college",
          "bachelor's degree",
          "some college",
          "high school",
          "high school",
          "associate's degree",
          "some college",
          "high school",
          "some college",
          "master's degree",
          "some high school",
          "some high school",
          "bachelor's degree",
          "associate's degree",
          "some college",
          "associate's degree",
          "high school",
          "bachelor's degree",
          "some college",
          "some high school",
          "some college",
          "some high school",
          "bachelor's degree",
          "high school",
          "bachelor's degree",
          "bachelor's degree",
          "high school",
          "some high school",
          "high school",
          "some high school",
          "master's degree",
          "high school",
          "some college",
          "high school",
          "master's degree",
          "some high school",
          "associate's degree",
          "master's degree",
          "some college",
          "associate's degree",
          "some college",
          "some college",
          "bachelor's degree",
          "associate's degree",
          "associate's degree",
          "high school",
          "bachelor's degree",
          "bachelor's degree",
          "master's degree",
          "associate's degree",
          "high school",
          "bachelor's degree",
          "high school",
          "some college",
          "bachelor's degree",
          "some college",
          "associate's degree",
          "associate's degree",
          "some college",
          "some high school",
          "some college",
          "high school",
          "bachelor's degree",
          "high school",
          "some high school",
          "high school",
          "high school",
          "some high school",
          "some college",
          "associate's degree",
          "high school",
          "associate's degree",
          "some high school",
          "high school",
          "high school",
          "bachelor's degree",
          "associate's degree",
          "high school",
          "high school",
          "some college",
          "some high school",
          "high school",
          "some college",
          "associate's degree",
          "some high school",
          "some college",
          "associate's degree",
          "some high school",
          "associate's degree",
          "associate's degree",
          "some college",
          "some high school",
          "some college",
          "high school",
          "associate's degree",
          "some high school",
          "some college",
          "bachelor's degree",
          "some college",
          "associate's degree",
          "high school",
          "associate's degree",
          "some college",
          "associate's degree",
          "high school",
          "some college",
          "some college",
          "some high school",
          "associate's degree",
          "some college",
          "high school",
          "high school",
          "high school",
          "some high school",
          "some college",
          "master's degree",
          "some college",
          "associate's degree",
          "high school",
          "some college",
          "associate's degree",
          "associate's degree",
          "bachelor's degree",
          "associate's degree",
          "some high school",
          "some college",
          "associate's degree",
          "bachelor's degree",
          "associate's degree",
          "high school",
          "bachelor's degree",
          "some high school",
          "bachelor's degree",
          "some college",
          "some high school",
          "bachelor's degree",
          "high school",
          "some college",
          "high school",
          "associate's degree",
          "some college",
          "some high school",
          "some college",
          "master's degree",
          "some high school",
          "associate's degree",
          "associate's degree",
          "associate's degree",
          "high school",
          "associate's degree",
          "some college",
          "some high school",
          "some high school",
          "high school",
          "some college",
          "some college",
          "associate's degree",
          "some high school",
          "high school",
          "some college",
          "associate's degree",
          "some high school",
          "some college",
          "some high school",
          "some college",
          "master's degree",
          "associate's degree",
          "some college",
          "associate's degree",
          "high school",
          "bachelor's degree",
          "associate's degree",
          "high school",
          "associate's degree",
          "some college",
          "associate's degree",
          "high school",
          "some college",
          "bachelor's degree",
          "some college",
          "some high school",
          "some college",
          "master's degree",
          "some high school",
          "associate's degree",
          "associate's degree",
          "some college",
          "bachelor's degree",
          "some college",
          "some college",
          "high school",
          "some high school",
          "some high school",
          "high school",
          "some college",
          "high school",
          "high school",
          "high school",
          "some high school",
          "some college",
          "high school",
          "bachelor's degree",
          "some high school",
          "bachelor's degree",
          "some college",
          "some high school",
          "high school",
          "some college",
          "some college",
          "associate's degree",
          "associate's degree",
          "master's degree",
          "high school",
          "associate's degree",
          "bachelor's degree",
          "some high school",
          "some high school",
          "some college",
          "associate's degree",
          "master's degree",
          "high school",
          "some college",
          "high school",
          "some high school",
          "high school",
          "associate's degree",
          "high school",
          "associate's degree",
          "some college",
          "associate's degree",
          "some high school",
          "some high school",
          "associate's degree",
          "some college",
          "some college",
          "some college",
          "some college",
          "high school",
          "high school",
          "bachelor's degree",
          "some high school",
          "high school",
          "master's degree",
          "some high school",
          "high school",
          "some high school",
          "bachelor's degree",
          "bachelor's degree",
          "high school",
          "some high school",
          "some high school",
          "bachelor's degree",
          "some college",
          "high school",
          "some high school",
          "high school",
          "associate's degree",
          "some high school",
          "some high school",
          "some high school",
          "some college",
          "bachelor's degree",
          "bachelor's degree",
          "high school",
          "some college",
          "high school",
          "high school",
          "high school",
          "associate's degree",
          "associate's degree",
          "high school",
          "some high school",
          "high school",
          "some college",
          "some high school",
          "master's degree",
          "master's degree",
          "high school",
          "high school",
          "associate's degree",
          "master's degree",
          "high school",
          "some college",
          "some high school",
          "some high school",
          "bachelor's degree",
          "some college",
          "bachelor's degree",
          "high school",
          "associate's degree",
          "associate's degree",
          "master's degree",
          "bachelor's degree",
          "some college",
          "associate's degree",
          "some college",
          "high school",
          "associate's degree",
          "associate's degree",
          "associate's degree",
          "high school",
          "some college",
          "associate's degree",
          "associate's degree",
          "bachelor's degree",
          "some college",
          "some college",
          "some high school",
          "some high school",
          "associate's degree",
          "bachelor's degree",
          "bachelor's degree",
          "high school",
          "bachelor's degree",
          "associate's degree",
          "associate's degree",
          "associate's degree",
          "high school",
          "some college",
          "high school",
          "some college",
          "associate's degree",
          "master's degree",
          "some high school",
          "associate's degree",
          "some high school",
          "high school",
          "some high school",
          "associate's degree",
          "some high school",
          "master's degree",
          "master's degree",
          "high school",
          "bachelor's degree",
          "some high school",
          "some college",
          "high school",
          "some college",
          "bachelor's degree",
          "bachelor's degree",
          "bachelor's degree",
          "some college",
          "bachelor's degree",
          "bachelor's degree",
          "associate's degree",
          "some college",
          "bachelor's degree",
          "high school",
          "associate's degree",
          "some college",
          "high school",
          "high school",
          "high school",
          "associate's degree",
          "high school",
          "some high school",
          "associate's degree",
          "high school",
          "associate's degree",
          "some high school",
          "some college",
          "some college",
          "associate's degree",
          "bachelor's degree",
          "associate's degree",
          "some college",
          "associate's degree",
          "high school",
          "some college",
          "some high school",
          "master's degree",
          "master's degree",
          "high school",
          "some high school",
          "high school",
          "associate's degree",
          "high school",
          "some college",
          "some high school",
          "high school",
          "high school",
          "some college",
          "some high school",
          "high school",
          "some college",
          "associate's degree",
          "some college",
          "master's degree",
          "high school",
          "high school",
          "some college",
          "some high school",
          "associate's degree",
          "some high school",
          "some college",
          "some college",
          "some high school",
          "some college",
          "associate's degree",
          "bachelor's degree",
          "bachelor's degree",
          "some high school",
          "high school",
          "some college",
          "some college",
          "some college",
          "some college",
          "associate's degree",
          "high school",
          "associate's degree",
          "high school",
          "some high school",
          "some high school",
          "some college",
          "some high school",
          "high school",
          "associate's degree",
          "some high school",
          "some high school",
          "some college",
          "high school",
          "some high school",
          "associate's degree",
          "bachelor's degree",
          "high school",
          "master's degree",
          "high school",
          "high school",
          "some college",
          "some college"
         ],
         "x0": " ",
         "xaxis": "x",
         "y": [
          220,
          266,
          281,
          145,
          228,
          239,
          279,
          121,
          198,
          160,
          158,
          138,
          227,
          212,
          169,
          231,
          261,
          88,
          134,
          180,
          195,
          215,
          160,
          219,
          231,
          218,
          164,
          219,
          200,
          220,
          222,
          187,
          202,
          118,
          251,
          239,
          247,
          182,
          266,
          170,
          169,
          209,
          188,
          197,
          164,
          168,
          189,
          223,
          226,
          248,
          151,
          205,
          128,
          228,
          258,
          127,
          257,
          153,
          175,
          37,
          218,
          107,
          171,
          222,
          176,
          186,
          111,
          220,
          170,
          178,
          209,
          181,
          147,
          169,
          131,
          117,
          70,
          240,
          218,
          204,
          149,
          135,
          155,
          190,
          107,
          244,
          259,
          219,
          204,
          250,
          220,
          106,
          221,
          145,
          270,
          245,
          190,
          212,
          191,
          191,
          201,
          222,
          269,
          138,
          266,
          211,
          300,
          191,
          216,
          208,
          285,
          153,
          147,
          166,
          300,
          225,
          249,
          240,
          185,
          199,
          270,
          273,
          279,
          169,
          226,
          267,
          202,
          225,
          230,
          151,
          248,
          117,
          214,
          249,
          229,
          151,
          136,
          167,
          200,
          199,
          214,
          190,
          163,
          137,
          229,
          105,
          234,
          200,
          237,
          286,
          205,
          203,
          202,
          143,
          189,
          265,
          230,
          180,
          260,
          190,
          226,
          258,
          157,
          151,
          274,
          300,
          153,
          232,
          239,
          215,
          221,
          244,
          248,
          207,
          159,
          265,
          170,
          231,
          194,
          300,
          218,
          196,
          144,
          209,
          150,
          197,
          206,
          202,
          142,
          262,
          203,
          241,
          196,
          186,
          254,
          159,
          199,
          158,
          163,
          231,
          256,
          235,
          215,
          205,
          125,
          227,
          186,
          232,
          233,
          193,
          237,
          82,
          182,
          163,
          253,
          233,
          262,
          120,
          217,
          168,
          216,
          231,
          189,
          230,
          212,
          164,
          214,
          158,
          200,
          283,
          196,
          127,
          252,
          243,
          250,
          229,
          200,
          208,
          154,
          240,
          200,
          249,
          162,
          137,
          212,
          218,
          224,
          206,
          188,
          166,
          147,
          249,
          210,
          224,
          156,
          213,
          209,
          231,
          231,
          243,
          233,
          235,
          152,
          273,
          209,
          124,
          237,
          226,
          282,
          216,
          185,
          133,
          169,
          212,
          237,
          224,
          278,
          213,
          246,
          170,
          136,
          140,
          247,
          234,
          138,
          246,
          258,
          253,
          227,
          230,
          206,
          213,
          174,
          223,
          237,
          182,
          127,
          210,
          146,
          237,
          240,
          158,
          246,
          204,
          241,
          205,
          249,
          140,
          205,
          161,
          236,
          174,
          197,
          205,
          214,
          196,
          264,
          228,
          209,
          191,
          247,
          244,
          241,
          159,
          132,
          278,
          185,
          61,
          229,
          157,
          182,
          107,
          162,
          240,
          283,
          200,
          208,
          137,
          92,
          175,
          165,
          199,
          224,
          206,
          207,
          230,
          175,
          284,
          206,
          226,
          203,
          161,
          238,
          172,
          211,
          212,
          183,
          204,
          184,
          268,
          180,
          240,
          174,
          98,
          176,
          178,
          164,
          188,
          180,
          254,
          219,
          213,
          218,
          289,
          216,
          125,
          254,
          295,
          237,
          188,
          252,
          290,
          223,
          139,
          129,
          226,
          213,
          212,
          192,
          220,
          185,
          222,
          201,
          166,
          228,
          127,
          193,
          279,
          177,
          167,
          188,
          129,
          175,
          299,
          183,
          209,
          191,
          234,
          169,
          254,
          219,
          239,
          186,
          201,
          230,
          211,
          210,
          207,
          183,
          164,
          279,
          186,
          192,
          245,
          107,
          191,
          255,
          201,
          165,
          171,
          184,
          212,
          166,
          159,
          198,
          154,
          196,
          212,
          158,
          252,
          239,
          241,
          211,
          235,
          228,
          228,
          186,
          241,
          130,
          217,
          255,
          286,
          225,
          156,
          185,
          150,
          267,
          150,
          300,
          201,
          168,
          144,
          222,
          272,
          182,
          269,
          107,
          197,
          258,
          226,
          265,
          217,
          254,
          189,
          272,
          242,
          194,
          212,
          204,
          205,
          207,
          171,
          190,
          144,
          160,
          216,
          159,
          223,
          167,
          246,
          237,
          204,
          263,
          268,
          200,
          196,
          152,
          230,
          205,
          215,
          243,
          271,
          169,
          273,
          167,
          242,
          202,
          167,
          232,
          266,
          217,
          136,
          153,
          185,
          285,
          257,
          257,
          220,
          234,
          236,
          153,
          254,
          172,
          159,
          150,
          178,
          181,
          139,
          135,
          214,
          213,
          160,
          177,
          276,
          205,
          249,
          176,
          190,
          208,
          264,
          205,
          242,
          235,
          273,
          195,
          243,
          294,
          195,
          195,
          210,
          206,
          266,
          148,
          190,
          125,
          105,
          230,
          199,
          210,
          190,
          233,
          222,
          274,
          240,
          143,
          133,
          300,
          227,
          142,
          202,
          215,
          280,
          174,
          194,
          223,
          161,
          155,
          269,
          172,
          197,
          289,
          239,
          229,
          235,
          231,
          228,
          219,
          187,
          194,
          196,
          165,
          162,
          196,
          222,
          298,
          223,
          54,
          150,
          223,
          244,
          186,
          89,
          238,
          159,
          269,
          196,
          248,
          166,
          188,
          193,
          186,
          191,
          272,
          225,
          279,
          212,
          121,
          244,
          249,
          209,
          169,
          175,
          155,
          268,
          182,
          295,
          196,
          140,
          149,
          161,
          204,
          190,
          236,
          258,
          244,
          202,
          242,
          268,
          224,
          220,
          154,
          268,
          239,
          239,
          185,
          243,
          200,
          198,
          163,
          241,
          162,
          232,
          282,
          218,
          237,
          201,
          195,
          188,
          176,
          257,
          223,
          192,
          209,
          203,
          189,
          180,
          215,
          259,
          196,
          226,
          212,
          157,
          230,
          252,
          233,
          196,
          230,
          234,
          231,
          181,
          220,
          188,
          163,
          128,
          202,
          299,
          211,
          224,
          146,
          256,
          159,
          232,
          236,
          223,
          175,
          261,
          262,
          212,
          236,
          184,
          245,
          211,
          258,
          198,
          191,
          202,
          106,
          163,
          245,
          177,
          264,
          255,
          298,
          249,
          218,
          268,
          222,
          294,
          224,
          233,
          212,
          177,
          266,
          132,
          125,
          216,
          229,
          165,
          260,
          113,
          237,
          132,
          277,
          135,
          172,
          175,
          247,
          212,
          217,
          170,
          217,
          169,
          248,
          217,
          149,
          227,
          217,
          200,
          178,
          256,
          205,
          202,
          227,
          260,
          161,
          279,
          162,
          212,
          189,
          231,
          200,
          166,
          253,
          188,
          181,
          216,
          229,
          182,
          221,
          174,
          146,
          221,
          211,
          236,
          185,
          168,
          212,
          130,
          243,
          249,
          170,
          258,
          249,
          183,
          239,
          139,
          233,
          102,
          187,
          187,
          182,
          206,
          212,
          238,
          154,
          214,
          210,
          246,
          168,
          169,
          209,
          226,
          284,
          259,
          232,
          229,
          224,
          125,
          213,
          156,
          103,
          145,
          198,
          236,
          246,
          260,
          187,
          222,
          208,
          267,
          274,
          276,
          154,
          251,
          162,
          183,
          208,
          221,
          248,
          160,
          174,
          264,
          176,
          260,
          140,
          212,
          178,
          240,
          163,
          223,
          144,
          160,
          116,
          229,
          193,
          253,
          255,
          154,
          208,
          213,
          201,
          194,
          271,
          189,
          174,
          289,
          198,
          241,
          141,
          217,
          168,
          260,
          118,
          231,
          275,
          258,
          157,
          124,
          218,
          153,
          152,
          224,
          240,
          254,
          184,
          196,
          250,
          169,
          232,
          224,
          196,
          210,
          215,
          134,
          159,
          236,
          290,
          190,
          213,
          147,
          267,
          262,
          213,
          224,
          200,
          110,
          83,
          236,
          180,
          242,
          262,
          226,
          130,
          300,
          252,
          231,
          150,
          266,
          219,
          204,
          138,
          248,
          193,
          194,
          171,
          202,
          300,
          165,
          237,
          278,
          204,
          145,
          198,
          195,
          208,
          184,
          160,
          203,
          131,
          158,
          214,
          181,
          217,
          223,
          267,
          179,
          163,
          172,
          251,
          206,
          210,
          283,
          194,
          184,
          190,
          177,
          242,
          178,
          154,
          221,
          215,
          243,
          218,
          160,
          207,
          181,
          249,
          300,
          181,
          223,
          186,
          160,
          300,
          226,
          173,
          214,
          196,
          183,
          210,
          244,
          300,
          210,
          170,
          187,
          197,
          236,
          182,
          181,
          137,
          283,
          70,
          234,
          257,
          269,
          239,
          159,
          161,
          227,
          135,
          252,
          231,
          238,
          228,
          220,
          187,
          289,
          165,
          201,
          232,
          258
         ],
         "y0": " ",
         "yaxis": "y"
        }
       ],
       "layout": {
        "autosize": true,
        "boxmode": "group",
        "legend": {
         "tracegroupgap": 0
        },
        "template": {
         "data": {
          "bar": [
           {
            "error_x": {
             "color": "#2a3f5f"
            },
            "error_y": {
             "color": "#2a3f5f"
            },
            "marker": {
             "line": {
              "color": "#E5ECF6",
              "width": 0.5
             },
             "pattern": {
              "fillmode": "overlay",
              "size": 10,
              "solidity": 0.2
             }
            },
            "type": "bar"
           }
          ],
          "barpolar": [
           {
            "marker": {
             "line": {
              "color": "#E5ECF6",
              "width": 0.5
             },
             "pattern": {
              "fillmode": "overlay",
              "size": 10,
              "solidity": 0.2
             }
            },
            "type": "barpolar"
           }
          ],
          "carpet": [
           {
            "aaxis": {
             "endlinecolor": "#2a3f5f",
             "gridcolor": "white",
             "linecolor": "white",
             "minorgridcolor": "white",
             "startlinecolor": "#2a3f5f"
            },
            "baxis": {
             "endlinecolor": "#2a3f5f",
             "gridcolor": "white",
             "linecolor": "white",
             "minorgridcolor": "white",
             "startlinecolor": "#2a3f5f"
            },
            "type": "carpet"
           }
          ],
          "choropleth": [
           {
            "colorbar": {
             "outlinewidth": 0,
             "ticks": ""
            },
            "type": "choropleth"
           }
          ],
          "contour": [
           {
            "colorbar": {
             "outlinewidth": 0,
             "ticks": ""
            },
            "colorscale": [
             [
              0,
              "#0d0887"
             ],
             [
              0.1111111111111111,
              "#46039f"
             ],
             [
              0.2222222222222222,
              "#7201a8"
             ],
             [
              0.3333333333333333,
              "#9c179e"
             ],
             [
              0.4444444444444444,
              "#bd3786"
             ],
             [
              0.5555555555555556,
              "#d8576b"
             ],
             [
              0.6666666666666666,
              "#ed7953"
             ],
             [
              0.7777777777777778,
              "#fb9f3a"
             ],
             [
              0.8888888888888888,
              "#fdca26"
             ],
             [
              1,
              "#f0f921"
             ]
            ],
            "type": "contour"
           }
          ],
          "contourcarpet": [
           {
            "colorbar": {
             "outlinewidth": 0,
             "ticks": ""
            },
            "type": "contourcarpet"
           }
          ],
          "heatmap": [
           {
            "colorbar": {
             "outlinewidth": 0,
             "ticks": ""
            },
            "colorscale": [
             [
              0,
              "#0d0887"
             ],
             [
              0.1111111111111111,
              "#46039f"
             ],
             [
              0.2222222222222222,
              "#7201a8"
             ],
             [
              0.3333333333333333,
              "#9c179e"
             ],
             [
              0.4444444444444444,
              "#bd3786"
             ],
             [
              0.5555555555555556,
              "#d8576b"
             ],
             [
              0.6666666666666666,
              "#ed7953"
             ],
             [
              0.7777777777777778,
              "#fb9f3a"
             ],
             [
              0.8888888888888888,
              "#fdca26"
             ],
             [
              1,
              "#f0f921"
             ]
            ],
            "type": "heatmap"
           }
          ],
          "heatmapgl": [
           {
            "colorbar": {
             "outlinewidth": 0,
             "ticks": ""
            },
            "colorscale": [
             [
              0,
              "#0d0887"
             ],
             [
              0.1111111111111111,
              "#46039f"
             ],
             [
              0.2222222222222222,
              "#7201a8"
             ],
             [
              0.3333333333333333,
              "#9c179e"
             ],
             [
              0.4444444444444444,
              "#bd3786"
             ],
             [
              0.5555555555555556,
              "#d8576b"
             ],
             [
              0.6666666666666666,
              "#ed7953"
             ],
             [
              0.7777777777777778,
              "#fb9f3a"
             ],
             [
              0.8888888888888888,
              "#fdca26"
             ],
             [
              1,
              "#f0f921"
             ]
            ],
            "type": "heatmapgl"
           }
          ],
          "histogram": [
           {
            "marker": {
             "pattern": {
              "fillmode": "overlay",
              "size": 10,
              "solidity": 0.2
             }
            },
            "type": "histogram"
           }
          ],
          "histogram2d": [
           {
            "colorbar": {
             "outlinewidth": 0,
             "ticks": ""
            },
            "colorscale": [
             [
              0,
              "#0d0887"
             ],
             [
              0.1111111111111111,
              "#46039f"
             ],
             [
              0.2222222222222222,
              "#7201a8"
             ],
             [
              0.3333333333333333,
              "#9c179e"
             ],
             [
              0.4444444444444444,
              "#bd3786"
             ],
             [
              0.5555555555555556,
              "#d8576b"
             ],
             [
              0.6666666666666666,
              "#ed7953"
             ],
             [
              0.7777777777777778,
              "#fb9f3a"
             ],
             [
              0.8888888888888888,
              "#fdca26"
             ],
             [
              1,
              "#f0f921"
             ]
            ],
            "type": "histogram2d"
           }
          ],
          "histogram2dcontour": [
           {
            "colorbar": {
             "outlinewidth": 0,
             "ticks": ""
            },
            "colorscale": [
             [
              0,
              "#0d0887"
             ],
             [
              0.1111111111111111,
              "#46039f"
             ],
             [
              0.2222222222222222,
              "#7201a8"
             ],
             [
              0.3333333333333333,
              "#9c179e"
             ],
             [
              0.4444444444444444,
              "#bd3786"
             ],
             [
              0.5555555555555556,
              "#d8576b"
             ],
             [
              0.6666666666666666,
              "#ed7953"
             ],
             [
              0.7777777777777778,
              "#fb9f3a"
             ],
             [
              0.8888888888888888,
              "#fdca26"
             ],
             [
              1,
              "#f0f921"
             ]
            ],
            "type": "histogram2dcontour"
           }
          ],
          "mesh3d": [
           {
            "colorbar": {
             "outlinewidth": 0,
             "ticks": ""
            },
            "type": "mesh3d"
           }
          ],
          "parcoords": [
           {
            "line": {
             "colorbar": {
              "outlinewidth": 0,
              "ticks": ""
             }
            },
            "type": "parcoords"
           }
          ],
          "pie": [
           {
            "automargin": true,
            "type": "pie"
           }
          ],
          "scatter": [
           {
            "fillpattern": {
             "fillmode": "overlay",
             "size": 10,
             "solidity": 0.2
            },
            "type": "scatter"
           }
          ],
          "scatter3d": [
           {
            "line": {
             "colorbar": {
              "outlinewidth": 0,
              "ticks": ""
             }
            },
            "marker": {
             "colorbar": {
              "outlinewidth": 0,
              "ticks": ""
             }
            },
            "type": "scatter3d"
           }
          ],
          "scattercarpet": [
           {
            "marker": {
             "colorbar": {
              "outlinewidth": 0,
              "ticks": ""
             }
            },
            "type": "scattercarpet"
           }
          ],
          "scattergeo": [
           {
            "marker": {
             "colorbar": {
              "outlinewidth": 0,
              "ticks": ""
             }
            },
            "type": "scattergeo"
           }
          ],
          "scattergl": [
           {
            "marker": {
             "colorbar": {
              "outlinewidth": 0,
              "ticks": ""
             }
            },
            "type": "scattergl"
           }
          ],
          "scattermapbox": [
           {
            "marker": {
             "colorbar": {
              "outlinewidth": 0,
              "ticks": ""
             }
            },
            "type": "scattermapbox"
           }
          ],
          "scatterpolar": [
           {
            "marker": {
             "colorbar": {
              "outlinewidth": 0,
              "ticks": ""
             }
            },
            "type": "scatterpolar"
           }
          ],
          "scatterpolargl": [
           {
            "marker": {
             "colorbar": {
              "outlinewidth": 0,
              "ticks": ""
             }
            },
            "type": "scatterpolargl"
           }
          ],
          "scatterternary": [
           {
            "marker": {
             "colorbar": {
              "outlinewidth": 0,
              "ticks": ""
             }
            },
            "type": "scatterternary"
           }
          ],
          "surface": [
           {
            "colorbar": {
             "outlinewidth": 0,
             "ticks": ""
            },
            "colorscale": [
             [
              0,
              "#0d0887"
             ],
             [
              0.1111111111111111,
              "#46039f"
             ],
             [
              0.2222222222222222,
              "#7201a8"
             ],
             [
              0.3333333333333333,
              "#9c179e"
             ],
             [
              0.4444444444444444,
              "#bd3786"
             ],
             [
              0.5555555555555556,
              "#d8576b"
             ],
             [
              0.6666666666666666,
              "#ed7953"
             ],
             [
              0.7777777777777778,
              "#fb9f3a"
             ],
             [
              0.8888888888888888,
              "#fdca26"
             ],
             [
              1,
              "#f0f921"
             ]
            ],
            "type": "surface"
           }
          ],
          "table": [
           {
            "cells": {
             "fill": {
              "color": "#EBF0F8"
             },
             "line": {
              "color": "white"
             }
            },
            "header": {
             "fill": {
              "color": "#C8D4E3"
             },
             "line": {
              "color": "white"
             }
            },
            "type": "table"
           }
          ]
         },
         "layout": {
          "annotationdefaults": {
           "arrowcolor": "#2a3f5f",
           "arrowhead": 0,
           "arrowwidth": 1
          },
          "autotypenumbers": "strict",
          "coloraxis": {
           "colorbar": {
            "outlinewidth": 0,
            "ticks": ""
           }
          },
          "colorscale": {
           "diverging": [
            [
             0,
             "#8e0152"
            ],
            [
             0.1,
             "#c51b7d"
            ],
            [
             0.2,
             "#de77ae"
            ],
            [
             0.3,
             "#f1b6da"
            ],
            [
             0.4,
             "#fde0ef"
            ],
            [
             0.5,
             "#f7f7f7"
            ],
            [
             0.6,
             "#e6f5d0"
            ],
            [
             0.7,
             "#b8e186"
            ],
            [
             0.8,
             "#7fbc41"
            ],
            [
             0.9,
             "#4d9221"
            ],
            [
             1,
             "#276419"
            ]
           ],
           "sequential": [
            [
             0,
             "#0d0887"
            ],
            [
             0.1111111111111111,
             "#46039f"
            ],
            [
             0.2222222222222222,
             "#7201a8"
            ],
            [
             0.3333333333333333,
             "#9c179e"
            ],
            [
             0.4444444444444444,
             "#bd3786"
            ],
            [
             0.5555555555555556,
             "#d8576b"
            ],
            [
             0.6666666666666666,
             "#ed7953"
            ],
            [
             0.7777777777777778,
             "#fb9f3a"
            ],
            [
             0.8888888888888888,
             "#fdca26"
            ],
            [
             1,
             "#f0f921"
            ]
           ],
           "sequentialminus": [
            [
             0,
             "#0d0887"
            ],
            [
             0.1111111111111111,
             "#46039f"
            ],
            [
             0.2222222222222222,
             "#7201a8"
            ],
            [
             0.3333333333333333,
             "#9c179e"
            ],
            [
             0.4444444444444444,
             "#bd3786"
            ],
            [
             0.5555555555555556,
             "#d8576b"
            ],
            [
             0.6666666666666666,
             "#ed7953"
            ],
            [
             0.7777777777777778,
             "#fb9f3a"
            ],
            [
             0.8888888888888888,
             "#fdca26"
            ],
            [
             1,
             "#f0f921"
            ]
           ]
          },
          "colorway": [
           "#636efa",
           "#EF553B",
           "#00cc96",
           "#ab63fa",
           "#FFA15A",
           "#19d3f3",
           "#FF6692",
           "#B6E880",
           "#FF97FF",
           "#FECB52"
          ],
          "font": {
           "color": "#2a3f5f"
          },
          "geo": {
           "bgcolor": "white",
           "lakecolor": "white",
           "landcolor": "#E5ECF6",
           "showlakes": true,
           "showland": true,
           "subunitcolor": "white"
          },
          "hoverlabel": {
           "align": "left"
          },
          "hovermode": "closest",
          "mapbox": {
           "style": "light"
          },
          "paper_bgcolor": "white",
          "plot_bgcolor": "#E5ECF6",
          "polar": {
           "angularaxis": {
            "gridcolor": "white",
            "linecolor": "white",
            "ticks": ""
           },
           "bgcolor": "#E5ECF6",
           "radialaxis": {
            "gridcolor": "white",
            "linecolor": "white",
            "ticks": ""
           }
          },
          "scene": {
           "xaxis": {
            "backgroundcolor": "#E5ECF6",
            "gridcolor": "white",
            "gridwidth": 2,
            "linecolor": "white",
            "showbackground": true,
            "ticks": "",
            "zerolinecolor": "white"
           },
           "yaxis": {
            "backgroundcolor": "#E5ECF6",
            "gridcolor": "white",
            "gridwidth": 2,
            "linecolor": "white",
            "showbackground": true,
            "ticks": "",
            "zerolinecolor": "white"
           },
           "zaxis": {
            "backgroundcolor": "#E5ECF6",
            "gridcolor": "white",
            "gridwidth": 2,
            "linecolor": "white",
            "showbackground": true,
            "ticks": "",
            "zerolinecolor": "white"
           }
          },
          "shapedefaults": {
           "line": {
            "color": "#2a3f5f"
           }
          },
          "ternary": {
           "aaxis": {
            "gridcolor": "white",
            "linecolor": "white",
            "ticks": ""
           },
           "baxis": {
            "gridcolor": "white",
            "linecolor": "white",
            "ticks": ""
           },
           "bgcolor": "#E5ECF6",
           "caxis": {
            "gridcolor": "white",
            "linecolor": "white",
            "ticks": ""
           }
          },
          "title": {
           "x": 0.05
          },
          "xaxis": {
           "automargin": true,
           "gridcolor": "white",
           "linecolor": "white",
           "ticks": "",
           "title": {
            "standoff": 15
           },
           "zerolinecolor": "white",
           "zerolinewidth": 2
          },
          "yaxis": {
           "automargin": true,
           "gridcolor": "white",
           "linecolor": "white",
           "ticks": "",
           "title": {
            "standoff": 15
           },
           "zerolinecolor": "white",
           "zerolinewidth": 2
          }
         }
        },
        "title": {
         "text": "Exam performance"
        },
        "xaxis": {
         "anchor": "y",
         "autorange": true,
         "categoryarray": [
          "some high school",
          "high school",
          "some college",
          "associate's degree",
          "bachelor's degree",
          "master's degree"
         ],
         "categoryorder": "array",
         "domain": [
          0,
          1
         ],
         "range": [
          -0.5,
          5.5
         ],
         "title": {
          "text": "Parental Level of Eduacation"
         },
         "type": "category"
        },
        "yaxis": {
         "anchor": "x",
         "autorange": true,
         "domain": [
          0,
          1
         ],
         "range": [
          22.388888888888886,
          314.6111111111111
         ],
         "title": {
          "text": "Total Score"
         },
         "type": "linear"
        }
       }
      },
      "image/png": "[encoded data removed]",
      "text/html": [
       "<div>                            <div id=\"bb3efff0-c5c3-4fc7-a58c-37495e0bc8c6\" class=\"plotly-graph-div\" style=\"height:525px; width:100%;\"></div>            <script type=\"text/javascript\">                require([\"plotly\"], function(Plotly) {                    window.PLOTLYENV=window.PLOTLYENV || {};                                    if (document.getElementById(\"bb3efff0-c5c3-4fc7-a58c-37495e0bc8c6\")) {                    Plotly.newPlot(                        \"bb3efff0-c5c3-4fc7-a58c-37495e0bc8c6\",                        [{\"alignmentgroup\":\"True\",\"hovertemplate\":\"parental level of education=%{x}\\u003cbr\\u003etotal score=%{y}\\u003cextra\\u003e\\u003c\\u002fextra\\u003e\",\"legendgroup\":\"\",\"marker\":{\"color\":\"#636efa\"},\"name\":\"\",\"notched\":false,\"offsetgroup\":\"\",\"orientation\":\"v\",\"showlegend\":false,\"x\":[\"bachelor's degree\",\"some college\",\"master's degree\",\"associate's degree\",\"some college\",\"associate's degree\",\"some college\",\"some college\",\"high school\",\"high school\",\"associate's degree\",\"associate's degree\",\"high school\",\"some college\",\"master's degree\",\"some high school\",\"high school\",\"some high school\",\"master's degree\",\"associate's degree\",\"high school\",\"some college\",\"some college\",\"some high school\",\"bachelor's degree\",\"master's degree\",\"some college\",\"bachelor's degree\",\"high school\",\"master's degree\",\"some college\",\"some college\",\"master's degree\",\"some college\",\"some college\",\"associate's degree\",\"associate's degree\",\"some high school\",\"associate's degree\",\"associate's degree\",\"associate's degree\",\"associate's degree\",\"associate's degree\",\"some college\",\"associate's degree\",\"associate's degree\",\"associate's degree\",\"high school\",\"associate's degree\",\"high school\",\"some college\",\"associate's degree\",\"some college\",\"high school\",\"some high school\",\"high school\",\"associate's degree\",\"associate's degree\",\"some college\",\"some high school\",\"bachelor's degree\",\"some high school\",\"associate's degree\",\"associate's degree\",\"some high school\",\"some high school\",\"some high school\",\"some college\",\"associate's degree\",\"associate's degree\",\"some college\",\"some college\",\"associate's degree\",\"some high school\",\"some high school\",\"associate's degree\",\"some high school\",\"bachelor's degree\",\"some high school\",\"master's degree\",\"associate's degree\",\"high school\",\"some college\",\"associate's degree\",\"high school\",\"some college\",\"some college\",\"associate's degree\",\"some college\",\"some high school\",\"bachelor's degree\",\"high school\",\"high school\",\"associate's degree\",\"some college\",\"associate's degree\",\"some high school\",\"some college\",\"some college\",\"bachelor's degree\",\"some college\",\"bachelor's degree\",\"associate's degree\",\"high school\",\"some college\",\"some college\",\"master's degree\",\"associate's degree\",\"associate's degree\",\"some high school\",\"associate's degree\",\"high school\",\"associate's degree\",\"some college\",\"bachelor's degree\",\"high school\",\"bachelor's degree\",\"bachelor's degree\",\"some high school\",\"some college\",\"bachelor's degree\",\"associate's degree\",\"some college\",\"high school\",\"some college\",\"high school\",\"some high school\",\"some college\",\"master's degree\",\"bachelor's degree\",\"master's degree\",\"some high school\",\"some college\",\"some college\",\"bachelor's degree\",\"bachelor's degree\",\"some high school\",\"high school\",\"associate's degree\",\"some college\",\"some high school\",\"some college\",\"some college\",\"high school\",\"some college\",\"some college\",\"some high school\",\"associate's degree\",\"bachelor's degree\",\"associate's degree\",\"some high school\",\"bachelor's degree\",\"associate's degree\",\"bachelor's degree\",\"some high school\",\"some college\",\"high school\",\"some college\",\"associate's degree\",\"associate's degree\",\"associate's degree\",\"some college\",\"master's degree\",\"high school\",\"master's degree\",\"bachelor's degree\",\"high school\",\"master's degree\",\"high school\",\"some college\",\"high school\",\"some high school\",\"some college\",\"associate's degree\",\"bachelor's degree\",\"master's degree\",\"high school\",\"associate's degree\",\"master's degree\",\"some high school\",\"master's degree\",\"some college\",\"high school\",\"associate's degree\",\"some high school\",\"associate's degree\",\"high school\",\"some high school\",\"some high school\",\"bachelor's degree\",\"associate's degree\",\"some college\",\"some high school\",\"some college\",\"master's degree\",\"associate's degree\",\"some high school\",\"high school\",\"some college\",\"bachelor's degree\",\"associate's degree\",\"some college\",\"associate's degree\",\"associate's degree\",\"some college\",\"some high school\",\"bachelor's degree\",\"high school\",\"some college\",\"some college\",\"some high school\",\"some college\",\"high school\",\"associate's degree\",\"high school\",\"some high school\",\"associate's degree\",\"high school\",\"high school\",\"some high school\",\"high school\",\"associate's degree\",\"some high school\",\"some high school\",\"associate's degree\",\"master's degree\",\"some college\",\"high school\",\"some high school\",\"some college\",\"some college\",\"associate's degree\",\"bachelor's degree\",\"some high school\",\"bachelor's degree\",\"associate's degree\",\"bachelor's degree\",\"some high school\",\"some college\",\"associate's degree\",\"high school\",\"bachelor's degree\",\"high school\",\"some college\",\"some high school\",\"associate's degree\",\"associate's degree\",\"high school\",\"high school\",\"high school\",\"some high school\",\"some college\",\"some high school\",\"master's degree\",\"high school\",\"some college\",\"associate's degree\",\"associate's degree\",\"some college\",\"master's degree\",\"some high school\",\"some college\",\"some high school\",\"high school\",\"high school\",\"some high school\",\"bachelor's degree\",\"high school\",\"associate's degree\",\"some college\",\"bachelor's degree\",\"some college\",\"associate's degree\",\"some college\",\"some college\",\"bachelor's degree\",\"some high school\",\"high school\",\"some high school\",\"bachelor's degree\",\"high school\",\"high school\",\"bachelor's degree\",\"some college\",\"some high school\",\"associate's degree\",\"associate's degree\",\"some high school\",\"bachelor's degree\",\"some high school\",\"associate's degree\",\"some high school\",\"some high school\",\"bachelor's degree\",\"high school\",\"associate's degree\",\"some high school\",\"associate's degree\",\"high school\",\"associate's degree\",\"some college\",\"some high school\",\"associate's degree\",\"associate's degree\",\"associate's degree\",\"some college\",\"some college\",\"some high school\",\"associate's degree\",\"high school\",\"associate's degree\",\"bachelor's degree\",\"bachelor's degree\",\"associate's degree\",\"bachelor's degree\",\"high school\",\"master's degree\",\"associate's degree\",\"bachelor's degree\",\"associate's degree\",\"high school\",\"high school\",\"some college\",\"some high school\",\"high school\",\"some college\",\"some college\",\"some college\",\"associate's degree\",\"some high school\",\"high school\",\"associate's degree\",\"associate's degree\",\"associate's degree\",\"bachelor's degree\",\"some college\",\"some high school\",\"associate's degree\",\"some high school\",\"some high school\",\"high school\",\"high school\",\"high school\",\"associate's degree\",\"some college\",\"high school\",\"some college\",\"bachelor's degree\",\"high school\",\"associate's degree\",\"bachelor's degree\",\"some college\",\"some college\",\"associate's degree\",\"some college\",\"bachelor's degree\",\"associate's degree\",\"some college\",\"some college\",\"some college\",\"high school\",\"some high school\",\"some college\",\"some high school\",\"some college\",\"bachelor's degree\",\"high school\",\"bachelor's degree\",\"some high school\",\"some high school\",\"some college\",\"some college\",\"some high school\",\"some college\",\"bachelor's degree\",\"associate's degree\",\"some high school\",\"master's degree\",\"some high school\",\"bachelor's degree\",\"associate's degree\",\"associate's degree\",\"master's degree\",\"some high school\",\"some high school\",\"some college\",\"bachelor's degree\",\"associate's degree\",\"high school\",\"master's degree\",\"some high school\",\"some college\",\"some college\",\"associate's degree\",\"some high school\",\"high school\",\"high school\",\"associate's degree\",\"some high school\",\"some high school\",\"some high school\",\"some college\",\"some college\",\"high school\",\"high school\",\"some high school\",\"associate's degree\",\"associate's degree\",\"high school\",\"associate's degree\",\"master's degree\",\"some college\",\"associate's degree\",\"some high school\",\"bachelor's degree\",\"high school\",\"bachelor's degree\",\"associate's degree\",\"some college\",\"high school\",\"associate's degree\",\"high school\",\"master's degree\",\"some high school\",\"some college\",\"some college\",\"bachelor's degree\",\"some high school\",\"some high school\",\"some high school\",\"associate's degree\",\"high school\",\"high school\",\"some high school\",\"some high school\",\"some college\",\"associate's degree\",\"associate's degree\",\"high school\",\"some high school\",\"some college\",\"high school\",\"some high school\",\"associate's degree\",\"some high school\",\"some high school\",\"some college\",\"high school\",\"high school\",\"associate's degree\",\"some college\",\"some college\",\"associate's degree\",\"some college\",\"associate's degree\",\"bachelor's degree\",\"bachelor's degree\",\"associate's degree\",\"bachelor's degree\",\"high school\",\"bachelor's degree\",\"some college\",\"some college\",\"some college\",\"bachelor's degree\",\"some college\",\"associate's degree\",\"high school\",\"high school\",\"some college\",\"associate's degree\",\"high school\",\"associate's degree\",\"some high school\",\"associate's degree\",\"bachelor's degree\",\"bachelor's degree\",\"associate's degree\",\"master's degree\",\"associate's degree\",\"high school\",\"associate's degree\",\"some college\",\"high school\",\"associate's degree\",\"high school\",\"some college\",\"associate's degree\",\"some high school\",\"associate's degree\",\"associate's degree\",\"associate's degree\",\"some college\",\"bachelor's degree\",\"high school\",\"high school\",\"some college\",\"some college\",\"some high school\",\"some college\",\"master's degree\",\"associate's degree\",\"some college\",\"associate's degree\",\"master's degree\",\"some high school\",\"high school\",\"bachelor's degree\",\"master's degree\",\"bachelor's degree\",\"some college\",\"some high school\",\"some high school\",\"some high school\",\"master's degree\",\"some high school\",\"some college\",\"some college\",\"some high school\",\"high school\",\"some college\",\"associate's degree\",\"bachelor's degree\",\"master's degree\",\"high school\",\"some college\",\"some high school\",\"high school\",\"bachelor's degree\",\"associate's degree\",\"associate's degree\",\"some high school\",\"associate's degree\",\"associate's degree\",\"high school\",\"bachelor's degree\",\"associate's degree\",\"high school\",\"bachelor's degree\",\"associate's degree\",\"high school\",\"associate's degree\",\"associate's degree\",\"associate's degree\",\"master's degree\",\"some high school\",\"some high school\",\"high school\",\"high school\",\"master's degree\",\"some high school\",\"bachelor's degree\",\"associate's degree\",\"some college\",\"associate's degree\",\"some college\",\"associate's degree\",\"master's degree\",\"associate's degree\",\"some high school\",\"some college\",\"some college\",\"bachelor's degree\",\"some college\",\"bachelor's degree\",\"associate's degree\",\"bachelor's degree\",\"master's degree\",\"high school\",\"bachelor's degree\",\"some college\",\"bachelor's degree\",\"some college\",\"high school\",\"high school\",\"associate's degree\",\"some college\",\"high school\",\"some college\",\"master's degree\",\"some high school\",\"some high school\",\"bachelor's degree\",\"associate's degree\",\"some college\",\"associate's degree\",\"high school\",\"bachelor's degree\",\"some college\",\"some high school\",\"some college\",\"some high school\",\"bachelor's degree\",\"high school\",\"bachelor's degree\",\"bachelor's degree\",\"high school\",\"some high school\",\"high school\",\"some high school\",\"master's degree\",\"high school\",\"some college\",\"high school\",\"master's degree\",\"some high school\",\"associate's degree\",\"master's degree\",\"some college\",\"associate's degree\",\"some college\",\"some college\",\"bachelor's degree\",\"associate's degree\",\"associate's degree\",\"high school\",\"bachelor's degree\",\"bachelor's degree\",\"master's degree\",\"associate's degree\",\"high school\",\"bachelor's degree\",\"high school\",\"some college\",\"bachelor's degree\",\"some college\",\"associate's degree\",\"associate's degree\",\"some college\",\"some high school\",\"some college\",\"high school\",\"bachelor's degree\",\"high school\",\"some high school\",\"high school\",\"high school\",\"some high school\",\"some college\",\"associate's degree\",\"high school\",\"associate's degree\",\"some high school\",\"high school\",\"high school\",\"bachelor's degree\",\"associate's degree\",\"high school\",\"high school\",\"some college\",\"some high school\",\"high school\",\"some college\",\"associate's degree\",\"some high school\",\"some college\",\"associate's degree\",\"some high school\",\"associate's degree\",\"associate's degree\",\"some college\",\"some high school\",\"some college\",\"high school\",\"associate's degree\",\"some high school\",\"some college\",\"bachelor's degree\",\"some college\",\"associate's degree\",\"high school\",\"associate's degree\",\"some college\",\"associate's degree\",\"high school\",\"some college\",\"some college\",\"some high school\",\"associate's degree\",\"some college\",\"high school\",\"high school\",\"high school\",\"some high school\",\"some college\",\"master's degree\",\"some college\",\"associate's degree\",\"high school\",\"some college\",\"associate's degree\",\"associate's degree\",\"bachelor's degree\",\"associate's degree\",\"some high school\",\"some college\",\"associate's degree\",\"bachelor's degree\",\"associate's degree\",\"high school\",\"bachelor's degree\",\"some high school\",\"bachelor's degree\",\"some college\",\"some high school\",\"bachelor's degree\",\"high school\",\"some college\",\"high school\",\"associate's degree\",\"some college\",\"some high school\",\"some college\",\"master's degree\",\"some high school\",\"associate's degree\",\"associate's degree\",\"associate's degree\",\"high school\",\"associate's degree\",\"some college\",\"some high school\",\"some high school\",\"high school\",\"some college\",\"some college\",\"associate's degree\",\"some high school\",\"high school\",\"some college\",\"associate's degree\",\"some high school\",\"some college\",\"some high school\",\"some college\",\"master's degree\",\"associate's degree\",\"some college\",\"associate's degree\",\"high school\",\"bachelor's degree\",\"associate's degree\",\"high school\",\"associate's degree\",\"some college\",\"associate's degree\",\"high school\",\"some college\",\"bachelor's degree\",\"some college\",\"some high school\",\"some college\",\"master's degree\",\"some high school\",\"associate's degree\",\"associate's degree\",\"some college\",\"bachelor's degree\",\"some college\",\"some college\",\"high school\",\"some high school\",\"some high school\",\"high school\",\"some college\",\"high school\",\"high school\",\"high school\",\"some high school\",\"some college\",\"high school\",\"bachelor's degree\",\"some high school\",\"bachelor's degree\",\"some college\",\"some high school\",\"high school\",\"some college\",\"some college\",\"associate's degree\",\"associate's degree\",\"master's degree\",\"high school\",\"associate's degree\",\"bachelor's degree\",\"some high school\",\"some high school\",\"some college\",\"associate's degree\",\"master's degree\",\"high school\",\"some college\",\"high school\",\"some high school\",\"high school\",\"associate's degree\",\"high school\",\"associate's degree\",\"some college\",\"associate's degree\",\"some high school\",\"some high school\",\"associate's degree\",\"some college\",\"some college\",\"some college\",\"some college\",\"high school\",\"high school\",\"bachelor's degree\",\"some high school\",\"high school\",\"master's degree\",\"some high school\",\"high school\",\"some high school\",\"bachelor's degree\",\"bachelor's degree\",\"high school\",\"some high school\",\"some high school\",\"bachelor's degree\",\"some college\",\"high school\",\"some high school\",\"high school\",\"associate's degree\",\"some high school\",\"some high school\",\"some high school\",\"some college\",\"bachelor's degree\",\"bachelor's degree\",\"high school\",\"some college\",\"high school\",\"high school\",\"high school\",\"associate's degree\",\"associate's degree\",\"high school\",\"some high school\",\"high school\",\"some college\",\"some high school\",\"master's degree\",\"master's degree\",\"high school\",\"high school\",\"associate's degree\",\"master's degree\",\"high school\",\"some college\",\"some high school\",\"some high school\",\"bachelor's degree\",\"some college\",\"bachelor's degree\",\"high school\",\"associate's degree\",\"associate's degree\",\"master's degree\",\"bachelor's degree\",\"some college\",\"associate's degree\",\"some college\",\"high school\",\"associate's degree\",\"associate's degree\",\"associate's degree\",\"high school\",\"some college\",\"associate's degree\",\"associate's degree\",\"bachelor's degree\",\"some college\",\"some college\",\"some high school\",\"some high school\",\"associate's degree\",\"bachelor's degree\",\"bachelor's degree\",\"high school\",\"bachelor's degree\",\"associate's degree\",\"associate's degree\",\"associate's degree\",\"high school\",\"some college\",\"high school\",\"some college\",\"associate's degree\",\"master's degree\",\"some high school\",\"associate's degree\",\"some high school\",\"high school\",\"some high school\",\"associate's degree\",\"some high school\",\"master's degree\",\"master's degree\",\"high school\",\"bachelor's degree\",\"some high school\",\"some college\",\"high school\",\"some college\",\"bachelor's degree\",\"bachelor's degree\",\"bachelor's degree\",\"some college\",\"bachelor's degree\",\"bachelor's degree\",\"associate's degree\",\"some college\",\"bachelor's degree\",\"high school\",\"associate's degree\",\"some college\",\"high school\",\"high school\",\"high school\",\"associate's degree\",\"high school\",\"some high school\",\"associate's degree\",\"high school\",\"associate's degree\",\"some high school\",\"some college\",\"some college\",\"associate's degree\",\"bachelor's degree\",\"associate's degree\",\"some college\",\"associate's degree\",\"high school\",\"some college\",\"some high school\",\"master's degree\",\"master's degree\",\"high school\",\"some high school\",\"high school\",\"associate's degree\",\"high school\",\"some college\",\"some high school\",\"high school\",\"high school\",\"some college\",\"some high school\",\"high school\",\"some college\",\"associate's degree\",\"some college\",\"master's degree\",\"high school\",\"high school\",\"some college\",\"some high school\",\"associate's degree\",\"some high school\",\"some college\",\"some college\",\"some high school\",\"some college\",\"associate's degree\",\"bachelor's degree\",\"bachelor's degree\",\"some high school\",\"high school\",\"some college\",\"some college\",\"some college\",\"some college\",\"associate's degree\",\"high school\",\"associate's degree\",\"high school\",\"some high school\",\"some high school\",\"some college\",\"some high school\",\"high school\",\"associate's degree\",\"some high school\",\"some high school\",\"some college\",\"high school\",\"some high school\",\"associate's degree\",\"bachelor's degree\",\"high school\",\"master's degree\",\"high school\",\"high school\",\"some college\",\"some college\"],\"x0\":\" \",\"xaxis\":\"x\",\"y\":[220,266,281,145,228,239,279,121,198,160,158,138,227,212,169,231,261,88,134,180,195,215,160,219,231,218,164,219,200,220,222,187,202,118,251,239,247,182,266,170,169,209,188,197,164,168,189,223,226,248,151,205,128,228,258,127,257,153,175,37,218,107,171,222,176,186,111,220,170,178,209,181,147,169,131,117,70,240,218,204,149,135,155,190,107,244,259,219,204,250,220,106,221,145,270,245,190,212,191,191,201,222,269,138,266,211,300,191,216,208,285,153,147,166,300,225,249,240,185,199,270,273,279,169,226,267,202,225,230,151,248,117,214,249,229,151,136,167,200,199,214,190,163,137,229,105,234,200,237,286,205,203,202,143,189,265,230,180,260,190,226,258,157,151,274,300,153,232,239,215,221,244,248,207,159,265,170,231,194,300,218,196,144,209,150,197,206,202,142,262,203,241,196,186,254,159,199,158,163,231,256,235,215,205,125,227,186,232,233,193,237,82,182,163,253,233,262,120,217,168,216,231,189,230,212,164,214,158,200,283,196,127,252,243,250,229,200,208,154,240,200,249,162,137,212,218,224,206,188,166,147,249,210,224,156,213,209,231,231,243,233,235,152,273,209,124,237,226,282,216,185,133,169,212,237,224,278,213,246,170,136,140,247,234,138,246,258,253,227,230,206,213,174,223,237,182,127,210,146,237,240,158,246,204,241,205,249,140,205,161,236,174,197,205,214,196,264,228,209,191,247,244,241,159,132,278,185,61,229,157,182,107,162,240,283,200,208,137,92,175,165,199,224,206,207,230,175,284,206,226,203,161,238,172,211,212,183,204,184,268,180,240,174,98,176,178,164,188,180,254,219,213,218,289,216,125,254,295,237,188,252,290,223,139,129,226,213,212,192,220,185,222,201,166,228,127,193,279,177,167,188,129,175,299,183,209,191,234,169,254,219,239,186,201,230,211,210,207,183,164,279,186,192,245,107,191,255,201,165,171,184,212,166,159,198,154,196,212,158,252,239,241,211,235,228,228,186,241,130,217,255,286,225,156,185,150,267,150,300,201,168,144,222,272,182,269,107,197,258,226,265,217,254,189,272,242,194,212,204,205,207,171,190,144,160,216,159,223,167,246,237,204,263,268,200,196,152,230,205,215,243,271,169,273,167,242,202,167,232,266,217,136,153,185,285,257,257,220,234,236,153,254,172,159,150,178,181,139,135,214,213,160,177,276,205,249,176,190,208,264,205,242,235,273,195,243,294,195,195,210,206,266,148,190,125,105,230,199,210,190,233,222,274,240,143,133,300,227,142,202,215,280,174,194,223,161,155,269,172,197,289,239,229,235,231,228,219,187,194,196,165,162,196,222,298,223,54,150,223,244,186,89,238,159,269,196,248,166,188,193,186,191,272,225,279,212,121,244,249,209,169,175,155,268,182,295,196,140,149,161,204,190,236,258,244,202,242,268,224,220,154,268,239,239,185,243,200,198,163,241,162,232,282,218,237,201,195,188,176,257,223,192,209,203,189,180,215,259,196,226,212,157,230,252,233,196,230,234,231,181,220,188,163,128,202,299,211,224,146,256,159,232,236,223,175,261,262,212,236,184,245,211,258,198,191,202,106,163,245,177,264,255,298,249,218,268,222,294,224,233,212,177,266,132,125,216,229,165,260,113,237,132,277,135,172,175,247,212,217,170,217,169,248,217,149,227,217,200,178,256,205,202,227,260,161,279,162,212,189,231,200,166,253,188,181,216,229,182,221,174,146,221,211,236,185,168,212,130,243,249,170,258,249,183,239,139,233,102,187,187,182,206,212,238,154,214,210,246,168,169,209,226,284,259,232,229,224,125,213,156,103,145,198,236,246,260,187,222,208,267,274,276,154,251,162,183,208,221,248,160,174,264,176,260,140,212,178,240,163,223,144,160,116,229,193,253,255,154,208,213,201,194,271,189,174,289,198,241,141,217,168,260,118,231,275,258,157,124,218,153,152,224,240,254,184,196,250,169,232,224,196,210,215,134,159,236,290,190,213,147,267,262,213,224,200,110,83,236,180,242,262,226,130,300,252,231,150,266,219,204,138,248,193,194,171,202,300,165,237,278,204,145,198,195,208,184,160,203,131,158,214,181,217,223,267,179,163,172,251,206,210,283,194,184,190,177,242,178,154,221,215,243,218,160,207,181,249,300,181,223,186,160,300,226,173,214,196,183,210,244,300,210,170,187,197,236,182,181,137,283,70,234,257,269,239,159,161,227,135,252,231,238,228,220,187,289,165,201,232,258],\"y0\":\" \",\"yaxis\":\"y\",\"type\":\"box\"}],                        {\"template\":{\"data\":{\"histogram2dcontour\":[{\"type\":\"histogram2dcontour\",\"colorbar\":{\"outlinewidth\":0,\"ticks\":\"\"},\"colorscale\":[[0.0,\"#0d0887\"],[0.1111111111111111,\"#46039f\"],[0.2222222222222222,\"#7201a8\"],[0.3333333333333333,\"#9c179e\"],[0.4444444444444444,\"#bd3786\"],[0.5555555555555556,\"#d8576b\"],[0.6666666666666666,\"#ed7953\"],[0.7777777777777778,\"#fb9f3a\"],[0.8888888888888888,\"#fdca26\"],[1.0,\"#f0f921\"]]}],\"choropleth\":[{\"type\":\"choropleth\",\"colorbar\":{\"outlinewidth\":0,\"ticks\":\"\"}}],\"histogram2d\":[{\"type\":\"histogram2d\",\"colorbar\":{\"outlinewidth\":0,\"ticks\":\"\"},\"colorscale\":[[0.0,\"#0d0887\"],[0.1111111111111111,\"#46039f\"],[0.2222222222222222,\"#7201a8\"],[0.3333333333333333,\"#9c179e\"],[0.4444444444444444,\"#bd3786\"],[0.5555555555555556,\"#d8576b\"],[0.6666666666666666,\"#ed7953\"],[0.7777777777777778,\"#fb9f3a\"],[0.8888888888888888,\"#fdca26\"],[1.0,\"#f0f921\"]]}],\"heatmap\":[{\"type\":\"heatmap\",\"colorbar\":{\"outlinewidth\":0,\"ticks\":\"\"},\"colorscale\":[[0.0,\"#0d0887\"],[0.1111111111111111,\"#46039f\"],[0.2222222222222222,\"#7201a8\"],[0.3333333333333333,\"#9c179e\"],[0.4444444444444444,\"#bd3786\"],[0.5555555555555556,\"#d8576b\"],[0.6666666666666666,\"#ed7953\"],[0.7777777777777778,\"#fb9f3a\"],[0.8888888888888888,\"#fdca26\"],[1.0,\"#f0f921\"]]}],\"heatmapgl\":[{\"type\":\"heatmapgl\",\"colorbar\":{\"outlinewidth\":0,\"ticks\":\"\"},\"colorscale\":[[0.0,\"#0d0887\"],[0.1111111111111111,\"#46039f\"],[0.2222222222222222,\"#7201a8\"],[0.3333333333333333,\"#9c179e\"],[0.4444444444444444,\"#bd3786\"],[0.5555555555555556,\"#d8576b\"],[0.6666666666666666,\"#ed7953\"],[0.7777777777777778,\"#fb9f3a\"],[0.8888888888888888,\"#fdca26\"],[1.0,\"#f0f921\"]]}],\"contourcarpet\":[{\"type\":\"contourcarpet\",\"colorbar\":{\"outlinewidth\":0,\"ticks\":\"\"}}],\"contour\":[{\"type\":\"contour\",\"colorbar\":{\"outlinewidth\":0,\"ticks\":\"\"},\"colorscale\":[[0.0,\"#0d0887\"],[0.1111111111111111,\"#46039f\"],[0.2222222222222222,\"#7201a8\"],[0.3333333333333333,\"#9c179e\"],[0.4444444444444444,\"#bd3786\"],[0.5555555555555556,\"#d8576b\"],[0.6666666666666666,\"#ed7953\"],[0.7777777777777778,\"#fb9f3a\"],[0.8888888888888888,\"#fdca26\"],[1.0,\"#f0f921\"]]}],\"surface\":[{\"type\":\"surface\",\"colorbar\":{\"outlinewidth\":0,\"ticks\":\"\"},\"colorscale\":[[0.0,\"#0d0887\"],[0.1111111111111111,\"#46039f\"],[0.2222222222222222,\"#7201a8\"],[0.3333333333333333,\"#9c179e\"],[0.4444444444444444,\"#bd3786\"],[0.5555555555555556,\"#d8576b\"],[0.6666666666666666,\"#ed7953\"],[0.7777777777777778,\"#fb9f3a\"],[0.8888888888888888,\"#fdca26\"],[1.0,\"#f0f921\"]]}],\"mesh3d\":[{\"type\":\"mesh3d\",\"colorbar\":{\"outlinewidth\":0,\"ticks\":\"\"}}],\"scatter\":[{\"fillpattern\":{\"fillmode\":\"overlay\",\"size\":10,\"solidity\":0.2},\"type\":\"scatter\"}],\"parcoords\":[{\"type\":\"parcoords\",\"line\":{\"colorbar\":{\"outlinewidth\":0,\"ticks\":\"\"}}}],\"scatterpolargl\":[{\"type\":\"scatterpolargl\",\"marker\":{\"colorbar\":{\"outlinewidth\":0,\"ticks\":\"\"}}}],\"bar\":[{\"error_x\":{\"color\":\"#2a3f5f\"},\"error_y\":{\"color\":\"#2a3f5f\"},\"marker\":{\"line\":{\"color\":\"#E5ECF6\",\"width\":0.5},\"pattern\":{\"fillmode\":\"overlay\",\"size\":10,\"solidity\":0.2}},\"type\":\"bar\"}],\"scattergeo\":[{\"type\":\"scattergeo\",\"marker\":{\"colorbar\":{\"outlinewidth\":0,\"ticks\":\"\"}}}],\"scatterpolar\":[{\"type\":\"scatterpolar\",\"marker\":{\"colorbar\":{\"outlinewidth\":0,\"ticks\":\"\"}}}],\"histogram\":[{\"marker\":{\"pattern\":{\"fillmode\":\"overlay\",\"size\":10,\"solidity\":0.2}},\"type\":\"histogram\"}],\"scattergl\":[{\"type\":\"scattergl\",\"marker\":{\"colorbar\":{\"outlinewidth\":0,\"ticks\":\"\"}}}],\"scatter3d\":[{\"type\":\"scatter3d\",\"line\":{\"colorbar\":{\"outlinewidth\":0,\"ticks\":\"\"}},\"marker\":{\"colorbar\":{\"outlinewidth\":0,\"ticks\":\"\"}}}],\"scattermapbox\":[{\"type\":\"scattermapbox\",\"marker\":{\"colorbar\":{\"outlinewidth\":0,\"ticks\":\"\"}}}],\"scatterternary\":[{\"type\":\"scatterternary\",\"marker\":{\"colorbar\":{\"outlinewidth\":0,\"ticks\":\"\"}}}],\"scattercarpet\":[{\"type\":\"scattercarpet\",\"marker\":{\"colorbar\":{\"outlinewidth\":0,\"ticks\":\"\"}}}],\"carpet\":[{\"aaxis\":{\"endlinecolor\":\"#2a3f5f\",\"gridcolor\":\"white\",\"linecolor\":\"white\",\"minorgridcolor\":\"white\",\"startlinecolor\":\"#2a3f5f\"},\"baxis\":{\"endlinecolor\":\"#2a3f5f\",\"gridcolor\":\"white\",\"linecolor\":\"white\",\"minorgridcolor\":\"white\",\"startlinecolor\":\"#2a3f5f\"},\"type\":\"carpet\"}],\"table\":[{\"cells\":{\"fill\":{\"color\":\"#EBF0F8\"},\"line\":{\"color\":\"white\"}},\"header\":{\"fill\":{\"color\":\"#C8D4E3\"},\"line\":{\"color\":\"white\"}},\"type\":\"table\"}],\"barpolar\":[{\"marker\":{\"line\":{\"color\":\"#E5ECF6\",\"width\":0.5},\"pattern\":{\"fillmode\":\"overlay\",\"size\":10,\"solidity\":0.2}},\"type\":\"barpolar\"}],\"pie\":[{\"automargin\":true,\"type\":\"pie\"}]},\"layout\":{\"autotypenumbers\":\"strict\",\"colorway\":[\"#636efa\",\"#EF553B\",\"#00cc96\",\"#ab63fa\",\"#FFA15A\",\"#19d3f3\",\"#FF6692\",\"#B6E880\",\"#FF97FF\",\"#FECB52\"],\"font\":{\"color\":\"#2a3f5f\"},\"hovermode\":\"closest\",\"hoverlabel\":{\"align\":\"left\"},\"paper_bgcolor\":\"white\",\"plot_bgcolor\":\"#E5ECF6\",\"polar\":{\"bgcolor\":\"#E5ECF6\",\"angularaxis\":{\"gridcolor\":\"white\",\"linecolor\":\"white\",\"ticks\":\"\"},\"radialaxis\":{\"gridcolor\":\"white\",\"linecolor\":\"white\",\"ticks\":\"\"}},\"ternary\":{\"bgcolor\":\"#E5ECF6\",\"aaxis\":{\"gridcolor\":\"white\",\"linecolor\":\"white\",\"ticks\":\"\"},\"baxis\":{\"gridcolor\":\"white\",\"linecolor\":\"white\",\"ticks\":\"\"},\"caxis\":{\"gridcolor\":\"white\",\"linecolor\":\"white\",\"ticks\":\"\"}},\"coloraxis\":{\"colorbar\":{\"outlinewidth\":0,\"ticks\":\"\"}},\"colorscale\":{\"sequential\":[[0.0,\"#0d0887\"],[0.1111111111111111,\"#46039f\"],[0.2222222222222222,\"#7201a8\"],[0.3333333333333333,\"#9c179e\"],[0.4444444444444444,\"#bd3786\"],[0.5555555555555556,\"#d8576b\"],[0.6666666666666666,\"#ed7953\"],[0.7777777777777778,\"#fb9f3a\"],[0.8888888888888888,\"#fdca26\"],[1.0,\"#f0f921\"]],\"sequentialminus\":[[0.0,\"#0d0887\"],[0.1111111111111111,\"#46039f\"],[0.2222222222222222,\"#7201a8\"],[0.3333333333333333,\"#9c179e\"],[0.4444444444444444,\"#bd3786\"],[0.5555555555555556,\"#d8576b\"],[0.6666666666666666,\"#ed7953\"],[0.7777777777777778,\"#fb9f3a\"],[0.8888888888888888,\"#fdca26\"],[1.0,\"#f0f921\"]],\"diverging\":[[0,\"#8e0152\"],[0.1,\"#c51b7d\"],[0.2,\"#de77ae\"],[0.3,\"#f1b6da\"],[0.4,\"#fde0ef\"],[0.5,\"#f7f7f7\"],[0.6,\"#e6f5d0\"],[0.7,\"#b8e186\"],[0.8,\"#7fbc41\"],[0.9,\"#4d9221\"],[1,\"#276419\"]]},\"xaxis\":{\"gridcolor\":\"white\",\"linecolor\":\"white\",\"ticks\":\"\",\"title\":{\"standoff\":15},\"zerolinecolor\":\"white\",\"automargin\":true,\"zerolinewidth\":2},\"yaxis\":{\"gridcolor\":\"white\",\"linecolor\":\"white\",\"ticks\":\"\",\"title\":{\"standoff\":15},\"zerolinecolor\":\"white\",\"automargin\":true,\"zerolinewidth\":2},\"scene\":{\"xaxis\":{\"backgroundcolor\":\"#E5ECF6\",\"gridcolor\":\"white\",\"linecolor\":\"white\",\"showbackground\":true,\"ticks\":\"\",\"zerolinecolor\":\"white\",\"gridwidth\":2},\"yaxis\":{\"backgroundcolor\":\"#E5ECF6\",\"gridcolor\":\"white\",\"linecolor\":\"white\",\"showbackground\":true,\"ticks\":\"\",\"zerolinecolor\":\"white\",\"gridwidth\":2},\"zaxis\":{\"backgroundcolor\":\"#E5ECF6\",\"gridcolor\":\"white\",\"linecolor\":\"white\",\"showbackground\":true,\"ticks\":\"\",\"zerolinecolor\":\"white\",\"gridwidth\":2}},\"shapedefaults\":{\"line\":{\"color\":\"#2a3f5f\"}},\"annotationdefaults\":{\"arrowcolor\":\"#2a3f5f\",\"arrowhead\":0,\"arrowwidth\":1},\"geo\":{\"bgcolor\":\"white\",\"landcolor\":\"#E5ECF6\",\"subunitcolor\":\"white\",\"showland\":true,\"showlakes\":true,\"lakecolor\":\"white\"},\"title\":{\"x\":0.05},\"mapbox\":{\"style\":\"light\"}}},\"xaxis\":{\"anchor\":\"y\",\"domain\":[0.0,1.0],\"title\":{\"text\":\"Parental Level of Eduacation\"},\"categoryorder\":\"array\",\"categoryarray\":[\"some high school\",\"high school\",\"some college\",\"associate's degree\",\"bachelor's degree\",\"master's degree\"]},\"yaxis\":{\"anchor\":\"x\",\"domain\":[0.0,1.0],\"title\":{\"text\":\"Total Score\"}},\"legend\":{\"tracegroupgap\":0},\"title\":{\"text\":\"Exam performance\"},\"boxmode\":\"group\"},                        {\"responsive\": true}                    ).then(function(){\n",
       "                            \n",
       "var gd = document.getElementById('bb3efff0-c5c3-4fc7-a58c-37495e0bc8c6');\n",
       "var x = new MutationObserver(function (mutations, observer) {{\n",
       "        var display = window.getComputedStyle(gd).display;\n",
       "        if (!display || display === 'none') {{\n",
       "            console.log([gd, 'removed!']);\n",
       "            Plotly.purge(gd);\n",
       "            observer.disconnect();\n",
       "        }}\n",
       "}});\n",
       "\n",
       "// Listen for the removal of the full notebook cells\n",
       "var notebookContainer = gd.closest('#notebook-container');\n",
       "if (notebookContainer) {{\n",
       "    x.observe(notebookContainer, {childList: true});\n",
       "}}\n",
       "\n",
       "// Listen for the clearing of the current output cell\n",
       "var outputEl = gd.closest('.output');\n",
       "if (outputEl) {{\n",
       "    x.observe(outputEl, {childList: true});\n",
       "}}\n",
       "\n",
       "                        })                };                });            </script>        </div>"
      ]
     },
     "metadata": {},
     "output_type": "display_data"
    }
   ],
   "source": [
    "fig = px.box(\n",
    "    DF_ruben,\n",
    "    x='parental level of education',  \n",
    "    y='total score',  \n",
    "    title='Exam performance')\n",
    "\n",
    "fig.update_layout(\n",
    "    xaxis_title='Parental Level of Eduacation',\n",
    "                  yaxis_title='Total Score',\n",
    "    xaxis=dict(\n",
    "        categoryorder=\"array\",\n",
    "        categoryarray=order))\n",
    "\n",
    "fig.show()"
   ]
  },
  {
   "cell_type": "markdown",
   "id": "537bb5be-a955-41f7-8088-6c57f7143e77",
   "metadata": {},
   "source": [
    "As shown in the bar graph we can see that while the parents level of education doesnt limit the potential to score high on the exam, there is a steady increase in the minimum score for the students in each education level and that the mean score does tend to rise as the parents level of education increases. Considering this information, we can infer that as the parental level of education of each students rises, the student has a higher chance of recieving a higher overall score on their exam"
   ]
  },
  {
   "cell_type": "markdown",
   "id": "5d2036cd-07e0-4663-8a64-f6c275329bfc",
   "metadata": {},
   "source": [
    "## In conclusion, country of residence, amount of sleep, frequency of exercise, and parental education are all factors that are associated with students' academic success."
   ]
  }
 ],
 "metadata": {
  "kernelspec": {
   "display_name": "Python 3 (ipykernel)",
   "language": "python",
   "name": "python3"
  },
  "language_info": {
   "codemirror_mode": {
    "name": "ipython",
    "version": 3
   },
   "file_extension": ".py",
   "mimetype": "text/x-python",
   "name": "python",
   "nbconvert_exporter": "python",
   "pygments_lexer": "ipython3",
   "version": "3.12.3"
  }
 },
 "nbformat": 4,
 "nbformat_minor": 5
}
