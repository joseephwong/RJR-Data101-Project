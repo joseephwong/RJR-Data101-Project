{
 "cells": [
  {
   "cell_type": "markdown",
   "id": "a1b5d5cf-de95-4dfa-bec4-20acb56231e0",
   "metadata": {},
   "source": [
    "## Final Project\n",
    "#### By: Joseph Wong, Ruben Regalado, Rory Huck"
   ]
  },
  {
   "cell_type": "markdown",
   "id": "bd6a1c99-7020-44d6-af03-c2b9952554b0",
   "metadata": {},
   "source": [
    "### How do not academic factors influence students academic success?"
   ]
  },
  {
   "cell_type": "markdown",
   "id": "9c92a1ed-5c14-473c-95cb-d5ecf146b878",
   "metadata": {},
   "source": [
    "#### Loading in the data"
   ]
  },
  {
   "cell_type": "markdown",
   "id": "83551036-dcb7-4f67-95c3-f7fdd8b4c3a1",
   "metadata": {},
   "source": [
    "##### Joseph"
   ]
  },
  {
   "cell_type": "code",
   "execution_count": 2,
   "id": "64463a16-94a3-420a-9afb-97ffe1372756",
   "metadata": {},
   "outputs": [],
   "source": [
    "import numpy as np\n",
    "import pandas as pd\n",
    "\n",
    "import matplotlib.pyplot as plt\n",
    "import plotly.express as px\n",
    "from plotly.subplots import make_subplots\n",
    "import plotly.io as pio\n",
    "pio.renderers.defaule = 'colab'\n",
    "\n",
    "\n",
    "\n",
    "# This stops a few warning messages from showing\n",
    "pd.options.mode.chained_assignment = None \n",
    "import warnings\n",
    "warnings.simplefilter(action='ignore', category=FutureWarning)"
   ]
  },
  {
   "cell_type": "code",
   "execution_count": null,
   "id": "f934ce26-3820-440a-a117-848b8dfd156d",
   "metadata": {},
   "outputs": [],
   "source": [
    "!conda install -y kagglehub"
   ]
  },
  {
   "cell_type": "code",
   "execution_count": null,
   "id": "4f01f78a-9893-4008-b7fd-1969a9db27b6",
   "metadata": {},
   "outputs": [],
   "source": [
    "import kagglehub\n",
    "\n",
    "# Download latest version\n",
    "path = kagglehub.dataset_download(\"abdullahashfaqvirk/student-mental-health-survey\")\n",
    "\n",
    "print(\"Path to dataset files:\", path)"
   ]
  },
  {
   "cell_type": "code",
   "execution_count": null,
   "id": "3bd140b1-4f49-448d-b076-05dff3b5ed78",
   "metadata": {},
   "outputs": [],
   "source": [
    "!ls C:\\Users\\josee\\.cache\\kagglehub\\datasets\\abdullahashfaqvirk\\student-mental-health-survey\\versions\\1"
   ]
  },
  {
   "cell_type": "code",
   "execution_count": null,
   "id": "d75727b8-cf8c-4125-9e7c-54f860a079c9",
   "metadata": {},
   "outputs": [],
   "source": [
    "DF_raw = pd.read_csv(path+\"/MentalHealthSurvey.csv\")\n",
    "DF_raw"
   ]
  },
  {
   "cell_type": "markdown",
   "id": "0f6cd084-1ad4-4a75-a767-3d7d5902b50c",
   "metadata": {},
   "source": [
    "Data Source\n",
    "\n",
    "I got my data from kaggle.com on a dataset labelled \"Student Mental Health Survey: Online Survey on the Mental Health of IT Student\" by Abdullah Ashfaq. A free account on Kaggle is required to download the dataset, but is publically viewable online. It was last updated 3 months ago. The data was gathered through an online survey and responses where anonymized to keep confidentiality. A possible ethical concern is that only IT students were given the opportunity to take the survey, meaning many groups, such as college students with other majors, are unrepresented by the dataset. The data explores the students' demographic data (while keeping their anonymity), lifestyle, experiences, university campus, self-reported mental health levels, and coping mechanisms.\n",
    "We will use cumulative GPA as an indicator of student success, as it is a reflection of their dedication and performance to their courses."
   ]
  },
  {
   "cell_type": "markdown",
   "id": "ddc36352-8703-49a9-b1d3-7ea5fc435013",
   "metadata": {},
   "source": [
    "Variable Definitions\n",
    "\n",
    "'sports_engagement': monthly sports engagement\n",
    "'depression': self-reported feeling of depression (1-5)\n",
    "'anxiety': self-reported feeling of anxiety (1-5)\n",
    "'isolation': self-reported feeling of isolation (1-5)\n",
    "'future_insecurity': self-reported feeling of future insecurity (1-5)"
   ]
  },
  {
   "cell_type": "markdown",
   "id": "9886eb71-a89a-4dbb-88aa-595211ebfb88",
   "metadata": {},
   "source": [
    "There are 4 different majors included in the dataset, all of which are related to Information Technology. The most frequent is Data Science, followed by Computer Science, then Information Technology, and finally Software Engineering.\n",
    "The dataset mostly represents to male and female undergraduate students (moreso male) ages 18-22 majoring in an Information Technology field universities in Pakistan. Based on this representation, it can be applied to other undergraduate students with caution, taking into consideration geographical and cultural differences between Pakistan and other countries that may influence outcomes."
   ]
  },
  {
   "cell_type": "markdown",
   "id": "40c5992f-a123-4cf1-99ea-72fd4088991b",
   "metadata": {},
   "source": [
    "##### Ruben"
   ]
  },
  {
   "cell_type": "code",
   "execution_count": null,
   "id": "a232c77d-0abb-4f68-b665-19b244acef97",
   "metadata": {},
   "outputs": [],
   "source": [
    "file_name = 'StudentsPerformance.csv'\n",
    "DF_ruben = pd.read_csv(file_name)"
   ]
  },
  {
   "cell_type": "markdown",
   "id": "97238cd0-79e4-4d1f-a9fa-81c9829f9c4a",
   "metadata": {},
   "source": [
    "Data Source\n",
    "\n",
    "I got my data from Kaggle.com from a dataset named 'Students Performance in Exams' by Jakki Seshapanpu. This data comes from a site where the data is allowed to be used for data explorations, all that is needed to access the data is a Kaggle account. This data was gathered from various students which included their total scores, the score breakdown and indvidiual aspects of the studnets daily life before the exam was taken."
   ]
  },
  {
   "cell_type": "markdown",
   "id": "2a97ce21-739b-42b7-b07a-9387247ad919",
   "metadata": {},
   "source": [
    "Gender: This is a categoral varible that tells us the gender of the observed student\n",
    "Race/Ethnicity: This is also a categorical varialbe that tells us what race group the student is in, however we dont know which race correlates to each letter.\n",
    "Parental level of eduacation: Categorical variable that tells us their parent(s) highest level of education\n",
    "lunch: Categorical variable that tells us whether or not the student had lunch before taking the exam\n",
    "test preperation course: Categorical variable that tells us if the student took a test preperation course prior to the exam\n",
    "math score: Numerical variable that tells us the studnets math score\n",
    "reading score: Numerical variable that tells us the studnets reading score\n",
    "writing score: Numerical variable that tells us the studnets writing score"
   ]
  },
  {
   "cell_type": "markdown",
   "id": "6e0079d1-0a5d-46ac-8b8a-3b442d120acf",
   "metadata": {},
   "source": [
    "##### Rory"
   ]
  },
  {
   "cell_type": "code",
   "execution_count": null,
   "id": "61580e24-c567-427b-8cd5-1e875c4fd062",
   "metadata": {},
   "outputs": [],
   "source": [
    "df_rory = pd.read_csv('OECD.csv')"
   ]
  },
  {
   "cell_type": "markdown",
   "id": "4b5d932d-e24b-4150-8c8a-9fe321191217",
   "metadata": {},
   "source": [
    "NOTES:\n",
    "\n",
    "-All data is refering to both males and females from the ages of 25 to 64 in the year 2023\n",
    "\n",
    "-Educational attainment refers to the highest level of education completed by a person, shown as a percentage of all persons in that age group. Below upper secondary education includes early childhood education, primary education or lower secondary education. Programmes at the lower secondary education level are designed to lay the foundation across a wide range of subjects. Programmes at the upper secondary level are more specialised and offer students more choices and diverse pathways for completing their secondary education. Tertiary education includes short-cycle tertiary education, bachelor’s, master’s, or doctoral or equivalent levels.\n",
    "\n",
    "-LINK: https://data-explorer.oecd.org/vislc=en&fs[0]=Topic%2C0%7CEducation%20and%20skills%23EDU%23&fs[1]=Topic%2C1%7CEducation%20and%20skills%23EDU%23%7CEducation%20attainment%23EDU_ATT%23&pg=0&fc=Topic&snb=4&vw=tb&df[ds]=dsDisseminateFinalDMZ&df[id]=DSD_EAG_LSO_EA%40DF_LSO_NEAC_DISTR_EA_MIGR&df[ag]=OECD.EDU.IMEP&df[vs]=1.0&dq=._T.Y25T64.ISCED11A_0T2%2BISCED11A_3_4%2BISCED11A_5T8....NB%2BFB._Z%2B_T.....OBS...A3&lom=LASTNOBSERVATIONS&lo=1&pd=2020%2C2023&to[TIME_PERIOD]=true&lb=nm\n",
    "Citation:\n",
    "\n",
    "OECD (2024) Education at a Glance 2024 Sources, Methodologies and Technical Notes, OECD Publishing Paris,\n",
    "\n",
    "https://doi.org/10.1787/e7d20315-en."
   ]
  },
  {
   "cell_type": "markdown",
   "id": "a72f1437-f273-4959-add1-79d3774cfbb0",
   "metadata": {},
   "source": [
    "#### Analysis "
   ]
  },
  {
   "cell_type": "markdown",
   "id": "923f9698-40fe-47a2-a140-dc1843e7df6b",
   "metadata": {},
   "source": [
    "#### Rory"
   ]
  },
  {
   "cell_type": "code",
   "execution_count": null,
   "id": "00ec219c-bd94-4727-9b1f-2c73fedcdf87",
   "metadata": {},
   "outputs": [],
   "source": [
    "my_columns = ['TIME_PERIOD','Reference area','Educational attainment level','Place of birth','OBS_VALUE']\n",
    "df_rory[my_columns].sort_values('Reference area')\n",
    "DF_rory=df[my_columns].sort_values('Reference area')"
   ]
  },
  {
   "cell_type": "code",
   "execution_count": null,
   "id": "4e2a2067-c154-4283-9e25-29390d521b02",
   "metadata": {},
   "outputs": [],
   "source": [
    "fig = px.histogram(DF_rory,\n",
    "                 x='OBS_VALUE',\n",
    "                 nbins=10,\n",
    "                 facet_col= 'Educational attainment level',\n",
    "                 facet_col_wrap=1,\n",
    "                  color='Place of birth')\n",
    "\n",
    "fig.update_layout(bargap=0.02,\n",
    "                  title='Educational attainment level',\n",
    "                  title_x=0.5,\n",
    "                  xaxis_title=\"frequency\",\n",
    "                  yaxis_title=\"Observational value\",\n",
    "                  autosize=False,\n",
    "                  width=1000,\n",
    "                  height=800)\n",
    "\n",
    "fig.show()"
   ]
  },
  {
   "cell_type": "code",
   "execution_count": null,
   "id": "4f5ecaef-b3ef-4278-818c-cf4eb1ea6cd0",
   "metadata": {},
   "outputs": [],
   "source": [
    "mask = DF_rory['Educational attainment level'] == 'Tertiary education'\n",
    "DF_rory_T = DF[mask].copy()"
   ]
  },
  {
   "cell_type": "code",
   "execution_count": null,
   "id": "af58a5b7-b506-4611-8580-c3f45ea8c225",
   "metadata": {},
   "outputs": [],
   "source": [
    "mask = DF_rory['Educational attainment level'] == 'Upper secondary or post-secondary non-tertiary education'\n",
    "DF_rory_S = DF[mask].copy()"
   ]
  },
  {
   "cell_type": "code",
   "execution_count": null,
   "id": "e40a6343-76a7-4dcd-9c99-e5e4d41cb7e9",
   "metadata": {},
   "outputs": [],
   "source": [
    "fig = px.histogram(DF_rory_T,\n",
    "                 x='OBS_VALUE',\n",
    "                 nbins=30,\n",
    "                 facet_col= 'Place of birth',\n",
    "                 facet_col_wrap=2,\n",
    "                  color='Reference area',\n",
    "                  color_discrete_sequence=px.colors.qualitative.Prism,\n",
    "                  category_orders={'origin' : [\"Native-Born\",\"Foreign-Born\"]})\n",
    "fig.for_each_annotation(lambda a: a.update(text=a.text.split(\"=\")[-1]))\n",
    "fig.update_xaxes(title_text='Observation Percentage')\n",
    "fig.update_layout(bargap=0.02,\n",
    "                  title='Percent of Population ages 24-60 w/ a Tertiary education',\n",
    "                  title_x=0.5,\n",
    "                  xaxis_title=\"Observation Percentage\",\n",
    "                  yaxis_title=\"Frequency\",\n",
    "                  legend_title=\"Country\",\n",
    "                  autosize=False,\n",
    "                  width=1200,\n",
    "                  height=500)\n",
    "\n",
    "fig.show()"
   ]
  },
  {
   "cell_type": "code",
   "execution_count": null,
   "id": "e7922e62-b54f-4b58-9b10-a12c9411e626",
   "metadata": {},
   "outputs": [],
   "source": [
    "fig = px.histogram(DF_rory_S,\n",
    "                 x='OBS_VALUE',\n",
    "                 nbins=30,\n",
    "                 facet_col= 'Place of birth',\n",
    "                 facet_col_wrap=2,\n",
    "                  color='Reference area',\n",
    "                  color_discrete_sequence=px.colors.qualitative.Prism)\n",
    "fig.for_each_annotation(lambda a: a.update(text=a.text.split(\"=\")[-1]))\n",
    "fig.update_xaxes(title_text='Observation Percentage')\n",
    "fig.update_layout(bargap=0.02,\n",
    "                  title='Percent of Population ages 24-60 w/ a Upper secondary or post-secondary non-tertiary education',\n",
    "                  title_x=0.5,\n",
    "                  xaxis_title=\"Observation Percentage\",\n",
    "                  yaxis_title=\"Frequency\",\n",
    "                  legend_title=\"Country\",\n",
    "                  autosize=False,\n",
    "                  width=1200,\n",
    "                  height=500)\n",
    "\n",
    "fig.show()"
   ]
  },
  {
   "cell_type": "markdown",
   "id": "4eed2336-3461-488e-93e1-9776a56c8e71",
   "metadata": {},
   "source": [
    "In conclusion, the country with the highest percentage of their population with a Tertiary education for both native born and forgien born indivuals is Canada. The countries with the highest percentange of the population with a a Upper secondary or post-secondary non-tertiary education are Solvakia Republic native born and Slovania forgien born. The countries with the highest percent of their population with a Below upper secondary education are Costa rica forgien born and mexico native born."
   ]
  },
  {
   "cell_type": "markdown",
   "id": "de411b2e-fff3-4dfd-b484-85cf1dc78611",
   "metadata": {},
   "source": [
    "#### Joseph"
   ]
  },
  {
   "cell_type": "code",
   "execution_count": null,
   "id": "3fed8037-a4ca-462c-ac62-0ff535b47de3",
   "metadata": {},
   "outputs": [],
   "source": [
    "my_cols = ['cgpa','sports_engagement','average_sleep','depression','anxiety','isolation','future_insecurity']\n",
    "DF_j = DF_raw[my_cols]\n",
    "DF_j['mental_health'] = 20 - (DF_j['depression'] + DF_j['anxiety'] + DF_j['isolation'] + DF_j['future_insecurity'])"
   ]
  },
  {
   "cell_type": "code",
   "execution_count": null,
   "id": "08e9e700-b283-4b67-8171-50ddb7b09dfd",
   "metadata": {},
   "outputs": [],
   "source": [
    "fig = px.histogram(DF_j.sort_values(by='cgpa'),\n",
    "                   x='sports_engagement',\n",
    "                   color='cgpa',\n",
    "                   color_discrete_sequence=['#f0f9e8','#ccebc5','#a8ddb5','#7bccc4','#43a2ca','#0868ac'],\n",
    "                   barnorm='percent',\n",
    "                   category_orders={'sports_engagement' : ['No Sports','1-3 times','4-6 times','7+ times']})\n",
    "fig.update_layout(title=\"Percentages of Cumulative Grade-Point Average by Sports Engagement\",\n",
    "                  xaxis_title='Sports Engagement',\n",
    "                  yaxis_title='Percentage',\n",
    "                  legend_title='Cumulative GPA')\n",
    "fig.show()"
   ]
  },
  {
   "cell_type": "markdown",
   "id": "251ccd50-2f65-4567-b906-e64459714f3d",
   "metadata": {},
   "source": [
    "There is a possible relationship between the amount of monthly sport engagement and cumulative GPA. It appears that a high frequency of sport engagement correlates to a greater probability of a worse GPA. Observations that reported no monthly sport engagement had the greatest percentage of GPAs of 3.0+. It appears that the percentage of very high (3.5-4.0) GPAs increases as sports engagement increases, reaching a peak when monthly sports engagement is 4-6 times. However, the pattern ends at this peak, and decreases for very high frequencies of sport engagement."
   ]
  },
  {
   "cell_type": "code",
   "execution_count": null,
   "id": "73397134-5ee5-4fa8-a6e8-955da9602d16",
   "metadata": {},
   "outputs": [],
   "source": [
    "fig = px.histogram(DF_j.sort_values(by='cgpa'),\n",
    "                   x='average_sleep',\n",
    "                   color='cgpa',\n",
    "                   color_discrete_sequence=['#f0f9e8','#ccebc5','#a8ddb5','#7bccc4','#43a2ca','#0868ac'],\n",
    "                   barnorm='percent',\n",
    "                   category_orders={'average_sleep' : ['2-4 hrs','4-6 hrs','7-8 hrs']})\n",
    "fig.update_layout(title=\"Percentages of Cumulative Grade-Point Average by Average Sleep\",\n",
    "                  xaxis_title='Average Sleep',\n",
    "                  yaxis_title='Percentage',\n",
    "                  legend_title='Cumulative GPA')\n",
    "fig.show()"
   ]
  },
  {
   "cell_type": "markdown",
   "id": "8d7c317c-f87b-49e4-a84f-8d7baec8ab39",
   "metadata": {},
   "source": [
    "There is a possible association between amount of sleep and cumulative GPA. Observations with greater amounts of average sleep tend to have higher frequencies of better GPAs. Frequency of high GPAs (3.0+) increase and the frequency of moderate to low GPAs (3.0-) decrease as amount of sleep increases."
   ]
  },
  {
   "cell_type": "markdown",
   "id": "ee711cf8-8fd3-4234-9310-627fe1c96524",
   "metadata": {},
   "source": [
    "#### Ruben"
   ]
  },
  {
   "cell_type": "code",
   "execution_count": null,
   "id": "78207cf6-9efd-428a-acb2-c6e2c546db01",
   "metadata": {},
   "outputs": [],
   "source": [
    "fig = px.pie(DF_ruben,\n",
    "             names='parental level of education')\n",
    "fig.update_layout(title=\" Parental Level of Education Breakdown\",\n",
    "                  title_x=0.5,\n",
    "                  legend_title=\"level of education\")\n",
    "fig.show()"
   ]
  },
  {
   "cell_type": "markdown",
   "id": "47c3ed84-a82a-44d5-b216-c8a53c13037d",
   "metadata": {},
   "source": [
    "In this we can see that the majority of the parents have some sort of college education but as the level of degree rises, their margins shrink. This is very imporant as we will use this variable as a focal point in the data exploration"
   ]
  },
  {
   "cell_type": "code",
   "execution_count": null,
   "id": "823eb40c-18bf-492a-a84c-061e7af62b5e",
   "metadata": {},
   "outputs": [],
   "source": [
    "DF_ruben['total score'] = DF_ruben['reading score'] + DF_ruben['writing score'] + DF_ruben['writing score']\n"
   ]
  },
  {
   "cell_type": "code",
   "execution_count": null,
   "id": "7126b27e-88d5-40a1-bb3d-e103a3808c3c",
   "metadata": {},
   "outputs": [],
   "source": [
    "fig = px.box(\n",
    "    DF_ruben,\n",
    "    x='parental level of education',  \n",
    "    y='total score',  \n",
    "    title='Exam performance',\n",
    "    \n",
    ")\n",
    "fig.update_layout(\n",
    "    xaxis_title='Parental Level of Eduacation',\n",
    "                  yaxis_title='Total Score',\n",
    "    xaxis=dict(\n",
    "        categoryorder=\"array\",\n",
    "        categoryarray=order  \n",
    "    )\n",
    ")\n",
    "\n",
    "fig.show()"
   ]
  },
  {
   "cell_type": "markdown",
   "id": "537bb5be-a955-41f7-8088-6c57f7143e77",
   "metadata": {},
   "source": [
    "As shown in the bar graph we can see that while the parents level of education doesnt limit the potential to score high on the exam, there is a steady increase in the minimum score for the students in each education level and that the mean score does tend to rise as the parents level of education increases. Considering this information, we can infer that as the parental level of education of each students rises, the student has a higher chance of recieving a higher overall score on their exam"
   ]
  },
  {
   "cell_type": "markdown",
   "id": "5d2036cd-07e0-4663-8a64-f6c275329bfc",
   "metadata": {},
   "source": [
    "## Conclusion"
   ]
  },
  {
   "cell_type": "markdown",
   "id": "d14bf1d6-4be5-492b-aba7-cba96f4abee3",
   "metadata": {},
   "source": []
  }
 ],
 "metadata": {
  "kernelspec": {
   "display_name": "Python 3 (ipykernel)",
   "language": "python",
   "name": "python3"
  },
  "language_info": {
   "codemirror_mode": {
    "name": "ipython",
    "version": 3
   },
   "file_extension": ".py",
   "mimetype": "text/x-python",
   "name": "python",
   "nbconvert_exporter": "python",
   "pygments_lexer": "ipython3",
   "version": "3.12.4"
  }
 },
 "nbformat": 4,
 "nbformat_minor": 5
}
