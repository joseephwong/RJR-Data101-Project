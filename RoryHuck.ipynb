{
 "cells": [
  {
   "cell_type": "markdown",
   "id": "3e0b2f93-9e5e-4bcb-8d03-905e26c06c5a",
   "metadata": {},
   "source": [
    "## Rory Huck"
   ]
  },
  {
   "cell_type": "code",
   "execution_count": null,
   "id": "a30de609-c970-4737-9c39-74f8a75b19eb",
   "metadata": {},
   "outputs": [],
   "source": []
  }
 ],
 "metadata": {
  "kernelspec": {
   "display_name": "Python 3 (ipykernel)",
   "language": "python",
   "name": "python3"
  },
  "language_info": {
   "codemirror_mode": {
    "name": "ipython",
    "version": 3
   },
   "file_extension": ".py",
   "mimetype": "text/x-python",
   "name": "python",
   "nbconvert_exporter": "python",
   "pygments_lexer": "ipython3",
   "version": "3.12.4"
  }
 },
 "nbformat": 4,
 "nbformat_minor": 5
}
